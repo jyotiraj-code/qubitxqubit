{
  "nbformat": 4,
  "nbformat_minor": 0,
  "metadata": {
    "colab": {
      "provenance": [],
      "include_colab_link": true
    },
    "kernelspec": {
      "name": "python3",
      "display_name": "Python 3"
    },
    "language_info": {
      "name": "python"
    }
  },
  "cells": [
    {
      "cell_type": "markdown",
      "metadata": {
        "id": "view-in-github",
        "colab_type": "text"
      },
      "source": [
        "<a href=\"https://colab.research.google.com/github/jyotiraj-code/qubitxqubit/blob/main/QXQ_YLC_Week_12_Homework_%5BJyotiraj%5D.ipynb\" target=\"_parent\"><img src=\"https://colab.research.google.com/assets/colab-badge.svg\" alt=\"Open In Colab\"/></a>"
      ]
    },
    {
      "cell_type": "markdown",
      "source": [
        "# **Homework 12: Review**\n",
        "---\n",
        "\n",
        "### **Description**:\n",
        "In this assignment, you will review concepts from the first semester that will be useful for us to implement more complex quantum circuits going forward.\n",
        "\n",
        "<br>\n",
        "\n",
        "### **Structure**\n",
        "**Part 1**: [Qubits](#p1)\n",
        "\n",
        "**Part 2**: [Quantum Circuits](#p2)\n",
        "\n",
        "\n",
        "\n",
        "<br>\n",
        "\n",
        "### **Resources**\n",
        "* [Cirq Basics Cheat Sheet](https://docs.google.com/document/d/1j0vEwtS6fK-tD1DWAPry4tJdxEiq8fwMtXuYNGRhK_M/edit?usp=drive_link)\n",
        "\n",
        "\n",
        "<br>\n",
        "\n",
        "**Before starting, run the code below to import all necessary functions and libraries.**"
      ],
      "metadata": {
        "id": "xGYTBqpefO-L"
      }
    },
    {
      "cell_type": "code",
      "source": [
        "# @title\n",
        "import random\n",
        "import matplotlib.pyplot as plt\n",
        "import numpy as np\n",
        "def binary_labels(num_qubits):\n",
        "    return [bin(x)[2:].zfill(num_qubits) for x in range(2 ** num_qubits)]\n",
        "plt.rcParams.update({'font.size': 8})\n",
        "try:\n",
        "    import cirq\n",
        "except ImportError:\n",
        "    print(\"installing cirq...\")\n",
        "    !pip install cirq --quiet\n",
        "    import cirq\n",
        "    print(\"installed cirq.\")"
      ],
      "metadata": {
        "colab": {
          "base_uri": "https://localhost:8080/"
        },
        "id": "qnUOY_K_fw7o",
        "outputId": "f1e32527-b3a3-4336-ee4f-4d29fac61b83",
        "cellView": "form"
      },
      "execution_count": 2,
      "outputs": [
        {
          "output_type": "stream",
          "name": "stdout",
          "text": [
            "installing cirq...\n",
            "\u001b[2K     \u001b[90m━━━━━━━━━━━━━━━━━━━━━━━━━━━━━━━━━━━━━━━━\u001b[0m \u001b[32m1.8/1.8 MB\u001b[0m \u001b[31m5.7 MB/s\u001b[0m eta \u001b[36m0:00:00\u001b[0m\n",
            "\u001b[2K     \u001b[90m━━━━━━━━━━━━━━━━━━━━━━━━━━━━━━━━━━━━━━━━\u001b[0m \u001b[32m143.1/143.1 kB\u001b[0m \u001b[31m6.6 MB/s\u001b[0m eta \u001b[36m0:00:00\u001b[0m\n",
            "\u001b[2K     \u001b[90m━━━━━━━━━━━━━━━━━━━━━━━━━━━━━━━━━━━━━━━━\u001b[0m \u001b[32m598.8/598.8 kB\u001b[0m \u001b[31m4.0 MB/s\u001b[0m eta \u001b[36m0:00:00\u001b[0m\n",
            "\u001b[2K     \u001b[90m━━━━━━━━━━━━━━━━━━━━━━━━━━━━━━━━━━━━━━━━\u001b[0m \u001b[32m60.9/60.9 kB\u001b[0m \u001b[31m782.1 kB/s\u001b[0m eta \u001b[36m0:00:00\u001b[0m\n",
            "\u001b[2K     \u001b[90m━━━━━━━━━━━━━━━━━━━━━━━━━━━━━━━━━━━━━━━━\u001b[0m \u001b[32m66.2/66.2 kB\u001b[0m \u001b[31m2.1 MB/s\u001b[0m eta \u001b[36m0:00:00\u001b[0m\n",
            "\u001b[2K     \u001b[90m━━━━━━━━━━━━━━━━━━━━━━━━━━━━━━━━━━━━━━━━\u001b[0m \u001b[32m596.5/596.5 kB\u001b[0m \u001b[31m31.8 MB/s\u001b[0m eta \u001b[36m0:00:00\u001b[0m\n",
            "\u001b[2K     \u001b[90m━━━━━━━━━━━━━━━━━━━━━━━━━━━━━━━━━━━━━━━━\u001b[0m \u001b[32m223.8/223.8 kB\u001b[0m \u001b[31m20.5 MB/s\u001b[0m eta \u001b[36m0:00:00\u001b[0m\n",
            "\u001b[2K     \u001b[90m━━━━━━━━━━━━━━━━━━━━━━━━━━━━━━━━━━━━━━━━\u001b[0m \u001b[32m229.9/229.9 kB\u001b[0m \u001b[31m19.6 MB/s\u001b[0m eta \u001b[36m0:00:00\u001b[0m\n",
            "\u001b[?25h  Preparing metadata (setup.py) ... \u001b[?25l\u001b[?25hdone\n",
            "\u001b[2K     \u001b[90m━━━━━━━━━━━━━━━━━━━━━━━━━━━━━━━━━━━━━━━━\u001b[0m \u001b[32m151.7/151.7 kB\u001b[0m \u001b[31m14.4 MB/s\u001b[0m eta \u001b[36m0:00:00\u001b[0m\n",
            "\u001b[2K     \u001b[90m━━━━━━━━━━━━━━━━━━━━━━━━━━━━━━━━━━━━━━━━\u001b[0m \u001b[32m45.6/45.6 kB\u001b[0m \u001b[31m4.1 MB/s\u001b[0m eta \u001b[36m0:00:00\u001b[0m\n",
            "\u001b[?25h  Preparing metadata (setup.py) ... \u001b[?25l\u001b[?25hdone\n",
            "\u001b[2K     \u001b[90m━━━━━━━━━━━━━━━━━━━━━━━━━━━━━━━━━━━━━━━━\u001b[0m \u001b[32m1.6/1.6 MB\u001b[0m \u001b[31m41.3 MB/s\u001b[0m eta \u001b[36m0:00:00\u001b[0m\n",
            "\u001b[2K     \u001b[90m━━━━━━━━━━━━━━━━━━━━━━━━━━━━━━━━━━━━━━━━\u001b[0m \u001b[32m151.7/151.7 kB\u001b[0m \u001b[31m13.7 MB/s\u001b[0m eta \u001b[36m0:00:00\u001b[0m\n",
            "\u001b[2K     \u001b[90m━━━━━━━━━━━━━━━━━━━━━━━━━━━━━━━━━━━━━━━━\u001b[0m \u001b[32m151.7/151.7 kB\u001b[0m \u001b[31m10.3 MB/s\u001b[0m eta \u001b[36m0:00:00\u001b[0m\n",
            "\u001b[2K     \u001b[90m━━━━━━━━━━━━━━━━━━━━━━━━━━━━━━━━━━━━━━━━\u001b[0m \u001b[32m147.4/147.4 kB\u001b[0m \u001b[31m13.7 MB/s\u001b[0m eta \u001b[36m0:00:00\u001b[0m\n",
            "\u001b[2K     \u001b[90m━━━━━━━━━━━━━━━━━━━━━━━━━━━━━━━━━━━━━━━━\u001b[0m \u001b[32m147.4/147.4 kB\u001b[0m \u001b[31m13.6 MB/s\u001b[0m eta \u001b[36m0:00:00\u001b[0m\n",
            "\u001b[2K     \u001b[90m━━━━━━━━━━━━━━━━━━━━━━━━━━━━━━━━━━━━━━━━\u001b[0m \u001b[32m147.4/147.4 kB\u001b[0m \u001b[31m14.2 MB/s\u001b[0m eta \u001b[36m0:00:00\u001b[0m\n",
            "\u001b[2K     \u001b[90m━━━━━━━━━━━━━━━━━━━━━━━━━━━━━━━━━━━━━━━━\u001b[0m \u001b[32m142.7/142.7 kB\u001b[0m \u001b[31m12.8 MB/s\u001b[0m eta \u001b[36m0:00:00\u001b[0m\n",
            "\u001b[2K     \u001b[90m━━━━━━━━━━━━━━━━━━━━━━━━━━━━━━━━━━━━━━━━\u001b[0m \u001b[32m88.3/88.3 kB\u001b[0m \u001b[31m9.1 MB/s\u001b[0m eta \u001b[36m0:00:00\u001b[0m\n",
            "\u001b[2K     \u001b[90m━━━━━━━━━━━━━━━━━━━━━━━━━━━━━━━━━━━━━━━━\u001b[0m \u001b[32m85.5/85.5 kB\u001b[0m \u001b[31m8.4 MB/s\u001b[0m eta \u001b[36m0:00:00\u001b[0m\n",
            "\u001b[2K     \u001b[90m━━━━━━━━━━━━━━━━━━━━━━━━━━━━━━━━━━━━━━━━\u001b[0m \u001b[32m85.1/85.1 kB\u001b[0m \u001b[31m6.7 MB/s\u001b[0m eta \u001b[36m0:00:00\u001b[0m\n",
            "\u001b[2K     \u001b[90m━━━━━━━━━━━━━━━━━━━━━━━━━━━━━━━━━━━━━━━━\u001b[0m \u001b[32m84.7/84.7 kB\u001b[0m \u001b[31m6.4 MB/s\u001b[0m eta \u001b[36m0:00:00\u001b[0m\n",
            "\u001b[2K     \u001b[90m━━━━━━━━━━━━━━━━━━━━━━━━━━━━━━━━━━━━━━━━\u001b[0m \u001b[32m83.6/83.6 kB\u001b[0m \u001b[31m7.6 MB/s\u001b[0m eta \u001b[36m0:00:00\u001b[0m\n",
            "\u001b[2K     \u001b[90m━━━━━━━━━━━━━━━━━━━━━━━━━━━━━━━━━━━━━━━━\u001b[0m \u001b[32m83.3/83.3 kB\u001b[0m \u001b[31m7.6 MB/s\u001b[0m eta \u001b[36m0:00:00\u001b[0m\n",
            "\u001b[2K     \u001b[90m━━━━━━━━━━━━━━━━━━━━━━━━━━━━━━━━━━━━━━━━\u001b[0m \u001b[32m83.4/83.4 kB\u001b[0m \u001b[31m7.6 MB/s\u001b[0m eta \u001b[36m0:00:00\u001b[0m\n",
            "\u001b[2K     \u001b[90m━━━━━━━━━━━━━━━━━━━━━━━━━━━━━━━━━━━━━━━━\u001b[0m \u001b[32m83.2/83.2 kB\u001b[0m \u001b[31m7.0 MB/s\u001b[0m eta \u001b[36m0:00:00\u001b[0m\n",
            "\u001b[2K     \u001b[90m━━━━━━━━━━━━━━━━━━━━━━━━━━━━━━━━━━━━━━━━\u001b[0m \u001b[32m82.5/82.5 kB\u001b[0m \u001b[31m8.3 MB/s\u001b[0m eta \u001b[36m0:00:00\u001b[0m\n",
            "\u001b[2K     \u001b[90m━━━━━━━━━━━━━━━━━━━━━━━━━━━━━━━━━━━━━━━━\u001b[0m \u001b[32m81.0/81.0 kB\u001b[0m \u001b[31m7.8 MB/s\u001b[0m eta \u001b[36m0:00:00\u001b[0m\n",
            "\u001b[2K     \u001b[90m━━━━━━━━━━━━━━━━━━━━━━━━━━━━━━━━━━━━━━━━\u001b[0m \u001b[32m81.0/81.0 kB\u001b[0m \u001b[31m7.5 MB/s\u001b[0m eta \u001b[36m0:00:00\u001b[0m\n",
            "\u001b[2K     \u001b[90m━━━━━━━━━━━━━━━━━━━━━━━━━━━━━━━━━━━━━━━━\u001b[0m \u001b[32m80.8/80.8 kB\u001b[0m \u001b[31m7.5 MB/s\u001b[0m eta \u001b[36m0:00:00\u001b[0m\n",
            "\u001b[2K     \u001b[90m━━━━━━━━━━━━━━━━━━━━━━━━━━━━━━━━━━━━━━━━\u001b[0m \u001b[32m80.7/80.7 kB\u001b[0m \u001b[31m8.0 MB/s\u001b[0m eta \u001b[36m0:00:00\u001b[0m\n",
            "\u001b[2K     \u001b[90m━━━━━━━━━━━━━━━━━━━━━━━━━━━━━━━━━━━━━━━━\u001b[0m \u001b[32m81.5/81.5 kB\u001b[0m \u001b[31m7.2 MB/s\u001b[0m eta \u001b[36m0:00:00\u001b[0m\n",
            "\u001b[2K     \u001b[90m━━━━━━━━━━━━━━━━━━━━━━━━━━━━━━━━━━━━━━━━\u001b[0m \u001b[32m90.4/90.4 kB\u001b[0m \u001b[31m8.3 MB/s\u001b[0m eta \u001b[36m0:00:00\u001b[0m\n",
            "\u001b[2K     \u001b[90m━━━━━━━━━━━━━━━━━━━━━━━━━━━━━━━━━━━━━━━━\u001b[0m \u001b[32m117.7/117.7 kB\u001b[0m \u001b[31m11.7 MB/s\u001b[0m eta \u001b[36m0:00:00\u001b[0m\n",
            "\u001b[2K     \u001b[90m━━━━━━━━━━━━━━━━━━━━━━━━━━━━━━━━━━━━━━━━\u001b[0m \u001b[32m60.6/60.6 kB\u001b[0m \u001b[31m6.1 MB/s\u001b[0m eta \u001b[36m0:00:00\u001b[0m\n",
            "\u001b[2K     \u001b[90m━━━━━━━━━━━━━━━━━━━━━━━━━━━━━━━━━━━━━━━━\u001b[0m \u001b[32m71.5/71.5 kB\u001b[0m \u001b[31m6.9 MB/s\u001b[0m eta \u001b[36m0:00:00\u001b[0m\n",
            "\u001b[2K     \u001b[90m━━━━━━━━━━━━━━━━━━━━━━━━━━━━━━━━━━━━━━━━\u001b[0m \u001b[32m3.1/3.1 MB\u001b[0m \u001b[31m57.1 MB/s\u001b[0m eta \u001b[36m0:00:00\u001b[0m\n",
            "\u001b[2K     \u001b[90m━━━━━━━━━━━━━━━━━━━━━━━━━━━━━━━━━━━━━━━━\u001b[0m \u001b[32m1.7/1.7 MB\u001b[0m \u001b[31m69.2 MB/s\u001b[0m eta \u001b[36m0:00:00\u001b[0m\n",
            "\u001b[2K     \u001b[90m━━━━━━━━━━━━━━━━━━━━━━━━━━━━━━━━━━━━━━━━\u001b[0m \u001b[32m117.8/117.8 kB\u001b[0m \u001b[31m11.0 MB/s\u001b[0m eta \u001b[36m0:00:00\u001b[0m\n",
            "\u001b[2K     \u001b[90m━━━━━━━━━━━━━━━━━━━━━━━━━━━━━━━━━━━━━━━━\u001b[0m \u001b[32m69.6/69.6 kB\u001b[0m \u001b[31m7.3 MB/s\u001b[0m eta \u001b[36m0:00:00\u001b[0m\n",
            "\u001b[2K     \u001b[90m━━━━━━━━━━━━━━━━━━━━━━━━━━━━━━━━━━━━━━━━\u001b[0m \u001b[32m526.7/526.7 kB\u001b[0m \u001b[31m31.6 MB/s\u001b[0m eta \u001b[36m0:00:00\u001b[0m\n",
            "\u001b[2K     \u001b[90m━━━━━━━━━━━━━━━━━━━━━━━━━━━━━━━━━━━━━━━━\u001b[0m \u001b[32m58.3/58.3 kB\u001b[0m \u001b[31m5.2 MB/s\u001b[0m eta \u001b[36m0:00:00\u001b[0m\n",
            "\u001b[?25h  Building wheel for lark (setup.py) ... \u001b[?25l\u001b[?25hdone\n",
            "  Building wheel for rpcq (setup.py) ... \u001b[?25l\u001b[?25hdone\n",
            "\u001b[31mERROR: pip's dependency resolver does not currently take into account all the packages that are installed. This behaviour is the source of the following dependency conflicts.\n",
            "referencing 0.35.1 requires attrs>=22.2.0, but you have attrs 21.4.0 which is incompatible.\u001b[0m\u001b[31m\n",
            "\u001b[0minstalled cirq.\n"
          ]
        }
      ]
    },
    {
      "cell_type": "markdown",
      "source": [
        "<a name=\"p1\"></a>\n",
        "\n",
        "---\n",
        "## **Part 1: Qubits**\n",
        "---\n",
        "In this part, you will review how to create and work with quantum circuits in Cirq."
      ],
      "metadata": {
        "id": "owix73ESmNmC"
      }
    },
    {
      "cell_type": "markdown",
      "source": [
        "#### **Problem #1.1**\n",
        "Output the vector below in ket notation."
      ],
      "metadata": {
        "id": "EAWcDHc4frpB"
      }
    },
    {
      "cell_type": "code",
      "source": [
        "vec = [1/np.sqrt(2), 1/np.sqrt(2)]"
      ],
      "metadata": {
        "id": "7xNsj3j2nIuN"
      },
      "execution_count": 3,
      "outputs": []
    },
    {
      "cell_type": "code",
      "source": [
        "# COMPLETE THIS CODE\n",
        "vec"
      ],
      "metadata": {
        "id": "a2zAhRoBnIrI",
        "outputId": "71af39b9-dae9-40cc-e014-09e417a005dd",
        "colab": {
          "base_uri": "https://localhost:8080/"
        }
      },
      "execution_count": 4,
      "outputs": [
        {
          "output_type": "execute_result",
          "data": {
            "text/plain": [
              "[0.7071067811865475, 0.7071067811865475]"
            ]
          },
          "metadata": {},
          "execution_count": 4
        }
      ]
    },
    {
      "cell_type": "markdown",
      "source": [
        "#### **Problem #1.2**\n",
        "Output the final state vector of the circuit, `circuit`, below in ket notation."
      ],
      "metadata": {
        "id": "1x4DUKnugS3m"
      }
    },
    {
      "cell_type": "code",
      "source": [
        "# @title\n",
        "num_qubits = 4\n",
        "qubits = cirq.NamedQubit.range(num_qubits, prefix = 'q')\n",
        "circuit = cirq.Circuit()\n",
        "circuit.append(cirq.H(qubits[0]))\n",
        "\n",
        "for i in range(num_qubits - 1):\n",
        "  circuit.append(cirq.CNOT(qubits[i], qubits[i+1]))\n",
        "\n",
        "print(circuit)"
      ],
      "metadata": {
        "colab": {
          "base_uri": "https://localhost:8080/"
        },
        "id": "nLNg6Fw_gNaQ",
        "outputId": "d5a1dd3c-f6ff-4c16-b7fb-69eb6c4e7c21"
      },
      "execution_count": 6,
      "outputs": [
        {
          "output_type": "stream",
          "name": "stdout",
          "text": [
            "q0: ───H───@───────────\n",
            "           │\n",
            "q1: ───────X───@───────\n",
            "               │\n",
            "q2: ───────────X───@───\n",
            "                   │\n",
            "q3: ───────────────X───\n"
          ]
        }
      ]
    },
    {
      "cell_type": "code",
      "source": [
        "# COMPLETE THIS CODE\n",
        "sv = cirq.final_state_vector(circuit)\n",
        "ket = cirq.dirac_notation(sv)\n",
        "print(ket)"
      ],
      "metadata": {
        "id": "68boLu6QnPbG",
        "outputId": "a0978843-4b7f-4446-bee6-f67cdf5cbd7a",
        "colab": {
          "base_uri": "https://localhost:8080/"
        }
      },
      "execution_count": 7,
      "outputs": [
        {
          "output_type": "stream",
          "name": "stdout",
          "text": [
            "0.71|0000⟩ + 0.71|1111⟩\n"
          ]
        }
      ]
    },
    {
      "cell_type": "markdown",
      "source": [
        "#### **Problem #1.3**\n",
        "Output the final state vector of the circuit, `my_circuit`, below in ket notation."
      ],
      "metadata": {
        "id": "h0VCYVwyhDpV"
      }
    },
    {
      "cell_type": "code",
      "source": [
        "# @title\n",
        "my_qubits = cirq.NamedQubit.range(4, prefix=\"q\")\n",
        "my_circuit = cirq.Circuit()\n",
        "my_gates = [cirq.X, cirq.H, cirq.X, cirq.H]\n",
        "\n",
        "for i in range(4):\n",
        "  gate = my_gates[i]\n",
        "  my_circuit.append(gate(my_qubits[i]))\n",
        "\n",
        "my_circuit"
      ],
      "metadata": {
        "colab": {
          "base_uri": "https://localhost:8080/",
          "height": 138
        },
        "id": "k79HCY4tg-ac",
        "outputId": "b05aeab8-4fff-47b6-fe2e-e44e454132f2"
      },
      "execution_count": 8,
      "outputs": [
        {
          "output_type": "execute_result",
          "data": {
            "text/plain": [
              "q0: ───X───\n",
              "\n",
              "q1: ───H───\n",
              "\n",
              "q2: ───X───\n",
              "\n",
              "q3: ───H───"
            ],
            "text/html": [
              "<pre style=\"overflow: auto; white-space: pre;\">q0: ───X───\n",
              "\n",
              "q1: ───H───\n",
              "\n",
              "q2: ───X───\n",
              "\n",
              "q3: ───H───</pre>"
            ]
          },
          "metadata": {},
          "execution_count": 8
        }
      ]
    },
    {
      "cell_type": "code",
      "source": [
        "# COMPLETE THIS CODE\n",
        "sv = cirq.final_state_vector(my_circuit)\n",
        "ket = cirq.dirac_notation(sv)\n",
        "print(ket)"
      ],
      "metadata": {
        "id": "wZRgO9kNnTzs",
        "outputId": "58069f22-2748-4d15-dcf2-d8d2db6f125e",
        "colab": {
          "base_uri": "https://localhost:8080/"
        }
      },
      "execution_count": 9,
      "outputs": [
        {
          "output_type": "stream",
          "name": "stdout",
          "text": [
            "0.5|1010⟩ + 0.5|1011⟩ + 0.5|1110⟩ + 0.5|1111⟩\n"
          ]
        }
      ]
    },
    {
      "cell_type": "markdown",
      "source": [
        "<a name=\"p2\"></a>\n",
        "\n",
        "---\n",
        "## **Part 2: Quantum Circuits**\n",
        "---\n",
        "In this part, you will review how to create and work with quantum circuits in Cirq."
      ],
      "metadata": {
        "id": "r8AWmZ2mhoUC"
      }
    },
    {
      "cell_type": "markdown",
      "source": [
        "#### **Problem #2.1**\n",
        "Create a three qubits and an empty circuit. Put the first qubit in a superposition. Modify the circuit such that the first qubit and the second qubit are always in the same state and the first qubit and the third qubit are alwas in opposite states. Output the final state vector of your circuit in ket notation."
      ],
      "metadata": {
        "id": "GUIdSZt9hyJP"
      }
    },
    {
      "cell_type": "code",
      "source": [
        "my_qubits = cirq.NamedQubit.range(3, prefix = \"q\")# COMPLETE THIS CODE\n",
        "my_circuit = cirq.Circuit()# COMPLETE THIS CODE\n",
        "my_circuit.append(cirq.H(my_qubits[0]))\n",
        "my_circuit.append(cirq.CNOT(my_qubits[0], my_qubits[1]))\n",
        "my_circuit.append(cirq.CNOT(my_qubits[0], my_qubits[2]))\n",
        "print(my_circuit)"
      ],
      "metadata": {
        "id": "4nKnGqQXnV8P",
        "outputId": "66e12492-199c-4f42-88e7-371ea258fa08",
        "colab": {
          "base_uri": "https://localhost:8080/"
        }
      },
      "execution_count": 10,
      "outputs": [
        {
          "output_type": "stream",
          "name": "stdout",
          "text": [
            "q0: ───H───@───@───\n",
            "           │   │\n",
            "q1: ───────X───┼───\n",
            "               │\n",
            "q2: ───────────X───\n"
          ]
        }
      ]
    },
    {
      "cell_type": "markdown",
      "source": [
        "#### **Problem #2.2**\n",
        "Append a measurement to each qubit on your circuit from Problem #2.1. Simulate the results of your circuit 100 times. Output the results on a histogram."
      ],
      "metadata": {
        "id": "HZfKwHGUjIXT"
      }
    },
    {
      "cell_type": "code",
      "source": [
        "# COMPLETE THIS CODE\n",
        "my_circuit.append(cirq.measure(my_qubits))"
      ],
      "metadata": {
        "id": "x1J7G5i3neEW"
      },
      "execution_count": 11,
      "outputs": []
    },
    {
      "cell_type": "code",
      "source": [
        "# COMPLETE THIS CODE\n",
        "sim = cirq.Simulator()\n",
        "result = sim.run(my_circuit, repetitions=100)"
      ],
      "metadata": {
        "id": "OcjBH4Mknhk7"
      },
      "execution_count": 12,
      "outputs": []
    },
    {
      "cell_type": "code",
      "source": [
        "hist = cirq.plot_state_histogram(result, plt.subplot(), title = 'Qubit States', xlabel = 'States', ylabel = 'Occurrences', tick_label=binary_labels(3))# COMPLETE THIS CODE\n",
        "\n",
        "plt.show()"
      ],
      "metadata": {
        "id": "Q4xhWFB-njUf",
        "outputId": "5fe10920-42fd-4e84-a36e-d9ac3b29e3b0",
        "colab": {
          "base_uri": "https://localhost:8080/",
          "height": 460
        }
      },
      "execution_count": 13,
      "outputs": [
        {
          "output_type": "display_data",
          "data": {
            "text/plain": [
              "<Figure size 640x480 with 1 Axes>"
            ],
            "image/png": "[encoded data removed]"
          },
          "metadata": {}
        }
      ]
    },
    {
      "cell_type": "markdown",
      "source": [
        "####**Problem #2.3**\n",
        "Create 4 qubits and an empty circuit. Apply an H gate and a Z gate to each qubit. Append a measurement to each and simulate the circuit 100 times. Output the results on a histogram."
      ],
      "metadata": {
        "id": "PpgkvCYQj1W8"
      }
    },
    {
      "cell_type": "code",
      "source": [
        "my_qubits = cirq.NamedQubit.range(4, prefix = \"q\")# COMPLETE THIS CODE\n",
        "my_circuit = cirq.Circuit()# COMPLETE THIS CODE\n",
        "my_circuit.append(cirq.H.on_each(my_qubits))\n",
        "my_circuit.append(cirq.Z.on_each(my_qubits))\n",
        "my_circuit.append(cirq.measure(my_qubits))\n",
        "my_circuit"
      ],
      "metadata": {
        "id": "QkYY6gJJnqrn",
        "outputId": "9a0b20e6-457e-4aa0-d3fb-389aa738a6cc",
        "colab": {
          "base_uri": "https://localhost:8080/",
          "height": 138
        }
      },
      "execution_count": 14,
      "outputs": [
        {
          "output_type": "execute_result",
          "data": {
            "text/plain": [
              "q0: ───H───Z───M───\n",
              "               │\n",
              "q1: ───H───Z───M───\n",
              "               │\n",
              "q2: ───H───Z───M───\n",
              "               │\n",
              "q3: ───H───Z───M───"
            ],
            "text/html": [
              "<pre style=\"overflow: auto; white-space: pre;\">q0: ───H───Z───M───\n",
              "               │\n",
              "q1: ───H───Z───M───\n",
              "               │\n",
              "q2: ───H───Z───M───\n",
              "               │\n",
              "q3: ───H───Z───M───</pre>"
            ]
          },
          "metadata": {},
          "execution_count": 14
        }
      ]
    },
    {
      "cell_type": "code",
      "source": [
        "# COMPLETE THIS CODE\n",
        "sim = cirq.Simulator()\n",
        "result = sim.run(my_circuit, repetitions=100)"
      ],
      "metadata": {
        "id": "o9JT4hnMnqhp"
      },
      "execution_count": 15,
      "outputs": []
    },
    {
      "cell_type": "code",
      "source": [
        "hist = cirq.plot_state_histogram(result, plt.subplot(), title = 'Qubit States', xlabel = 'States', ylabel = 'Occurrences', tick_label=binary_labels(4))# COMPLETE THIS CODE\n",
        "\n",
        "plt.show()"
      ],
      "metadata": {
        "id": "xsIc3bZlnqeW",
        "outputId": "40e512cb-f0de-4589-bfe1-1155733000c0",
        "colab": {
          "base_uri": "https://localhost:8080/",
          "height": 460
        }
      },
      "execution_count": 16,
      "outputs": [
        {
          "output_type": "display_data",
          "data": {
            "text/plain": [
              "<Figure size 640x480 with 1 Axes>"
            ],
            "image/png": "[encoded data removed]"
          },
          "metadata": {}
        }
      ]
    },
    {
      "cell_type": "markdown",
      "source": [
        "####**Problem #2.4**\n",
        "Modify the circuit below such that the final state vector is: $$0.5|000 \\rangle + 0.5|010 \\rangle + 0.5|101 \\rangle + 0.5|111 \\rangle$$"
      ],
      "metadata": {
        "id": "7iJosn_ck-Ke"
      }
    },
    {
      "cell_type": "code",
      "source": [
        "my_qubits = cirq.NamedQubit.range(3, prefix=\"q\")\n",
        "my_circuit = cirq.Circuit()\n",
        "\n",
        "my_circuit.append(cirq.H.on_each(my_qubits))\n",
        "my_circuit.append(cirq.H(my_qubits[2]))\n",
        "my_circuit.append(cirq.CNOT(my_qubits[0], my_qubits[2]))\n",
        "\n",
        "my_circuit"
      ],
      "metadata": {
        "colab": {
          "base_uri": "https://localhost:8080/",
          "height": 104
        },
        "id": "h08VgORok5yg",
        "outputId": "141f3e8c-732c-42be-b22f-55877151e2ec"
      },
      "execution_count": 17,
      "outputs": [
        {
          "output_type": "execute_result",
          "data": {
            "text/plain": [
              "q0: ───H───────@───\n",
              "               │\n",
              "q1: ───H───────┼───\n",
              "               │\n",
              "q2: ───H───H───X───"
            ],
            "text/html": [
              "<pre style=\"overflow: auto; white-space: pre;\">q0: ───H───────@───\n",
              "               │\n",
              "q1: ───H───────┼───\n",
              "               │\n",
              "q2: ───H───H───X───</pre>"
            ]
          },
          "metadata": {},
          "execution_count": 17
        }
      ]
    },
    {
      "cell_type": "code",
      "source": [
        "cirq.dirac_notation(cirq.final_state_vector(my_circuit))# COMPLETE THIS CODE"
      ],
      "metadata": {
        "id": "jak0u-pan8D0",
        "outputId": "55c9f8ae-4600-4d09-807f-7181114c7841",
        "colab": {
          "base_uri": "https://localhost:8080/",
          "height": 36
        }
      },
      "execution_count": 18,
      "outputs": [
        {
          "output_type": "execute_result",
          "data": {
            "text/plain": [
              "'0.5|000⟩ + 0.5|010⟩ + 0.5|101⟩ + 0.5|111⟩'"
            ],
            "application/vnd.google.colaboratory.intrinsic+json": {
              "type": "string"
            }
          },
          "metadata": {},
          "execution_count": 18
        }
      ]
    },
    {
      "cell_type": "markdown",
      "source": [
        "# End of Lab\n",
        "\n",
        "---\n",
        "\n",
        "© 2024 The Coding School, All rights reserved"
      ],
      "metadata": {
        "id": "OOQFbLB2m1Ea"
      }
    }
  ]
}