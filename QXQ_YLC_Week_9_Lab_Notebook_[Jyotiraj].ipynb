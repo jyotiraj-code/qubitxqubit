{
  "nbformat": 4,
  "nbformat_minor": 0,
  "metadata": {
    "colab": {
      "provenance": [],
      "include_colab_link": true
    },
    "kernelspec": {
      "name": "python3",
      "display_name": "Python 3"
    },
    "language_info": {
      "name": "python"
    }
  },
  "cells": [
    {
      "cell_type": "markdown",
      "metadata": {
        "id": "view-in-github",
        "colab_type": "text"
      },
      "source": [
        "<a href=\"https://colab.research.google.com/github/jyotiraj-code/qubitxqubit/blob/main/QXQ_YLC_Week_9_Lab_Notebook_%5BJyotiraj%5D.ipynb\" target=\"_parent\"><img src=\"https://colab.research.google.com/assets/colab-badge.svg\" alt=\"Open In Colab\"/></a>"
      ]
    },
    {
      "cell_type": "markdown",
      "metadata": {
        "id": "EN-xuGnTAFTS"
      },
      "source": [
        "# **Lab 9: Ιmplementing BB84 - Part I**\n",
        "---\n",
        "\n",
        "### **Description**\n",
        "In today's lab, you will learn how to implement the BB84 protocol between Alice and Bob using cirq.\n",
        "\n",
        "<br>\n",
        "\n",
        "### **Lab Structure**\n",
        "**Part 1**: [Learning the Tools](#p1)\n",
        ">\n",
        "> **Part 1.1**: [Python's `choices(...)`](#p1.1)\n",
        ">\n",
        "> **Part 1.2**: [Python Dictionaries](#p1.2)\n",
        ">\n",
        "> **Part 1.3**: [Python Loops](#p1.3)\n",
        "\n",
        "**Part 2**: [Implementing BB84 in Python](#p2)\n",
        ">\n",
        "> **Part 2.1**: [The Set Up](#p2.1)\n",
        ">\n",
        "> **Part 2.2**: [Implementing the Steps](#p2.2)\n",
        "\n",
        "\n",
        "<br>\n",
        "\n",
        "### **Learning Objectives**\n",
        "By the end of this lab, you will:\n",
        "* Recognize how to use three useful python tools: the choices function, dictionaries, and loops.\n",
        "\n",
        "* Recognize how to implement the steps of BB84 between Alice and Bob using cirq.\n",
        "\n",
        "<br>\n",
        "\n",
        "### **Resources**\n",
        "* [BB84 Cheat Sheet](https://docs.google.com/document/d/1FTBVWQsRVPvuP5e4lo3D62F0NOyfA1qIIPrDnocV6nc/edit)\n",
        "\n",
        "<br>\n",
        "\n",
        "**Before starting, run the code below to import all necessary functions and libraries.**"
      ]
    },
    {
      "cell_type": "code",
      "execution_count": 1,
      "metadata": {
        "id": "K96jXNozAFTW",
        "outputId": "a25cf322-3d46-4d7a-f8a7-dab28aefe207",
        "colab": {
          "base_uri": "https://localhost:8080/"
        }
      },
      "outputs": [
        {
          "output_type": "stream",
          "name": "stdout",
          "text": [
            "\u001b[2K     \u001b[90m━━━━━━━━━━━━━━━━━━━━━━━━━━━━━━━━━━━━━━━━\u001b[0m \u001b[32m1.8/1.8 MB\u001b[0m \u001b[31m8.4 MB/s\u001b[0m eta \u001b[36m0:00:00\u001b[0m\n",
            "\u001b[2K     \u001b[90m━━━━━━━━━━━━━━━━━━━━━━━━━━━━━━━━━━━━━━━━\u001b[0m \u001b[32m143.1/143.1 kB\u001b[0m \u001b[31m9.7 MB/s\u001b[0m eta \u001b[36m0:00:00\u001b[0m\n",
            "\u001b[2K     \u001b[90m━━━━━━━━━━━━━━━━━━━━━━━━━━━━━━━━━━━━━━━━\u001b[0m \u001b[32m598.8/598.8 kB\u001b[0m \u001b[31m21.9 MB/s\u001b[0m eta \u001b[36m0:00:00\u001b[0m\n",
            "\u001b[2K     \u001b[90m━━━━━━━━━━━━━━━━━━━━━━━━━━━━━━━━━━━━━━━━\u001b[0m \u001b[32m60.9/60.9 kB\u001b[0m \u001b[31m2.5 MB/s\u001b[0m eta \u001b[36m0:00:00\u001b[0m\n",
            "\u001b[2K     \u001b[90m━━━━━━━━━━━━━━━━━━━━━━━━━━━━━━━━━━━━━━━━\u001b[0m \u001b[32m66.2/66.2 kB\u001b[0m \u001b[31m2.9 MB/s\u001b[0m eta \u001b[36m0:00:00\u001b[0m\n",
            "\u001b[2K     \u001b[90m━━━━━━━━━━━━━━━━━━━━━━━━━━━━━━━━━━━━━━━━\u001b[0m \u001b[32m596.5/596.5 kB\u001b[0m \u001b[31m14.9 MB/s\u001b[0m eta \u001b[36m0:00:00\u001b[0m\n",
            "\u001b[2K     \u001b[90m━━━━━━━━━━━━━━━━━━━━━━━━━━━━━━━━━━━━━━━━\u001b[0m \u001b[32m223.8/223.8 kB\u001b[0m \u001b[31m7.1 MB/s\u001b[0m eta \u001b[36m0:00:00\u001b[0m\n",
            "\u001b[2K     \u001b[90m━━━━━━━━━━━━━━━━━━━━━━━━━━━━━━━━━━━━━━━━\u001b[0m \u001b[32m229.9/229.9 kB\u001b[0m \u001b[31m6.6 MB/s\u001b[0m eta \u001b[36m0:00:00\u001b[0m\n",
            "\u001b[?25h  Preparing metadata (setup.py) ... \u001b[?25l\u001b[?25hdone\n",
            "\u001b[2K     \u001b[90m━━━━━━━━━━━━━━━━━━━━━━━━━━━━━━━━━━━━━━━━\u001b[0m \u001b[32m151.7/151.7 kB\u001b[0m \u001b[31m2.2 MB/s\u001b[0m eta \u001b[36m0:00:00\u001b[0m\n",
            "\u001b[2K     \u001b[90m━━━━━━━━━━━━━━━━━━━━━━━━━━━━━━━━━━━━━━━━\u001b[0m \u001b[32m45.6/45.6 kB\u001b[0m \u001b[31m1.8 MB/s\u001b[0m eta \u001b[36m0:00:00\u001b[0m\n",
            "\u001b[?25h  Preparing metadata (setup.py) ... \u001b[?25l\u001b[?25hdone\n",
            "\u001b[2K     \u001b[90m━━━━━━━━━━━━━━━━━━━━━━━━━━━━━━━━━━━━━━━━\u001b[0m \u001b[32m1.6/1.6 MB\u001b[0m \u001b[31m44.5 MB/s\u001b[0m eta \u001b[36m0:00:00\u001b[0m\n",
            "\u001b[2K     \u001b[90m━━━━━━━━━━━━━━━━━━━━━━━━━━━━━━━━━━━━━━━━\u001b[0m \u001b[32m151.7/151.7 kB\u001b[0m \u001b[31m14.2 MB/s\u001b[0m eta \u001b[36m0:00:00\u001b[0m\n",
            "\u001b[2K     \u001b[90m━━━━━━━━━━━━━━━━━━━━━━━━━━━━━━━━━━━━━━━━\u001b[0m \u001b[32m151.7/151.7 kB\u001b[0m \u001b[31m15.3 MB/s\u001b[0m eta \u001b[36m0:00:00\u001b[0m\n",
            "\u001b[2K     \u001b[90m━━━━━━━━━━━━━━━━━━━━━━━━━━━━━━━━━━━━━━━━\u001b[0m \u001b[32m147.4/147.4 kB\u001b[0m \u001b[31m13.5 MB/s\u001b[0m eta \u001b[36m0:00:00\u001b[0m\n",
            "\u001b[2K     \u001b[90m━━━━━━━━━━━━━━━━━━━━━━━━━━━━━━━━━━━━━━━━\u001b[0m \u001b[32m147.4/147.4 kB\u001b[0m \u001b[31m5.6 MB/s\u001b[0m eta \u001b[36m0:00:00\u001b[0m\n",
            "\u001b[2K     \u001b[90m━━━━━━━━━━━━━━━━━━━━━━━━━━━━━━━━━━━━━━━━\u001b[0m \u001b[32m147.4/147.4 kB\u001b[0m \u001b[31m9.8 MB/s\u001b[0m eta \u001b[36m0:00:00\u001b[0m\n",
            "\u001b[2K     \u001b[90m━━━━━━━━━━━━━━━━━━━━━━━━━━━━━━━━━━━━━━━━\u001b[0m \u001b[32m142.7/142.7 kB\u001b[0m \u001b[31m13.8 MB/s\u001b[0m eta \u001b[36m0:00:00\u001b[0m\n",
            "\u001b[2K     \u001b[90m━━━━━━━━━━━━━━━━━━━━━━━━━━━━━━━━━━━━━━━━\u001b[0m \u001b[32m88.3/88.3 kB\u001b[0m \u001b[31m8.1 MB/s\u001b[0m eta \u001b[36m0:00:00\u001b[0m\n",
            "\u001b[2K     \u001b[90m━━━━━━━━━━━━━━━━━━━━━━━━━━━━━━━━━━━━━━━━\u001b[0m \u001b[32m85.5/85.5 kB\u001b[0m \u001b[31m8.9 MB/s\u001b[0m eta \u001b[36m0:00:00\u001b[0m\n",
            "\u001b[2K     \u001b[90m━━━━━━━━━━━━━━━━━━━━━━━━━━━━━━━━━━━━━━━━\u001b[0m \u001b[32m85.1/85.1 kB\u001b[0m \u001b[31m9.0 MB/s\u001b[0m eta \u001b[36m0:00:00\u001b[0m\n",
            "\u001b[2K     \u001b[90m━━━━━━━━━━━━━━━━━━━━━━━━━━━━━━━━━━━━━━━━\u001b[0m \u001b[32m84.7/84.7 kB\u001b[0m \u001b[31m9.1 MB/s\u001b[0m eta \u001b[36m0:00:00\u001b[0m\n",
            "\u001b[2K     \u001b[90m━━━━━━━━━━━━━━━━━━━━━━━━━━━━━━━━━━━━━━━━\u001b[0m \u001b[32m83.6/83.6 kB\u001b[0m \u001b[31m5.1 MB/s\u001b[0m eta \u001b[36m0:00:00\u001b[0m\n",
            "\u001b[2K     \u001b[90m━━━━━━━━━━━━━━━━━━━━━━━━━━━━━━━━━━━━━━━━\u001b[0m \u001b[32m83.3/83.3 kB\u001b[0m \u001b[31m8.0 MB/s\u001b[0m eta \u001b[36m0:00:00\u001b[0m\n",
            "\u001b[2K     \u001b[90m━━━━━━━━━━━━━━━━━━━━━━━━━━━━━━━━━━━━━━━━\u001b[0m \u001b[32m83.4/83.4 kB\u001b[0m \u001b[31m7.4 MB/s\u001b[0m eta \u001b[36m0:00:00\u001b[0m\n",
            "\u001b[2K     \u001b[90m━━━━━━━━━━━━━━━━━━━━━━━━━━━━━━━━━━━━━━━━\u001b[0m \u001b[32m83.2/83.2 kB\u001b[0m \u001b[31m7.4 MB/s\u001b[0m eta \u001b[36m0:00:00\u001b[0m\n",
            "\u001b[2K     \u001b[90m━━━━━━━━━━━━━━━━━━━━━━━━━━━━━━━━━━━━━━━━\u001b[0m \u001b[32m82.5/82.5 kB\u001b[0m \u001b[31m7.9 MB/s\u001b[0m eta \u001b[36m0:00:00\u001b[0m\n",
            "\u001b[2K     \u001b[90m━━━━━━━━━━━━━━━━━━━━━━━━━━━━━━━━━━━━━━━━\u001b[0m \u001b[32m81.0/81.0 kB\u001b[0m \u001b[31m7.5 MB/s\u001b[0m eta \u001b[36m0:00:00\u001b[0m\n",
            "\u001b[2K     \u001b[90m━━━━━━━━━━━━━━━━━━━━━━━━━━━━━━━━━━━━━━━━\u001b[0m \u001b[32m81.0/81.0 kB\u001b[0m \u001b[31m7.8 MB/s\u001b[0m eta \u001b[36m0:00:00\u001b[0m\n",
            "\u001b[2K     \u001b[90m━━━━━━━━━━━━━━━━━━━━━━━━━━━━━━━━━━━━━━━━\u001b[0m \u001b[32m80.8/80.8 kB\u001b[0m \u001b[31m6.8 MB/s\u001b[0m eta \u001b[36m0:00:00\u001b[0m\n",
            "\u001b[2K     \u001b[90m━━━━━━━━━━━━━━━━━━━━━━━━━━━━━━━━━━━━━━━━\u001b[0m \u001b[32m80.7/80.7 kB\u001b[0m \u001b[31m8.3 MB/s\u001b[0m eta \u001b[36m0:00:00\u001b[0m\n",
            "\u001b[2K     \u001b[90m━━━━━━━━━━━━━━━━━━━━━━━━━━━━━━━━━━━━━━━━\u001b[0m \u001b[32m81.5/81.5 kB\u001b[0m \u001b[31m7.1 MB/s\u001b[0m eta \u001b[36m0:00:00\u001b[0m\n",
            "\u001b[2K     \u001b[90m━━━━━━━━━━━━━━━━━━━━━━━━━━━━━━━━━━━━━━━━\u001b[0m \u001b[32m90.4/90.4 kB\u001b[0m \u001b[31m8.1 MB/s\u001b[0m eta \u001b[36m0:00:00\u001b[0m\n",
            "\u001b[2K     \u001b[90m━━━━━━━━━━━━━━━━━━━━━━━━━━━━━━━━━━━━━━━━\u001b[0m \u001b[32m117.7/117.7 kB\u001b[0m \u001b[31m12.1 MB/s\u001b[0m eta \u001b[36m0:00:00\u001b[0m\n",
            "\u001b[2K     \u001b[90m━━━━━━━━━━━━━━━━━━━━━━━━━━━━━━━━━━━━━━━━\u001b[0m \u001b[32m60.6/60.6 kB\u001b[0m \u001b[31m5.8 MB/s\u001b[0m eta \u001b[36m0:00:00\u001b[0m\n",
            "\u001b[2K     \u001b[90m━━━━━━━━━━━━━━━━━━━━━━━━━━━━━━━━━━━━━━━━\u001b[0m \u001b[32m71.5/71.5 kB\u001b[0m \u001b[31m6.2 MB/s\u001b[0m eta \u001b[36m0:00:00\u001b[0m\n",
            "\u001b[2K     \u001b[90m━━━━━━━━━━━━━━━━━━━━━━━━━━━━━━━━━━━━━━━━\u001b[0m \u001b[32m3.1/3.1 MB\u001b[0m \u001b[31m65.7 MB/s\u001b[0m eta \u001b[36m0:00:00\u001b[0m\n",
            "\u001b[2K     \u001b[90m━━━━━━━━━━━━━━━━━━━━━━━━━━━━━━━━━━━━━━━━\u001b[0m \u001b[32m1.7/1.7 MB\u001b[0m \u001b[31m67.2 MB/s\u001b[0m eta \u001b[36m0:00:00\u001b[0m\n",
            "\u001b[2K     \u001b[90m━━━━━━━━━━━━━━━━━━━━━━━━━━━━━━━━━━━━━━━━\u001b[0m \u001b[32m117.8/117.8 kB\u001b[0m \u001b[31m10.8 MB/s\u001b[0m eta \u001b[36m0:00:00\u001b[0m\n",
            "\u001b[2K     \u001b[90m━━━━━━━━━━━━━━━━━━━━━━━━━━━━━━━━━━━━━━━━\u001b[0m \u001b[32m69.6/69.6 kB\u001b[0m \u001b[31m6.8 MB/s\u001b[0m eta \u001b[36m0:00:00\u001b[0m\n",
            "\u001b[2K     \u001b[90m━━━━━━━━━━━━━━━━━━━━━━━━━━━━━━━━━━━━━━━━\u001b[0m \u001b[32m526.7/526.7 kB\u001b[0m \u001b[31m34.5 MB/s\u001b[0m eta \u001b[36m0:00:00\u001b[0m\n",
            "\u001b[2K     \u001b[90m━━━━━━━━━━━━━━━━━━━━━━━━━━━━━━━━━━━━━━━━\u001b[0m \u001b[32m58.3/58.3 kB\u001b[0m \u001b[31m5.6 MB/s\u001b[0m eta \u001b[36m0:00:00\u001b[0m\n",
            "\u001b[?25h  Building wheel for lark (setup.py) ... \u001b[?25l\u001b[?25hdone\n",
            "  Building wheel for rpcq (setup.py) ... \u001b[?25l\u001b[?25hdone\n",
            "\u001b[31mERROR: pip's dependency resolver does not currently take into account all the packages that are installed. This behaviour is the source of the following dependency conflicts.\n",
            "referencing 0.35.1 requires attrs>=22.2.0, but you have attrs 21.4.0 which is incompatible.\u001b[0m\u001b[31m\n",
            "\u001b[0m"
          ]
        }
      ],
      "source": [
        "!pip install cirq --quiet\n",
        "import cirq\n",
        "\n",
        "from random import choices"
      ]
    },
    {
      "cell_type": "markdown",
      "source": [
        "<a name=\"p1\"></a>\n",
        "\n",
        "---\n",
        "## **Part 1: Learning the Tools**\n",
        "---"
      ],
      "metadata": {
        "id": "rNi7Xem-m6Zu"
      }
    },
    {
      "cell_type": "markdown",
      "source": [
        "<a name=\"p1.1\"></a>\n",
        "\n",
        "---\n",
        "### **Part 1.1: Python's `choices(...)`**\n",
        "---"
      ],
      "metadata": {
        "id": "iXnPe2LYm-93"
      }
    },
    {
      "cell_type": "markdown",
      "source": [
        "#### **Problem #1.1.1**\n",
        "\n",
        "**Together**, let's practice with the `choices(...)` function to create a list of 5 elements that are `'apple'`, `'orange'`, or `'banana'`."
      ],
      "metadata": {
        "id": "-gcKN3urnNzM"
      }
    },
    {
      "cell_type": "code",
      "source": [
        "print(choices(['apple', 'orange', 'banana'], k = 5)) # COMPLETE THIS LINE"
      ],
      "metadata": {
        "id": "sklmUPYHndTr",
        "outputId": "f46df0ef-58ce-4f83-866a-597e674486ba",
        "colab": {
          "base_uri": "https://localhost:8080/"
        }
      },
      "execution_count": 2,
      "outputs": [
        {
          "output_type": "stream",
          "name": "stdout",
          "text": [
            "['apple', 'apple', 'banana', 'banana', 'banana']\n"
          ]
        }
      ]
    },
    {
      "cell_type": "markdown",
      "source": [
        "#### **Problem #1.1.2**\n",
        "\n",
        "**Together**, let's practice with the `choices(...)` function to create a list of 15 elements that are either `0` or `1`."
      ],
      "metadata": {
        "id": "zxCsyeptnhHn"
      }
    },
    {
      "cell_type": "code",
      "source": [
        "choices([0,1], k = 15)# COMPLETE THIS LINE"
      ],
      "metadata": {
        "id": "RYzXXB3vnhHo",
        "outputId": "bf3c4140-4a10-41cd-d4bd-0703edb20680",
        "colab": {
          "base_uri": "https://localhost:8080/"
        }
      },
      "execution_count": 3,
      "outputs": [
        {
          "output_type": "execute_result",
          "data": {
            "text/plain": [
              "[1, 0, 0, 0, 0, 1, 1, 0, 1, 0, 1, 0, 0, 1, 1]"
            ]
          },
          "metadata": {},
          "execution_count": 3
        }
      ]
    },
    {
      "cell_type": "markdown",
      "source": [
        "#### **Problem #1.1.3**\n",
        "\n",
        "**Independently**, practice with the `choices(...)` function to create a list of 3 elements that are either `0` or `1`."
      ],
      "metadata": {
        "id": "BRLg81j8nsDT"
      }
    },
    {
      "cell_type": "code",
      "source": [
        "choices([0,1], k = 3)# COMPLETE THIS LINE"
      ],
      "metadata": {
        "id": "7wB_gbL1nsDg",
        "outputId": "f72b75b6-9c09-4cb9-cec3-f8fe0bdfa4ba",
        "colab": {
          "base_uri": "https://localhost:8080/"
        }
      },
      "execution_count": 5,
      "outputs": [
        {
          "output_type": "execute_result",
          "data": {
            "text/plain": [
              "[1, 1, 0]"
            ]
          },
          "metadata": {},
          "execution_count": 5
        }
      ]
    },
    {
      "cell_type": "markdown",
      "source": [
        "#### **Problem #1.1.4**\n",
        "\n",
        "**Independently**, practice with the `choices(...)` function to create a list of 10 elements that are either `'Z'` or `'H'`."
      ],
      "metadata": {
        "id": "pdbdG7Dnn7jr"
      }
    },
    {
      "cell_type": "code",
      "source": [
        "# COMPLETE THIS LINE\n",
        "choices(['Z','H'], k = 10)"
      ],
      "metadata": {
        "id": "BzD8JJoMn7j3",
        "outputId": "7621fbe7-25e9-4647-e08e-eec59910fa49",
        "colab": {
          "base_uri": "https://localhost:8080/"
        }
      },
      "execution_count": 7,
      "outputs": [
        {
          "output_type": "execute_result",
          "data": {
            "text/plain": [
              "['Z', 'Z', 'H', 'H', 'Z', 'H', 'Z', 'Z', 'Z', 'H']"
            ]
          },
          "metadata": {},
          "execution_count": 7
        }
      ]
    },
    {
      "cell_type": "markdown",
      "source": [
        "#### **Problem #1.1.5**\n",
        "\n",
        "**Independently**, practice with the `choices(...)` function to create a list of 5 elements that are either `cirq.X` or `cirq.H`."
      ],
      "metadata": {
        "id": "sbI0JHnYoEMx"
      }
    },
    {
      "cell_type": "code",
      "source": [
        "# COMPLETE THIS LINE\n",
        "choices([cirq.X, cirq.H], k = 5)"
      ],
      "metadata": {
        "id": "vixbjn3ioEM-",
        "outputId": "522b6432-f37f-4fb3-db9f-aa146ec3a574",
        "colab": {
          "base_uri": "https://localhost:8080/"
        }
      },
      "execution_count": 8,
      "outputs": [
        {
          "output_type": "execute_result",
          "data": {
            "text/plain": [
              "[cirq.H, cirq.H, cirq.H, cirq.X, cirq.X]"
            ]
          },
          "metadata": {},
          "execution_count": 8
        }
      ]
    },
    {
      "cell_type": "markdown",
      "source": [
        "<a name=\"p1.2\"></a>\n",
        "\n",
        "---\n",
        "### **Part 1.2: Python Dictionaries**\n",
        "---"
      ],
      "metadata": {
        "id": "cDo1kBZSnEYc"
      }
    },
    {
      "cell_type": "markdown",
      "source": [
        "#### **Problem #1.2.1**\n",
        "\n",
        "**Together**, let's create a dictionary called `fruit_shapes` with the following key, value pairs:\n",
        "\n",
        "* `'apple'`: `'round'`\n",
        "* `'orange'`: `'round'`\n",
        "* `'banana'`: `'not round'`\n",
        "\n",
        "<br>\n",
        "\n",
        "Print the value of the `'bananas'` element."
      ],
      "metadata": {
        "id": "WhN3YDLcoRZ-"
      }
    },
    {
      "cell_type": "code",
      "source": [
        "fruit_shapes = {'apple': 'round', 'orange': 'round', 'banana': 'not round'}\n",
        "fruit_shapes['banana']# COMPLETE THIS CODEE"
      ],
      "metadata": {
        "id": "EZT3MCACoRZ_",
        "outputId": "0c400c2d-d661-4188-8120-333c1250d452",
        "colab": {
          "base_uri": "https://localhost:8080/",
          "height": 36
        }
      },
      "execution_count": 11,
      "outputs": [
        {
          "output_type": "execute_result",
          "data": {
            "text/plain": [
              "'not round'"
            ],
            "application/vnd.google.colaboratory.intrinsic+json": {
              "type": "string"
            }
          },
          "metadata": {},
          "execution_count": 11
        }
      ]
    },
    {
      "cell_type": "markdown",
      "source": [
        "#### **Problem #1.2.2**\n",
        "\n",
        "**Together**, let's create a dictionary called `encode_gates` with the following key, value pairs:\n",
        "\n",
        "* `0`: `cirq.I` (**NOTE**: this is the \"identity\" gate, which is equivalent to doing nothing)\n",
        "* `1`: `cirq.X`\n",
        "\n",
        "<br>\n",
        "\n",
        "Print the value of the `1` element."
      ],
      "metadata": {
        "id": "fSyERSlio2Ck"
      }
    },
    {
      "cell_type": "code",
      "source": [
        "encode_gates = {0: cirq.I, 1: cirq.X} # COMPLETE THIS CODE\n",
        "encode_gates[1]# COMPLETE THIS CODE"
      ],
      "metadata": {
        "id": "ECkMz_Lno2Cl",
        "outputId": "4ad77c5f-7af9-422a-e74b-3ec853cfc0c1",
        "colab": {
          "base_uri": "https://localhost:8080/"
        }
      },
      "execution_count": 12,
      "outputs": [
        {
          "output_type": "execute_result",
          "data": {
            "text/plain": [
              "cirq.X"
            ]
          },
          "metadata": {},
          "execution_count": 12
        }
      ]
    },
    {
      "cell_type": "markdown",
      "source": [
        "#### **Problem #1.2.3**\n",
        "\n",
        "**Independently**, create a dictionary called `planet_sizes` with the following key, value pairs:\n",
        "\n",
        "* `'mercury'`: `2440`\n",
        "* `'venus'`: `6052`\n",
        "* `'earth'`: `6371`\n",
        "* `'mars'`: `3390`\n",
        "* `'jupiter'`: `69911`\n",
        "* `'saturn'`: `58232`\n",
        "* `'uranus'`: `25362`\n",
        "* `'neptune'`: `24622`\n",
        "\n",
        "\n",
        "<br>\n",
        "\n",
        "Print the values of the `'earth'` element and the `'neptune'` element."
      ],
      "metadata": {
        "id": "OhOWk0a3pgPH"
      }
    },
    {
      "cell_type": "code",
      "source": [
        "planet_sizes = {\n",
        "    'mercury': 2440,\n",
        "    'venus': 6052,\n",
        "    'earth': 6371,\n",
        "    'mars': 3390,\n",
        "    'jupiter': 69911,\n",
        "    'saturn': 58232,\n",
        "    'uranus': 25362,\n",
        "    'neptune': 24622\n",
        "}\n",
        "# COMPLETE THIS CODE\n",
        "\n",
        "print(planet_sizes['earth'])\n",
        "print(planet_sizes['neptune'])"
      ],
      "metadata": {
        "id": "TmGGl3Z4pgPT",
        "outputId": "aad6082e-8402-4c83-f2ff-5ac5201bc676",
        "colab": {
          "base_uri": "https://localhost:8080/"
        }
      },
      "execution_count": 14,
      "outputs": [
        {
          "output_type": "stream",
          "name": "stdout",
          "text": [
            "6371\n",
            "24622\n"
          ]
        }
      ]
    },
    {
      "cell_type": "markdown",
      "source": [
        "#### **Problem #1.2.4**\n",
        "\n",
        "**Independently**, create a dictionary called `basis_gates` with the following key, value pairs:\n",
        "\n",
        "* `'Z'`: `cirq.I`\n",
        "* `'X'`: `cirq.H`\n",
        "\n",
        "<br>\n",
        "\n",
        "Print the value of the `'X'` element."
      ],
      "metadata": {
        "id": "MGFjmrLXpNBT"
      }
    },
    {
      "cell_type": "code",
      "source": [
        "# COMPLETE THIS CODE\n",
        "basis_gates = {'Z': cirq.I, 'X': cirq.H}\n",
        "basis_gates['X']"
      ],
      "metadata": {
        "id": "9gz5vLx8pNBg",
        "outputId": "ee233026-0325-4087-8e04-47c059541c49",
        "colab": {
          "base_uri": "https://localhost:8080/"
        }
      },
      "execution_count": 15,
      "outputs": [
        {
          "output_type": "execute_result",
          "data": {
            "text/plain": [
              "cirq.H"
            ]
          },
          "metadata": {},
          "execution_count": 15
        }
      ]
    },
    {
      "cell_type": "markdown",
      "source": [
        "<a name=\"p1.3\"></a>\n",
        "\n",
        "---\n",
        "### **Part 1.3: Python Loops**\n",
        "---"
      ],
      "metadata": {
        "id": "duc2YGgGnIQQ"
      }
    },
    {
      "cell_type": "markdown",
      "source": [
        "#### **Problem #1.3.1**\n",
        "\n",
        "**Together**, let's add one to each element of the provided list using a loop.\n",
        "\n",
        "<br>\n",
        "\n",
        "Print the list in the end."
      ],
      "metadata": {
        "id": "j_oQUCEurFWJ"
      }
    },
    {
      "cell_type": "code",
      "source": [
        "my_list = [0, 2, 4, 6]\n",
        "\n",
        "for i in range(4):\n",
        "  my_list[i] += 1 # COMPLETE THIS LINE\n",
        "\n",
        "print(my_list)"
      ],
      "metadata": {
        "id": "naQwfwJorFWT",
        "outputId": "87c57224-9dae-4292-98a0-f2c6ece91764",
        "colab": {
          "base_uri": "https://localhost:8080/"
        }
      },
      "execution_count": 16,
      "outputs": [
        {
          "output_type": "stream",
          "name": "stdout",
          "text": [
            "[1, 3, 5, 7]\n"
          ]
        }
      ]
    },
    {
      "cell_type": "markdown",
      "source": [
        "#### **Problem #1.3.2**\n",
        "\n",
        "**Together**, let's append apply each gate from the list `my_gates` to `qubit` and append this to `circuit`.\n",
        "\n",
        "<br>\n",
        "\n",
        "Print the circuit in the end."
      ],
      "metadata": {
        "id": "VpodXuLRrZJb"
      }
    },
    {
      "cell_type": "code",
      "source": [
        "qubit = cirq.NamedQubit('q0')\n",
        "circuit = cirq.Circuit()\n",
        "\n",
        "\n",
        "my_gates = [cirq.I, cirq.X, cirq.H]\n",
        "\n",
        "for i in range(len(my_gates)):# COMPLETE THIS CODE\n",
        "  gate = my_gates[i]#COMPLETE THIS CODE\n",
        "  circuit.append(gate(qubit))\n",
        "\n",
        "print(circuit)"
      ],
      "metadata": {
        "id": "KluuKqL4rZJo",
        "outputId": "3409fd59-08f7-4cf7-96ba-38d2c54fc5f4",
        "colab": {
          "base_uri": "https://localhost:8080/"
        }
      },
      "execution_count": 22,
      "outputs": [
        {
          "output_type": "stream",
          "name": "stdout",
          "text": [
            "q0: ───I───X───H───\n"
          ]
        }
      ]
    },
    {
      "cell_type": "markdown",
      "source": [
        "#### **Problem #1.3.3**\n",
        "\n",
        "**Independently**, multiply each element in the list by 2 using the loop provided.\n",
        "\n",
        "<br>\n",
        "\n",
        "Print the list in the end."
      ],
      "metadata": {
        "id": "66g5NwNwtkNG"
      }
    },
    {
      "cell_type": "code",
      "source": [
        "my_evens = [0, 1, 2, 3, 4, 5, 6, 7, 8, 9]\n",
        "\n",
        "for i in range(len(my_evens)):# COMPLETE THIS LINE\n",
        "  my_evens[i] = my_evens[i]*2 # COMPLETE THIS LINE\n",
        "\n",
        "print(my_evens)"
      ],
      "metadata": {
        "id": "-eC3wlvstkNP",
        "outputId": "1d7f76e7-ee61-44c4-e341-0cc1b970a242",
        "colab": {
          "base_uri": "https://localhost:8080/"
        }
      },
      "execution_count": 24,
      "outputs": [
        {
          "output_type": "stream",
          "name": "stdout",
          "text": [
            "[0, 2, 4, 6, 8, 10, 12, 14, 16, 18]\n"
          ]
        }
      ]
    },
    {
      "cell_type": "markdown",
      "source": [
        "#### **Problem #1.3.4**\n",
        "\n",
        "**Independently**, create a list of single qubit gates long enough that the rest of the code runs. You may use any single qubit gates you want.\n",
        "\n",
        "<br>\n",
        "\n",
        "Print the circuit in the end."
      ],
      "metadata": {
        "id": "P1wXiVuosSYJ"
      }
    },
    {
      "cell_type": "code",
      "source": [
        "qubit = cirq.NamedQubit('q0')\n",
        "circuit = cirq.Circuit()\n",
        "\n",
        "\n",
        "my_gates = [cirq.I, cirq.H, cirq.X, cirq.Z, cirq.X]# COMPLETE THIS LINE\n",
        "\n",
        "for i in range(5):\n",
        "  gate = my_gates[i]\n",
        "  circuit.append(gate(qubit))\n",
        "\n",
        "print(circuit)"
      ],
      "metadata": {
        "id": "NGwW8mhLsSYT",
        "outputId": "a532a841-126e-44a6-8c8b-93072afb66c2",
        "colab": {
          "base_uri": "https://localhost:8080/"
        }
      },
      "execution_count": 26,
      "outputs": [
        {
          "output_type": "stream",
          "name": "stdout",
          "text": [
            "q0: ───I───H───X───Z───X───\n"
          ]
        }
      ]
    },
    {
      "cell_type": "markdown",
      "source": [
        "#### **Problem #1.3.5**\n",
        "\n",
        "**Independently**, complete the code below so that each gate in the `my_gates` gets applied to a different qubit in the list `qubits`.\n",
        "\n",
        "<br>\n",
        "\n",
        "Print the circuit in the end."
      ],
      "metadata": {
        "id": "--rBdSK4s70n"
      }
    },
    {
      "cell_type": "code",
      "source": [
        "num_qubits = 5\n",
        "qubits = cirq.NamedQubit.range(num_qubits, prefix = 'q')\n",
        "circuit = cirq.Circuit()\n",
        "\n",
        "\n",
        "my_gates = [cirq.X, cirq.H, cirq.Z, cirq.I, cirq.X]\n",
        "\n",
        "for i in range(len(my_gates)):# COMPLETE THIS CODE\n",
        "  gate = my_gates[i]\n",
        "  circuit.append(gate(qubits[i]))# COMPLETE THIS CODE\n",
        "\n",
        "print(circuit)"
      ],
      "metadata": {
        "id": "AVisKKhJs70w",
        "outputId": "0e31c12a-c4de-44d8-cc64-fb4e798ce2dc",
        "colab": {
          "base_uri": "https://localhost:8080/"
        }
      },
      "execution_count": 30,
      "outputs": [
        {
          "output_type": "stream",
          "name": "stdout",
          "text": [
            "q0: ───X───\n",
            "\n",
            "q1: ───H───\n",
            "\n",
            "q2: ───Z───\n",
            "\n",
            "q3: ───I───\n",
            "\n",
            "q4: ───X───\n"
          ]
        }
      ]
    },
    {
      "cell_type": "markdown",
      "source": [
        "<a name=\"p2\"></a>\n",
        "\n",
        "---\n",
        "## **Part 2: Implementing BB84 in Python**\n",
        "---"
      ],
      "metadata": {
        "id": "ab55dvbqUUiM"
      }
    },
    {
      "cell_type": "markdown",
      "source": [
        "<a name=\"p2.1\"></a>\n",
        "\n",
        "---\n",
        "### **Part 2.1: The Set Up**\n",
        "---"
      ],
      "metadata": {
        "id": "OlnXiY5fuo4Y"
      }
    },
    {
      "cell_type": "markdown",
      "source": [
        "#### **Problem #2.1.1**\n",
        "\n",
        "**Together**, let's define a dictionary called `encode_gates` that specify which gates to apply based on the bit value. In other words, create the following key, value pairs:\n",
        "\n",
        "* `0`: `cirq.I`\n",
        "* `1`: `cirq.X`"
      ],
      "metadata": {
        "id": "BXL34RPyuKGa"
      }
    },
    {
      "cell_type": "code",
      "source": [
        "encode_gates = {0: cirq.I, 1: cirq.X}# COMPLETE THIS CODE"
      ],
      "metadata": {
        "id": "YleRMoZLuKGn"
      },
      "execution_count": 31,
      "outputs": []
    },
    {
      "cell_type": "markdown",
      "source": [
        "#### **Problem #2.1.2**\n",
        "\n",
        "**Together**, let's define a dictionary called `basis_gates` that specify which gates to apply based on the basis. In other words, create the following key, value pairs:\n",
        "\n",
        "* `'Z'`: `cirq.I`\n",
        "* `'X'`: `cirq.H`"
      ],
      "metadata": {
        "id": "794rMsvGugyZ"
      }
    },
    {
      "cell_type": "code",
      "source": [
        "basis_gates = {'Z': cirq.I, 'X': cirq.H}# COMPLETE THIS CODE"
      ],
      "metadata": {
        "id": "YWYmajMeugym"
      },
      "execution_count": 32,
      "outputs": []
    },
    {
      "cell_type": "markdown",
      "source": [
        "#### **Problem #2.1.3**\n",
        "\n",
        "**Together**, let's create a list of `NamedQubit`s that is `num_bits` long and has the prefix `q`."
      ],
      "metadata": {
        "id": "obSivlGdu7SL"
      }
    },
    {
      "cell_type": "code",
      "source": [
        "num_bits = 5\n",
        "qubits = cirq.NamedQubit.range(num_bits, prefix = 'q')# COMPLETE THIS CODE"
      ],
      "metadata": {
        "id": "PqoEzmjgu7Sl"
      },
      "execution_count": 34,
      "outputs": []
    },
    {
      "cell_type": "markdown",
      "source": [
        "<a name=\"p2.2\"></a>\n",
        "\n",
        "---\n",
        "### **Part 2.2: Implementing the Steps**\n",
        "---"
      ],
      "metadata": {
        "id": "R4SKqBrDvIpu"
      }
    },
    {
      "cell_type": "markdown",
      "source": [
        "<a name=\"s1\"></a>\n",
        "\n",
        "#### **Step #1: Alice Randomly Chooses Bits**\n",
        "\n",
        "Let's start by using python's `choices(...)` function to create Alice's key of random bits that is `num_bits` long."
      ],
      "metadata": {
        "id": "RGNVXnRsVJPw"
      }
    },
    {
      "cell_type": "code",
      "execution_count": 36,
      "metadata": {
        "id": "HIvctDslAFTY",
        "outputId": "70444fc1-9834-4688-ccf0-04050f5d8082",
        "colab": {
          "base_uri": "https://localhost:8080/"
        }
      },
      "outputs": [
        {
          "output_type": "stream",
          "name": "stdout",
          "text": [
            "[0, 0, 0, 1, 1]\n"
          ]
        }
      ],
      "source": [
        "alice_key = choices([0,1], k = num_bits)# COMPLETE THIS CODE\n",
        "\n",
        "print(alice_key)"
      ]
    },
    {
      "cell_type": "markdown",
      "source": [
        "<a name=\"s2\"></a>\n",
        "\n",
        "#### **Step #2: Alice Randomly Chooses Bases**\n",
        "\n",
        "Next, let's use python's `choices(...)` function to create Alice's `num_bits` basis choices."
      ],
      "metadata": {
        "id": "pE8itZjgYTZK"
      }
    },
    {
      "cell_type": "code",
      "execution_count": 37,
      "metadata": {
        "id": "jSi9wTiSYTZU",
        "outputId": "8c0599f4-c9c7-466c-bbca-d29cdb780a35",
        "colab": {
          "base_uri": "https://localhost:8080/"
        }
      },
      "outputs": [
        {
          "output_type": "stream",
          "name": "stdout",
          "text": [
            "['X', 'X', 'X', 'Z', 'Z']\n"
          ]
        }
      ],
      "source": [
        "alice_bases = choices(['Z', 'X'], k =num_bits) # COMPLETE THIS CODE\n",
        "\n",
        "print(alice_bases)"
      ]
    },
    {
      "cell_type": "markdown",
      "source": [
        "<a name=\"s3\"></a>\n",
        "\n",
        "#### **Step #3: Alice Creates Qubits**\n",
        "\n",
        "In this step, Alice creates her qubits based on her choice of bit and basis. Complete the code below so that the appropriate gates are appended to `alice_circuit` within the loop."
      ],
      "metadata": {
        "id": "4H1IFYzZZLwc"
      }
    },
    {
      "cell_type": "code",
      "execution_count": 40,
      "metadata": {
        "id": "WT-1YzpcZLw5",
        "outputId": "0fc1122e-c2a1-4c01-e4a4-8897e801df20",
        "colab": {
          "base_uri": "https://localhost:8080/"
        }
      },
      "outputs": [
        {
          "output_type": "stream",
          "name": "stdout",
          "text": [
            "q0: ───I───H───\n",
            "\n",
            "q1: ───I───H───\n",
            "\n",
            "q2: ───I───H───\n",
            "\n",
            "q3: ───X───I───\n",
            "\n",
            "q4: ───X───I───\n"
          ]
        }
      ],
      "source": [
        "alice_circuit = cirq.Circuit()\n",
        "\n",
        "for bit in range(num_bits):# COMPLETE THIS CODE\n",
        "\n",
        "  encode_value = alice_key[bit]\n",
        "  encode_gate = encode_gates[encode_value]# COMPLETE THIS CODE\n",
        "\n",
        "  basis_value = alice_bases[bit]\n",
        "  basis_gate = basis_gates[basis_value]# COMPLETE THIS CODE\n",
        "\n",
        "  qubit = qubits[bit]# COMPLETE THIS CODE\n",
        "  alice_circuit.append(encode_gate(qubit))# COMPLETE THIS CODE\n",
        "  alice_circuit.append(basis_gate(qubit))# COMPLETE THIS CODE\n",
        "\n",
        "print(alice_circuit)"
      ]
    },
    {
      "cell_type": "markdown",
      "source": [
        "<a name=\"s4\"></a>\n",
        "\n",
        "#### **Step #4: Alice Sends the Qubits to Bob**\n",
        "\n",
        "This step doesn't require us to do anything in Python. However, in real life, this would be where Alice sends Bob the qubits through a public quantum channel."
      ],
      "metadata": {
        "id": "HJ_zutURbpVZ"
      }
    },
    {
      "cell_type": "markdown",
      "source": [
        "<a name=\"s5\"></a>\n",
        "\n",
        "#### **Step #5: Bob Randomly Chooses Bases**\n",
        "\n",
        "Now, Bob will randomly pick `num_bits` bases and apply the appropriate gates to the qubits he received, `qubits`. Complete the code below to accomplish this for each qubit."
      ],
      "metadata": {
        "id": "ipUeaRgNb-Pc"
      }
    },
    {
      "cell_type": "code",
      "source": [
        "bob_bases = choices(['Z','X'], k = num_bits)# COMPLETE THIS CODE\n",
        "\n",
        "\n",
        "bob_circuit = cirq.Circuit()\n",
        "\n",
        "for bit in range(num_bits):# COMPLETE THIS CODE\n",
        "\n",
        "  basis_value = bob_bases[bit]# COMPLETE THIS CODE\n",
        "  basis_gate = basis_gates[basis_value]# COMPLETE THIS CODE\n",
        "\n",
        "  qubit = qubits[bit]# COMPLETE THIS CODE\n",
        "  bob_circuit.append(basis_gate(qubit))# COMPLETE THIS CODE\n",
        "\n",
        "print(bob_circuit)"
      ],
      "metadata": {
        "id": "76L0KI3icfuZ",
        "outputId": "3bdbed4f-8775-4e51-d738-705df67e7009",
        "colab": {
          "base_uri": "https://localhost:8080/"
        }
      },
      "execution_count": 42,
      "outputs": [
        {
          "output_type": "stream",
          "name": "stdout",
          "text": [
            "q0: ───H───\n",
            "\n",
            "q1: ───I───\n",
            "\n",
            "q2: ───H───\n",
            "\n",
            "q3: ───H───\n",
            "\n",
            "q4: ───I───\n"
          ]
        }
      ]
    },
    {
      "cell_type": "markdown",
      "source": [
        "<a name=\"s6\"></a>\n",
        "\n",
        "#### **Step #6: Bob Measures the Qubits**\n",
        "\n",
        "Now, Bob will make a measurement of all of the qubits. Complete the code below to append this action to `bob_circuit`. Ensure the measure method is given the parameter `key = 'bob key'` so that we can easily retrieve this result later."
      ],
      "metadata": {
        "id": "SYDAI3GLeijE"
      }
    },
    {
      "cell_type": "code",
      "source": [
        "bob_circuit.append(cirq.measure(qubits, key = 'bob key'))\n",
        "\n",
        "print(bob_circuit)"
      ],
      "metadata": {
        "id": "x-4a5ubueijO",
        "outputId": "1c56fd1a-dca7-4d6a-a236-ba7f4dafccdb",
        "colab": {
          "base_uri": "https://localhost:8080/"
        }
      },
      "execution_count": 45,
      "outputs": [
        {
          "output_type": "stream",
          "name": "stdout",
          "text": [
            "q0: ───H───M('bob_key')───M('bob key')───\n",
            "           │              │\n",
            "q1: ───I───M──────────────M──────────────\n",
            "           │              │\n",
            "q2: ───H───M──────────────M──────────────\n",
            "           │              │\n",
            "q3: ───H───M──────────────M──────────────\n",
            "           │              │\n",
            "q4: ───I───M──────────────M──────────────\n"
          ]
        }
      ]
    },
    {
      "cell_type": "markdown",
      "source": [
        "<a name=\"s7\"></a>\n",
        "\n",
        "#### **Step #7: Bob Creates a Key**\n",
        "\n",
        "Now, Bob will create his key from the mesurement result of each qubit.\n",
        "\n",
        "<br>\n",
        "\n",
        "**Run the code below to accomplish this step.**"
      ],
      "metadata": {
        "id": "MPLUATPCxK7N"
      }
    },
    {
      "cell_type": "code",
      "source": [
        "bb84_circuit = alice_circuit + bob_circuit\n",
        "\n",
        "sim = cirq.Simulator()\n",
        "results = sim.run(bb84_circuit)\n",
        "bob_key = results.measurements['bob key'][0]\n",
        "\n",
        "print(bob_key)"
      ],
      "metadata": {
        "colab": {
          "base_uri": "https://localhost:8080/"
        },
        "id": "FSryZjg2xK7O",
        "outputId": "3014db2b-18ee-408c-e26f-e81f3d40b5fb"
      },
      "execution_count": 46,
      "outputs": [
        {
          "output_type": "stream",
          "name": "stdout",
          "text": [
            "[0 0 0 1 1]\n"
          ]
        }
      ]
    },
    {
      "cell_type": "markdown",
      "source": [
        "<a name=\"s8\"></a>\n",
        "\n",
        "#### **Step #8: Alice and Bob Compare Bases**\n",
        "\n",
        "In this step, Alice and Bob will compare their randomly selected bases. Complete the code below to accomplish this."
      ],
      "metadata": {
        "id": "IC8j0TYnf6H9"
      }
    },
    {
      "cell_type": "code",
      "source": [
        "final_alice_key = []\n",
        "final_bob_key = []\n",
        "\n",
        "for bit in range(num_bits):\n",
        "\n",
        "  if alice_bases[bit] == bob_bases[bit]:\n",
        "    final_alice_key.append(alice_key[bit])\n",
        "    final_bob_key.append(bob_key[bit])\n",
        "\n",
        "print(final_alice_key)\n",
        "print(final_bob_key)"
      ],
      "metadata": {
        "id": "iJUk3lI7f6H-",
        "outputId": "6c2f489c-49ee-40b5-8a5a-e62bcc3613e8",
        "colab": {
          "base_uri": "https://localhost:8080/"
        }
      },
      "execution_count": 47,
      "outputs": [
        {
          "output_type": "stream",
          "name": "stdout",
          "text": [
            "[0, 0, 1]\n",
            "[0, 0, 1]\n"
          ]
        }
      ]
    },
    {
      "cell_type": "markdown",
      "source": [
        "<a name=\"s9\"></a>\n",
        "\n",
        "#### **Step #9: Alice and Bob Compare the First Bits in Their Key**\n",
        "\n",
        "In this step, Alice and Bob will compare the first few bits in their key to ensure the protocol was successful.\n",
        "\n",
        "<br>\n",
        "\n",
        "**Run the code below to accomplish this.**"
      ],
      "metadata": {
        "id": "YoqZgLAUg28G"
      }
    },
    {
      "cell_type": "code",
      "source": [
        "if final_alice_key[0] == final_bob_key[0]:\n",
        "  final_alice_key = final_alice_key[1:]\n",
        "  final_bob_key = final_bob_key[1:]\n",
        "\n",
        "  print('We can use our keys!')\n",
        "  print('Alice Key: ', final_alice_key)\n",
        "  print('Bob Key: ', final_bob_key)\n",
        "\n",
        "else:\n",
        "  print('Eve was listening, we need to use a different channel!')"
      ],
      "metadata": {
        "id": "cRXIdCIng28H",
        "colab": {
          "base_uri": "https://localhost:8080/"
        },
        "outputId": "95de36db-0940-4086-a691-8f24d5399373"
      },
      "execution_count": 48,
      "outputs": [
        {
          "output_type": "stream",
          "name": "stdout",
          "text": [
            "We can use our keys!\n",
            "Alice Key:  [0, 1]\n",
            "Bob Key:  [0, 1]\n"
          ]
        }
      ]
    },
    {
      "cell_type": "markdown",
      "metadata": {
        "id": "7dzC09dLlEhm"
      },
      "source": [
        "# End of Notebook\n",
        "\n",
        "---\n",
        "© 2023 The Coding School, All rights reserved"
      ]
    }
  ]
}