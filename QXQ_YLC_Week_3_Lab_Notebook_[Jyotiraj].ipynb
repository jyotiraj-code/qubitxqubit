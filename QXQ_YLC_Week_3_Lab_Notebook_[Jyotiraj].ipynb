{
  "cells": [
    {
      "cell_type": "markdown",
      "metadata": {
        "id": "view-in-github",
        "colab_type": "text"
      },
      "source": [
        "<a href=\"https://colab.research.google.com/github/jyotiraj-code/qubitxqubit/blob/main/QXQ_YLC_Week_3_Lab_Notebook_%5BJyotiraj%5D.ipynb\" target=\"_parent\"><img src=\"https://colab.research.google.com/assets/colab-badge.svg\" alt=\"Open In Colab\"/></a>"
      ]
    },
    {
      "cell_type": "markdown",
      "source": [
        "# **Lab 3: Using Objects and Good Programming Practices**\n",
        "---\n",
        "\n",
        "### **Description**\n",
        "In today's lab, you will learn how to work with Attributes and Methods in Python. You will also learn how to interpret and correct coding errors, and how to search for and navigate documentation.\n",
        "\n",
        "<br>\n",
        "\n",
        "### **Lab Structure**\n",
        "**Part 1**: [Review](#p1)\n",
        "\n",
        "**Part 2**: [Attributes and Methods](#p2)\n",
        "\n",
        "**Part 3**: [Debugging](#p3)\n",
        "\n",
        "**Part 4**: [Additional Practice [OPTIONAL]](#p4)\n",
        ">\n",
        "> **Part 4.1**: [The Fundamentals](#p4.1)\n",
        ">\n",
        "> **Part 4.2**: [Coding Challenges](#p4.2)\n",
        "\n",
        "**Part 5**: [The `print` Function [OPTIONAL]](#p5)\n",
        "\n",
        "<br>\n",
        "\n",
        "\n",
        "### **Learning Objectives**\n",
        "By the end of this lab, we will:\n",
        "* Understand how to interact with objects using methods and attributes.\n",
        "* Improve your debugging skills by correcting common coding errors.\n",
        "* Understand how to search for documentation in various libraries.\n",
        "\n",
        "<br>\n",
        "\n",
        "###**Resources**\n",
        "* [Python Basics Cheat Sheet](https://docs.google.com/document/d/1uLao-xKh3tYIiCYyiqf7oas4qTlr5XYKQ0QpzX_Xzag/edit?usp=sharing)\n",
        "\n",
        "\n",
        "<br>\n",
        "\n",
        "\n",
        "**Before starting, run the code below to import all necessary functions and libraries.**\n"
      ],
      "metadata": {
        "id": "mbZXQ3rA3NwL"
      },
      "id": "mbZXQ3rA3NwL"
    },
    {
      "cell_type": "code",
      "source": [
        "# @title\n",
        "\n",
        "import warnings\n",
        "import sympy\n",
        "import numpy\n",
        "import matplotlib\n",
        "import time\n",
        "import math\n",
        "from matplotlib import pyplot\n",
        "\n",
        "warnings.filterwarnings(\"ignore\")\n",
        "\n",
        "class baby():\n",
        "  def __init__(self,age=0, mood=\"crying\", hunger=\"hungry\"):\n",
        "    self.age = age\n",
        "    self.mood = mood\n",
        "    self.hunger = hunger\n",
        "  def feed(self):\n",
        "    self.hunger = \"full\"\n",
        "  def play(self):\n",
        "    self.mood = \"happy\"\n",
        "\n",
        "class second_lab():\n",
        "  def __init__(self,TA=\"NO TA SET\"):\n",
        "    self.topic = \"Introduction to Objects and Debugging\"\n",
        "    self.attendance_code = 1234\n",
        "    self.attendees = []\n",
        "    self.TA = TA\n",
        "  def check_in(self,name):\n",
        "    self.attendees.append(name)\n",
        "  def lab_summary(self):\n",
        "    print(\"Today in lab, we had an \" + self.topic + \" with our TA, \" + self.TA +\". We had some great people in attendance, such as:\" + \", \".join(self.attendees)+\". The attendance code is \" + str(self.attendance_code)+\".\")\n",
        "\n",
        "def calculate_area(length, width):\n",
        "  area = length * width\n",
        "  return area\n",
        "\n",
        "class plant():\n",
        "  def __init__(self):\n",
        "    self.planted = 0\n",
        "    self.day_of_last_growth = 0\n",
        "    self.day = 0\n",
        "    self.water = 0\n",
        "    self.light = 0\n",
        "    self.health = 10\n",
        "    self.stage = 0\n",
        "    self.perfect_light = numpy.random.choice([1,2,3,4,5,6,7,8,9,10])\n",
        "    self.perfect_water = numpy.random.choice([1,2,3,4,5,6,7,8,9,10])\n",
        "  def water_plant(self,amount):\n",
        "    if amount > 0:\n",
        "      print(\"You watered your plant.\")\n",
        "      self.water += round(amount)\n",
        "    elif amount < 0:\n",
        "      raise ValueError(\"You can't remove water from your plant! You will have to wait a bit for it to dry out.\")\n",
        "    else:\n",
        "      print(\"You decide to not water your plant.\")\n",
        "  def set_light(self,level):\n",
        "    if level <0:\n",
        "      raise ValueError(\"You can't set the light level to negative values.\")\n",
        "    elif level > 10:\n",
        "      raise ValueError(\"Your light is not that strong\")\n",
        "    else:\n",
        "      self.light = round(level)\n",
        "      print(\"You set the light to level \" + str(self.light))\n",
        "\n",
        "  def check_health(self):\n",
        "    print(\"Your plant's health is a \" + str(self.health)+ \"/\" + str(10+(5*self.stage))+\".\")\n",
        "    print(\"If you had to rate the wetness of the soil, it would be a \" + str(self.water)+ \"/10.\")\n",
        "    print(\"Your light is turned up to \" + str(self.light)+ \".\")\n",
        "    if self.stage == 10:\n",
        "      print(\"Your plant is full grown.\")\n",
        "  def wait(self,num_days):\n",
        "    for i in range(num_days):\n",
        "      self.day += 1\n",
        "      print('Day ' + str(self.day))\n",
        "      if self.perfect_light > self.light:\n",
        "        print(\"Your plant needs more light\")\n",
        "        self.health += -1*abs(self.perfect_light- self.light)/10\n",
        "      elif self.perfect_light < self.light:\n",
        "        print(\"Your plant needs less light\")\n",
        "        self.health += -1*abs(self.perfect_light- self.light)/10\n",
        "      else:\n",
        "        print(\"Your plant looks happy with the light it has.\")\n",
        "      if self.perfect_water > self.water:\n",
        "        print(\"Your plant needs more water\")\n",
        "        self.health += -1*abs(self.perfect_water- self.water)/10\n",
        "      elif self.perfect_water < self.water:\n",
        "        print(\"Your plant needs less water\")\n",
        "        self.health += -1*abs(self.perfect_water- self.water)/10\n",
        "      else:\n",
        "        print(\"Your plant looks happy with the water it had.\")\n",
        "      if self.perfect_light == self.light and self.perfect_water == self.water:\n",
        "        self.health = (self.health + 10+(5*self.stage))/2\n",
        "        if self.day- self.day_of_last_growth >= 5 and self.stage < 10:\n",
        "          print(\"Your plant grew a bit! Its preferances may have changed.\")\n",
        "          self.stage += 1\n",
        "          self.health += 5\n",
        "          self.day_of_last_growth = self.day\n",
        "          self.perfect_light = numpy.random.choice([1,2,3,4,5,6,7,8,9,10])\n",
        "          self.perfect_water = numpy.random.choice([1,2,3,4,5,6,7,8,9,10])\n",
        "          if self.stage == 10:\n",
        "            print(\"Congrats! Your plant is full grown.\")\n",
        "      self.water += -1*self.light\n",
        "      if self.water < 0:\n",
        "        self.water = 0\n",
        "      if self.health <= 0:\n",
        "        print(\"Your plant died! You decide to plant a new seed. Treat this one better!\")\n",
        "        self.planted = 0\n",
        "        self.day_of_last_growth = 0\n",
        "        self.day = 0\n",
        "        self.water = 0\n",
        "        self.light = 0\n",
        "        self.health = 10\n",
        "        self.stage = 0\n",
        "        self.perfect_light = numpy.random.choice([1,2,3,4,5,6,7,8,9,10])\n",
        "        self.perfect_water = numpy.random.choice([1,2,3,4,5,6,7,8,9,10])\n",
        "\n",
        "def dynamic_find_roots(a,b,c):\n",
        "  if b**2-4*a*c == 0:\n",
        "    return -b/(2*a)\n",
        "  elif b**2 - 4*a*c <0:\n",
        "    return (-b+1j*(4*a*c-b**2)**0.5)/(2*a),(-b-1j*(4*a*c-b**2)**0.5)/(2*a)\n",
        "  elif b**2 - 4*a*c >0:\n",
        "    return (-b+(b**2-4*a*c)**0.5)/(2*a),(-b-(b**2-4*a*c)**0.5)/(2*a)\n",
        "print(\"Libraries imported successfully!\")"
      ],
      "metadata": {
        "id": "YAvvLhRIoqYp",
        "outputId": "e8954115-dbb1-4120-8418-f67aa3504151",
        "colab": {
          "base_uri": "https://localhost:8080/"
        }
      },
      "execution_count": 12,
      "outputs": [
        {
          "output_type": "stream",
          "name": "stdout",
          "text": [
            "Libraries imported successfully!\n"
          ]
        }
      ],
      "id": "YAvvLhRIoqYp"
    },
    {
      "cell_type": "markdown",
      "source": [
        "<a name=\"p1\"></a>\n",
        "\n",
        "---\n",
        "## **Part 1: Review**\n",
        "---"
      ],
      "metadata": {
        "id": "88bM7zNgm__2"
      },
      "id": "88bM7zNgm__2"
    },
    {
      "cell_type": "markdown",
      "metadata": {
        "id": "8E_hjAwnzJIJ"
      },
      "source": [
        "#### **Problem #1.1**\n",
        "\n",
        "**Together**, let's label the following data types.\n",
        "\n",
        "<br>\n",
        "\n",
        "**NOTE**: You can change the text below by double clicking on the cell."
      ],
      "id": "8E_hjAwnzJIJ"
    },
    {
      "cell_type": "markdown",
      "metadata": {
        "id": "UgjKT51TYqvW"
      },
      "source": [
        "```\n",
        "2\n",
        "8.9\n",
        "\"Quantum is Cool!\"\n",
        "5.0\n",
        "[\"string\"]\n",
        "```"
      ],
      "id": "UgjKT51TYqvW"
    },
    {
      "cell_type": "markdown",
      "metadata": {
        "id": "vbVHhpiin48S"
      },
      "source": [
        "#### **Problem #1.2**\n",
        "\n",
        "**Together**, let's write code below to calculate 6 times 30 minus 15.5."
      ],
      "id": "vbVHhpiin48S"
    },
    {
      "cell_type": "code",
      "source": [
        "# COMPLETE THIS CODE\n",
        "6 * 30 - 15.5"
      ],
      "metadata": {
        "id": "aArc_XhAn7Wj",
        "outputId": "a0e75297-0573-4758-97da-df494555112a",
        "colab": {
          "base_uri": "https://localhost:8080/"
        }
      },
      "id": "aArc_XhAn7Wj",
      "execution_count": 1,
      "outputs": [
        {
          "output_type": "execute_result",
          "data": {
            "text/plain": [
              "164.5"
            ]
          },
          "metadata": {},
          "execution_count": 1
        }
      ]
    },
    {
      "cell_type": "markdown",
      "metadata": {
        "id": "huF5E-rfpsk6"
      },
      "source": [
        "#### **Problem #1.3**\n",
        "\n",
        "**Together**, let's write code below to create a variables called `num_qubits` that equals 100. Then output the value of the variable."
      ],
      "id": "huF5E-rfpsk6"
    },
    {
      "cell_type": "code",
      "source": [
        "# COMPLETE THIS CODE\n",
        "num_qubits = 100\n",
        "num_qubits"
      ],
      "metadata": {
        "id": "IQeZmqMspsk7",
        "outputId": "6975928b-278c-4b3b-dd47-0a34de1ed683",
        "colab": {
          "base_uri": "https://localhost:8080/"
        }
      },
      "execution_count": 3,
      "outputs": [
        {
          "output_type": "execute_result",
          "data": {
            "text/plain": [
              "100"
            ]
          },
          "metadata": {},
          "execution_count": 3
        }
      ],
      "id": "IQeZmqMspsk7"
    },
    {
      "cell_type": "markdown",
      "metadata": {
        "id": "viydnMGPp9Vn"
      },
      "source": [
        "#### **Problem #1.4**\n",
        "\n",
        "**Independently**, write code below to create a variables called `num_gates` that equals 12. Then output the value of the variable."
      ],
      "id": "viydnMGPp9Vn"
    },
    {
      "cell_type": "code",
      "source": [
        "# COMPLETE THIS CODE\n",
        "num_gates = 12\n",
        "num_gates"
      ],
      "metadata": {
        "id": "RobdNtdJp9V0",
        "outputId": "a7d3a118-e2a1-4dd7-cca1-82966ce1a79a",
        "colab": {
          "base_uri": "https://localhost:8080/"
        }
      },
      "execution_count": 4,
      "outputs": [
        {
          "output_type": "execute_result",
          "data": {
            "text/plain": [
              "12"
            ]
          },
          "metadata": {},
          "execution_count": 4
        }
      ],
      "id": "RobdNtdJp9V0"
    },
    {
      "cell_type": "markdown",
      "metadata": {
        "id": "0hMTn7KLqMIw"
      },
      "source": [
        "#### **Problem #1.5**\n",
        "\n",
        "Write code below to create a variables called `circuit_size` that equals `num_qubits` times `num_gates`. Then output the value of the variable."
      ],
      "id": "0hMTn7KLqMIw"
    },
    {
      "cell_type": "code",
      "source": [
        "# COMPLETE THIS CODE\n",
        "circuit_size = num_qubits * num_gates\n",
        "circuit_size"
      ],
      "metadata": {
        "id": "yHVTW11RqMI-",
        "outputId": "dfba2c3c-6c64-4944-c23b-6948f98d732e",
        "colab": {
          "base_uri": "https://localhost:8080/"
        }
      },
      "execution_count": 6,
      "outputs": [
        {
          "output_type": "execute_result",
          "data": {
            "text/plain": [
              "1200"
            ]
          },
          "metadata": {},
          "execution_count": 6
        }
      ],
      "id": "yHVTW11RqMI-"
    },
    {
      "cell_type": "markdown",
      "source": [
        "<a name=\"p2\"></a>\n",
        "\n",
        "---\n",
        "## **Part 2: Attributes and Methods**\n",
        "---\n",
        "Python and any libraries we install give us tons of objects to work with. In this part, we will practice interacting with objects using methods and attributes."
      ],
      "metadata": {
        "id": "idga37M2FsMR"
      },
      "id": "idga37M2FsMR"
    },
    {
      "cell_type": "markdown",
      "source": [
        "### **Problem #2.1**\n",
        "\n",
        "**Together**, let's create a \"baby\" object and output its \"age\" attribute.\n"
      ],
      "metadata": {
        "id": "E90o2LJcwsMI"
      },
      "id": "E90o2LJcwsMI"
    },
    {
      "cell_type": "code",
      "source": [
        "jeremy = baby()\n",
        "jeremy.age\n",
        "# COMPLETE THIS CODE"
      ],
      "metadata": {
        "id": "ef77ha0_x9a_",
        "outputId": "2a337beb-25fc-474d-8d7e-a323652ce2b0",
        "colab": {
          "base_uri": "https://localhost:8080/"
        }
      },
      "execution_count": 13,
      "outputs": [
        {
          "output_type": "execute_result",
          "data": {
            "text/plain": [
              "0"
            ]
          },
          "metadata": {},
          "execution_count": 13
        }
      ],
      "id": "ef77ha0_x9a_"
    },
    {
      "cell_type": "markdown",
      "source": [
        "### **Problem #2.2**\n",
        "\n",
        "**Together**, let's write code to set the baby's age to 2.\n"
      ],
      "metadata": {
        "id": "2UHcbxTY0R7t"
      },
      "id": "2UHcbxTY0R7t"
    },
    {
      "cell_type": "code",
      "source": [
        "# COMPLETE THIS CODE\n",
        "jeremy = baby()\n",
        "jeremy.age = 2\n",
        "jeremy.age"
      ],
      "metadata": {
        "id": "cIs8URcj0R8K",
        "outputId": "65c81038-0e0a-4a16-d12d-d8798acc99a6",
        "colab": {
          "base_uri": "https://localhost:8080/"
        }
      },
      "execution_count": 15,
      "outputs": [
        {
          "output_type": "execute_result",
          "data": {
            "text/plain": [
              "2"
            ]
          },
          "metadata": {},
          "execution_count": 15
        }
      ],
      "id": "cIs8URcj0R8K"
    },
    {
      "cell_type": "markdown",
      "source": [
        "### **Problem #2.3**\n",
        "\n",
        "**Together**, output the baby's `hunger` attribute, then use its `feed` method (this method does not require any arguments). Finally, print out the new `hunger` attribute.\n"
      ],
      "metadata": {
        "id": "1NLuZ2HS0ib4"
      },
      "id": "1NLuZ2HS0ib4"
    },
    {
      "cell_type": "code",
      "source": [
        "# COMPLETE THIS CODE\n",
        "jeremy = baby()\n",
        "jeremy.hunger\n",
        "jeremy.feed()\n",
        "jeremy.hunger\n"
      ],
      "metadata": {
        "id": "urA0ZLTi0icL",
        "outputId": "749842ae-f5e0-42f2-fdb8-c811147ecc6e",
        "colab": {
          "base_uri": "https://localhost:8080/",
          "height": 36
        }
      },
      "execution_count": 18,
      "outputs": [
        {
          "output_type": "execute_result",
          "data": {
            "text/plain": [
              "'full'"
            ],
            "application/vnd.google.colaboratory.intrinsic+json": {
              "type": "string"
            }
          },
          "metadata": {},
          "execution_count": 18
        }
      ],
      "id": "urA0ZLTi0icL"
    },
    {
      "cell_type": "code",
      "source": [
        "# COMPLETE THIS CODE"
      ],
      "metadata": {
        "id": "n7gbGtKkW9S_"
      },
      "id": "n7gbGtKkW9S_",
      "execution_count": null,
      "outputs": []
    },
    {
      "cell_type": "markdown",
      "source": [
        "###**Problem #2.4**\n",
        "\n",
        "**Independently**, create a new `baby` object, and output the `mood` attribute. Then, use its `play` method and output the `mood` attribute once again."
      ],
      "metadata": {
        "id": "PpyG4J8jyB_u"
      },
      "id": "PpyG4J8jyB_u"
    },
    {
      "cell_type": "code",
      "source": [
        "# COMPLETE THIS CODE\n",
        "mrinal = baby()\n",
        "mrinal.mood\n",
        "mrinal.play()\n",
        "mrinal.mood"
      ],
      "metadata": {
        "id": "za3WWQC6zl_y",
        "outputId": "10c55c71-69a6-4f54-979f-86a514ea17f6",
        "colab": {
          "base_uri": "https://localhost:8080/",
          "height": 36
        }
      },
      "id": "za3WWQC6zl_y",
      "execution_count": 19,
      "outputs": [
        {
          "output_type": "execute_result",
          "data": {
            "text/plain": [
              "'happy'"
            ],
            "application/vnd.google.colaboratory.intrinsic+json": {
              "type": "string"
            }
          },
          "metadata": {},
          "execution_count": 19
        }
      ]
    },
    {
      "cell_type": "markdown",
      "source": [
        "###**Problem #2.5**\n",
        "\n",
        "**Independently**, create a new `baby` object. Output its age attribute. Next, use its `feed` method, use its `play` method, and set its age attribute to 1. Then, output its `mood`, `hunger`, and new `age` attributes."
      ],
      "metadata": {
        "id": "y06lT5ANLLjA"
      },
      "id": "y06lT5ANLLjA"
    },
    {
      "cell_type": "code",
      "source": [
        "# COMPLETE THIS CODE\n",
        "krunal = baby()\n",
        "krunal.age\n",
        "krunal.feed()\n",
        "krunal.play()"
      ],
      "metadata": {
        "id": "ECzPUucnM9wF"
      },
      "id": "ECzPUucnM9wF",
      "execution_count": 20,
      "outputs": []
    },
    {
      "cell_type": "code",
      "source": [
        "# COMPLETE THIS CODE\n",
        "krunal.mood"
      ],
      "metadata": {
        "id": "ovWX1bpNM9e5",
        "outputId": "b3549a13-5187-4c23-dda6-aadc46dc4e88",
        "colab": {
          "base_uri": "https://localhost:8080/",
          "height": 36
        }
      },
      "id": "ovWX1bpNM9e5",
      "execution_count": 21,
      "outputs": [
        {
          "output_type": "execute_result",
          "data": {
            "text/plain": [
              "'happy'"
            ],
            "application/vnd.google.colaboratory.intrinsic+json": {
              "type": "string"
            }
          },
          "metadata": {},
          "execution_count": 21
        }
      ]
    },
    {
      "cell_type": "code",
      "source": [
        "# COMPLETE THIS CODE\n",
        "krunal.hunger"
      ],
      "metadata": {
        "id": "QwNeCFwMXSQ5",
        "outputId": "1cc1c3ab-60b7-4b40-ed42-c74fe9bde46b",
        "colab": {
          "base_uri": "https://localhost:8080/",
          "height": 36
        }
      },
      "id": "QwNeCFwMXSQ5",
      "execution_count": 22,
      "outputs": [
        {
          "output_type": "execute_result",
          "data": {
            "text/plain": [
              "'full'"
            ],
            "application/vnd.google.colaboratory.intrinsic+json": {
              "type": "string"
            }
          },
          "metadata": {},
          "execution_count": 22
        }
      ]
    },
    {
      "cell_type": "code",
      "source": [
        "# COMPLETE THIS CODE\n",
        "krunal.age"
      ],
      "metadata": {
        "id": "9pfI3fSHXR1T",
        "outputId": "b0ca1add-312a-4d2b-f70b-3b0fef18d14e",
        "colab": {
          "base_uri": "https://localhost:8080/"
        }
      },
      "id": "9pfI3fSHXR1T",
      "execution_count": 23,
      "outputs": [
        {
          "output_type": "execute_result",
          "data": {
            "text/plain": [
              "0"
            ]
          },
          "metadata": {},
          "execution_count": 23
        }
      ]
    },
    {
      "cell_type": "markdown",
      "source": [
        "### **Problem #2.6**\n",
        "\n",
        "**Together**, create a `second_lab` object, and set the `TA` attribute to the name of your TA. Then, output the `TA` attribute."
      ],
      "metadata": {
        "id": "9cPRASJ84IOA"
      },
      "id": "9cPRASJ84IOA"
    },
    {
      "cell_type": "code",
      "source": [
        "my_lab = second_lab() # COMPLETE THIS CODE\n",
        "my_lab.TA = \"Not Available\"\n",
        "my_lab.TA"
      ],
      "metadata": {
        "id": "waLbv5zf4IOZ",
        "outputId": "26830e69-791c-49ea-9591-e0527337fc7e",
        "colab": {
          "base_uri": "https://localhost:8080/",
          "height": 36
        }
      },
      "execution_count": 24,
      "outputs": [
        {
          "output_type": "execute_result",
          "data": {
            "text/plain": [
              "'Not Available'"
            ],
            "application/vnd.google.colaboratory.intrinsic+json": {
              "type": "string"
            }
          },
          "metadata": {},
          "execution_count": 24
        }
      ],
      "id": "waLbv5zf4IOZ"
    },
    {
      "cell_type": "markdown",
      "source": [
        "### **Problem #2.7**\n",
        "\n",
        "**Independently**, use the `attendance_code` attribute of the `second_lab` object to find today's attendance poll code.\n"
      ],
      "metadata": {
        "id": "lVSDMw5H3eXk"
      },
      "id": "lVSDMw5H3eXk"
    },
    {
      "cell_type": "code",
      "source": [
        "# COMPLETE THIS CODE\n",
        "my_lab.attendance_code"
      ],
      "metadata": {
        "id": "p2BGGITW3eYE",
        "outputId": "afaf89ff-a02f-4619-844b-a6166f9a4769",
        "colab": {
          "base_uri": "https://localhost:8080/"
        }
      },
      "execution_count": 25,
      "outputs": [
        {
          "output_type": "execute_result",
          "data": {
            "text/plain": [
              "1234"
            ]
          },
          "metadata": {},
          "execution_count": 25
        }
      ],
      "id": "p2BGGITW3eYE"
    },
    {
      "cell_type": "markdown",
      "source": [
        "### **Problem #2.8**\n",
        "\n",
        "**Independently**, use the `check_in` method of the `second_lab` object to add your name to the list of attendees. This method requires one argument: the name of the person checking in. Check that your name was added to the list of attendees by checking the `attendees` attribute.\n"
      ],
      "metadata": {
        "id": "6tjrl7kx2-Sz"
      },
      "id": "6tjrl7kx2-Sz"
    },
    {
      "cell_type": "code",
      "source": [
        "# COMPLETE THIS CODE\n",
        "my_lab.check_in('Jyotiraj Nath')\n",
        "my_lab.attendees"
      ],
      "metadata": {
        "id": "nYpfSXby2-S9",
        "outputId": "c29a1cbc-1c8c-464f-9349-41f4b2e3ba67",
        "colab": {
          "base_uri": "https://localhost:8080/"
        }
      },
      "execution_count": 26,
      "outputs": [
        {
          "output_type": "execute_result",
          "data": {
            "text/plain": [
              "['Jyotiraj Nath']"
            ]
          },
          "metadata": {},
          "execution_count": 26
        }
      ],
      "id": "nYpfSXby2-S9"
    },
    {
      "cell_type": "markdown",
      "source": [
        "###**Problem #2.9**\n",
        "\n",
        "**Independently**, create a `plant` object using its corresponding function. Then, using the following methods, check its health, water it, set it's light level, wait three days, and check its health again.\n",
        "\n",
        "* `check_health()`\n",
        "* `water_plant(amount)`\n",
        "* `set_light(level)`\n",
        "* `wait(num_days)`"
      ],
      "metadata": {
        "id": "uW7IdP0C9WJp"
      },
      "id": "uW7IdP0C9WJp"
    },
    {
      "cell_type": "code",
      "source": [
        "# COMPLETE THIS CODE\n",
        "my_plant = plant()\n",
        "my_plant.check_health()"
      ],
      "metadata": {
        "id": "1jqDWpnSFjTX",
        "outputId": "e27f1be3-f1dc-419c-ccde-42f409a4ccf6",
        "colab": {
          "base_uri": "https://localhost:8080/"
        }
      },
      "id": "1jqDWpnSFjTX",
      "execution_count": 27,
      "outputs": [
        {
          "output_type": "stream",
          "name": "stdout",
          "text": [
            "Your plant's health is a 10/10.\n",
            "If you had to rate the wetness of the soil, it would be a 0/10.\n",
            "Your light is turned up to 0.\n"
          ]
        }
      ]
    },
    {
      "cell_type": "code",
      "source": [
        "# COMPLETE THIS CODE\n",
        "my_plant.water_plant(amount=5)"
      ],
      "metadata": {
        "id": "Uu6nEPLLFjJs",
        "outputId": "dc0aff91-f577-4df6-b73f-17e3a5014358",
        "colab": {
          "base_uri": "https://localhost:8080/"
        }
      },
      "id": "Uu6nEPLLFjJs",
      "execution_count": 42,
      "outputs": [
        {
          "output_type": "stream",
          "name": "stdout",
          "text": [
            "You watered your plant.\n"
          ]
        }
      ]
    },
    {
      "cell_type": "code",
      "source": [
        "# COMPLETE THIS CODE\n",
        "my_plant.set_light(level = 3)"
      ],
      "metadata": {
        "id": "NpVj77wV9VwJ",
        "outputId": "acb2763a-a575-4cbe-8375-56e42d6d5730",
        "colab": {
          "base_uri": "https://localhost:8080/"
        }
      },
      "id": "NpVj77wV9VwJ",
      "execution_count": 43,
      "outputs": [
        {
          "output_type": "stream",
          "name": "stdout",
          "text": [
            "You set the light to level 3\n"
          ]
        }
      ]
    },
    {
      "cell_type": "code",
      "source": [
        "# COMPLETE THIS CODE\n",
        "my_plant.wait(num_days = 5)\n",
        "my_plant.health"
      ],
      "metadata": {
        "id": "6y0i_BSEHQs1",
        "outputId": "bb14925e-844e-4b00-f0bd-b7063e540424",
        "colab": {
          "base_uri": "https://localhost:8080/"
        }
      },
      "execution_count": 44,
      "outputs": [
        {
          "output_type": "stream",
          "name": "stdout",
          "text": [
            "Day 5\n",
            "Your plant needs more light\n",
            "Your plant needs more water\n",
            "Day 6\n",
            "Your plant needs more light\n",
            "Your plant needs more water\n",
            "Day 7\n",
            "Your plant needs more light\n",
            "Your plant needs more water\n",
            "Day 8\n",
            "Your plant needs more light\n",
            "Your plant needs more water\n",
            "Day 9\n",
            "Your plant needs more light\n",
            "Your plant needs more water\n",
            "Your plant died! You decide to plant a new seed. Treat this one better!\n"
          ]
        },
        {
          "output_type": "execute_result",
          "data": {
            "text/plain": [
              "10"
            ]
          },
          "metadata": {},
          "execution_count": 44
        }
      ],
      "id": "6y0i_BSEHQs1"
    },
    {
      "cell_type": "markdown",
      "source": [
        "### **Problem #2.10 [CHALLENGE]**\n",
        "**Independently**, add the names of two of your classmates to the list of attendees. Then, check the [methods of the list object](https://www.w3schools.com/python/python_ref_list.asp) to find a method that will sort the list of attendees alphabetically. Finally, call the `lab_summary` method of the `second_lab` object to print out a lab summary (this method does not require any arguments)\n",
        "\n",
        "**Note:** Whenever you get stuck on a piece of code, you can always look up the object or the function you are working with, and there will be documentation describing all methods, attriutes, and required arguments."
      ],
      "metadata": {
        "id": "Os9kMW424iWf"
      },
      "id": "Os9kMW424iWf"
    },
    {
      "cell_type": "code",
      "source": [
        "# COMPLETE THIS CODE\n",
        "my_lab = second_lab()\n",
        "my_lab.check_in('Jyotiraj Nath')\n",
        "my_lab.check_in('Subham')\n",
        "my_lab.check_in('Aniket')\n",
        "my_lab.attendees\n",
        "my_lab.attendees.sort()\n",
        "my_lab.attendees\n",
        "my_lab.lab_summary()"
      ],
      "metadata": {
        "id": "Fb6kvtGQ4iWn",
        "outputId": "b3126f92-05b4-426f-e5b3-09a17afd6d0c",
        "colab": {
          "base_uri": "https://localhost:8080/"
        }
      },
      "execution_count": 48,
      "outputs": [
        {
          "output_type": "stream",
          "name": "stdout",
          "text": [
            "Today in lab, we had an Introduction to Objects and Debugging with our TA, NO TA SET. We had some great people in attendance, such as:Aniket, Jyotiraj Nath, Subham. The attendance code is 1234.\n"
          ]
        }
      ],
      "id": "Fb6kvtGQ4iWn"
    },
    {
      "cell_type": "markdown",
      "source": [
        "---\n",
        "\n",
        "<center>\n",
        "\n",
        "### **Wait for Your Instructor to Continue**\n",
        "\n",
        "---"
      ],
      "metadata": {
        "id": "_uX885yrIh5T"
      },
      "id": "_uX885yrIh5T"
    },
    {
      "cell_type": "markdown",
      "metadata": {
        "id": "XvDIuw6vlsKN"
      },
      "source": [
        "<a name=\"p3\"></a>\n",
        "\n",
        "---\n",
        "## **Part 3: Debugging**\n",
        "---\n",
        "\n",
        "In this part, we will explore how to identify and correct errors in Python.\n",
        "\n",
        "<br>\n",
        "\n",
        "**NOTE**: Here and in general, you may not be familiar with the syntax presented in every line of code. However, you can use what you *do know* to solve the problems here and, often, in general."
      ],
      "id": "XvDIuw6vlsKN"
    },
    {
      "cell_type": "markdown",
      "source": [
        "#### **Problem #3.1**\n",
        "\n",
        "**Together,** remove the line of code that causes the error."
      ],
      "metadata": {
        "id": "ApCmfZIh-ecP"
      },
      "id": "ApCmfZIh-ecP"
    },
    {
      "cell_type": "code",
      "source": [
        "my_list = [1,2,3,4]\n",
        "print(my_list[1])\n",
        "print(my_list[2])\n",
        "print(my_list[3])"
      ],
      "metadata": {
        "id": "_TvLwwZv-ecQ",
        "colab": {
          "base_uri": "https://localhost:8080/"
        },
        "outputId": "cfcb81ef-5d8d-4254-c0ce-5ad12695d243"
      },
      "execution_count": 49,
      "outputs": [
        {
          "output_type": "stream",
          "name": "stdout",
          "text": [
            "2\n",
            "3\n",
            "4\n"
          ]
        }
      ],
      "id": "_TvLwwZv-ecQ"
    },
    {
      "cell_type": "markdown",
      "source": [
        "#### **Problem #3.2**\n",
        "\n",
        "**Together**, correctly print each entry from my_list."
      ],
      "metadata": {
        "id": "rHWtdxaXPOrK"
      },
      "id": "rHWtdxaXPOrK"
    },
    {
      "cell_type": "code",
      "source": [
        "for i in range(len(my_list)):\n",
        "  print(my_list[i])"
      ],
      "metadata": {
        "id": "sRqUoXp-PjJG",
        "colab": {
          "base_uri": "https://localhost:8080/"
        },
        "outputId": "03190410-a48a-4cff-955e-b192e3554875"
      },
      "id": "sRqUoXp-PjJG",
      "execution_count": 51,
      "outputs": [
        {
          "output_type": "stream",
          "name": "stdout",
          "text": [
            "1\n",
            "2\n",
            "3\n",
            "4\n"
          ]
        }
      ]
    },
    {
      "cell_type": "markdown",
      "source": [
        "#### **Problem #3.3**\n",
        "\n",
        "**Together,** debug the code shown below."
      ],
      "metadata": {
        "id": "nU_fifgR7jM5"
      },
      "id": "nU_fifgR7jM5"
    },
    {
      "cell_type": "code",
      "source": [
        "#f(x) = ax^2 + bx + c\n",
        "a = 1\n",
        "b = 0\n",
        "c = -9\n",
        "x1 = (-b + (b**2 - 4*a*c)**0.5)/(2*a)\n",
        "x2 = (-b - (b**2 - 4*a*c)**0.5)/(2*a)\n",
        "print(x1)\n",
        "print(x2)"
      ],
      "metadata": {
        "id": "gciUmz8i7jNN",
        "colab": {
          "base_uri": "https://localhost:8080/"
        },
        "outputId": "48a79742-38fe-4a67-ae1f-ff03c46af847"
      },
      "execution_count": 53,
      "outputs": [
        {
          "output_type": "stream",
          "name": "stdout",
          "text": [
            "3.0\n",
            "-3.0\n"
          ]
        }
      ],
      "id": "gciUmz8i7jNN"
    },
    {
      "cell_type": "markdown",
      "source": [
        "#### **Problem #3.4**\n",
        "\n",
        "**Independently,** debug the code shown below."
      ],
      "metadata": {
        "id": "eU1RYFlx8cJ6"
      },
      "id": "eU1RYFlx8cJ6"
    },
    {
      "cell_type": "code",
      "source": [
        "length = 30\n",
        "width = 10\n",
        "area = calculate_area(length, width)\n",
        "print(\"The area is \",area)"
      ],
      "metadata": {
        "id": "7T_0BfxG8cKE",
        "colab": {
          "base_uri": "https://localhost:8080/"
        },
        "outputId": "c7a95188-0b0f-4450-958d-9ee39dcf548b"
      },
      "execution_count": 55,
      "outputs": [
        {
          "output_type": "stream",
          "name": "stdout",
          "text": [
            "The area is  300\n"
          ]
        }
      ],
      "id": "7T_0BfxG8cKE"
    },
    {
      "cell_type": "markdown",
      "source": [
        "#### **Problem #3.5**\n",
        "\n",
        "**Independently,** debug the code shown below."
      ],
      "metadata": {
        "id": "u0vQg1AM8qDU"
      },
      "id": "u0vQg1AM8qDU"
    },
    {
      "cell_type": "code",
      "source": [
        "my_name = \"ricky\"\n",
        "my_name.capitalize()\n",
        "print(my_name)"
      ],
      "metadata": {
        "id": "8mauoKut8qDt",
        "colab": {
          "base_uri": "https://localhost:8080/"
        },
        "outputId": "265ecf12-c6a9-4d27-a5ff-561345845d26"
      },
      "execution_count": 59,
      "outputs": [
        {
          "output_type": "stream",
          "name": "stdout",
          "text": [
            "ricky\n"
          ]
        }
      ],
      "id": "8mauoKut8qDt"
    },
    {
      "cell_type": "markdown",
      "source": [
        "#### **Problem #3.6**\n",
        "\n",
        "**Independently**, debug the code shown below."
      ],
      "metadata": {
        "id": "RE9FToJzAqOc"
      },
      "id": "RE9FToJzAqOc"
    },
    {
      "cell_type": "code",
      "source": [
        "x = 47\n",
        "y = 3\n",
        "z = x**y\n",
        "print(z)"
      ],
      "metadata": {
        "colab": {
          "base_uri": "https://localhost:8080/"
        },
        "id": "7kfw5iyWA2a3",
        "outputId": "acf30965-f09d-440b-bc6a-6a6644b1f6cc"
      },
      "execution_count": 60,
      "outputs": [
        {
          "output_type": "stream",
          "name": "stdout",
          "text": [
            "103823\n"
          ]
        }
      ],
      "id": "7kfw5iyWA2a3"
    },
    {
      "cell_type": "markdown",
      "source": [
        "#### **Problem #3.7**\n",
        "\n",
        "**Independently**, debug the code shown below."
      ],
      "metadata": {
        "id": "AQ_Z2Ct9_QG9"
      },
      "id": "AQ_Z2Ct9_QG9"
    },
    {
      "cell_type": "code",
      "source": [
        "willoughby = baby()\n",
        "print(willoughby.mood)\n",
        "willoughby.play()\n",
        "print(willoughby.mood)"
      ],
      "metadata": {
        "colab": {
          "base_uri": "https://localhost:8080/"
        },
        "id": "LJdSVbcc_eeF",
        "outputId": "e2141d83-1a2c-4372-a17b-66307ca9f290"
      },
      "execution_count": 62,
      "outputs": [
        {
          "output_type": "stream",
          "name": "stdout",
          "text": [
            "crying\n",
            "happy\n"
          ]
        }
      ],
      "id": "LJdSVbcc_eeF"
    },
    {
      "cell_type": "markdown",
      "source": [
        "#### **Problem #3.8**\n",
        "\n",
        "**Independently**, debug the code shown below."
      ],
      "metadata": {
        "id": "NfApuJeDC6Ht"
      },
      "id": "NfApuJeDC6Ht"
    },
    {
      "cell_type": "code",
      "source": [
        "cactus = plant()\n",
        "cactus.check_health"
      ],
      "metadata": {
        "colab": {
          "base_uri": "https://localhost:8080/",
          "height": 103
        },
        "id": "NF2e5jYVDSh3",
        "outputId": "437ff141-18bc-4b5b-a2fd-e72a081f1fff"
      },
      "execution_count": 66,
      "outputs": [
        {
          "output_type": "execute_result",
          "data": {
            "text/plain": [
              "<bound method plant.check_health of <__main__.plant object at 0x7abfa764dc30>>"
            ],
            "text/html": [
              "<div style=\"max-width:800px; border: 1px solid var(--colab-border-color);\"><style>\n",
              "      pre.function-repr-contents {\n",
              "        overflow-x: auto;\n",
              "        padding: 8px 12px;\n",
              "        max-height: 500px;\n",
              "      }\n",
              "\n",
              "      pre.function-repr-contents.function-repr-contents-collapsed {\n",
              "        cursor: pointer;\n",
              "        max-height: 100px;\n",
              "      }\n",
              "    </style>\n",
              "    <pre style=\"white-space: initial; background:\n",
              "         var(--colab-secondary-surface-color); padding: 8px 12px;\n",
              "         border-bottom: 1px solid var(--colab-border-color);\"><b>plant.check_health</b><br/>def check_health()</pre><pre class=\"function-repr-contents function-repr-contents-collapsed\" style=\"\"><a class=\"filepath\" style=\"display:none\" href=\"#\">/content/&lt;ipython-input-12-56205b4cb780&gt;</a>&lt;no docstring&gt;</pre></div>"
            ]
          },
          "metadata": {},
          "execution_count": 66
        }
      ],
      "id": "NF2e5jYVDSh3"
    },
    {
      "cell_type": "code",
      "source": [
        "cactus.water_plant(amount = 1)\n",
        "cactus.set_light(level = 8)\n",
        "cactus.check_health()"
      ],
      "metadata": {
        "colab": {
          "base_uri": "https://localhost:8080/"
        },
        "id": "7xvp4wRJEavz",
        "outputId": "1a6ea8b5-b533-4404-c7db-07b7eb2841d7"
      },
      "execution_count": 67,
      "outputs": [
        {
          "output_type": "stream",
          "name": "stdout",
          "text": [
            "You watered your plant.\n",
            "You set the light to level 8\n",
            "Your plant's health is a 10/10.\n",
            "If you had to rate the wetness of the soil, it would be a 1/10.\n",
            "Your light is turned up to 8.\n"
          ]
        }
      ],
      "id": "7xvp4wRJEavz"
    },
    {
      "cell_type": "code",
      "source": [
        "cactus.wait(3)\n",
        "print(cactus.check_health())"
      ],
      "metadata": {
        "colab": {
          "base_uri": "https://localhost:8080/"
        },
        "id": "ik32NRnZEbFV",
        "outputId": "0a09d9cb-80c0-4b1e-cb35-6b10d6f0531d"
      },
      "execution_count": 69,
      "outputs": [
        {
          "output_type": "stream",
          "name": "stdout",
          "text": [
            "Day 4\n",
            "Your plant needs less light\n",
            "Your plant needs more water\n",
            "Day 5\n",
            "Your plant needs less light\n",
            "Your plant needs more water\n",
            "Day 6\n",
            "Your plant needs less light\n",
            "Your plant needs more water\n",
            "Your plant's health is a 2.8999999999999995/10.\n",
            "If you had to rate the wetness of the soil, it would be a 0/10.\n",
            "Your light is turned up to 8.\n",
            "None\n"
          ]
        }
      ],
      "id": "ik32NRnZEbFV"
    },
    {
      "cell_type": "markdown",
      "metadata": {
        "id": "VnBfb8HlRC3c"
      },
      "source": [
        "<a name=\"p4\"></a>\n",
        "\n",
        "---\n",
        "## **Part 4: Additional Practice [OPTIONAL]**\n",
        "---"
      ],
      "id": "VnBfb8HlRC3c"
    },
    {
      "cell_type": "markdown",
      "metadata": {
        "id": "cQ8l5K3qRQAa"
      },
      "source": [
        "<a name=\"p4.1\"></a>\n",
        "\n",
        "---\n",
        "### **Part 4.1: The Fundamentals**\n",
        "---\n",
        "\n",
        "This part contains questions on the basic syntax that we have learned. Use this section to practice and check your understanding."
      ],
      "id": "cQ8l5K3qRQAa"
    },
    {
      "cell_type": "markdown",
      "metadata": {
        "id": "oMCHyhfet4wi"
      },
      "source": [
        "#### **Problem #4.1.1**\n",
        "\n",
        "Write code that outputs the names of three different countries. **HINT**: You will need a new code cell for every output."
      ],
      "id": "oMCHyhfet4wi"
    },
    {
      "cell_type": "code",
      "execution_count": 70,
      "metadata": {
        "id": "_WGe1OS14lY4",
        "outputId": "0926dd02-9847-42fd-f9e3-83735233ab54",
        "colab": {
          "base_uri": "https://localhost:8080/"
        }
      },
      "outputs": [
        {
          "output_type": "stream",
          "name": "stdout",
          "text": [
            "UNITED STATES OF AMERICA\n"
          ]
        }
      ],
      "source": [
        "# COMPLETE THIS CODE\n",
        "print(\"UNITED STATES OF AMERICA\")"
      ],
      "id": "_WGe1OS14lY4"
    },
    {
      "cell_type": "code",
      "source": [
        "# COMPLETE THIS CODE\n",
        "print(\"INDIA\")"
      ],
      "metadata": {
        "id": "oEnG4TGIsRFV",
        "outputId": "2bb5346c-2b62-4444-dd0b-e247a921af65",
        "colab": {
          "base_uri": "https://localhost:8080/"
        }
      },
      "id": "oEnG4TGIsRFV",
      "execution_count": 71,
      "outputs": [
        {
          "output_type": "stream",
          "name": "stdout",
          "text": [
            "INDIA\n"
          ]
        }
      ]
    },
    {
      "cell_type": "code",
      "source": [
        "# COMPLETE THIS CODE\n",
        "print(\"AUSTRALIA\")"
      ],
      "metadata": {
        "id": "fp5qPW6HsRk-",
        "outputId": "6ce31770-1301-4ef4-8f8f-ab56ff17e748",
        "colab": {
          "base_uri": "https://localhost:8080/"
        }
      },
      "id": "fp5qPW6HsRk-",
      "execution_count": 72,
      "outputs": [
        {
          "output_type": "stream",
          "name": "stdout",
          "text": [
            "AUSTRALIA\n"
          ]
        }
      ]
    },
    {
      "cell_type": "markdown",
      "metadata": {
        "id": "QinoVuPOAdBg"
      },
      "source": [
        "#### **Problem #4.1.2**\n",
        "\n",
        "Write code that outputs the result of multiplying 5 by 23."
      ],
      "id": "QinoVuPOAdBg"
    },
    {
      "cell_type": "code",
      "execution_count": 73,
      "metadata": {
        "id": "z4kNYrt2Nj0W",
        "outputId": "c300fdab-79f2-427d-b6c0-e45d5af6ae97",
        "colab": {
          "base_uri": "https://localhost:8080/"
        }
      },
      "outputs": [
        {
          "output_type": "execute_result",
          "data": {
            "text/plain": [
              "115"
            ]
          },
          "metadata": {},
          "execution_count": 73
        }
      ],
      "source": [
        "# COMPLETE THIS CODE\n",
        "5 * 23"
      ],
      "id": "z4kNYrt2Nj0W"
    },
    {
      "cell_type": "markdown",
      "metadata": {
        "id": "brKDsi2BuT75"
      },
      "source": [
        "#### **Problem #4.1.3**\n",
        "\n",
        "Write code that outputs the result of raising 2 to the 100th power."
      ],
      "id": "brKDsi2BuT75"
    },
    {
      "cell_type": "code",
      "execution_count": 74,
      "metadata": {
        "id": "_XU69Lrc4mJ-",
        "outputId": "5f8ff6c8-19c4-4232-9cf7-4d043ebd189e",
        "colab": {
          "base_uri": "https://localhost:8080/"
        }
      },
      "outputs": [
        {
          "output_type": "execute_result",
          "data": {
            "text/plain": [
              "1267650600228229401496703205376"
            ]
          },
          "metadata": {},
          "execution_count": 74
        }
      ],
      "source": [
        "# COMPLETE THIS CODE\n",
        "2**100"
      ],
      "id": "_XU69Lrc4mJ-"
    },
    {
      "cell_type": "markdown",
      "metadata": {
        "id": "DrNIKf1TAo1z"
      },
      "source": [
        "#### **Problem #4.1.4**\n",
        "Write code that creates and outputs a variable called `popular_name` and assign to it the `string` `'Olivia'`."
      ],
      "id": "DrNIKf1TAo1z"
    },
    {
      "cell_type": "code",
      "execution_count": 75,
      "metadata": {
        "id": "cD69JsmO47iH"
      },
      "outputs": [],
      "source": [
        "# COMPLETE THIS CODE\n",
        "popula_name = 'Olivia'"
      ],
      "id": "cD69JsmO47iH"
    },
    {
      "cell_type": "markdown",
      "metadata": {
        "id": "oLDz58wguUFM"
      },
      "source": [
        "#### **Problem #4.1.5**\n",
        "\n",
        "Create a variable `birth_year` and set it equal to the year your were born. Then print, `\"I was born in <birth_year>\"`."
      ],
      "id": "oLDz58wguUFM"
    },
    {
      "cell_type": "code",
      "execution_count": 76,
      "metadata": {
        "id": "xt9fHgKF5Az3",
        "outputId": "3743e98b-f76f-4c1e-99d9-668755179cbf",
        "colab": {
          "base_uri": "https://localhost:8080/"
        }
      },
      "outputs": [
        {
          "output_type": "stream",
          "name": "stdout",
          "text": [
            "I was born in the year 2002\n"
          ]
        }
      ],
      "source": [
        "# COMPLETE THIS CODE\n",
        "birth_year = 2002\n",
        "print(\"I was born in the year\",birth_year)"
      ],
      "id": "xt9fHgKF5Az3"
    },
    {
      "cell_type": "code",
      "source": [
        "# COMPLETE THIS CODE"
      ],
      "metadata": {
        "id": "S2qI4u-dr3Kz"
      },
      "id": "S2qI4u-dr3Kz",
      "execution_count": null,
      "outputs": []
    },
    {
      "cell_type": "markdown",
      "metadata": {
        "id": "-bnV4zY2yMs8"
      },
      "source": [
        "#### **Problem #4.1.6**\n",
        "\n",
        "Create a variable `favorite_food` and assign to it a `string` with your favorite food. Print `'I love to eat <favorite_food>'`."
      ],
      "id": "-bnV4zY2yMs8"
    },
    {
      "cell_type": "code",
      "execution_count": 77,
      "metadata": {
        "id": "DqES7-rS5jcm",
        "outputId": "0cd44dc6-8955-40a1-ddbb-98c1e3e817af",
        "colab": {
          "base_uri": "https://localhost:8080/"
        }
      },
      "outputs": [
        {
          "output_type": "stream",
          "name": "stdout",
          "text": [
            "I love to eat  Pizza\n"
          ]
        }
      ],
      "source": [
        "# COMPLETE THIS CODE\n",
        "favorite_food = \"Pizza\"\n",
        "print(\"I love to eat \",favorite_food)"
      ],
      "id": "DqES7-rS5jcm"
    },
    {
      "cell_type": "code",
      "source": [
        "# COMPLETE THIS CODE"
      ],
      "metadata": {
        "id": "jLNR6hi0sFEQ"
      },
      "id": "jLNR6hi0sFEQ",
      "execution_count": null,
      "outputs": []
    },
    {
      "cell_type": "markdown",
      "source": [
        "#### **Problem #4.1.7**\n",
        "\n",
        "Debug the code shown below."
      ],
      "metadata": {
        "id": "WwhkO1SgAuov"
      },
      "id": "WwhkO1SgAuov"
    },
    {
      "cell_type": "code",
      "source": [
        "my_list = [10,20,30]\n",
        "my_list"
      ],
      "metadata": {
        "id": "Rhg2s6BIAupN",
        "colab": {
          "base_uri": "https://localhost:8080/"
        },
        "outputId": "5f497917-65db-47ed-a931-98afdd464ffd"
      },
      "execution_count": 78,
      "outputs": [
        {
          "output_type": "execute_result",
          "data": {
            "text/plain": [
              "[10, 20, 30]"
            ]
          },
          "metadata": {},
          "execution_count": 78
        }
      ],
      "id": "Rhg2s6BIAupN"
    },
    {
      "cell_type": "markdown",
      "source": [
        "#### **Problem #4.1.8**\n",
        "\n",
        "Debug the following code.\n",
        "\n",
        "**HINT**: How many roots should this polynomial have? Even if you're not sure about the math, you could use some of the code below to find out!"
      ],
      "metadata": {
        "id": "eyRaXBoqAfLp"
      },
      "id": "eyRaXBoqAfLp"
    },
    {
      "cell_type": "code",
      "source": [
        "#f(x) = x^2 + 2x + 1\n",
        "root = dynamic_find_roots(1, 2, 1)\n",
        "print(root)"
      ],
      "metadata": {
        "id": "kIDe-AnOAfME",
        "colab": {
          "base_uri": "https://localhost:8080/"
        },
        "outputId": "6b45278a-7668-4b25-b5a8-78af05b91d1e"
      },
      "execution_count": 90,
      "outputs": [
        {
          "output_type": "stream",
          "name": "stdout",
          "text": [
            "-1.0\n"
          ]
        }
      ],
      "id": "kIDe-AnOAfME"
    },
    {
      "cell_type": "code",
      "source": [
        "root2 = dynamic_find_roots(1,2,1)\n",
        "root2"
      ],
      "metadata": {
        "id": "MViu8rh4si1i",
        "outputId": "98ab0f49-0e9a-4df5-c345-44e35328979d",
        "colab": {
          "base_uri": "https://localhost:8080/"
        }
      },
      "id": "MViu8rh4si1i",
      "execution_count": 91,
      "outputs": [
        {
          "output_type": "execute_result",
          "data": {
            "text/plain": [
              "-1.0"
            ]
          },
          "metadata": {},
          "execution_count": 91
        }
      ]
    },
    {
      "cell_type": "markdown",
      "metadata": {
        "id": "cyjIYqnXCenC"
      },
      "source": [
        "<a name=\"p4.2\"></a>\n",
        "\n",
        "---\n",
        "### **Part 4.2: Coding Challenges**\n",
        "---\n",
        "\n",
        "This part contains more challenging problems that you can use to push your Python skills to the next level! **Remember what we have learned about the core programming skills of debugging and reading documentation to tackle these problems.**"
      ],
      "id": "cyjIYqnXCenC"
    },
    {
      "cell_type": "markdown",
      "source": [
        "#### **Problem #4.2.1**\n",
        "\n",
        "**Independently,** write code that prints out a reversed list."
      ],
      "metadata": {
        "id": "gAnsBVX0Gpwl"
      },
      "id": "gAnsBVX0Gpwl"
    },
    {
      "cell_type": "code",
      "source": [
        "my_list = [\"one\",\"two\",\"three\", \"four\",\"five\"]\n",
        "# COMPLETE THIS CODE\n",
        "my_list.reverse()\n",
        "my_list"
      ],
      "metadata": {
        "id": "YCOSc8uGGpw6",
        "outputId": "3e9f9743-63f7-48a2-f10d-31adcb58412e",
        "colab": {
          "base_uri": "https://localhost:8080/"
        }
      },
      "execution_count": 94,
      "outputs": [
        {
          "output_type": "execute_result",
          "data": {
            "text/plain": [
              "['five', 'four', 'three', 'two', 'one']"
            ]
          },
          "metadata": {},
          "execution_count": 94
        }
      ],
      "id": "YCOSc8uGGpw6"
    },
    {
      "cell_type": "markdown",
      "source": [
        "#### **Problem #4.2.2**\n",
        "\n",
        "**Independently,** write code that counts how many times [this article](https://www.ted.com/read/ted-studies/physics/introductory-essay) uses the word \"physics\".\n",
        "\n",
        "**Hint:** The string \"physics\" is different from the string \"Physics\". You will need to check for both!"
      ],
      "metadata": {
        "id": "so8qhJ7dHtLn"
      },
      "id": "so8qhJ7dHtLn"
    },
    {
      "cell_type": "code",
      "source": [
        "speech = \"\"\"Written by the educators who created The Edge of Knowledge, a brief look at the key facts, tough questions and big ideas in their field. Begin this TED Study with a fascinating read that gives context and clarity to the material.\n",
        "\n",
        "Particle physicists are nothing if not ambitious. And the aim of particle physics is to understand what everything's made of, and how everything sticks together. And by everything I mean, of course, me and you, the Earth, the Sun, the 100 billion suns in our galaxy and the 100 billion galaxies in the observable universe. Absolutely everything.\n",
        "Brian Cox\n",
        "To the outside observer, it may seem that physics is in some ways the opposite of art and that physicists must sacrifice their artistic intelligence to make way for cold rationality and logic. But nothing could be farther from the truth: Each step forward in our understanding of the universe could not have been conceived without an enormous dose of intuition and creativity.\n",
        "\n",
        "Physicists are on a quest to figure out how nature works at the most fundamental level. This is a romantic story, penned in what may seem the least emotive of languages: mathematics. What's surprising is that the immeasurable beauty of the world is far from lost once its inner workings are expressed in this abstract language. Moreover, there remains something deeply intriguing about the fact that the universe is governed by the rules of mathematics in the first place. As we'll hear from Murray Gell-Mann in the first of the TEDTalks in The Edge of Knowledge, these beautiful mathematical laws are \"not merely a conceit of the human mind\" — instead, they're an intrinsic part of nature.\n",
        "\n",
        "Many successful ideas in science can be described as beautiful and very often this is a reference to the simplicity and conciseness of nature's laws. Einstein's special and general theories of relativity, which describe how space, time and gravity behave, are based on only three brief postulates. The laws of electromagnetism, which govern every aspect of how we experience the worldthrough sight, sound, smell, taste or touch, are so concise thatthey can be written on the front of a T-shirt. The Standard Model of Particle Physics, which describes all of the known particles and three of the four forces that act between them, fits on the side of a coffee mug. As we will hear from Garrett Lisi, looking for beauty in the patterns that emerge in the laws of physics can tell us about how the universe works at the most fundamental level.\n",
        "\n",
        "Science is a collaborative discipline and a global one too. It is the extent to which scientists cooperate that allows science to move at an incredible pace. The majority of the ideas presented in these TEDTalks have been around no longer than 50 years; some less than a decade. Since these speakers featured in The Edge of Knowledge delivered their TEDTalks, scientists working in global collaborations have developed and implemented several new experimental measurements. Most recently, the European Space Agency's Planck satellite has made precise measurements of the Cosmic Microwave Background (CMB): the results are in agreement with the predictions of the Standard Cosmological Model, which describes how the universe evolved from the Big Bang to what we see today. In Brian Cox's TEDTalk, we'll hear about the search for new elementary particles at CERN's Large Hadron Collider, encompassing the work of over 10,000 physicists from over 100 countries. This search is underway, and appears already to have yielded one of the most important scientific results of the 21st century: the discovery of the Higgs boson, the final ingredient predicted by the Standard Model of Particle Physics.\n",
        "\n",
        "Notwithstanding the significance of these recent discoveries and their agreement with predictions, our picture of the fundamental structure of the universe is far from complete: a number of big mysteries remain in both particle physics and cosmology. As we'll hear from Patricia Burchat, many of these mysteries link together the physics of the smallest elementary particles and the largest distances of the cosmos. One of the most enduring mysteries is how to reconcile a complete theory of gravity with our understanding of the fundamental particles. From Brian Greene, we'll hear about the potential of string theory to solve this problem and the possible existence of tiny, curled up, extra spatial dimensions.\n",
        "\n",
        "However, fundamental laws are not enough on their own. Aristotle said that \"all human actions have one or more of these seven causes: chance, nature, compulsion, habit, reason, passion, and desire.\" It's the first of these — chance — that is not decided by the laws of physics; in fact, chance is not decided at all. The fundamental laws of physics cannot predict what will happen; they can only tell us what might happen. This uncertainty is built into the laws of quantum mechanics.\n",
        "\n",
        "As we'll hear from Aaron O'Connell, the most striking feature of quantum mechanics is that it's weird. For example, we're challenged to contemplate the possibility that a thing can be in more than one place at the same time. It's quantum mechanics, more than any other idea in fundamental physics, which forces us to question our intuition about how everyday objects behave. For the microscopic constituents of the universe, our everyday observations simply do not hold. In spite of its counter-intuitiveness, quantum mechanics has come to define our modern world through the technologies that it underpins. From the tiny switches crammed by the billions onto microchips to medical scanners and laser therapies, all rely upon the weirdness of quantum mechanics.\n",
        "\n",
        "Ultimately, science remains an empirical discipline. Thinking up beautiful theories is not enough on its own: every theory must stand up to the experimental observations of how nature actually works. If it doesn't, then the theory can't be correct and we must try again. If, on the other hand, our observations and predictions agree, then we're encouraged and — if the evidence is sufficient — we might even dare to claim some measure of understanding.\n",
        "\n",
        "Through our human creativity, expressed in a process of trial and improvement, incremental advances in our understanding accumulate and scientific progress is made. As the chess grandmaster Gary Kasparov puts it, our success is \"the ability to combine creativity and calculation...into a whole that is much greater than the sum of its parts.\" With each of these steps forward, science closes one more door and moves on to try one of the many, many doors that remain open.\n",
        "\n",
        "This series of TEDTalks discusses some of the toughest questions and the most profound ideas in fundamental physics. The concepts not only challenge us to think objectively and rationally, but also require us to put aside many of our everyday preconceptions and intuitions about how nature works. Be prepared to re-watch the talks and re-read the supporting material; trying to get your head around 13.8 billion years of the universe's history isn't something you can do in an afternoon!\n",
        "\n",
        "Let's begin with CalTech physicist Murray Gell-Mann for an introduction to the Standard Model of particle physics and the quest for a unified theory\"\"\"\n",
        "\n",
        "# Initialize count variable to 0\n",
        "count = 0\n",
        "\n",
        "# Split the text into words and iterate over each word\n",
        "words = speech.split()\n",
        "for word in words:\n",
        "    # Convert each word to lowercase before comparison\n",
        "    if word.lower() == \"physics\":\n",
        "        count += 1\n",
        "\n",
        "# Print the count\n",
        "print(count)\n"
      ],
      "metadata": {
        "id": "ODL4nTpIHtLo",
        "outputId": "330d526e-78dc-43c2-a32e-bb287f1f8c43",
        "colab": {
          "base_uri": "https://localhost:8080/"
        }
      },
      "execution_count": 99,
      "outputs": [
        {
          "output_type": "stream",
          "name": "stdout",
          "text": [
            "7\n"
          ]
        }
      ],
      "id": "ODL4nTpIHtLo"
    },
    {
      "cell_type": "markdown",
      "source": [
        "#### **Problem #4.2.3**\n",
        "\n",
        "**Independently**, research the `dir()` function and what it does to different objects. Use this function to win the plant game from Part 2!"
      ],
      "metadata": {
        "id": "iJKitlSANW32"
      },
      "id": "iJKitlSANW32"
    },
    {
      "cell_type": "code",
      "source": [
        "# COMPLETE THIS CODE\n",
        "print(dir(plant))"
      ],
      "metadata": {
        "id": "Q33-zYXfNW4O",
        "outputId": "1d47991c-c2f2-4ce0-cf01-287f024af48d",
        "colab": {
          "base_uri": "https://localhost:8080/"
        }
      },
      "execution_count": 100,
      "outputs": [
        {
          "output_type": "stream",
          "name": "stdout",
          "text": [
            "['__class__', '__delattr__', '__dict__', '__dir__', '__doc__', '__eq__', '__format__', '__ge__', '__getattribute__', '__gt__', '__hash__', '__init__', '__init_subclass__', '__le__', '__lt__', '__module__', '__ne__', '__new__', '__reduce__', '__reduce_ex__', '__repr__', '__setattr__', '__sizeof__', '__str__', '__subclasshook__', '__weakref__', 'check_health', 'set_light', 'wait', 'water_plant']\n"
          ]
        }
      ],
      "id": "Q33-zYXfNW4O"
    },
    {
      "cell_type": "code",
      "source": [
        "# COMPLETE THIS CODE\n",
        "\n",
        "# Create a plant instance\n",
        "my_plant = plant()\n",
        "\n",
        "# Keep watering and adjusting light until the plant is fully grown or health drops to 0\n",
        "while my_plant.stage < 10 and my_plant.health > 0:\n",
        "    # Water the plant to its perfect water level\n",
        "    water_amount = my_plant.perfect_water - my_plant.water\n",
        "    my_plant.water_plant(abs(water_amount))  # Ensure water_amount is positive\n",
        "\n",
        "    # Adjust light level randomly to stimulate different conditions\n",
        "    random_light_level = numpy.random.randint(1, 11)\n",
        "    my_plant.set_light(random_light_level)\n",
        "\n",
        "    # Wait for the plant to grow for a day\n",
        "    my_plant.wait(1)\n",
        "\n",
        "    # Check the health of the plant\n",
        "    my_plant.check_health()\n",
        "\n",
        "    # Check if the plant has grown a stage\n",
        "    if my_plant.day - my_plant.day_of_last_growth >= 5 and my_plant.stage < 10:\n",
        "        my_plant.stage += 1\n",
        "        print(\"Your plant grew a bit! Its preferences may have changed.\")\n",
        "        my_plant.day_of_last_growth = my_plant.day\n",
        "        my_plant.perfect_light = numpy.random.choice([1, 2, 3, 4, 5, 6, 7, 8, 9, 10])\n",
        "        my_plant.perfect_water = numpy.random.choice([1, 2, 3, 4, 5, 6, 7, 8, 9, 10])\n",
        "\n",
        "# Check if the plant is fully grown or died\n",
        "if my_plant.stage == 10:\n",
        "    print(\"Congrats! Your plant is full grown.\")\n",
        "elif my_plant.health <= 0:\n",
        "    print(\"Unfortunately, your plant died.\")\n"
      ],
      "metadata": {
        "id": "OMyupr31Jmxw",
        "outputId": "651c7709-0c14-4631-b1af-0f19b31ff94e",
        "colab": {
          "base_uri": "https://localhost:8080/"
        }
      },
      "execution_count": 118,
      "outputs": [
        {
          "output_type": "stream",
          "name": "stdout",
          "text": [
            "You watered your plant.\n",
            "You set the light to level 1\n",
            "Day 1\n",
            "Your plant looks happy with the light it has.\n",
            "Your plant looks happy with the water it had.\n",
            "Your plant's health is a 10.0/10.\n",
            "If you had to rate the wetness of the soil, it would be a 9/10.\n",
            "Your light is turned up to 1.\n",
            "You watered your plant.\n",
            "You set the light to level 6\n",
            "Day 2\n",
            "Your plant needs less light\n",
            "Your plant looks happy with the water it had.\n",
            "Your plant's health is a 9.5/10.\n",
            "If you had to rate the wetness of the soil, it would be a 4/10.\n",
            "Your light is turned up to 6.\n",
            "You watered your plant.\n",
            "You set the light to level 8\n",
            "Day 3\n",
            "Your plant needs less light\n",
            "Your plant looks happy with the water it had.\n",
            "Your plant's health is a 8.8/10.\n",
            "If you had to rate the wetness of the soil, it would be a 2/10.\n",
            "Your light is turned up to 8.\n",
            "You watered your plant.\n",
            "You set the light to level 7\n",
            "Day 4\n",
            "Your plant needs less light\n",
            "Your plant looks happy with the water it had.\n",
            "Your plant's health is a 8.200000000000001/10.\n",
            "If you had to rate the wetness of the soil, it would be a 3/10.\n",
            "Your light is turned up to 7.\n",
            "You watered your plant.\n",
            "You set the light to level 6\n",
            "Day 5\n",
            "Your plant needs less light\n",
            "Your plant looks happy with the water it had.\n",
            "Your plant's health is a 7.700000000000001/10.\n",
            "If you had to rate the wetness of the soil, it would be a 4/10.\n",
            "Your light is turned up to 6.\n",
            "Your plant grew a bit! Its preferences may have changed.\n",
            "You watered your plant.\n",
            "You set the light to level 2\n",
            "Day 6\n",
            "Your plant needs more light\n",
            "Your plant needs less water\n",
            "Your plant's health is a 6.900000000000001/15.\n",
            "If you had to rate the wetness of the soil, it would be a 5/10.\n",
            "Your light is turned up to 2.\n",
            "You watered your plant.\n",
            "You set the light to level 5\n",
            "Day 7\n",
            "Your plant needs less light\n",
            "Your plant needs less water\n",
            "Your plant's health is a 6.000000000000002/15.\n",
            "If you had to rate the wetness of the soil, it would be a 4/10.\n",
            "Your light is turned up to 5.\n",
            "You watered your plant.\n",
            "You set the light to level 5\n",
            "Day 8\n",
            "Your plant needs less light\n",
            "Your plant needs less water\n",
            "Your plant's health is a 5.3000000000000025/15.\n",
            "If you had to rate the wetness of the soil, it would be a 2/10.\n",
            "Your light is turned up to 5.\n",
            "You watered your plant.\n",
            "You set the light to level 7\n",
            "Day 9\n",
            "Your plant needs less light\n",
            "Your plant needs less water\n",
            "Your plant's health is a 4.8000000000000025/15.\n",
            "If you had to rate the wetness of the soil, it would be a 0/10.\n",
            "Your light is turned up to 7.\n",
            "You watered your plant.\n",
            "You set the light to level 5\n",
            "Day 10\n",
            "Your plant needs less light\n",
            "Your plant looks happy with the water it had.\n",
            "Your plant's health is a 4.700000000000003/15.\n",
            "If you had to rate the wetness of the soil, it would be a 0/10.\n",
            "Your light is turned up to 5.\n",
            "Your plant grew a bit! Its preferences may have changed.\n",
            "You watered your plant.\n",
            "You set the light to level 4\n",
            "Day 11\n",
            "Your plant needs more light\n",
            "Your plant looks happy with the water it had.\n",
            "Your plant's health is a 4.3000000000000025/20.\n",
            "If you had to rate the wetness of the soil, it would be a 5/10.\n",
            "Your light is turned up to 4.\n",
            "You watered your plant.\n",
            "You set the light to level 8\n",
            "Day 12\n",
            "Your plant looks happy with the light it has.\n",
            "Your plant looks happy with the water it had.\n",
            "Your plant's health is a 12.150000000000002/20.\n",
            "If you had to rate the wetness of the soil, it would be a 1/10.\n",
            "Your light is turned up to 8.\n",
            "You watered your plant.\n",
            "You set the light to level 8\n",
            "Day 13\n",
            "Your plant looks happy with the light it has.\n",
            "Your plant looks happy with the water it had.\n",
            "Your plant's health is a 16.075000000000003/20.\n",
            "If you had to rate the wetness of the soil, it would be a 1/10.\n",
            "Your light is turned up to 8.\n",
            "You watered your plant.\n",
            "You set the light to level 10\n",
            "Day 14\n",
            "Your plant needs less light\n",
            "Your plant looks happy with the water it had.\n",
            "Your plant's health is a 15.875000000000004/20.\n",
            "If you had to rate the wetness of the soil, it would be a 0/10.\n",
            "Your light is turned up to 10.\n",
            "You watered your plant.\n",
            "You set the light to level 7\n",
            "Day 15\n",
            "Your plant needs more light\n",
            "Your plant looks happy with the water it had.\n",
            "Your plant's health is a 15.775000000000004/20.\n",
            "If you had to rate the wetness of the soil, it would be a 2/10.\n",
            "Your light is turned up to 7.\n",
            "Your plant grew a bit! Its preferences may have changed.\n",
            "You watered your plant.\n",
            "You set the light to level 6\n",
            "Day 16\n",
            "Your plant needs less light\n",
            "Your plant looks happy with the water it had.\n",
            "Your plant's health is a 15.575000000000005/25.\n",
            "If you had to rate the wetness of the soil, it would be a 4/10.\n",
            "Your light is turned up to 6.\n",
            "You watered your plant.\n",
            "You set the light to level 9\n",
            "Day 17\n",
            "Your plant needs less light\n",
            "Your plant looks happy with the water it had.\n",
            "Your plant's health is a 15.075000000000005/25.\n",
            "If you had to rate the wetness of the soil, it would be a 1/10.\n",
            "Your light is turned up to 9.\n",
            "You watered your plant.\n",
            "You set the light to level 1\n",
            "Day 18\n",
            "Your plant needs more light\n",
            "Your plant looks happy with the water it had.\n",
            "Your plant's health is a 14.775000000000004/25.\n",
            "If you had to rate the wetness of the soil, it would be a 9/10.\n",
            "Your light is turned up to 1.\n",
            "You watered your plant.\n",
            "You set the light to level 7\n",
            "Day 19\n",
            "Your plant needs less light\n",
            "Your plant looks happy with the water it had.\n",
            "Your plant's health is a 14.475000000000003/25.\n",
            "If you had to rate the wetness of the soil, it would be a 3/10.\n",
            "Your light is turned up to 7.\n",
            "You watered your plant.\n",
            "You set the light to level 1\n",
            "Day 20\n",
            "Your plant needs more light\n",
            "Your plant looks happy with the water it had.\n",
            "Your plant's health is a 14.175000000000002/25.\n",
            "If you had to rate the wetness of the soil, it would be a 9/10.\n",
            "Your light is turned up to 1.\n",
            "Your plant grew a bit! Its preferences may have changed.\n",
            "You watered your plant.\n",
            "You set the light to level 2\n",
            "Day 21\n",
            "Your plant needs less light\n",
            "Your plant needs less water\n",
            "Your plant's health is a 13.275000000000002/30.\n",
            "If you had to rate the wetness of the soil, it would be a 11/10.\n",
            "Your light is turned up to 2.\n",
            "You watered your plant.\n",
            "You set the light to level 2\n",
            "Day 22\n",
            "Your plant needs less light\n",
            "Your plant needs less water\n",
            "Your plant's health is a 11.975000000000003/30.\n",
            "If you had to rate the wetness of the soil, it would be a 15/10.\n",
            "Your light is turned up to 2.\n",
            "You watered your plant.\n",
            "You set the light to level 2\n",
            "Day 23\n",
            "Your plant needs less light\n",
            "Your plant needs less water\n",
            "Your plant's health is a 9.875000000000004/30.\n",
            "If you had to rate the wetness of the soil, it would be a 23/10.\n",
            "Your light is turned up to 2.\n",
            "You watered your plant.\n",
            "You set the light to level 2\n",
            "Day 24\n",
            "Your plant needs less light\n",
            "Your plant needs less water\n",
            "Your plant's health is a 6.175000000000004/30.\n",
            "If you had to rate the wetness of the soil, it would be a 39/10.\n",
            "Your light is turned up to 2.\n",
            "You watered your plant.\n",
            "You set the light to level 7\n",
            "Day 25\n",
            "Your plant needs less light\n",
            "Your plant needs less water\n",
            "Your plant died! You decide to plant a new seed. Treat this one better!\n",
            "Your plant's health is a 10/10.\n",
            "If you had to rate the wetness of the soil, it would be a 0/10.\n",
            "Your light is turned up to 0.\n",
            "You watered your plant.\n",
            "You set the light to level 5\n",
            "Day 1\n",
            "Your plant needs more light\n",
            "Your plant looks happy with the water it had.\n",
            "Your plant's health is a 9.7/10.\n",
            "If you had to rate the wetness of the soil, it would be a 0/10.\n",
            "Your light is turned up to 5.\n",
            "You watered your plant.\n",
            "You set the light to level 5\n",
            "Day 2\n",
            "Your plant needs more light\n",
            "Your plant looks happy with the water it had.\n",
            "Your plant's health is a 9.399999999999999/10.\n",
            "If you had to rate the wetness of the soil, it would be a 0/10.\n",
            "Your light is turned up to 5.\n",
            "You watered your plant.\n",
            "You set the light to level 10\n",
            "Day 3\n",
            "Your plant needs less light\n",
            "Your plant looks happy with the water it had.\n",
            "Your plant's health is a 9.2/10.\n",
            "If you had to rate the wetness of the soil, it would be a 0/10.\n",
            "Your light is turned up to 10.\n",
            "You watered your plant.\n",
            "You set the light to level 4\n",
            "Day 4\n",
            "Your plant needs more light\n",
            "Your plant looks happy with the water it had.\n",
            "Your plant's health is a 8.799999999999999/10.\n",
            "If you had to rate the wetness of the soil, it would be a 1/10.\n",
            "Your light is turned up to 4.\n",
            "You watered your plant.\n",
            "You set the light to level 10\n",
            "Day 5\n",
            "Your plant needs less light\n",
            "Your plant looks happy with the water it had.\n",
            "Your plant's health is a 8.6/10.\n",
            "If you had to rate the wetness of the soil, it would be a 0/10.\n",
            "Your light is turned up to 10.\n",
            "Your plant grew a bit! Its preferences may have changed.\n",
            "You watered your plant.\n",
            "You set the light to level 6\n",
            "Day 6\n",
            "Your plant needs less light\n",
            "Your plant looks happy with the water it had.\n",
            "Your plant's health is a 8.5/15.\n",
            "If you had to rate the wetness of the soil, it would be a 0/10.\n",
            "Your light is turned up to 6.\n",
            "You watered your plant.\n",
            "You set the light to level 10\n",
            "Day 7\n",
            "Your plant needs less light\n",
            "Your plant looks happy with the water it had.\n",
            "Your plant's health is a 8.0/15.\n",
            "If you had to rate the wetness of the soil, it would be a 0/10.\n",
            "Your light is turned up to 10.\n",
            "You watered your plant.\n",
            "You set the light to level 8\n",
            "Day 8\n",
            "Your plant needs less light\n",
            "Your plant looks happy with the water it had.\n",
            "Your plant's health is a 7.7/15.\n",
            "If you had to rate the wetness of the soil, it would be a 0/10.\n",
            "Your light is turned up to 8.\n",
            "You watered your plant.\n",
            "You set the light to level 6\n",
            "Day 9\n",
            "Your plant needs less light\n",
            "Your plant looks happy with the water it had.\n",
            "Your plant's health is a 7.6000000000000005/15.\n",
            "If you had to rate the wetness of the soil, it would be a 0/10.\n",
            "Your light is turned up to 6.\n",
            "You watered your plant.\n",
            "You set the light to level 10\n",
            "Day 10\n",
            "Your plant needs less light\n",
            "Your plant looks happy with the water it had.\n",
            "Your plant's health is a 7.1000000000000005/15.\n",
            "If you had to rate the wetness of the soil, it would be a 0/10.\n",
            "Your light is turned up to 10.\n",
            "Your plant grew a bit! Its preferences may have changed.\n",
            "You watered your plant.\n",
            "You set the light to level 4\n",
            "Day 11\n",
            "Your plant needs more light\n",
            "Your plant looks happy with the water it had.\n",
            "Your plant's health is a 6.6000000000000005/20.\n",
            "If you had to rate the wetness of the soil, it would be a 1/10.\n",
            "Your light is turned up to 4.\n",
            "You watered your plant.\n",
            "You set the light to level 5\n",
            "Day 12\n",
            "Your plant needs more light\n",
            "Your plant looks happy with the water it had.\n",
            "Your plant's health is a 6.2/20.\n",
            "If you had to rate the wetness of the soil, it would be a 0/10.\n",
            "Your light is turned up to 5.\n",
            "You watered your plant.\n",
            "You set the light to level 1\n",
            "Day 13\n",
            "Your plant needs more light\n",
            "Your plant looks happy with the water it had.\n",
            "Your plant's health is a 5.4/20.\n",
            "If you had to rate the wetness of the soil, it would be a 4/10.\n",
            "Your light is turned up to 1.\n",
            "You watered your plant.\n",
            "You set the light to level 2\n",
            "Day 14\n",
            "Your plant needs more light\n",
            "Your plant looks happy with the water it had.\n",
            "Your plant's health is a 4.7/20.\n",
            "If you had to rate the wetness of the soil, it would be a 3/10.\n",
            "Your light is turned up to 2.\n",
            "You watered your plant.\n",
            "You set the light to level 2\n",
            "Day 15\n",
            "Your plant needs more light\n",
            "Your plant looks happy with the water it had.\n",
            "Your plant's health is a 4.0/20.\n",
            "If you had to rate the wetness of the soil, it would be a 3/10.\n",
            "Your light is turned up to 2.\n",
            "Your plant grew a bit! Its preferences may have changed.\n",
            "You watered your plant.\n",
            "You set the light to level 1\n",
            "Day 16\n",
            "Your plant needs more light\n",
            "Your plant looks happy with the water it had.\n",
            "Your plant's health is a 3.7/25.\n",
            "If you had to rate the wetness of the soil, it would be a 6/10.\n",
            "Your light is turned up to 1.\n",
            "You watered your plant.\n",
            "You set the light to level 3\n",
            "Day 17\n",
            "Your plant needs more light\n",
            "Your plant looks happy with the water it had.\n",
            "Your plant's health is a 3.6/25.\n",
            "If you had to rate the wetness of the soil, it would be a 4/10.\n",
            "Your light is turned up to 3.\n",
            "You watered your plant.\n",
            "You set the light to level 7\n",
            "Day 18\n",
            "Your plant needs less light\n",
            "Your plant looks happy with the water it had.\n",
            "Your plant's health is a 3.3000000000000003/25.\n",
            "If you had to rate the wetness of the soil, it would be a 0/10.\n",
            "Your light is turned up to 7.\n",
            "You watered your plant.\n",
            "You set the light to level 6\n",
            "Day 19\n",
            "Your plant needs less light\n",
            "Your plant looks happy with the water it had.\n",
            "Your plant's health is a 3.1/25.\n",
            "If you had to rate the wetness of the soil, it would be a 1/10.\n",
            "Your light is turned up to 6.\n",
            "You watered your plant.\n",
            "You set the light to level 1\n",
            "Day 20\n",
            "Your plant needs more light\n",
            "Your plant looks happy with the water it had.\n",
            "Your plant's health is a 2.8000000000000003/25.\n",
            "If you had to rate the wetness of the soil, it would be a 6/10.\n",
            "Your light is turned up to 1.\n",
            "Your plant grew a bit! Its preferences may have changed.\n",
            "You watered your plant.\n",
            "You set the light to level 5\n",
            "Day 21\n",
            "Your plant needs more light\n",
            "Your plant needs less water\n",
            "Your plant's health is a 1.8000000000000003/30.\n",
            "If you had to rate the wetness of the soil, it would be a 4/10.\n",
            "Your light is turned up to 5.\n",
            "You watered your plant.\n",
            "You set the light to level 4\n",
            "Day 22\n",
            "Your plant needs more light\n",
            "Your plant needs less water\n",
            "Your plant's health is a 1.1000000000000003/30.\n",
            "If you had to rate the wetness of the soil, it would be a 1/10.\n",
            "Your light is turned up to 4.\n",
            "You watered your plant.\n",
            "You set the light to level 5\n",
            "Day 23\n",
            "Your plant needs more light\n",
            "Your plant looks happy with the water it had.\n",
            "Your plant's health is a 0.7000000000000003/30.\n",
            "If you had to rate the wetness of the soil, it would be a 0/10.\n",
            "Your light is turned up to 5.\n",
            "You watered your plant.\n",
            "You set the light to level 1\n",
            "Day 24\n",
            "Your plant needs more light\n",
            "Your plant looks happy with the water it had.\n",
            "Your plant died! You decide to plant a new seed. Treat this one better!\n",
            "Your plant's health is a 10/10.\n",
            "If you had to rate the wetness of the soil, it would be a 0/10.\n",
            "Your light is turned up to 0.\n",
            "You watered your plant.\n",
            "You set the light to level 10\n",
            "Day 1\n",
            "Your plant needs less light\n",
            "Your plant looks happy with the water it had.\n",
            "Your plant's health is a 9.8/10.\n",
            "If you had to rate the wetness of the soil, it would be a 0/10.\n",
            "Your light is turned up to 10.\n",
            "You watered your plant.\n",
            "You set the light to level 10\n",
            "Day 2\n",
            "Your plant needs less light\n",
            "Your plant looks happy with the water it had.\n",
            "Your plant's health is a 9.600000000000001/10.\n",
            "If you had to rate the wetness of the soil, it would be a 0/10.\n",
            "Your light is turned up to 10.\n",
            "You watered your plant.\n",
            "You set the light to level 9\n",
            "Day 3\n",
            "Your plant needs less light\n",
            "Your plant looks happy with the water it had.\n",
            "Your plant's health is a 9.500000000000002/10.\n",
            "If you had to rate the wetness of the soil, it would be a 0/10.\n",
            "Your light is turned up to 9.\n",
            "You watered your plant.\n",
            "You set the light to level 7\n",
            "Day 4\n",
            "Your plant needs more light\n",
            "Your plant looks happy with the water it had.\n",
            "Your plant's health is a 9.400000000000002/10.\n",
            "If you had to rate the wetness of the soil, it would be a 0/10.\n",
            "Your light is turned up to 7.\n",
            "You watered your plant.\n",
            "You set the light to level 2\n",
            "Day 5\n",
            "Your plant needs more light\n",
            "Your plant looks happy with the water it had.\n",
            "Your plant's health is a 8.800000000000002/10.\n",
            "If you had to rate the wetness of the soil, it would be a 0/10.\n",
            "Your light is turned up to 2.\n",
            "Your plant grew a bit! Its preferences may have changed.\n",
            "You watered your plant.\n",
            "You set the light to level 1\n",
            "Day 6\n",
            "Your plant needs more light\n",
            "Your plant looks happy with the water it had.\n",
            "Your plant's health is a 8.000000000000002/15.\n",
            "If you had to rate the wetness of the soil, it would be a 3/10.\n",
            "Your light is turned up to 1.\n",
            "You watered your plant.\n",
            "You set the light to level 10\n",
            "Day 7\n",
            "Your plant needs less light\n",
            "Your plant looks happy with the water it had.\n",
            "Your plant's health is a 7.900000000000002/15.\n",
            "If you had to rate the wetness of the soil, it would be a 0/10.\n",
            "Your light is turned up to 10.\n",
            "You watered your plant.\n",
            "You set the light to level 8\n",
            "Day 8\n",
            "Your plant needs more light\n",
            "Your plant looks happy with the water it had.\n",
            "Your plant's health is a 7.8000000000000025/15.\n",
            "If you had to rate the wetness of the soil, it would be a 0/10.\n",
            "Your light is turned up to 8.\n",
            "You watered your plant.\n",
            "You set the light to level 9\n",
            "Day 9\n",
            "Your plant looks happy with the light it has.\n",
            "Your plant looks happy with the water it had.\n",
            "Your plant's health is a 11.400000000000002/15.\n",
            "If you had to rate the wetness of the soil, it would be a 0/10.\n",
            "Your light is turned up to 9.\n",
            "You watered your plant.\n",
            "You set the light to level 2\n",
            "Day 10\n",
            "Your plant needs more light\n",
            "Your plant looks happy with the water it had.\n",
            "Your plant's health is a 10.700000000000003/15.\n",
            "If you had to rate the wetness of the soil, it would be a 2/10.\n",
            "Your light is turned up to 2.\n",
            "Your plant grew a bit! Its preferences may have changed.\n",
            "You watered your plant.\n",
            "You set the light to level 10\n",
            "Day 11\n",
            "Your plant needs less light\n",
            "Your plant looks happy with the water it had.\n",
            "Your plant's health is a 9.900000000000002/20.\n",
            "If you had to rate the wetness of the soil, it would be a 0/10.\n",
            "Your light is turned up to 10.\n",
            "You watered your plant.\n",
            "You set the light to level 7\n",
            "Day 12\n",
            "Your plant needs less light\n",
            "Your plant looks happy with the water it had.\n",
            "Your plant's health is a 9.400000000000002/20.\n",
            "If you had to rate the wetness of the soil, it would be a 3/10.\n",
            "Your light is turned up to 7.\n",
            "You watered your plant.\n",
            "You set the light to level 5\n",
            "Day 13\n",
            "Your plant needs less light\n",
            "Your plant looks happy with the water it had.\n",
            "Your plant's health is a 9.100000000000001/20.\n",
            "If you had to rate the wetness of the soil, it would be a 5/10.\n",
            "Your light is turned up to 5.\n",
            "You watered your plant.\n",
            "You set the light to level 3\n",
            "Day 14\n",
            "Your plant needs less light\n",
            "Your plant looks happy with the water it had.\n",
            "Your plant's health is a 9.000000000000002/20.\n",
            "If you had to rate the wetness of the soil, it would be a 7/10.\n",
            "Your light is turned up to 3.\n",
            "You watered your plant.\n",
            "You set the light to level 8\n",
            "Day 15\n",
            "Your plant needs less light\n",
            "Your plant looks happy with the water it had.\n",
            "Your plant's health is a 8.400000000000002/20.\n",
            "If you had to rate the wetness of the soil, it would be a 2/10.\n",
            "Your light is turned up to 8.\n",
            "Your plant grew a bit! Its preferences may have changed.\n",
            "You watered your plant.\n",
            "You set the light to level 4\n",
            "Day 16\n",
            "Your plant needs more light\n",
            "Your plant looks happy with the water it had.\n",
            "Your plant's health is a 8.300000000000002/25.\n",
            "If you had to rate the wetness of the soil, it would be a 0/10.\n",
            "Your light is turned up to 4.\n",
            "You watered your plant.\n",
            "You set the light to level 6\n",
            "Day 17\n",
            "Your plant needs less light\n",
            "Your plant looks happy with the water it had.\n",
            "Your plant's health is a 8.200000000000003/25.\n",
            "If you had to rate the wetness of the soil, it would be a 0/10.\n",
            "Your light is turned up to 6.\n",
            "You watered your plant.\n",
            "You set the light to level 9\n",
            "Day 18\n",
            "Your plant needs less light\n",
            "Your plant looks happy with the water it had.\n",
            "Your plant's health is a 7.8000000000000025/25.\n",
            "If you had to rate the wetness of the soil, it would be a 0/10.\n",
            "Your light is turned up to 9.\n",
            "You watered your plant.\n",
            "You set the light to level 10\n",
            "Day 19\n",
            "Your plant needs less light\n",
            "Your plant looks happy with the water it had.\n",
            "Your plant's health is a 7.3000000000000025/25.\n",
            "If you had to rate the wetness of the soil, it would be a 0/10.\n",
            "Your light is turned up to 10.\n",
            "You watered your plant.\n",
            "You set the light to level 8\n",
            "Day 20\n",
            "Your plant needs less light\n",
            "Your plant looks happy with the water it had.\n",
            "Your plant's health is a 7.000000000000003/25.\n",
            "If you had to rate the wetness of the soil, it would be a 0/10.\n",
            "Your light is turned up to 8.\n",
            "Your plant grew a bit! Its preferences may have changed.\n",
            "You watered your plant.\n",
            "You set the light to level 8\n",
            "Day 21\n",
            "Your plant needs less light\n",
            "Your plant looks happy with the water it had.\n",
            "Your plant's health is a 6.3000000000000025/30.\n",
            "If you had to rate the wetness of the soil, it would be a 0/10.\n",
            "Your light is turned up to 8.\n",
            "You watered your plant.\n",
            "You set the light to level 6\n",
            "Day 22\n",
            "Your plant needs less light\n",
            "Your plant looks happy with the water it had.\n",
            "Your plant's health is a 5.8000000000000025/30.\n",
            "If you had to rate the wetness of the soil, it would be a 2/10.\n",
            "Your light is turned up to 6.\n",
            "You watered your plant.\n",
            "You set the light to level 4\n",
            "Day 23\n",
            "Your plant needs less light\n",
            "Your plant looks happy with the water it had.\n",
            "Your plant's health is a 5.500000000000003/30.\n",
            "If you had to rate the wetness of the soil, it would be a 4/10.\n",
            "Your light is turned up to 4.\n",
            "You watered your plant.\n",
            "You set the light to level 10\n",
            "Day 24\n",
            "Your plant needs less light\n",
            "Your plant looks happy with the water it had.\n",
            "Your plant's health is a 4.600000000000002/30.\n",
            "If you had to rate the wetness of the soil, it would be a 0/10.\n",
            "Your light is turned up to 10.\n",
            "You watered your plant.\n",
            "You set the light to level 7\n",
            "Day 25\n",
            "Your plant needs less light\n",
            "Your plant looks happy with the water it had.\n",
            "Your plant's health is a 4.000000000000003/30.\n",
            "If you had to rate the wetness of the soil, it would be a 1/10.\n",
            "Your light is turned up to 7.\n",
            "Your plant grew a bit! Its preferences may have changed.\n",
            "You watered your plant.\n",
            "You set the light to level 10\n",
            "Day 26\n",
            "Your plant needs less light\n",
            "Your plant looks happy with the water it had.\n",
            "Your plant's health is a 3.5000000000000027/35.\n",
            "If you had to rate the wetness of the soil, it would be a 0/10.\n",
            "Your light is turned up to 10.\n",
            "You watered your plant.\n",
            "You set the light to level 10\n",
            "Day 27\n",
            "Your plant needs less light\n",
            "Your plant looks happy with the water it had.\n",
            "Your plant's health is a 3.0000000000000027/35.\n",
            "If you had to rate the wetness of the soil, it would be a 0/10.\n",
            "Your light is turned up to 10.\n",
            "You watered your plant.\n",
            "You set the light to level 3\n",
            "Day 28\n",
            "Your plant needs more light\n",
            "Your plant looks happy with the water it had.\n",
            "Your plant's health is a 2.8000000000000025/35.\n",
            "If you had to rate the wetness of the soil, it would be a 5/10.\n",
            "Your light is turned up to 3.\n",
            "You watered your plant.\n",
            "You set the light to level 2\n",
            "Day 29\n",
            "Your plant needs more light\n",
            "Your plant looks happy with the water it had.\n",
            "Your plant's health is a 2.5000000000000027/35.\n",
            "If you had to rate the wetness of the soil, it would be a 6/10.\n",
            "Your light is turned up to 2.\n",
            "You watered your plant.\n",
            "You set the light to level 7\n",
            "Day 30\n",
            "Your plant needs less light\n",
            "Your plant looks happy with the water it had.\n",
            "Your plant's health is a 2.3000000000000025/35.\n",
            "If you had to rate the wetness of the soil, it would be a 1/10.\n",
            "Your light is turned up to 7.\n",
            "Your plant grew a bit! Its preferences may have changed.\n",
            "You watered your plant.\n",
            "You set the light to level 3\n",
            "Day 31\n",
            "Your plant looks happy with the light it has.\n",
            "Your plant looks happy with the water it had.\n",
            "Your plant's health is a 21.150000000000002/40.\n",
            "If you had to rate the wetness of the soil, it would be a 5/10.\n",
            "Your light is turned up to 3.\n",
            "You watered your plant.\n",
            "You set the light to level 8\n",
            "Day 32\n",
            "Your plant needs less light\n",
            "Your plant looks happy with the water it had.\n",
            "Your plant's health is a 20.650000000000002/40.\n",
            "If you had to rate the wetness of the soil, it would be a 0/10.\n",
            "Your light is turned up to 8.\n",
            "You watered your plant.\n",
            "You set the light to level 6\n",
            "Day 33\n",
            "Your plant needs less light\n",
            "Your plant looks happy with the water it had.\n",
            "Your plant's health is a 20.35/40.\n",
            "If you had to rate the wetness of the soil, it would be a 2/10.\n",
            "Your light is turned up to 6.\n",
            "You watered your plant.\n",
            "You set the light to level 7\n",
            "Day 34\n",
            "Your plant needs less light\n",
            "Your plant looks happy with the water it had.\n",
            "Your plant's health is a 19.950000000000003/40.\n",
            "If you had to rate the wetness of the soil, it would be a 1/10.\n",
            "Your light is turned up to 7.\n",
            "You watered your plant.\n",
            "You set the light to level 1\n",
            "Day 35\n",
            "Your plant needs more light\n",
            "Your plant looks happy with the water it had.\n",
            "Your plant's health is a 19.750000000000004/40.\n",
            "If you had to rate the wetness of the soil, it would be a 7/10.\n",
            "Your light is turned up to 1.\n",
            "Your plant grew a bit! Its preferences may have changed.\n",
            "You watered your plant.\n",
            "You set the light to level 8\n",
            "Day 36\n",
            "Your plant needs less light\n",
            "Your plant looks happy with the water it had.\n",
            "Your plant's health is a 19.550000000000004/45.\n",
            "If you had to rate the wetness of the soil, it would be a 0/10.\n",
            "Your light is turned up to 8.\n",
            "You watered your plant.\n",
            "You set the light to level 2\n",
            "Day 37\n",
            "Your plant needs more light\n",
            "Your plant looks happy with the water it had.\n",
            "Your plant's health is a 19.150000000000006/45.\n",
            "If you had to rate the wetness of the soil, it would be a 6/10.\n",
            "Your light is turned up to 2.\n",
            "You watered your plant.\n",
            "You set the light to level 3\n",
            "Day 38\n",
            "Your plant needs more light\n",
            "Your plant looks happy with the water it had.\n",
            "Your plant's health is a 18.850000000000005/45.\n",
            "If you had to rate the wetness of the soil, it would be a 5/10.\n",
            "Your light is turned up to 3.\n",
            "You watered your plant.\n",
            "You set the light to level 2\n",
            "Day 39\n",
            "Your plant needs more light\n",
            "Your plant looks happy with the water it had.\n",
            "Your plant's health is a 18.450000000000006/45.\n",
            "If you had to rate the wetness of the soil, it would be a 6/10.\n",
            "Your light is turned up to 2.\n",
            "You watered your plant.\n",
            "You set the light to level 7\n",
            "Day 40\n",
            "Your plant needs less light\n",
            "Your plant looks happy with the water it had.\n",
            "Your plant's health is a 18.350000000000005/45.\n",
            "If you had to rate the wetness of the soil, it would be a 1/10.\n",
            "Your light is turned up to 7.\n",
            "Your plant grew a bit! Its preferences may have changed.\n",
            "You watered your plant.\n",
            "You set the light to level 2\n",
            "Day 41\n",
            "Your plant needs more light\n",
            "Your plant looks happy with the water it had.\n",
            "Your plant's health is a 17.550000000000004/50.\n",
            "If you had to rate the wetness of the soil, it would be a 8/10.\n",
            "Your light is turned up to 2.\n",
            "You watered your plant.\n",
            "You set the light to level 8\n",
            "Day 42\n",
            "Your plant needs more light\n",
            "Your plant looks happy with the water it had.\n",
            "Your plant's health is a 17.350000000000005/50.\n",
            "If you had to rate the wetness of the soil, it would be a 2/10.\n",
            "Your light is turned up to 8.\n",
            "You watered your plant.\n",
            "You set the light to level 8\n",
            "Day 43\n",
            "Your plant needs more light\n",
            "Your plant looks happy with the water it had.\n",
            "Your plant's health is a 17.150000000000006/50.\n",
            "If you had to rate the wetness of the soil, it would be a 2/10.\n",
            "Your light is turned up to 8.\n",
            "You watered your plant.\n",
            "You set the light to level 2\n",
            "Day 44\n",
            "Your plant needs more light\n",
            "Your plant looks happy with the water it had.\n",
            "Your plant's health is a 16.350000000000005/50.\n",
            "If you had to rate the wetness of the soil, it would be a 8/10.\n",
            "Your light is turned up to 2.\n",
            "You watered your plant.\n",
            "You set the light to level 3\n",
            "Day 45\n",
            "Your plant needs more light\n",
            "Your plant looks happy with the water it had.\n",
            "Your plant's health is a 15.650000000000006/50.\n",
            "If you had to rate the wetness of the soil, it would be a 7/10.\n",
            "Your light is turned up to 3.\n",
            "Your plant grew a bit! Its preferences may have changed.\n",
            "You watered your plant.\n",
            "You set the light to level 4\n",
            "Day 46\n",
            "Your plant needs more light\n",
            "Your plant needs less water\n",
            "Your plant's health is a 14.950000000000006/55.\n",
            "If you had to rate the wetness of the soil, it would be a 4/10.\n",
            "Your light is turned up to 4.\n",
            "You watered your plant.\n",
            "You set the light to level 10\n",
            "Day 47\n",
            "Your plant needs less light\n",
            "Your plant looks happy with the water it had.\n",
            "Your plant's health is a 14.850000000000007/55.\n",
            "If you had to rate the wetness of the soil, it would be a 0/10.\n",
            "Your light is turned up to 10.\n",
            "You watered your plant.\n",
            "You set the light to level 4\n",
            "Day 48\n",
            "Your plant needs more light\n",
            "Your plant looks happy with the water it had.\n",
            "Your plant's health is a 14.350000000000007/55.\n",
            "If you had to rate the wetness of the soil, it would be a 2/10.\n",
            "Your light is turned up to 4.\n",
            "You watered your plant.\n",
            "You set the light to level 9\n",
            "Day 49\n",
            "Your plant looks happy with the light it has.\n",
            "Your plant looks happy with the water it had.\n",
            "Your plant's health is a 34.675000000000004/55.\n",
            "If you had to rate the wetness of the soil, it would be a 0/10.\n",
            "Your light is turned up to 9.\n",
            "You watered your plant.\n",
            "You set the light to level 10\n",
            "Day 50\n",
            "Your plant needs less light\n",
            "Your plant looks happy with the water it had.\n",
            "Your plant's health is a 34.575/55.\n",
            "If you had to rate the wetness of the soil, it would be a 0/10.\n",
            "Your light is turned up to 10.\n",
            "Your plant grew a bit! Its preferences may have changed.\n",
            "Congrats! Your plant is full grown.\n"
          ]
        }
      ],
      "id": "OMyupr31Jmxw"
    },
    {
      "cell_type": "markdown",
      "source": [
        "#### **Problem #4.2.4**\n",
        "\n",
        "**Independently,** research the `numpy` module to find a function that allows you simulate rolling a dice (picking a random number between 1 and 6)."
      ],
      "metadata": {
        "id": "NxqrfDkkJmxT"
      },
      "id": "NxqrfDkkJmxT"
    },
    {
      "cell_type": "markdown",
      "source": [
        "#### **Problem #4.2.5**\n",
        "\n",
        "**Independently,** research the `matplotlib` module to find a function that creates a line graph of the data provided below. For an extra challenge, label the x-axis \"Year\" and the y-axis \"Number of Qubits in IBM's Computers\". Note that the numbers for 2024 and 2025 are goals set by IBM."
      ],
      "metadata": {
        "id": "40UaWGj7I6Ui"
      },
      "id": "40UaWGj7I6Ui"
    },
    {
      "cell_type": "code",
      "source": [
        "import matplotlib.pyplot as plt\n",
        "\n",
        "years = [2019, 2020, 2021, 2022, 2023, 2024, 2025]\n",
        "num_qubits = [27, 65, 127, 433, 1121, 1386, 4158]\n",
        "\n",
        "plt.plot(years, num_qubits)\n",
        "plt.xlabel(\"Year\")\n",
        "plt.ylabel(\"Number of Qubits in IBM Computers\")\n",
        "plt.show()  # Show the plot\n",
        "\n",
        "# COMPLETE THIS CODE"
      ],
      "metadata": {
        "id": "8e5UZk0EI6U9",
        "outputId": "736b64e9-678e-4e9e-a1cb-465194fb4181",
        "colab": {
          "base_uri": "https://localhost:8080/",
          "height": 449
        }
      },
      "execution_count": 122,
      "outputs": [
        {
          "output_type": "display_data",
          "data": {
            "text/plain": [
              "<Figure size 640x480 with 1 Axes>"
            ],
            "image/png": "[encoded data removed]"
          },
          "metadata": {}
        }
      ],
      "id": "8e5UZk0EI6U9"
    },
    {
      "cell_type": "markdown",
      "source": [
        "#### **Problem #4.2.6**\n",
        "\n",
        "**Independently,** research the `numpy` library and `pyplot` sub-module of the `matplotlib` library and use its objects, methods, and functions to plot the equation below on a graph whose x-axis ranges from 0 to 42 and whose y-axis ranges from -6 to 6. $$y=5cos(3x)$$"
      ],
      "metadata": {
        "id": "5nImg2rAJ_xe"
      },
      "id": "5nImg2rAJ_xe"
    },
    {
      "cell_type": "code",
      "source": [
        "# COMPLETE THIS CODE\n",
        "import numpy as np\n",
        "import matplotlib.pyplot as plt\n",
        "\n",
        "# Generate x values from 0 to 42\n",
        "x = np.linspace(0, 42, 1000)\n",
        "\n",
        "# Calculate y values using the equation y = 5 * cos(3x)\n",
        "y = 5 * np.cos(3 * x)\n",
        "\n",
        "# Plot the graph\n",
        "plt.plot(x, y)\n",
        "\n",
        "# Set x-axis and y-axis limits\n",
        "plt.xlim(0, 42)\n",
        "plt.ylim(-6, 6)\n",
        "\n",
        "# Set labels for x-axis and y-axis\n",
        "plt.xlabel('x')\n",
        "plt.ylabel('y')\n",
        "\n",
        "# Title for the plot\n",
        "plt.title('Plot of y = 5 * cos(3x)')\n",
        "\n",
        "# Show the plot\n",
        "plt.show()\n"
      ],
      "metadata": {
        "id": "Tpq46xX2J_xw",
        "outputId": "5231316e-4eb4-47b1-b363-53badc707510",
        "colab": {
          "base_uri": "https://localhost:8080/",
          "height": 472
        }
      },
      "execution_count": 123,
      "outputs": [
        {
          "output_type": "display_data",
          "data": {
            "text/plain": [
              "<Figure size 640x480 with 1 Axes>"
            ],
            "image/png": "[encoded data removed]"
          },
          "metadata": {}
        }
      ],
      "id": "Tpq46xX2J_xw"
    },
    {
      "cell_type": "markdown",
      "metadata": {
        "id": "upPIf6_Drv8S"
      },
      "source": [
        "<a name=\"p5\"></a>\n",
        "\n",
        "---\n",
        "## **Part 5: The `print` Function [OPTIONAL]**\n",
        "---\n",
        "\n",
        "In this part, we will explore how to use functions with the very useful built-in `print` function."
      ],
      "id": "upPIf6_Drv8S"
    },
    {
      "cell_type": "markdown",
      "source": [
        "#### **Problem #5.1**\n",
        "\n",
        "**Together**, let's run the code below to print the text `\"Hello Quantum World!\"`."
      ],
      "metadata": {
        "id": "NRqziKbrPR8P"
      },
      "id": "NRqziKbrPR8P"
    },
    {
      "cell_type": "code",
      "source": [
        "print(\"Hello Quantum World!\")"
      ],
      "metadata": {
        "colab": {
          "base_uri": "https://localhost:8080/"
        },
        "id": "Ffht71IHPaXm",
        "outputId": "da2b28af-2348-48ad-8a2e-0b6ddf2994f6"
      },
      "execution_count": 101,
      "outputs": [
        {
          "output_type": "stream",
          "name": "stdout",
          "text": [
            "Hello Quantum World!\n"
          ]
        }
      ],
      "id": "Ffht71IHPaXm"
    },
    {
      "cell_type": "markdown",
      "source": [
        "#### **Problem #5.2**\n",
        "\n",
        "**Together**, let's print the text `\"Hello Quantum World!\"` and `\"Nice to meet you and not meet you\"` using two separate print statements."
      ],
      "metadata": {
        "id": "ic87Mb_BPjnd"
      },
      "id": "ic87Mb_BPjnd"
    },
    {
      "cell_type": "code",
      "source": [
        "print(\"Hello Quantum World!\")\n",
        "print(\"Nice to meet you and not meet you\")"
      ],
      "metadata": {
        "id": "lmZncfl_PpwE",
        "outputId": "390dc46b-3972-4985-814b-037d1b220ea4",
        "colab": {
          "base_uri": "https://localhost:8080/"
        }
      },
      "execution_count": 102,
      "outputs": [
        {
          "output_type": "stream",
          "name": "stdout",
          "text": [
            "Hello Quantum World!\n",
            "Nice to meet you and not meet you\n"
          ]
        }
      ],
      "id": "lmZncfl_PpwE"
    },
    {
      "cell_type": "markdown",
      "source": [
        "#### **Problem #5.3**\n",
        "\n",
        "**Independently**, complete the code by printing your age."
      ],
      "metadata": {
        "id": "5iVci0CvP761"
      },
      "id": "5iVci0CvP761"
    },
    {
      "cell_type": "code",
      "source": [
        "print(\"My age is: 21\")"
      ],
      "metadata": {
        "id": "RgSCfnZGP762",
        "outputId": "286d7017-eb0c-459e-f119-f2a3a9945753",
        "colab": {
          "base_uri": "https://localhost:8080/"
        }
      },
      "execution_count": 104,
      "outputs": [
        {
          "output_type": "stream",
          "name": "stdout",
          "text": [
            "My age is: 21\n"
          ]
        }
      ],
      "id": "RgSCfnZGP762"
    },
    {
      "cell_type": "markdown",
      "source": [
        "#### **Problem #5.4**\n",
        "\n",
        "**Independently**, Complete the code by printing your age on the next line."
      ],
      "metadata": {
        "id": "YtxEjg3VQYu3"
      },
      "id": "YtxEjg3VQYu3"
    },
    {
      "cell_type": "code",
      "source": [
        "print(\"My age is:\")\n",
        "# COMPLETE THIS CODE\n",
        "print(\"21\")"
      ],
      "metadata": {
        "id": "3G6zysWQQYvD",
        "outputId": "2a05c7b6-9e28-42d7-feda-dc0992928b99",
        "colab": {
          "base_uri": "https://localhost:8080/"
        }
      },
      "execution_count": 103,
      "outputs": [
        {
          "output_type": "stream",
          "name": "stdout",
          "text": [
            "My age is:\n",
            "21\n"
          ]
        }
      ],
      "id": "3G6zysWQQYvD"
    },
    {
      "cell_type": "markdown",
      "source": [
        "#### **Problem #5.5**\n",
        "\n",
        "Write code to print your favorite animal."
      ],
      "metadata": {
        "id": "y2y-I1FlQtyG"
      },
      "id": "y2y-I1FlQtyG"
    },
    {
      "cell_type": "code",
      "source": [
        "print(\"My favorite animal is: Peacock\")"
      ],
      "metadata": {
        "id": "6Mnuov5fQtyg",
        "outputId": "6182e8d5-8c68-4f1c-82cf-b6ac3bcdd607",
        "colab": {
          "base_uri": "https://localhost:8080/"
        }
      },
      "execution_count": 105,
      "outputs": [
        {
          "output_type": "stream",
          "name": "stdout",
          "text": [
            "My favorite animal is: Peacock\n"
          ]
        }
      ],
      "id": "6Mnuov5fQtyg"
    },
    {
      "cell_type": "markdown",
      "source": [
        "#End of notebook\n",
        "---\n",
        "© 2023 The Coding School, All rights reserved"
      ],
      "metadata": {
        "id": "7dzC09dLlEhm"
      },
      "id": "7dzC09dLlEhm"
    }
  ],
  "metadata": {
    "kernelspec": {
      "display_name": "Python 3 (ipykernel)",
      "language": "python",
      "name": "python3"
    },
    "language_info": {
      "codemirror_mode": {
        "name": "ipython",
        "version": 3
      },
      "file_extension": ".py",
      "mimetype": "text/x-python",
      "name": "python",
      "nbconvert_exporter": "python",
      "pygments_lexer": "ipython3",
      "version": "3.8.13"
    },
    "colab": {
      "provenance": [],
      "include_colab_link": true
    }
  },
  "nbformat": 4,
  "nbformat_minor": 5
}