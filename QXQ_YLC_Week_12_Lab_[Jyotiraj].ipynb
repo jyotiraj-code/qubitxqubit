{
  "cells": [
    {
      "cell_type": "markdown",
      "metadata": {
        "id": "view-in-github",
        "colab_type": "text"
      },
      "source": [
        "<a href=\"https://colab.research.google.com/github/jyotiraj-code/qubitxqubit/blob/main/QXQ_YLC_Week_12_Lab_%5BJyotiraj%5D.ipynb\" target=\"_parent\"><img src=\"https://colab.research.google.com/assets/colab-badge.svg\" alt=\"Open In Colab\"/></a>"
      ]
    },
    {
      "cell_type": "markdown",
      "id": "2b5624a2-65dd-4659-bcd3-d1fbed560d58",
      "metadata": {
        "id": "2b5624a2-65dd-4659-bcd3-d1fbed560d58"
      },
      "source": [
        "# **Lab 12: Review**\n",
        "---\n",
        "\n",
        "### **Description**:\n",
        "In today's lab, we will review concepts from the first semester that will be useful for us to implement more complex quantum circuits going forward.\n",
        "\n",
        "**[ADVANCED]** Then, we will delve into the practical implementation of the Quantum Teleportation protocol through Cirq. Our objectives for this session are threefold:\n",
        "\n",
        "1. To grasp one of the foundational Quantum Protocols, providing essential knowledge for those involved in this field.\n",
        "\n",
        "2. To lay a solid foundation for our upcoming discussions on Quantum Networking, which is just a few weeks away.\n",
        "\n",
        "3. To seize the opportunity to brush up on your skills in coding quantum circuits using Cirq.\n",
        "\n",
        "<br>\n",
        "\n",
        "### **Structure**\n",
        "**Part 1**: [Quantum Circuits](#p1)\n",
        "\n",
        "**Part 2**: [Quantum Teleportation [ADVANCED]](#p2)\n",
        "\n",
        "\n",
        "<br>\n",
        "\n",
        "### **Resources**\n",
        "* [Cirq Basics Cheat Sheet](https://docs.google.com/document/d/1j0vEwtS6fK-tD1DWAPry4tJdxEiq8fwMtXuYNGRhK_M/edit?usp=drive_link)\n",
        "\n",
        "\n",
        "<br>\n",
        "\n",
        "**Before starting, run the code below to import all necessary functions and libraries.**"
      ]
    },
    {
      "cell_type": "code",
      "execution_count": 1,
      "id": "536b5e25-05bc-4923-8636-595d63809535",
      "metadata": {
        "id": "536b5e25-05bc-4923-8636-595d63809535",
        "colab": {
          "base_uri": "https://localhost:8080/"
        },
        "outputId": "c3830c5b-d0db-4242-b184-7b4c01a0bd27"
      },
      "outputs": [
        {
          "output_type": "stream",
          "name": "stdout",
          "text": [
            "installing cirq...\n",
            "\u001b[2K     \u001b[90m━━━━━━━━━━━━━━━━━━━━━━━━━━━━━━━━━━━━━━━━\u001b[0m \u001b[32m1.8/1.8 MB\u001b[0m \u001b[31m12.0 MB/s\u001b[0m eta \u001b[36m0:00:00\u001b[0m\n",
            "\u001b[2K     \u001b[90m━━━━━━━━━━━━━━━━━━━━━━━━━━━━━━━━━━━━━━━━\u001b[0m \u001b[32m143.1/143.1 kB\u001b[0m \u001b[31m8.7 MB/s\u001b[0m eta \u001b[36m0:00:00\u001b[0m\n",
            "\u001b[2K     \u001b[90m━━━━━━━━━━━━━━━━━━━━━━━━━━━━━━━━━━━━━━━━\u001b[0m \u001b[32m598.8/598.8 kB\u001b[0m \u001b[31m14.6 MB/s\u001b[0m eta \u001b[36m0:00:00\u001b[0m\n",
            "\u001b[2K     \u001b[90m━━━━━━━━━━━━━━━━━━━━━━━━━━━━━━━━━━━━━━━━\u001b[0m \u001b[32m60.9/60.9 kB\u001b[0m \u001b[31m1.0 MB/s\u001b[0m eta \u001b[36m0:00:00\u001b[0m\n",
            "\u001b[2K     \u001b[90m━━━━━━━━━━━━━━━━━━━━━━━━━━━━━━━━━━━━━━━━\u001b[0m \u001b[32m66.2/66.2 kB\u001b[0m \u001b[31m721.6 kB/s\u001b[0m eta \u001b[36m0:00:00\u001b[0m\n",
            "\u001b[2K     \u001b[90m━━━━━━━━━━━━━━━━━━━━━━━━━━━━━━━━━━━━━━━━\u001b[0m \u001b[32m596.5/596.5 kB\u001b[0m \u001b[31m8.7 MB/s\u001b[0m eta \u001b[36m0:00:00\u001b[0m\n",
            "\u001b[2K     \u001b[90m━━━━━━━━━━━━━━━━━━━━━━━━━━━━━━━━━━━━━━━━\u001b[0m \u001b[32m223.8/223.8 kB\u001b[0m \u001b[31m6.8 MB/s\u001b[0m eta \u001b[36m0:00:00\u001b[0m\n",
            "\u001b[2K     \u001b[90m━━━━━━━━━━━━━━━━━━━━━━━━━━━━━━━━━━━━━━━━\u001b[0m \u001b[32m229.9/229.9 kB\u001b[0m \u001b[31m11.1 MB/s\u001b[0m eta \u001b[36m0:00:00\u001b[0m\n",
            "\u001b[?25h  Preparing metadata (setup.py) ... \u001b[?25l\u001b[?25hdone\n",
            "\u001b[2K     \u001b[90m━━━━━━━━━━━━━━━━━━━━━━━━━━━━━━━━━━━━━━━━\u001b[0m \u001b[32m151.7/151.7 kB\u001b[0m \u001b[31m6.1 MB/s\u001b[0m eta \u001b[36m0:00:00\u001b[0m\n",
            "\u001b[2K     \u001b[90m━━━━━━━━━━━━━━━━━━━━━━━━━━━━━━━━━━━━━━━━\u001b[0m \u001b[32m45.6/45.6 kB\u001b[0m \u001b[31m795.3 kB/s\u001b[0m eta \u001b[36m0:00:00\u001b[0m\n",
            "\u001b[?25h  Preparing metadata (setup.py) ... \u001b[?25l\u001b[?25hdone\n",
            "\u001b[2K     \u001b[90m━━━━━━━━━━━━━━━━━━━━━━━━━━━━━━━━━━━━━━━━\u001b[0m \u001b[32m1.6/1.6 MB\u001b[0m \u001b[31m32.0 MB/s\u001b[0m eta \u001b[36m0:00:00\u001b[0m\n",
            "\u001b[2K     \u001b[90m━━━━━━━━━━━━━━━━━━━━━━━━━━━━━━━━━━━━━━━━\u001b[0m \u001b[32m151.7/151.7 kB\u001b[0m \u001b[31m17.8 MB/s\u001b[0m eta \u001b[36m0:00:00\u001b[0m\n",
            "\u001b[2K     \u001b[90m━━━━━━━━━━━━━━━━━━━━━━━━━━━━━━━━━━━━━━━━\u001b[0m \u001b[32m151.7/151.7 kB\u001b[0m \u001b[31m16.8 MB/s\u001b[0m eta \u001b[36m0:00:00\u001b[0m\n",
            "\u001b[2K     \u001b[90m━━━━━━━━━━━━━━━━━━━━━━━━━━━━━━━━━━━━━━━━\u001b[0m \u001b[32m147.4/147.4 kB\u001b[0m \u001b[31m16.8 MB/s\u001b[0m eta \u001b[36m0:00:00\u001b[0m\n",
            "\u001b[2K     \u001b[90m━━━━━━━━━━━━━━━━━━━━━━━━━━━━━━━━━━━━━━━━\u001b[0m \u001b[32m147.4/147.4 kB\u001b[0m \u001b[31m16.8 MB/s\u001b[0m eta \u001b[36m0:00:00\u001b[0m\n",
            "\u001b[2K     \u001b[90m━━━━━━━━━━━━━━━━━━━━━━━━━━━━━━━━━━━━━━━━\u001b[0m \u001b[32m147.4/147.4 kB\u001b[0m \u001b[31m16.0 MB/s\u001b[0m eta \u001b[36m0:00:00\u001b[0m\n",
            "\u001b[2K     \u001b[90m━━━━━━━━━━━━━━━━━━━━━━━━━━━━━━━━━━━━━━━━\u001b[0m \u001b[32m142.7/142.7 kB\u001b[0m \u001b[31m16.8 MB/s\u001b[0m eta \u001b[36m0:00:00\u001b[0m\n",
            "\u001b[2K     \u001b[90m━━━━━━━━━━━━━━━━━━━━━━━━━━━━━━━━━━━━━━━━\u001b[0m \u001b[32m88.3/88.3 kB\u001b[0m \u001b[31m8.9 MB/s\u001b[0m eta \u001b[36m0:00:00\u001b[0m\n",
            "\u001b[2K     \u001b[90m━━━━━━━━━━━━━━━━━━━━━━━━━━━━━━━━━━━━━━━━\u001b[0m \u001b[32m85.5/85.5 kB\u001b[0m \u001b[31m10.2 MB/s\u001b[0m eta \u001b[36m0:00:00\u001b[0m\n",
            "\u001b[2K     \u001b[90m━━━━━━━━━━━━━━━━━━━━━━━━━━━━━━━━━━━━━━━━\u001b[0m \u001b[32m85.1/85.1 kB\u001b[0m \u001b[31m9.9 MB/s\u001b[0m eta \u001b[36m0:00:00\u001b[0m\n",
            "\u001b[2K     \u001b[90m━━━━━━━━━━━━━━━━━━━━━━━━━━━━━━━━━━━━━━━━\u001b[0m \u001b[32m84.7/84.7 kB\u001b[0m \u001b[31m11.6 MB/s\u001b[0m eta \u001b[36m0:00:00\u001b[0m\n",
            "\u001b[2K     \u001b[90m━━━━━━━━━━━━━━━━━━━━━━━━━━━━━━━━━━━━━━━━\u001b[0m \u001b[32m83.6/83.6 kB\u001b[0m \u001b[31m10.5 MB/s\u001b[0m eta \u001b[36m0:00:00\u001b[0m\n",
            "\u001b[2K     \u001b[90m━━━━━━━━━━━━━━━━━━━━━━━━━━━━━━━━━━━━━━━━\u001b[0m \u001b[32m83.3/83.3 kB\u001b[0m \u001b[31m9.6 MB/s\u001b[0m eta \u001b[36m0:00:00\u001b[0m\n",
            "\u001b[2K     \u001b[90m━━━━━━━━━━━━━━━━━━━━━━━━━━━━━━━━━━━━━━━━\u001b[0m \u001b[32m83.4/83.4 kB\u001b[0m \u001b[31m9.6 MB/s\u001b[0m eta \u001b[36m0:00:00\u001b[0m\n",
            "\u001b[2K     \u001b[90m━━━━━━━━━━━━━━━━━━━━━━━━━━━━━━━━━━━━━━━━\u001b[0m \u001b[32m83.2/83.2 kB\u001b[0m \u001b[31m8.9 MB/s\u001b[0m eta \u001b[36m0:00:00\u001b[0m\n",
            "\u001b[2K     \u001b[90m━━━━━━━━━━━━━━━━━━━━━━━━━━━━━━━━━━━━━━━━\u001b[0m \u001b[32m82.5/82.5 kB\u001b[0m \u001b[31m9.5 MB/s\u001b[0m eta \u001b[36m0:00:00\u001b[0m\n",
            "\u001b[2K     \u001b[90m━━━━━━━━━━━━━━━━━━━━━━━━━━━━━━━━━━━━━━━━\u001b[0m \u001b[32m81.0/81.0 kB\u001b[0m \u001b[31m10.6 MB/s\u001b[0m eta \u001b[36m0:00:00\u001b[0m\n",
            "\u001b[2K     \u001b[90m━━━━━━━━━━━━━━━━━━━━━━━━━━━━━━━━━━━━━━━━\u001b[0m \u001b[32m81.0/81.0 kB\u001b[0m \u001b[31m10.3 MB/s\u001b[0m eta \u001b[36m0:00:00\u001b[0m\n",
            "\u001b[2K     \u001b[90m━━━━━━━━━━━━━━━━━━━━━━━━━━━━━━━━━━━━━━━━\u001b[0m \u001b[32m80.8/80.8 kB\u001b[0m \u001b[31m10.8 MB/s\u001b[0m eta \u001b[36m0:00:00\u001b[0m\n",
            "\u001b[2K     \u001b[90m━━━━━━━━━━━━━━━━━━━━━━━━━━━━━━━━━━━━━━━━\u001b[0m \u001b[32m80.7/80.7 kB\u001b[0m \u001b[31m10.1 MB/s\u001b[0m eta \u001b[36m0:00:00\u001b[0m\n",
            "\u001b[2K     \u001b[90m━━━━━━━━━━━━━━━━━━━━━━━━━━━━━━━━━━━━━━━━\u001b[0m \u001b[32m81.5/81.5 kB\u001b[0m \u001b[31m10.2 MB/s\u001b[0m eta \u001b[36m0:00:00\u001b[0m\n",
            "\u001b[2K     \u001b[90m━━━━━━━━━━━━━━━━━━━━━━━━━━━━━━━━━━━━━━━━\u001b[0m \u001b[32m90.4/90.4 kB\u001b[0m \u001b[31m10.8 MB/s\u001b[0m eta \u001b[36m0:00:00\u001b[0m\n",
            "\u001b[2K     \u001b[90m━━━━━━━━━━━━━━━━━━━━━━━━━━━━━━━━━━━━━━━━\u001b[0m \u001b[32m117.7/117.7 kB\u001b[0m \u001b[31m15.8 MB/s\u001b[0m eta \u001b[36m0:00:00\u001b[0m\n",
            "\u001b[2K     \u001b[90m━━━━━━━━━━━━━━━━━━━━━━━━━━━━━━━━━━━━━━━━\u001b[0m \u001b[32m60.6/60.6 kB\u001b[0m \u001b[31m7.7 MB/s\u001b[0m eta \u001b[36m0:00:00\u001b[0m\n",
            "\u001b[2K     \u001b[90m━━━━━━━━━━━━━━━━━━━━━━━━━━━━━━━━━━━━━━━━\u001b[0m \u001b[32m71.5/71.5 kB\u001b[0m \u001b[31m8.4 MB/s\u001b[0m eta \u001b[36m0:00:00\u001b[0m\n",
            "\u001b[2K     \u001b[90m━━━━━━━━━━━━━━━━━━━━━━━━━━━━━━━━━━━━━━━━\u001b[0m \u001b[32m3.1/3.1 MB\u001b[0m \u001b[31m41.5 MB/s\u001b[0m eta \u001b[36m0:00:00\u001b[0m\n",
            "\u001b[2K     \u001b[90m━━━━━━━━━━━━━━━━━━━━━━━━━━━━━━━━━━━━━━━━\u001b[0m \u001b[32m1.7/1.7 MB\u001b[0m \u001b[31m45.9 MB/s\u001b[0m eta \u001b[36m0:00:00\u001b[0m\n",
            "\u001b[2K     \u001b[90m━━━━━━━━━━━━━━━━━━━━━━━━━━━━━━━━━━━━━━━━\u001b[0m \u001b[32m117.8/117.8 kB\u001b[0m \u001b[31m15.5 MB/s\u001b[0m eta \u001b[36m0:00:00\u001b[0m\n",
            "\u001b[2K     \u001b[90m━━━━━━━━━━━━━━━━━━━━━━━━━━━━━━━━━━━━━━━━\u001b[0m \u001b[32m69.6/69.6 kB\u001b[0m \u001b[31m8.8 MB/s\u001b[0m eta \u001b[36m0:00:00\u001b[0m\n",
            "\u001b[2K     \u001b[90m━━━━━━━━━━━━━━━━━━━━━━━━━━━━━━━━━━━━━━━━\u001b[0m \u001b[32m526.7/526.7 kB\u001b[0m \u001b[31m32.3 MB/s\u001b[0m eta \u001b[36m0:00:00\u001b[0m\n",
            "\u001b[2K     \u001b[90m━━━━━━━━━━━━━━━━━━━━━━━━━━━━━━━━━━━━━━━━\u001b[0m \u001b[32m58.3/58.3 kB\u001b[0m \u001b[31m7.6 MB/s\u001b[0m eta \u001b[36m0:00:00\u001b[0m\n",
            "\u001b[?25h  Building wheel for lark (setup.py) ... \u001b[?25l\u001b[?25hdone\n",
            "  Building wheel for rpcq (setup.py) ... \u001b[?25l\u001b[?25hdone\n",
            "\u001b[31mERROR: pip's dependency resolver does not currently take into account all the packages that are installed. This behaviour is the source of the following dependency conflicts.\n",
            "referencing 0.35.1 requires attrs>=22.2.0, but you have attrs 21.4.0 which is incompatible.\u001b[0m\u001b[31m\n",
            "\u001b[0minstalled cirq.\n"
          ]
        }
      ],
      "source": [
        "import random\n",
        "import matplotlib.pyplot as plt\n",
        "import numpy as np\n",
        "def binary_labels(num_qubits):\n",
        "    return [bin(x)[2:].zfill(num_qubits) for x in range(2 ** num_qubits)]\n",
        "plt.rcParams.update({'font.size': 8})\n",
        "try:\n",
        "    import cirq\n",
        "except ImportError:\n",
        "    print(\"installing cirq...\")\n",
        "    !pip install cirq --quiet\n",
        "    import cirq\n",
        "    print(\"installed cirq.\")"
      ]
    },
    {
      "cell_type": "markdown",
      "source": [
        "<a name=\"p1\"></a>\n",
        "\n",
        "---\n",
        "## **Part 1: Quantum Circuits**\n",
        "---\n",
        "In this part, you will review how to create and work with quantum circuits in Cirq."
      ],
      "metadata": {
        "id": "zHBGjz26c9QP"
      },
      "id": "zHBGjz26c9QP"
    },
    {
      "cell_type": "markdown",
      "source": [
        "####**Problem #1.1**\n",
        "**Together**, create a qubit and an empty circuit. Apply an X gate to the qubit. Outout your circuit. Output your final state vector in ket notation."
      ],
      "metadata": {
        "id": "0b_cr7tpTTS6"
      },
      "id": "0b_cr7tpTTS6"
    },
    {
      "cell_type": "code",
      "source": [
        "my_qubit = cirq.NamedQubit(\"q0\")# COMPLETE THIS CODE\n",
        "my_circuit = cirq.Circuit()# COMPLETE THIS CODE\n",
        "my_circuit.append(cirq.X(my_qubit))\n",
        "my_circuit"
      ],
      "metadata": {
        "id": "m5irwvFVNSbT",
        "outputId": "821389f0-56fd-4d8a-f179-99c6d681c280",
        "colab": {
          "base_uri": "https://localhost:8080/",
          "height": 34
        }
      },
      "id": "m5irwvFVNSbT",
      "execution_count": 2,
      "outputs": [
        {
          "output_type": "execute_result",
          "data": {
            "text/plain": [
              "q0: ───X───"
            ],
            "text/html": [
              "<pre style=\"overflow: auto; white-space: pre;\">q0: ───X───</pre>"
            ]
          },
          "metadata": {},
          "execution_count": 2
        }
      ]
    },
    {
      "cell_type": "code",
      "source": [
        "# COMPLETE THIS CODE\n",
        "sv = cirq.final_state_vector(my_circuit)\n",
        "print(sv)\n",
        "ket = cirq.dirac_notation(sv)\n",
        "print(ket)"
      ],
      "metadata": {
        "id": "xEw63GEpNZGF",
        "outputId": "b2f100c5-7ac0-4133-f0c2-78dd301d452c",
        "colab": {
          "base_uri": "https://localhost:8080/"
        }
      },
      "id": "xEw63GEpNZGF",
      "execution_count": 3,
      "outputs": [
        {
          "output_type": "stream",
          "name": "stdout",
          "text": [
            "[0.+0.j 1.+0.j]\n",
            "|1⟩\n"
          ]
        }
      ]
    },
    {
      "cell_type": "markdown",
      "source": [
        "####**Problem #1.2**\n",
        "**Together**, create two qubits and an empty circuit. Apply an X gate to the first qubit and an H gate to the second qubit. Output the circuit and output the final state vector in ket notation."
      ],
      "metadata": {
        "id": "GYW7_WCGUUna"
      },
      "id": "GYW7_WCGUUna"
    },
    {
      "cell_type": "code",
      "source": [
        "my_qubits = cirq.NamedQubit.range(2, prefix = \"q\")# COMPLETE THIS CODE\n",
        "my_circuit = cirq.Circuit()# COMPLETE THIS CODE\n",
        "my_circuit.append(cirq.X(my_qubits[0]))\n",
        "my_circuit.append(cirq.H(my_qubits[1]))\n",
        "my_circuit"
      ],
      "metadata": {
        "id": "imIxUOOHNfbl",
        "outputId": "02d6e2fa-028b-4381-a95d-9e0c4e521770",
        "colab": {
          "base_uri": "https://localhost:8080/",
          "height": 69
        }
      },
      "id": "imIxUOOHNfbl",
      "execution_count": 5,
      "outputs": [
        {
          "output_type": "execute_result",
          "data": {
            "text/plain": [
              "q0: ───X───\n",
              "\n",
              "q1: ───H───"
            ],
            "text/html": [
              "<pre style=\"overflow: auto; white-space: pre;\">q0: ───X───\n",
              "\n",
              "q1: ───H───</pre>"
            ]
          },
          "metadata": {},
          "execution_count": 5
        }
      ]
    },
    {
      "cell_type": "code",
      "source": [
        "# COMPLETE THIS CODE\n",
        "sv = cirq.final_state_vector(my_circuit)\n",
        "print(sv)\n",
        "ket = cirq.dirac_notation(sv)\n",
        "print(ket)"
      ],
      "metadata": {
        "id": "w_qF9cLjNm-y",
        "outputId": "f54129a6-98d8-4c1f-eccd-c59deaf7867f",
        "colab": {
          "base_uri": "https://localhost:8080/"
        }
      },
      "id": "w_qF9cLjNm-y",
      "execution_count": 6,
      "outputs": [
        {
          "output_type": "stream",
          "name": "stdout",
          "text": [
            "[0.        +0.j 0.        +0.j 0.70710677+0.j 0.70710677+0.j]\n",
            "0.71|10⟩ + 0.71|11⟩\n"
          ]
        }
      ]
    },
    {
      "cell_type": "markdown",
      "source": [
        "####**Problem #1.3**\n",
        "**Together**, create 5 qubits and an empty circuit. Append a measurement to each qubit and output your circuit. Then simulate the results of your circuit."
      ],
      "metadata": {
        "id": "iUPnG5oIdteZ"
      },
      "id": "iUPnG5oIdteZ"
    },
    {
      "cell_type": "code",
      "source": [
        "my_qubits = cirq.NamedQubit.range(5, prefix = \"q\")# COMPLETE THIS CODE\n",
        "my_circuit = cirq.Circuit()# COMPLETE THIS CODE\n",
        "my_circuit.append(cirq.measure(my_qubits))\n",
        "my_circuit"
      ],
      "metadata": {
        "id": "Vvmi2gaINqbt",
        "outputId": "47de5a35-f963-4aa0-8afb-4e748da51068",
        "colab": {
          "base_uri": "https://localhost:8080/",
          "height": 173
        }
      },
      "id": "Vvmi2gaINqbt",
      "execution_count": 24,
      "outputs": [
        {
          "output_type": "execute_result",
          "data": {
            "text/plain": [
              "q0: ───M───\n",
              "       │\n",
              "q1: ───M───\n",
              "       │\n",
              "q2: ───M───\n",
              "       │\n",
              "q3: ───M───\n",
              "       │\n",
              "q4: ───M───"
            ],
            "text/html": [
              "<pre style=\"overflow: auto; white-space: pre;\">q0: ───M───\n",
              "       │\n",
              "q1: ───M───\n",
              "       │\n",
              "q2: ───M───\n",
              "       │\n",
              "q3: ───M───\n",
              "       │\n",
              "q4: ───M───</pre>"
            ]
          },
          "metadata": {},
          "execution_count": 24
        }
      ]
    },
    {
      "cell_type": "code",
      "source": [
        "# COMPLETE THIS CODE\n",
        "sim = cirq.Simulator()\n",
        "result = sim.run(my_circuit, repetitions=100)\n",
        "\n",
        "print(result)\n",
        "hist = cirq.plot_state_histogram(result, plt.subplot(), title = 'Qubit States', xlabel = 'States', ylabel = 'Occurrences', tick_label=binary_labels(5))# COMPLETE THIS CODE\n",
        "\n",
        "plt.show()"
      ],
      "metadata": {
        "id": "b4leLcp-NwON",
        "outputId": "bed1211b-299e-454a-850e-d42b4689b250",
        "colab": {
          "base_uri": "https://localhost:8080/",
          "height": 497
        }
      },
      "id": "b4leLcp-NwON",
      "execution_count": 27,
      "outputs": [
        {
          "output_type": "stream",
          "name": "stdout",
          "text": [
            "q0,q1,q2,q3,q4=0000000000000000000000000000000000000000000000000000000000000000000000000000000000000000000000000000, 0000000000000000000000000000000000000000000000000000000000000000000000000000000000000000000000000000, 0000000000000000000000000000000000000000000000000000000000000000000000000000000000000000000000000000, 0000000000000000000000000000000000000000000000000000000000000000000000000000000000000000000000000000, 0000000000000000000000000000000000000000000000000000000000000000000000000000000000000000000000000000\n"
          ]
        },
        {
          "output_type": "display_data",
          "data": {
            "text/plain": [
              "<Figure size 640x480 with 1 Axes>"
            ],
            "image/png": "[encoded data removed]"
          },
          "metadata": {}
        }
      ]
    },
    {
      "cell_type": "markdown",
      "source": [
        "####**Problem #1.4**\n",
        "**Independently**, create a qubit and an empty circuit. Append an H gate to your qubit. Output your circuit and output the final state vector in ket notation."
      ],
      "metadata": {
        "id": "BvoSr58ZecFA"
      },
      "id": "BvoSr58ZecFA"
    },
    {
      "cell_type": "code",
      "source": [
        "# COMPLETE THIS CODE\n",
        "cirq.NamedQubit(\"q0\")# COMPLETE THIS CODE\n",
        "my_circuit = cirq.Circuit()# COMPLETE THIS CODE\n",
        "my_circuit.append(cirq.H(my_qubit))\n",
        "my_circuit"
      ],
      "metadata": {
        "id": "udpaVmCyN0xa",
        "outputId": "d2607c7c-c3a3-41c4-9789-00acb910a83d",
        "colab": {
          "base_uri": "https://localhost:8080/",
          "height": 34
        }
      },
      "id": "udpaVmCyN0xa",
      "execution_count": 11,
      "outputs": [
        {
          "output_type": "execute_result",
          "data": {
            "text/plain": [
              "q0: ───H───"
            ],
            "text/html": [
              "<pre style=\"overflow: auto; white-space: pre;\">q0: ───H───</pre>"
            ]
          },
          "metadata": {},
          "execution_count": 11
        }
      ]
    },
    {
      "cell_type": "code",
      "source": [
        "# COMPLETE THIS CODE\n",
        "sv = cirq.final_state_vector(my_circuit)\n",
        "print(sv)\n",
        "ket = cirq.dirac_notation(sv)\n",
        "print(ket)"
      ],
      "metadata": {
        "id": "XEdibwxzN0oU",
        "outputId": "4d594054-36c6-46ba-b56b-a62254011593",
        "colab": {
          "base_uri": "https://localhost:8080/"
        }
      },
      "id": "XEdibwxzN0oU",
      "execution_count": 12,
      "outputs": [
        {
          "output_type": "stream",
          "name": "stdout",
          "text": [
            "[0.70710677+0.j 0.70710677+0.j]\n",
            "0.71|0⟩ + 0.71|1⟩\n"
          ]
        }
      ]
    },
    {
      "cell_type": "markdown",
      "source": [
        "####**Problem #1.5**\n",
        "**Independently**, create 3 qubits and an empty circuit. Append an X gate to the first qubit, an H gate to each qubit, and a Z gate to the final qubit. Output your circuit and the final state vector in ket notation."
      ],
      "metadata": {
        "id": "sluP_oWLfFg1"
      },
      "id": "sluP_oWLfFg1"
    },
    {
      "cell_type": "code",
      "source": [
        "# COMPLETE THIS CODE\n",
        "my_qubit = cirq.NamedQubit.range(3, prefix = \"q\")\n",
        "my_circuit = cirq.Circuit()# COMPLETE THIS CODE\n",
        "my_circuit.append(cirq.X(my_qubit[0]))\n",
        "my_circuit.append(cirq.H(my_qubit[1]))\n",
        "my_circuit.append(cirq.Z(my_qubit[2]))\n",
        "my_circuit"
      ],
      "metadata": {
        "id": "skYn2cIaOAZs",
        "outputId": "5e02aeec-4f22-46f2-c675-0fba2a91ac9e",
        "colab": {
          "base_uri": "https://localhost:8080/",
          "height": 104
        }
      },
      "id": "skYn2cIaOAZs",
      "execution_count": 15,
      "outputs": [
        {
          "output_type": "execute_result",
          "data": {
            "text/plain": [
              "q0: ───X───\n",
              "\n",
              "q1: ───H───\n",
              "\n",
              "q2: ───Z───"
            ],
            "text/html": [
              "<pre style=\"overflow: auto; white-space: pre;\">q0: ───X───\n",
              "\n",
              "q1: ───H───\n",
              "\n",
              "q2: ───Z───</pre>"
            ]
          },
          "metadata": {},
          "execution_count": 15
        }
      ]
    },
    {
      "cell_type": "code",
      "source": [
        "# COMPLETE THIS CODE\n",
        "sv = cirq.final_state_vector(my_circuit)\n",
        "print(sv)\n",
        "ket = cirq.dirac_notation(sv)\n",
        "print(ket)"
      ],
      "metadata": {
        "id": "ks5WROPuN_tW",
        "outputId": "54cb96c8-4f64-4a74-ca40-c824145374a0",
        "colab": {
          "base_uri": "https://localhost:8080/"
        }
      },
      "id": "ks5WROPuN_tW",
      "execution_count": 16,
      "outputs": [
        {
          "output_type": "stream",
          "name": "stdout",
          "text": [
            "[ 0.        +0.j -0.        +0.j  0.        +0.j -0.        +0.j\n",
            "  0.70710677+0.j -0.        +0.j  0.70710677+0.j -0.        +0.j]\n",
            "0.71|100⟩ + 0.71|110⟩\n"
          ]
        }
      ]
    },
    {
      "cell_type": "markdown",
      "source": [
        "####**Problem #1.6**\n",
        "**Independently**, create two qubits and an empty qircuit. Append an H gate to the first, a CNOT gate such that the first qubit is the control qubit and the second qubit is the target qubit, and an H gate to the second qubit. Output your circuit and the final state vector in ket notation."
      ],
      "metadata": {
        "id": "fmH3MS7Pf5Ri"
      },
      "id": "fmH3MS7Pf5Ri"
    },
    {
      "cell_type": "code",
      "source": [
        "# COMPLETE THIS CODE\n",
        "my_qubit = cirq.NamedQubit.range(2, prefix = \"q\")\n",
        "my_circuit = cirq.Circuit()# COMPLETE THIS CODE\n",
        "my_circuit.append(cirq.H(my_qubit[0]))\n",
        "my_circuit.append(cirq.CNOT(my_qubit[0], my_qubit[1]))\n",
        "my_circuit.append(cirq.H(my_qubit[1]))"
      ],
      "metadata": {
        "id": "-R0yCm44OGPN"
      },
      "id": "-R0yCm44OGPN",
      "execution_count": 17,
      "outputs": []
    },
    {
      "cell_type": "code",
      "source": [
        "# COMPLETE THIS CODE\n",
        "sv = cirq.final_state_vector(my_circuit)\n",
        "print(sv)\n",
        "ket = cirq.dirac_notation(sv)\n",
        "print(ket)"
      ],
      "metadata": {
        "id": "fFAGZoCWOF41",
        "outputId": "de2c441f-b3fe-42b7-90dd-493044b9b915",
        "colab": {
          "base_uri": "https://localhost:8080/"
        }
      },
      "id": "fFAGZoCWOF41",
      "execution_count": 18,
      "outputs": [
        {
          "output_type": "stream",
          "name": "stdout",
          "text": [
            "[ 0.49999997+0.j  0.49999997+0.j  0.49999997+0.j -0.49999997+0.j]\n",
            "0.5|00⟩ + 0.5|01⟩ + 0.5|10⟩ - 0.5|11⟩\n"
          ]
        }
      ]
    },
    {
      "cell_type": "markdown",
      "source": [
        "####**Problem #1.7**\n",
        "**Independently**, are the states of the two qubits from Problem #1.6 entangled? Why or why not?"
      ],
      "metadata": {
        "id": "E6-kVW7rg0c-"
      },
      "id": "E6-kVW7rg0c-"
    },
    {
      "cell_type": "code",
      "source": [
        "print(\"Yes\")# COMPLETE THIS CODE"
      ],
      "metadata": {
        "id": "fL5nkYmGOKY-",
        "outputId": "6499d01f-8aa9-4727-e508-53499013c50f",
        "colab": {
          "base_uri": "https://localhost:8080/"
        }
      },
      "id": "fL5nkYmGOKY-",
      "execution_count": 19,
      "outputs": [
        {
          "output_type": "stream",
          "name": "stdout",
          "text": [
            "Yes\n"
          ]
        }
      ]
    },
    {
      "cell_type": "markdown",
      "source": [
        "####**Problem #1.8**\n",
        "**Indepently**, create a 3 qubits. Apply an H gate to the first two qubits, a CNOT gate such that the first qubit is the control qubit and the third is the target qubit, and a measurement to each qubit. Output your circuit and simulate the results of your circuit 100 times. Plot the results on a histogram."
      ],
      "metadata": {
        "id": "eoPWpuAFhgdD"
      },
      "id": "eoPWpuAFhgdD"
    },
    {
      "cell_type": "code",
      "source": [
        "# COMPLETE THIS CODE\n",
        "my_qubit = cirq.NamedQubit.range(3, prefix = \"q\")\n",
        "my_circuit = cirq.Circuit()# COMPLETE THIS CODE\n",
        "my_circuit.append(cirq.H(my_qubit[0]))\n",
        "my_circuit.append(cirq.H(my_qubit[1]))\n",
        "my_circuit.append(cirq.CNOT(my_qubit[0], my_qubit[2]))\n",
        "my_circuit"
      ],
      "metadata": {
        "id": "vs5PV8zMOO-q",
        "outputId": "4d138afa-1372-4b2c-f4e0-b5750ce815e6",
        "colab": {
          "base_uri": "https://localhost:8080/",
          "height": 104
        }
      },
      "id": "vs5PV8zMOO-q",
      "execution_count": 20,
      "outputs": [
        {
          "output_type": "execute_result",
          "data": {
            "text/plain": [
              "q0: ───H───@───\n",
              "           │\n",
              "q1: ───H───┼───\n",
              "           │\n",
              "q2: ───────X───"
            ],
            "text/html": [
              "<pre style=\"overflow: auto; white-space: pre;\">q0: ───H───@───\n",
              "           │\n",
              "q1: ───H───┼───\n",
              "           │\n",
              "q2: ───────X───</pre>"
            ]
          },
          "metadata": {},
          "execution_count": 20
        }
      ]
    },
    {
      "cell_type": "code",
      "source": [
        "# COMPLETE THIS CODE\n",
        "my_circuit.append(cirq.measure(my_qubit))\n",
        "sim = cirq.Simulator()\n",
        "result = sim.run(my_circuit, repetitions=100)"
      ],
      "metadata": {
        "id": "_kMSjFSAORNv"
      },
      "id": "_kMSjFSAORNv",
      "execution_count": 21,
      "outputs": []
    },
    {
      "cell_type": "code",
      "source": [
        "hist = cirq.plot_state_histogram(result, plt.subplot(), title = 'Qubit States', xlabel = 'States', ylabel = 'Occurrences', tick_label=binary_labels(3))# COMPLETE THIS CODE\n",
        "\n",
        "plt.show()"
      ],
      "metadata": {
        "id": "PngRALwbOVkl",
        "outputId": "e776dab8-6900-408b-fcd9-dbb0f32796e8",
        "colab": {
          "base_uri": "https://localhost:8080/",
          "height": 460
        }
      },
      "id": "PngRALwbOVkl",
      "execution_count": 22,
      "outputs": [
        {
          "output_type": "display_data",
          "data": {
            "text/plain": [
              "<Figure size 640x480 with 1 Axes>"
            ],
            "image/png": "[encoded data removed]"
          },
          "metadata": {}
        }
      ]
    },
    {
      "cell_type": "markdown",
      "source": [
        "####**Problem #1.9**\n",
        "Are the first and third qubits from Problem #1.8 entangled? Why or why not?"
      ],
      "metadata": {
        "id": "-WZjMn7WB-iS"
      },
      "id": "-WZjMn7WB-iS"
    },
    {
      "cell_type": "code",
      "source": [
        "print(\"Yes\")# COMPLETE THIS CODE"
      ],
      "metadata": {
        "id": "eocGqPyVOlqu",
        "outputId": "0a3c0477-d318-490c-eaff-759c5a47dde9",
        "colab": {
          "base_uri": "https://localhost:8080/"
        }
      },
      "id": "eocGqPyVOlqu",
      "execution_count": 28,
      "outputs": [
        {
          "output_type": "stream",
          "name": "stdout",
          "text": [
            "Yes\n"
          ]
        }
      ]
    },
    {
      "cell_type": "markdown",
      "id": "b5exHTC2gHzt",
      "metadata": {
        "id": "b5exHTC2gHzt"
      },
      "source": [
        "<a name=\"p2\"></a>\n",
        "\n",
        "---\n",
        "## **Part 2: Implementing Quantum Teleportation**\n",
        "---\n",
        "\n",
        "In this section, we will work together to implement Quantum Teleportation."
      ]
    },
    {
      "cell_type": "markdown",
      "id": "l5EADlD_ij0W",
      "metadata": {
        "id": "l5EADlD_ij0W"
      },
      "source": [
        "#### **Step 1: Alice and Bob share a Bell pair and go their separate ways.**\n",
        "\n",
        "**Together**, let's create a circuit as follows:\n",
        "* It has one qubit that represents the message to be sent, one for Alice, and one for Bob.\n",
        "* It has one classical bit for each qubit measurement.\n",
        "* Creates a Bell state with Alice's and Bob's qubits.\n"
      ]
    },
    {
      "cell_type": "code",
      "execution_count": 29,
      "id": "f-Hijs9uj0LU",
      "metadata": {
        "id": "f-Hijs9uj0LU",
        "outputId": "1c83b40d-b353-4eeb-b285-5b6ea26fcc34",
        "colab": {
          "base_uri": "https://localhost:8080/"
        }
      },
      "outputs": [
        {
          "output_type": "stream",
          "name": "stdout",
          "text": [
            "Alice: ───H───@───\n",
            "              │\n",
            "Bob: ─────────X───\n"
          ]
        }
      ],
      "source": [
        "# Instantiate the circuit\n",
        "qc = cirq.Circuit()\n",
        "\n",
        "# Define three qubits\n",
        "msg = cirq.NamedQubit(\"Message\")\n",
        "alice = cirq.NamedQubit(\"Alice\")\n",
        "bob = cirq.NamedQubit(\"Bob\")\n",
        "# Entangle Alice and Bob's qubits\n",
        "qc.append(cirq.H(alice))\n",
        "qc.append(cirq.CNOT(alice, bob))\n",
        "\n",
        "# You can visualize the circuit if needed\n",
        "print(qc)\n"
      ]
    },
    {
      "cell_type": "markdown",
      "id": "oAd1jMzOiuTB",
      "metadata": {
        "id": "oAd1jMzOiuTB"
      },
      "source": [
        "#### **Step 2. Alice prepares a special state to teleport to Bob.**\n",
        "\n",
        "**Together**, prepare the teleportation qubit in the $|1\\rangle$ state."
      ]
    },
    {
      "cell_type": "code",
      "execution_count": 30,
      "id": "CWS8BdIakAuK",
      "metadata": {
        "id": "CWS8BdIakAuK",
        "outputId": "83de8efb-41c2-4e27-dd9a-c37d24d7b2aa",
        "colab": {
          "base_uri": "https://localhost:8080/"
        }
      },
      "outputs": [
        {
          "output_type": "stream",
          "name": "stdout",
          "text": [
            "Alice: ─────H───@───\n",
            "                │\n",
            "Bob: ───────────X───\n",
            "\n",
            "Message: ───X───────\n"
          ]
        }
      ],
      "source": [
        "# PREPARE THE |1> STATE\n",
        "qc.append(cirq.X(msg))\n",
        "\n",
        "# You can visualize the circuit if needed\n",
        "print(qc)"
      ]
    },
    {
      "cell_type": "markdown",
      "id": "Xc8hoMhOjntY",
      "metadata": {
        "id": "Xc8hoMhOjntY"
      },
      "source": [
        "#### **Step 3. Alice measures her half of the entangled pair and her special state in the “Entangled basis”.**\n",
        "\n",
        "**Together**, add the following to the quantum circuit:\n",
        "* A CX gate applied to the message and Alice's qubits.\n",
        "* An H gate applied to the message qubit.\n",
        "* A measurement of the message and Alice's qubits.\n"
      ]
    },
    {
      "cell_type": "code",
      "execution_count": 31,
      "id": "Oq3ru1J2k1Tr",
      "metadata": {
        "id": "Oq3ru1J2k1Tr",
        "outputId": "3b8a36fa-d437-4a4d-aa87-a3191dfe11e9",
        "colab": {
          "base_uri": "https://localhost:8080/"
        }
      },
      "outputs": [
        {
          "output_type": "stream",
          "name": "stdout",
          "text": [
            "Alice: ─────H───@───X───────M───\n",
            "                │   │       │\n",
            "Bob: ───────────X───┼───────┼───\n",
            "                    │       │\n",
            "Message: ───X───────@───H───M───\n"
          ]
        }
      ],
      "source": [
        "qc.append(cirq.CNOT(msg, alice))\n",
        "qc.append(cirq.H(msg))\n",
        "qc.append(cirq.measure(msg, alice))\n",
        "\n",
        "# You can visualize the circuit if needed\n",
        "print(qc)"
      ]
    },
    {
      "cell_type": "markdown",
      "id": "-co5r9qdkATU",
      "metadata": {
        "id": "-co5r9qdkATU"
      },
      "source": [
        "\n",
        "#### **Step 4. Alice sends Bob her measurement results over a classical channel.**\n"
      ]
    },
    {
      "cell_type": "markdown",
      "id": "hWoLuv_1kGPq",
      "metadata": {
        "id": "hWoLuv_1kGPq"
      },
      "source": [
        "#### **Steps 5. Bob adjusts his half of the entangled pair based on Alice’s measurement results.**\n",
        "\n",
        "**Together**, add the following to the quantum circuit:\n",
        "* An X gate applied to Bob's qubit *if* the result of measuring Alice's qubit was 1.\n",
        "* A Z gate applied to Bob's qubit *if* the result of measuring the teleportation qubit was 1.\n",
        "* A measurement of Bob's qubit."
      ]
    },
    {
      "cell_type": "code",
      "execution_count": 32,
      "id": "6f65e479",
      "metadata": {
        "id": "6f65e479",
        "outputId": "a2675f57-bdc6-4c51-fb28-9fa4a77f48f4",
        "colab": {
          "base_uri": "https://localhost:8080/",
          "height": 104
        }
      },
      "outputs": [
        {
          "output_type": "execute_result",
          "data": {
            "text/plain": [
              "Alice: ─────H───@───X───────M───@───────────\n",
              "                │   │       │   │\n",
              "Bob: ───────────X───┼───────┼───X───@───M───\n",
              "                    │       │       │\n",
              "Message: ───X───────@───H───M───────@───────"
            ],
            "text/html": [
              "<pre style=\"overflow: auto; white-space: pre;\">Alice: ─────H───@───X───────M───@───────────\n",
              "                │   │       │   │\n",
              "Bob: ───────────X───┼───────┼───X───@───M───\n",
              "                    │       │       │\n",
              "Message: ───X───────@───H───M───────@───────</pre>"
            ]
          },
          "metadata": {},
          "execution_count": 32
        }
      ],
      "source": [
        "# Apply CNOT between Alice and Bob's qubits\n",
        "# Apply CZ between the message qubit and Bob\n",
        "qc.append([cirq.CNOT(alice, bob), cirq.CZ(msg, bob), cirq.measure(bob)])\n",
        "qc"
      ]
    },
    {
      "cell_type": "markdown",
      "id": "98Qz4ym-yOjS",
      "metadata": {
        "id": "98Qz4ym-yOjS"
      },
      "source": [
        "#### **Simulating Quantum Teleportation**\n",
        "\n",
        "**Together**, simulate quantum teleportation:\n",
        "1. Simulate our circuit as usual and plot the histogram of results.\n",
        "2. Estimate only Bob's state, getting rid of Alice's states, from the measurement results.\n",
        "\n",
        "In the histogram, when we observe that the third qubit is in the state \"1,\" it confirms that the \"1\" state has indeed been successfully teleported."
      ]
    },
    {
      "cell_type": "code",
      "execution_count": 34,
      "id": "78de7529",
      "metadata": {
        "id": "78de7529",
        "outputId": "05dfdbf3-9a72-4a91-c042-7ac4c3771ee3",
        "colab": {
          "base_uri": "https://localhost:8080/",
          "height": 460
        }
      },
      "outputs": [
        {
          "output_type": "display_data",
          "data": {
            "text/plain": [
              "<Figure size 640x480 with 1 Axes>"
            ],
            "image/png": "[encoded data removed]"
          },
          "metadata": {}
        }
      ],
      "source": [
        "\"\"\"Simulate the teleportation circuit and get the final state of Bob's qubit.\"\"\"\n",
        "# Get a simulator.\n",
        "sim = cirq.Simulator()\n",
        "\n",
        "# Simulate the teleportation circuit.\n",
        "result = sim.run(qc, repetitions=100)\n",
        "\n",
        "_ = cirq.plot_state_histogram(result, plt.subplot(), title = 'Teleportation', xlabel = 'Qubit State', ylabel = 'Result count', tick_label=binary_labels(3))\n",
        "plt.show()\n"
      ]
    },
    {
      "cell_type": "code",
      "source": [
        "# COMPLETE THIS CODE"
      ],
      "metadata": {
        "id": "EHkS1bNsQhia"
      },
      "id": "EHkS1bNsQhia",
      "execution_count": null,
      "outputs": []
    },
    {
      "cell_type": "markdown",
      "id": "d94376b4",
      "metadata": {
        "id": "d94376b4"
      },
      "source": [
        "---\n",
        "\n",
        "####**Teleportation in Full**\n",
        "\n",
        "The full Teleportation protocol implementation and simulation is given in the 2 cells below. Complete the exercises based on these 2 cells.\n",
        "\n",
        "---"
      ]
    },
    {
      "cell_type": "code",
      "execution_count": 39,
      "id": "ded626f4",
      "metadata": {
        "id": "ded626f4",
        "outputId": "6602bf2b-0a63-4019-d4a4-81b43379de61",
        "colab": {
          "base_uri": "https://localhost:8080/"
        }
      },
      "outputs": [
        {
          "output_type": "stream",
          "name": "stdout",
          "text": [
            "Alice: ─────H───@───X───────M───@───────────\n",
            "                │   │       │   │\n",
            "Bob: ───────────X───┼───────┼───X───@───M───\n",
            "                    │       │       │\n",
            "Message: ───X───────@───H───M───────@───────\n"
          ]
        }
      ],
      "source": [
        "#=========\n",
        "# STEP #1\n",
        "#=========\n",
        "# Instantiate the circuit\n",
        "circuit = cirq.Circuit()\n",
        "\n",
        "# Define three qubits\n",
        "msg = cirq.NamedQubit(\"Message\")\n",
        "alice = cirq.NamedQubit(\"Alice\")\n",
        "bob = cirq.NamedQubit(\"Bob\")\n",
        "\n",
        "# Create an entangled state between Alice and Bob's qubits\n",
        "circuit.append([cirq.H(alice), cirq.CNOT(alice, bob)])\n",
        "\n",
        "\n",
        "#=========\n",
        "# STEP #2\n",
        "#=========\n",
        "# PREPARE THE |1> STATE\n",
        "circuit.append([cirq.X(msg)])\n",
        "\n",
        "\n",
        "#=========\n",
        "# STEP #3\n",
        "#=========\n",
        "circuit.append([cirq.CNOT(msg, alice), cirq.H(msg), cirq.measure(msg, alice)])\n",
        "\n",
        "\n",
        "#=============\n",
        "# STEPS #4 - 5\n",
        "#=============\n",
        "circuit.append([cirq.CNOT(alice, bob), cirq.CZ(msg, bob), cirq.measure(bob)])\n",
        "\n",
        "# You can visualize the circuit if needed\n",
        "print(circuit)"
      ]
    },
    {
      "cell_type": "code",
      "execution_count": 40,
      "id": "64e598a3",
      "metadata": {
        "id": "64e598a3",
        "outputId": "4fcc84de-e7fc-4ffc-97e4-3a1d703be75b",
        "colab": {
          "base_uri": "https://localhost:8080/",
          "height": 460
        }
      },
      "outputs": [
        {
          "output_type": "display_data",
          "data": {
            "text/plain": [
              "<Figure size 640x480 with 1 Axes>"
            ],
            "image/png": "[encoded data removed]"
          },
          "metadata": {}
        }
      ],
      "source": [
        "\"\"\"Simulate the teleportation circuit and get the final state of Bob's qubit.\"\"\"\n",
        "# Get a simulator.\n",
        "sim = cirq.Simulator()\n",
        "\n",
        "# Simulate the teleportation circuit.\n",
        "result = sim.run(circuit, repetitions=100)\n",
        "\n",
        "_ = cirq.plot_state_histogram(result, plt.subplot(), title = 'Teleportation', xlabel = 'Qubit State', ylabel = 'Result count', tick_label=binary_labels(3))\n",
        "plt.show()\n"
      ]
    },
    {
      "cell_type": "markdown",
      "id": "00-dWsePA2ht",
      "metadata": {
        "id": "00-dWsePA2ht"
      },
      "source": [
        "#### **Problem #2.1**\n",
        "\n",
        "**Independently**, modify the code above to teleport the $|+\\rangle$ state. How do we make sure that the $|+\\rangle$ state has indeed been teleported?\n",
        "\n",
        "Hint: One way of doing this is by **reversing the operations** that we start with for the message qubit. To create the $|+\\rangle$ state, we apply the Hadamard gate. To go from the $|+\\rangle$ state to the $|0\\rangle$ state, what gate can we use?"
      ]
    },
    {
      "cell_type": "code",
      "source": [
        "# COMPLETE THIS CODE\n",
        "#=========\n",
        "# STEP #1\n",
        "#=========\n",
        "# Instantiate the circuit\n",
        "circuit = cirq.Circuit()\n",
        "\n",
        "# Define three qubits\n",
        "msg = cirq.NamedQubit(\"Message\")\n",
        "alice = cirq.NamedQubit(\"Alice\")\n",
        "bob = cirq.NamedQubit(\"Bob\")\n",
        "\n",
        "# Create an entangled state between Alice and Bob's qubits\n",
        "circuit.append([cirq.H(alice), cirq.CNOT(alice, bob)])\n",
        "\n",
        "\n",
        "#=========\n",
        "# STEP #2\n",
        "#=========\n",
        "# PREPARE THE |+> STATE\n",
        "circuit.append([cirq.H(msg)])\n",
        "\n",
        "\n",
        "#=========\n",
        "# STEP #3\n",
        "#=========\n",
        "circuit.append([cirq.CNOT(msg, alice), cirq.H(msg), cirq.measure(msg, alice)])\n",
        "\n",
        "\n",
        "#=============\n",
        "# STEPS #4 - 5\n",
        "#=============\n",
        "circuit.append([cirq.CNOT(alice, bob), cirq.CZ(msg, bob), cirq.measure(bob)])\n",
        "\n",
        "# You can visualize the circuit if needed\n",
        "print(circuit)"
      ],
      "metadata": {
        "id": "MtX_vNWhSNfN",
        "outputId": "3783c14a-14cb-4941-a996-3de32b4e8945",
        "colab": {
          "base_uri": "https://localhost:8080/"
        }
      },
      "id": "MtX_vNWhSNfN",
      "execution_count": 37,
      "outputs": [
        {
          "output_type": "stream",
          "name": "stdout",
          "text": [
            "Alice: ─────H───@───X───────M───@───────────\n",
            "                │   │       │   │\n",
            "Bob: ───────────X───┼───────┼───X───@───M───\n",
            "                    │       │       │\n",
            "Message: ───H───────@───H───M───────@───────\n"
          ]
        }
      ]
    },
    {
      "cell_type": "code",
      "source": [
        "# COMPLETE THIS CODE\n",
        "\"\"\"Simulate the teleportation circuit and get the final state of Bob's qubit.\"\"\"\n",
        "# Get a simulator.\n",
        "sim = cirq.Simulator()\n",
        "\n",
        "# Simulate the teleportation circuit.\n",
        "result = sim.run(circuit, repetitions=100)\n",
        "\n",
        "_ = cirq.plot_state_histogram(result, plt.subplot(), title = 'Teleportation', xlabel = 'Qubit State', ylabel = 'Result count', tick_label=binary_labels(3))\n",
        "plt.show()"
      ],
      "metadata": {
        "id": "CyYOKLWbSNVO",
        "outputId": "602fb7b2-0877-4341-a9a0-34b320bd985d",
        "colab": {
          "base_uri": "https://localhost:8080/",
          "height": 460
        }
      },
      "id": "CyYOKLWbSNVO",
      "execution_count": 38,
      "outputs": [
        {
          "output_type": "display_data",
          "data": {
            "text/plain": [
              "<Figure size 640x480 with 1 Axes>"
            ],
            "image/png": "[encoded data removed]"
          },
          "metadata": {}
        }
      ]
    },
    {
      "cell_type": "markdown",
      "id": "33b1424a",
      "metadata": {
        "id": "33b1424a"
      },
      "source": [
        "####**Problem #2.2**\n",
        "\n",
        "**Independently**, modify the code above to teleport the $|-\\rangle$ state. How do we make sure that the $|-\\rangle$ state has indeed been teleported?"
      ]
    },
    {
      "cell_type": "code",
      "source": [
        "# COMPLETE THIS CODE\n",
        "#=========\n",
        "# STEP #1\n",
        "#=========\n",
        "# Instantiate the circuit\n",
        "circuit = cirq.Circuit()\n",
        "\n",
        "# Define three qubits\n",
        "msg = cirq.NamedQubit(\"Message\")\n",
        "alice = cirq.NamedQubit(\"Alice\")\n",
        "bob = cirq.NamedQubit(\"Bob\")\n",
        "\n",
        "# Create an entangled state between Alice and Bob's qubits\n",
        "circuit.append([cirq.H(alice), cirq.CNOT(alice, bob)])\n",
        "\n",
        "\n",
        "#=========\n",
        "# STEP #2\n",
        "#=========\n",
        "# PREPARE THE |-> STATE\n",
        "circuit.append([cirq.H(msg)])\n",
        "circuit.append(cirq.Z(msg))\n",
        "\n",
        "\n",
        "#=========\n",
        "# STEP #3\n",
        "#=========\n",
        "circuit.append([cirq.CNOT(msg, alice), cirq.H(msg), cirq.measure(msg, alice)])\n",
        "\n",
        "\n",
        "#=============\n",
        "# STEPS #4 - 5\n",
        "#=============\n",
        "circuit.append([cirq.CNOT(alice, bob), cirq.CZ(msg, bob), cirq.measure(bob)])\n",
        "\n",
        "# You can visualize the circuit if needed\n",
        "print(circuit)"
      ],
      "metadata": {
        "id": "ZHYvYZ1TSRV8",
        "outputId": "59727817-f9db-4b48-9ec4-0e14b09d0c48",
        "colab": {
          "base_uri": "https://localhost:8080/"
        }
      },
      "id": "ZHYvYZ1TSRV8",
      "execution_count": 41,
      "outputs": [
        {
          "output_type": "stream",
          "name": "stdout",
          "text": [
            "Alice: ─────H───@───X───────M───@───────────\n",
            "                │   │       │   │\n",
            "Bob: ───────────X───┼───────┼───X───@───M───\n",
            "                    │       │       │\n",
            "Message: ───H───Z───@───H───M───────@───────\n"
          ]
        }
      ]
    },
    {
      "cell_type": "code",
      "source": [
        "# COMPLETE THIS CODE\n",
        "\"\"\"Simulate the teleportation circuit and get the final state of Bob's qubit.\"\"\"\n",
        "# Get a simulator.\n",
        "sim = cirq.Simulator()\n",
        "\n",
        "# Simulate the teleportation circuit.\n",
        "result = sim.run(circuit, repetitions=100)\n",
        "\n",
        "_ = cirq.plot_state_histogram(result, plt.subplot(), title = 'Teleportation', xlabel = 'Qubit State', ylabel = 'Result count', tick_label=binary_labels(3))\n",
        "plt.show()"
      ],
      "metadata": {
        "id": "sPNCdGVNSSzz",
        "outputId": "ac350ebb-6287-4c7c-c3a5-a23340ae4c89",
        "colab": {
          "base_uri": "https://localhost:8080/",
          "height": 460
        }
      },
      "id": "sPNCdGVNSSzz",
      "execution_count": 42,
      "outputs": [
        {
          "output_type": "display_data",
          "data": {
            "text/plain": [
              "<Figure size 640x480 with 1 Axes>"
            ],
            "image/png": "[encoded data removed]"
          },
          "metadata": {}
        }
      ]
    },
    {
      "cell_type": "markdown",
      "id": "kODXtMmfCPym",
      "metadata": {
        "id": "kODXtMmfCPym"
      },
      "source": [
        "#### **Problem #2.3**\n",
        "\n",
        "**Independently**, change the order of Bob's X and Z gates in Step #5 and rerun the protocol. What happens to the results? Does the order of these gates matter?"
      ]
    },
    {
      "cell_type": "code",
      "source": [
        "# COMPLETE THIS CODE\n",
        "#=========\n",
        "# STEP #1\n",
        "#=========\n",
        "# Instantiate the circuit\n",
        "circuit = cirq.Circuit()\n",
        "\n",
        "# Define three qubits\n",
        "msg = cirq.NamedQubit(\"Message\")\n",
        "alice = cirq.NamedQubit(\"Alice\")\n",
        "bob = cirq.NamedQubit(\"Bob\")\n",
        "\n",
        "# Create an entangled state between Alice and Bob's qubits\n",
        "circuit.append([cirq.H(alice), cirq.CNOT(alice, bob)])\n",
        "\n",
        "\n",
        "#=========\n",
        "# STEP #2\n",
        "#=========\n",
        "# PREPARE THE |-> STATE\n",
        "circuit.append([cirq.H(msg)])\n",
        "circuit.append(cirq.Z(msg))\n",
        "\n",
        "\n",
        "#=========\n",
        "# STEP #3\n",
        "#=========\n",
        "circuit.append([cirq.CNOT(msg, alice), cirq.H(msg), cirq.measure(msg, alice)])\n",
        "\n",
        "\n",
        "#=============\n",
        "# STEPS #4 - 5\n",
        "#=============\n",
        "circuit.append([cirq.CZ(msg, bob), cirq.CNOT(alice, bob), cirq.measure(bob)])\n",
        "\n",
        "# You can visualize the circuit if needed\n",
        "print(circuit)"
      ],
      "metadata": {
        "id": "xQ9OG3U7SVAV",
        "outputId": "635d171f-b007-4d34-dd80-98e4ead1260c",
        "colab": {
          "base_uri": "https://localhost:8080/"
        }
      },
      "id": "xQ9OG3U7SVAV",
      "execution_count": 43,
      "outputs": [
        {
          "output_type": "stream",
          "name": "stdout",
          "text": [
            "Alice: ─────H───@───X───────M───────@───────\n",
            "                │   │       │       │\n",
            "Bob: ───────────X───┼───────┼───@───X───M───\n",
            "                    │       │   │\n",
            "Message: ───H───Z───@───H───M───@───────────\n"
          ]
        }
      ]
    },
    {
      "cell_type": "code",
      "source": [
        "# COMPLETE THIS CODE\n",
        "\"\"\"Simulate the teleportation circuit and get the final state of Bob's qubit.\"\"\"\n",
        "# Get a simulator.\n",
        "sim = cirq.Simulator()\n",
        "\n",
        "# Simulate the teleportation circuit.\n",
        "result = sim.run(circuit, repetitions=100)\n",
        "\n",
        "_ = cirq.plot_state_histogram(result, plt.subplot(), title = 'Teleportation', xlabel = 'Qubit State', ylabel = 'Result count', tick_label=binary_labels(3))\n",
        "plt.show()"
      ],
      "metadata": {
        "id": "C7REt9rGSWNZ",
        "outputId": "6a3ec09a-a0a3-4d6d-8685-d02e63063ca8",
        "colab": {
          "base_uri": "https://localhost:8080/",
          "height": 460
        }
      },
      "id": "C7REt9rGSWNZ",
      "execution_count": 44,
      "outputs": [
        {
          "output_type": "display_data",
          "data": {
            "text/plain": [
              "<Figure size 640x480 with 1 Axes>"
            ],
            "image/png": "[encoded data removed]"
          },
          "metadata": {}
        }
      ]
    },
    {
      "cell_type": "markdown",
      "id": "BF1dNzrLntod",
      "metadata": {
        "id": "BF1dNzrLntod"
      },
      "source": [
        "# End of Lab\n",
        "\n",
        "---\n",
        "\n",
        "© 2024 The Coding School, All rights reserved"
      ]
    }
  ],
  "metadata": {
    "colab": {
      "provenance": [],
      "include_colab_link": true
    },
    "kernelspec": {
      "display_name": "Python 3 (ipykernel)",
      "language": "python",
      "name": "python3"
    },
    "language_info": {
      "codemirror_mode": {
        "name": "ipython",
        "version": 3
      },
      "file_extension": ".py",
      "mimetype": "text/x-python",
      "name": "python",
      "nbconvert_exporter": "python",
      "pygments_lexer": "ipython3",
      "version": "3.10.8"
    }
  },
  "nbformat": 4,
  "nbformat_minor": 5
}