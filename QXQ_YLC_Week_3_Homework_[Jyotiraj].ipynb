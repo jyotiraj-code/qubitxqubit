{
  "nbformat": 4,
  "nbformat_minor": 0,
  "metadata": {
    "colab": {
      "provenance": [],
      "include_colab_link": true
    },
    "kernelspec": {
      "name": "python3",
      "display_name": "Python 3"
    },
    "language_info": {
      "name": "python"
    }
  },
  "cells": [
    {
      "cell_type": "markdown",
      "metadata": {
        "id": "view-in-github",
        "colab_type": "text"
      },
      "source": [
        "<a href=\"https://colab.research.google.com/github/jyotiraj-code/qubitxqubit/blob/main/QXQ_YLC_Week_3_Homework_%5BJyotiraj%5D.ipynb\" target=\"_parent\"><img src=\"https://colab.research.google.com/assets/colab-badge.svg\" alt=\"Open In Colab\"/></a>"
      ]
    },
    {
      "cell_type": "markdown",
      "source": [
        "# **Homework 3: Introduction to Objects and Debugging**\n",
        "---\n",
        "\n",
        "### **Description**\n",
        "In this homework assignment, you will learn how to work with objects in Python, how to interpret and correct coding errors, and how to search for and navigate documentation.\n",
        "\n",
        "<br>\n",
        "\n",
        "### **Homework Structure**\n",
        "**Part 1**: [Objects, Methods, and Attributes](#p1)\n",
        "\n",
        "**Part 2**: [Debugging](#p2)\n",
        "\n",
        "**Part 3**: [Coding Challenges [OPTIONAL]](#p3)\n",
        "\n",
        "<br>\n",
        "\n",
        "### **Resources**\n",
        "* [Python Basics Cheat Sheet](https://docs.google.com/document/d/1W8xeN-2wtyzM6sz33mGewNdBQ2sdE8dP8UJFhHG_4T4/)\n",
        "\n",
        "<br>\n",
        "\n",
        "### **Learning Objectives**\n",
        "By the end of this homework assignment, you will:\n",
        "* Understand how to interact with objects using methods and attributes.\n",
        "* Improve your debugging skills by correcting common coding errors.\n",
        "* Understand how to search for documentation in various libraries.\n",
        "\n",
        "<br>\n",
        "\n",
        "**Before starting, run the code below to import all necessary functions and libraries.**"
      ],
      "metadata": {
        "id": "F7i_-gofxiqE"
      }
    },
    {
      "cell_type": "code",
      "source": [
        "# @title\n",
        "!pip install qiskit --quiet\n",
        "import warnings\n",
        "import sympy\n",
        "import numpy\n",
        "import matplotlib\n",
        "import time\n",
        "import math\n",
        "from matplotlib import pyplot\n",
        "from qiskit import QuantumCircuit\n",
        "warnings.filterwarnings(\"ignore\")\n",
        "\n",
        "class baby():\n",
        "  def __init__(self,age=0, mood=\"crying\", hunger=\"hungry\"):\n",
        "    self.age = age\n",
        "    self.mood = mood\n",
        "    self.hunger = hunger\n",
        "  def feed(self):\n",
        "    self.hunger = \"full\"\n",
        "  def play(self):\n",
        "    self.mood = \"happy\"\n",
        "\n",
        "def calculate_area(length, width):\n",
        "  area = length * width\n",
        "  return area\n",
        "\n",
        "class plant():\n",
        "  def __init__(self):\n",
        "    self.planted = 0\n",
        "    self.day_of_last_growth = 0\n",
        "    self.day = 0\n",
        "    self.water = 0\n",
        "    self.light = 0\n",
        "    self.health = 10\n",
        "    self.stage = 0\n",
        "    self.perfect_light = numpy.random.choice([1,2,3,4,5,6,7,8,9,10])\n",
        "    self.perfect_water = numpy.random.choice([1,2,3,4,5,6,7,8,9,10])\n",
        "  def water_plant(self,amount):\n",
        "    if amount > 0:\n",
        "      print(\"You watered your plant.\")\n",
        "      self.water += round(amount)\n",
        "    elif amount < 0:\n",
        "      raise ValueError(\"You can't remove water from your plant! You will have to wait a bit for it to dry out.\")\n",
        "    else:\n",
        "      print(\"You decide to not water your plant.\")\n",
        "  def set_light(self,level):\n",
        "    if level <0:\n",
        "      raise ValueError(\"You can't set the light level to negative values.\")\n",
        "    elif level > 10:\n",
        "      raise ValueError(\"Your light is not that strong\")\n",
        "    else:\n",
        "      self.light = round(level)\n",
        "      print(\"You set the light to level \" + str(self.light))\n",
        "\n",
        "  def check_health(self):\n",
        "    print(\"Your plant's health is a \" + str(self.health)+ \"/\" + str(10+(5*self.stage))+\".\")\n",
        "    print(\"If you had to rate the wetness of the soil, it would be a \" + str(self.water)+ \"/10.\")\n",
        "    print(\"Your light is turned up to \" + str(self.light)+ \".\")\n",
        "    if self.stage == 10:\n",
        "      print(\"Your plant is full grown.\")\n",
        "  def wait(self,num_days):\n",
        "    for i in range(num_days):\n",
        "      self.day += 1\n",
        "      print('Day ' + str(self.day))\n",
        "      if self.perfect_light > self.light:\n",
        "        print(\"Your plant needs more light\")\n",
        "        self.health += -1*abs(self.perfect_light- self.light)/10\n",
        "      elif self.perfect_light < self.light:\n",
        "        print(\"Your plant needs less light\")\n",
        "        self.health += -1*abs(self.perfect_light- self.light)/10\n",
        "      else:\n",
        "        print(\"Your plant looks happy with the light it has.\")\n",
        "      if self.perfect_water > self.water:\n",
        "        print(\"Your plant needs more water\")\n",
        "        self.health += -1*abs(self.perfect_water- self.water)/10\n",
        "      elif self.perfect_water < self.water:\n",
        "        print(\"Your plant needs less water\")\n",
        "        self.health += -1*abs(self.perfect_water- self.water)/10\n",
        "      else:\n",
        "        print(\"Your plant looks happy with the water it had.\")\n",
        "      if self.perfect_light == self.light and self.perfect_water == self.water:\n",
        "        self.health = (self.health + 10+(5*self.stage))/2\n",
        "        if self.day- self.day_of_last_growth >= 5 and self.stage < 10:\n",
        "          print(\"Your plant grew a bit! Its preferances may have changed.\")\n",
        "          self.stage += 1\n",
        "          self.health += 5\n",
        "          self.day_of_last_growth = self.day\n",
        "          self.perfect_light = numpy.random.choice([1,2,3,4,5,6,7,8,9,10])\n",
        "          self.perfect_water = numpy.random.choice([1,2,3,4,5,6,7,8,9,10])\n",
        "          if self.stage == 10:\n",
        "            print(\"Congrats! Your plant is full grown.\")\n",
        "      self.water += -1*self.light\n",
        "      if self.water < 0:\n",
        "        self.water = 0\n",
        "      if self.health <= 0:\n",
        "        print(\"Your plant died! You decide to plant a new seed. Treat this one better!\")\n",
        "        self.planted = 0\n",
        "        self.day_of_last_growth = 0\n",
        "        self.day = 0\n",
        "        self.water = 0\n",
        "        self.light = 0\n",
        "        self.health = 10\n",
        "        self.stage = 0\n",
        "        self.perfect_light = numpy.random.choice([1,2,3,4,5,6,7,8,9,10])\n",
        "        self.perfect_water = numpy.random.choice([1,2,3,4,5,6,7,8,9,10])\n",
        "\n",
        "def dynamic_find_roots(a,b,c):\n",
        "  if b**2-4*a*c == 0:\n",
        "    return -b/(2*a)\n",
        "  elif b**2 - 4*a*c <0:\n",
        "    return (-b+1j*(4*a*c-b**2)**0.5)/(2*a),(-b-1j*(4*a*c-b**2)**0.5)/(2*a)\n",
        "  elif b**2 - 4*a*c >0:\n",
        "    return (-b+(b**2-4*a*c)**0.5)/(2*a),(-b-(b**2-4*a*c)**0.5)/(2*a)\n",
        "print(\"Libraries imported successfully!\")"
      ],
      "metadata": {
        "id": "YAvvLhRIoqYp",
        "colab": {
          "base_uri": "https://localhost:8080/"
        },
        "outputId": "dbade846-8d6e-4a63-a062-afa80b09d9f8"
      },
      "execution_count": 1,
      "outputs": [
        {
          "output_type": "stream",
          "name": "stdout",
          "text": [
            "\u001b[2K     \u001b[90m━━━━━━━━━━━━━━━━━━━━━━━━━━━━━━━━━━━━━━━━\u001b[0m \u001b[32m5.6/5.6 MB\u001b[0m \u001b[31m23.8 MB/s\u001b[0m eta \u001b[36m0:00:00\u001b[0m\n",
            "\u001b[2K     \u001b[90m━━━━━━━━━━━━━━━━━━━━━━━━━━━━━━━━━━━━━━━━\u001b[0m \u001b[32m2.1/2.1 MB\u001b[0m \u001b[31m43.9 MB/s\u001b[0m eta \u001b[36m0:00:00\u001b[0m\n",
            "\u001b[2K     \u001b[90m━━━━━━━━━━━━━━━━━━━━━━━━━━━━━━━━━━━━━━━━\u001b[0m \u001b[32m116.3/116.3 kB\u001b[0m \u001b[31m13.3 MB/s\u001b[0m eta \u001b[36m0:00:00\u001b[0m\n",
            "\u001b[2K     \u001b[90m━━━━━━━━━━━━━━━━━━━━━━━━━━━━━━━━━━━━━━━━\u001b[0m \u001b[32m49.7/49.7 kB\u001b[0m \u001b[31m4.5 MB/s\u001b[0m eta \u001b[36m0:00:00\u001b[0m\n",
            "\u001b[2K     \u001b[90m━━━━━━━━━━━━━━━━━━━━━━━━━━━━━━━━━━━━━━━━\u001b[0m \u001b[32m39.4/39.4 MB\u001b[0m \u001b[31m15.3 MB/s\u001b[0m eta \u001b[36m0:00:00\u001b[0m\n",
            "\u001b[2K     \u001b[90m━━━━━━━━━━━━━━━━━━━━━━━━━━━━━━━━━━━━━━━━\u001b[0m \u001b[32m107.5/107.5 kB\u001b[0m \u001b[31m11.1 MB/s\u001b[0m eta \u001b[36m0:00:00\u001b[0m\n",
            "\u001b[?25hLibraries imported successfully!\n"
          ]
        }
      ]
    },
    {
      "cell_type": "markdown",
      "source": [
        "<a name=\"p1\"></a>\n",
        "\n",
        "---\n",
        "## **Part 1: Objects, Methods, and Attributes**\n",
        "---\n",
        "Python and any libraries we install give us tons of objects to work with. In this part, we will practice interacting with objects using methods and attributes."
      ],
      "metadata": {
        "id": "jhvwNalR6bYe"
      }
    },
    {
      "cell_type": "markdown",
      "source": [
        "#### **Problem #1.1**\n",
        "\n",
        "Create a `baby` object and set its age to 1. Then print out its \"age\" attribute."
      ],
      "metadata": {
        "id": "Fn-MmuBT6dzZ"
      }
    },
    {
      "cell_type": "code",
      "source": [
        "# COMPLETE THIS CODE\n",
        "jeremy = baby()\n",
        "jeremy.age = 1\n",
        "jeremy.age"
      ],
      "metadata": {
        "id": "iszC3Nln2wkT",
        "outputId": "819f9715-592c-484e-8f65-571da9d91909",
        "colab": {
          "base_uri": "https://localhost:8080/"
        }
      },
      "execution_count": 3,
      "outputs": [
        {
          "output_type": "execute_result",
          "data": {
            "text/plain": [
              "1"
            ]
          },
          "metadata": {},
          "execution_count": 3
        }
      ]
    },
    {
      "cell_type": "markdown",
      "source": [
        "#### **Problem #1.2**\n",
        "\n",
        "Print out the baby's `hunger` and `mood` attributes."
      ],
      "metadata": {
        "id": "B51rkpDd9KdP"
      }
    },
    {
      "cell_type": "code",
      "source": [
        "# COMPLETE THIS CODE\n",
        "jeremy.hunger\n",
        "jeremy.mood"
      ],
      "metadata": {
        "id": "ffXS2vaE7b7S",
        "outputId": "5b35dd93-1a40-450b-bf31-8cf699d2d190",
        "colab": {
          "base_uri": "https://localhost:8080/",
          "height": 36
        }
      },
      "execution_count": 4,
      "outputs": [
        {
          "output_type": "execute_result",
          "data": {
            "text/plain": [
              "'crying'"
            ],
            "application/vnd.google.colaboratory.intrinsic+json": {
              "type": "string"
            }
          },
          "metadata": {},
          "execution_count": 4
        }
      ]
    },
    {
      "cell_type": "markdown",
      "source": [
        "#### **Problem #1.3**\n",
        "\n",
        "Now, use the baby's `feed` and `play` methods. Then print out its `hunger` and `mood` attributes once again."
      ],
      "metadata": {
        "id": "nCy0pue79_rA"
      }
    },
    {
      "cell_type": "code",
      "source": [
        "# COMPLETE THIS CODE\n",
        "jeremy.feed()\n",
        "jeremy.play()\n",
        "jeremy.hunger\n",
        "jeremy.mood"
      ],
      "metadata": {
        "id": "ewY0mWW391qb",
        "outputId": "f15ee0e6-c868-4922-d1b2-379eac209070",
        "colab": {
          "base_uri": "https://localhost:8080/",
          "height": 36
        }
      },
      "execution_count": 5,
      "outputs": [
        {
          "output_type": "execute_result",
          "data": {
            "text/plain": [
              "'happy'"
            ],
            "application/vnd.google.colaboratory.intrinsic+json": {
              "type": "string"
            }
          },
          "metadata": {},
          "execution_count": 5
        }
      ]
    },
    {
      "cell_type": "markdown",
      "source": [
        "#### **Problem #1.4**\n",
        "\n",
        "Create a `plant` object using its corresponding function, and use the `check_health` method to measure the plant's health."
      ],
      "metadata": {
        "id": "9YYUG7us_YLw"
      }
    },
    {
      "cell_type": "code",
      "source": [
        "# COMPLETE CODE\n",
        "my_plant = plant()\n",
        "my_plant.check_health()"
      ],
      "metadata": {
        "id": "R52FGssZAAEA",
        "outputId": "f14cd3e5-a7c9-44d9-8641-712e2f2a3d89",
        "colab": {
          "base_uri": "https://localhost:8080/"
        }
      },
      "execution_count": 13,
      "outputs": [
        {
          "output_type": "stream",
          "name": "stdout",
          "text": [
            "Your plant's health is a 10/10.\n",
            "If you had to rate the wetness of the soil, it would be a 0/10.\n",
            "Your light is turned up to 0.\n"
          ]
        }
      ]
    },
    {
      "cell_type": "markdown",
      "source": [
        "#### **Problem #1.5**\n",
        "\n",
        "Using the necessary methods and attributes, get your plant to grow a bit.\n",
        "\n",
        "**Hint:** Read through the `plant` class to see if there is a way to give it the perfect amount of water and light without guessing and checking."
      ],
      "metadata": {
        "id": "yuW5cDWgAj03"
      }
    },
    {
      "cell_type": "code",
      "source": [
        "# COMPLETE THIS CODE\n",
        "\n",
        "# Create a plant instance\n",
        "my_plant = plant()\n",
        "\n",
        "# Keep watering and adjusting light until the plant is fully grown or health drops to 0\n",
        "while my_plant.stage < 10 and my_plant.health > 0:\n",
        "    # Water the plant to its perfect water level\n",
        "    water_amount = my_plant.perfect_water - my_plant.water\n",
        "    my_plant.water_plant(abs(water_amount))  # Ensure water_amount is positive\n",
        "\n",
        "    # Adjust light level randomly to stimulate different conditions\n",
        "    random_light_level = numpy.random.randint(1, 11)\n",
        "    my_plant.set_light(random_light_level)\n",
        "\n",
        "    # Wait for the plant to grow for a day\n",
        "    my_plant.wait(1)\n",
        "\n",
        "    # Check the health of the plant\n",
        "    my_plant.check_health()\n",
        "\n",
        "    # Check if the plant has grown a stage\n",
        "    if my_plant.day - my_plant.day_of_last_growth >= 5 and my_plant.stage < 10:\n",
        "        my_plant.stage += 1\n",
        "        print(\"Your plant grew a bit! Its preferences may have changed.\")\n",
        "        my_plant.day_of_last_growth = my_plant.day\n",
        "        my_plant.perfect_light = numpy.random.choice([1, 2, 3, 4, 5, 6, 7, 8, 9, 10])\n",
        "        my_plant.perfect_water = numpy.random.choice([1, 2, 3, 4, 5, 6, 7, 8, 9, 10])\n",
        "\n",
        "# Check if the plant is fully grown or died\n",
        "if my_plant.stage == 10:\n",
        "    print(\"Congrats! Your plant is full grown.\")\n",
        "elif my_plant.health <= 0:\n",
        "    print(\"Unfortunately, your plant died.\")"
      ],
      "metadata": {
        "id": "Hm_lqzKjAPt-",
        "outputId": "a7fcacd7-7b16-45e0-c713-9f97fe94df8d",
        "colab": {
          "base_uri": "https://localhost:8080/"
        }
      },
      "execution_count": 14,
      "outputs": [
        {
          "output_type": "stream",
          "name": "stdout",
          "text": [
            "You watered your plant.\n",
            "You set the light to level 8\n",
            "Day 1\n",
            "Your plant needs less light\n",
            "Your plant looks happy with the water it had.\n",
            "Your plant's health is a 9.5/10.\n",
            "If you had to rate the wetness of the soil, it would be a 1/10.\n",
            "Your light is turned up to 8.\n",
            "You watered your plant.\n",
            "You set the light to level 1\n",
            "Day 2\n",
            "Your plant needs more light\n",
            "Your plant looks happy with the water it had.\n",
            "Your plant's health is a 9.3/10.\n",
            "If you had to rate the wetness of the soil, it would be a 8/10.\n",
            "Your light is turned up to 1.\n",
            "You watered your plant.\n",
            "You set the light to level 5\n",
            "Day 3\n",
            "Your plant needs less light\n",
            "Your plant looks happy with the water it had.\n",
            "Your plant's health is a 9.100000000000001/10.\n",
            "If you had to rate the wetness of the soil, it would be a 4/10.\n",
            "Your light is turned up to 5.\n",
            "You watered your plant.\n",
            "You set the light to level 3\n",
            "Day 4\n",
            "Your plant looks happy with the light it has.\n",
            "Your plant looks happy with the water it had.\n",
            "Your plant's health is a 9.55/10.\n",
            "If you had to rate the wetness of the soil, it would be a 6/10.\n",
            "Your light is turned up to 3.\n",
            "You watered your plant.\n",
            "You set the light to level 8\n",
            "Day 5\n",
            "Your plant needs less light\n",
            "Your plant looks happy with the water it had.\n",
            "Your plant's health is a 9.05/10.\n",
            "If you had to rate the wetness of the soil, it would be a 1/10.\n",
            "Your light is turned up to 8.\n",
            "Your plant grew a bit! Its preferences may have changed.\n",
            "You watered your plant.\n",
            "You set the light to level 5\n",
            "Day 6\n",
            "Your plant needs less light\n",
            "Your plant looks happy with the water it had.\n",
            "Your plant's health is a 8.75/15.\n",
            "If you had to rate the wetness of the soil, it would be a 0/10.\n",
            "Your light is turned up to 5.\n",
            "You watered your plant.\n",
            "You set the light to level 1\n",
            "Day 7\n",
            "Your plant needs more light\n",
            "Your plant looks happy with the water it had.\n",
            "Your plant's health is a 8.65/15.\n",
            "If you had to rate the wetness of the soil, it would be a 3/10.\n",
            "Your light is turned up to 1.\n",
            "You watered your plant.\n",
            "You set the light to level 5\n",
            "Day 8\n",
            "Your plant needs less light\n",
            "Your plant looks happy with the water it had.\n",
            "Your plant's health is a 8.35/15.\n",
            "If you had to rate the wetness of the soil, it would be a 0/10.\n",
            "Your light is turned up to 5.\n",
            "You watered your plant.\n",
            "You set the light to level 3\n",
            "Day 9\n",
            "Your plant needs less light\n",
            "Your plant looks happy with the water it had.\n",
            "Your plant's health is a 8.25/15.\n",
            "If you had to rate the wetness of the soil, it would be a 1/10.\n",
            "Your light is turned up to 3.\n",
            "You watered your plant.\n",
            "You set the light to level 1\n",
            "Day 10\n",
            "Your plant needs more light\n",
            "Your plant looks happy with the water it had.\n",
            "Your plant's health is a 8.15/15.\n",
            "If you had to rate the wetness of the soil, it would be a 3/10.\n",
            "Your light is turned up to 1.\n",
            "Your plant grew a bit! Its preferences may have changed.\n",
            "You watered your plant.\n",
            "You set the light to level 9\n",
            "Day 11\n",
            "Your plant needs less light\n",
            "Your plant looks happy with the water it had.\n",
            "Your plant's health is a 7.550000000000001/20.\n",
            "If you had to rate the wetness of the soil, it would be a 0/10.\n",
            "Your light is turned up to 9.\n",
            "You watered your plant.\n",
            "You set the light to level 1\n",
            "Day 12\n",
            "Your plant needs more light\n",
            "Your plant looks happy with the water it had.\n",
            "Your plant's health is a 7.3500000000000005/20.\n",
            "If you had to rate the wetness of the soil, it would be a 6/10.\n",
            "Your light is turned up to 1.\n",
            "You watered your plant.\n",
            "You set the light to level 7\n",
            "Day 13\n",
            "Your plant needs less light\n",
            "Your plant looks happy with the water it had.\n",
            "Your plant's health is a 6.95/20.\n",
            "If you had to rate the wetness of the soil, it would be a 0/10.\n",
            "Your light is turned up to 7.\n",
            "You watered your plant.\n",
            "You set the light to level 5\n",
            "Day 14\n",
            "Your plant needs less light\n",
            "Your plant looks happy with the water it had.\n",
            "Your plant's health is a 6.75/20.\n",
            "If you had to rate the wetness of the soil, it would be a 2/10.\n",
            "Your light is turned up to 5.\n",
            "You watered your plant.\n",
            "You set the light to level 5\n",
            "Day 15\n",
            "Your plant needs less light\n",
            "Your plant looks happy with the water it had.\n",
            "Your plant's health is a 6.55/20.\n",
            "If you had to rate the wetness of the soil, it would be a 2/10.\n",
            "Your light is turned up to 5.\n",
            "Your plant grew a bit! Its preferences may have changed.\n",
            "You watered your plant.\n",
            "You set the light to level 7\n",
            "Day 16\n",
            "Your plant needs less light\n",
            "Your plant looks happy with the water it had.\n",
            "Your plant's health is a 5.95/25.\n",
            "If you had to rate the wetness of the soil, it would be a 0/10.\n",
            "Your light is turned up to 7.\n",
            "You watered your plant.\n",
            "You set the light to level 4\n",
            "Day 17\n",
            "Your plant needs less light\n",
            "Your plant looks happy with the water it had.\n",
            "Your plant's health is a 5.65/25.\n",
            "If you had to rate the wetness of the soil, it would be a 1/10.\n",
            "Your light is turned up to 4.\n",
            "You watered your plant.\n",
            "You set the light to level 9\n",
            "Day 18\n",
            "Your plant needs less light\n",
            "Your plant looks happy with the water it had.\n",
            "Your plant's health is a 4.8500000000000005/25.\n",
            "If you had to rate the wetness of the soil, it would be a 0/10.\n",
            "Your light is turned up to 9.\n",
            "You watered your plant.\n",
            "You set the light to level 8\n",
            "Day 19\n",
            "Your plant needs less light\n",
            "Your plant looks happy with the water it had.\n",
            "Your plant's health is a 4.15/25.\n",
            "If you had to rate the wetness of the soil, it would be a 0/10.\n",
            "Your light is turned up to 8.\n",
            "You watered your plant.\n",
            "You set the light to level 1\n",
            "Day 20\n",
            "Your plant looks happy with the light it has.\n",
            "Your plant looks happy with the water it had.\n",
            "Your plant grew a bit! Its preferances may have changed.\n",
            "Your plant's health is a 19.575/30.\n",
            "If you had to rate the wetness of the soil, it would be a 4/10.\n",
            "Your light is turned up to 1.\n",
            "You watered your plant.\n",
            "You set the light to level 10\n",
            "Day 21\n",
            "Your plant needs less light\n",
            "Your plant needs less water\n",
            "Your plant's health is a 18.675/30.\n",
            "If you had to rate the wetness of the soil, it would be a 0/10.\n",
            "Your light is turned up to 10.\n",
            "You watered your plant.\n",
            "You set the light to level 5\n",
            "Day 22\n",
            "Your plant looks happy with the light it has.\n",
            "Your plant looks happy with the water it had.\n",
            "Your plant's health is a 24.3375/30.\n",
            "If you had to rate the wetness of the soil, it would be a 0/10.\n",
            "Your light is turned up to 5.\n",
            "You watered your plant.\n",
            "You set the light to level 8\n",
            "Day 23\n",
            "Your plant needs less light\n",
            "Your plant looks happy with the water it had.\n",
            "Your plant's health is a 24.037499999999998/30.\n",
            "If you had to rate the wetness of the soil, it would be a 0/10.\n",
            "Your light is turned up to 8.\n",
            "You watered your plant.\n",
            "You set the light to level 10\n",
            "Day 24\n",
            "Your plant needs less light\n",
            "Your plant looks happy with the water it had.\n",
            "Your plant's health is a 23.537499999999998/30.\n",
            "If you had to rate the wetness of the soil, it would be a 0/10.\n",
            "Your light is turned up to 10.\n",
            "You watered your plant.\n",
            "You set the light to level 1\n",
            "Day 25\n",
            "Your plant needs more light\n",
            "Your plant looks happy with the water it had.\n",
            "Your plant's health is a 23.1375/30.\n",
            "If you had to rate the wetness of the soil, it would be a 1/10.\n",
            "Your light is turned up to 1.\n",
            "Your plant grew a bit! Its preferences may have changed.\n",
            "You watered your plant.\n",
            "You set the light to level 10\n",
            "Day 26\n",
            "Your plant needs less light\n",
            "Your plant looks happy with the water it had.\n",
            "Your plant's health is a 22.2375/35.\n",
            "If you had to rate the wetness of the soil, it would be a 0/10.\n",
            "Your light is turned up to 10.\n",
            "You watered your plant.\n",
            "You set the light to level 1\n",
            "Day 27\n",
            "Your plant looks happy with the light it has.\n",
            "Your plant looks happy with the water it had.\n",
            "Your plant's health is a 28.61875/35.\n",
            "If you had to rate the wetness of the soil, it would be a 8/10.\n",
            "Your light is turned up to 1.\n",
            "You watered your plant.\n",
            "You set the light to level 6\n",
            "Day 28\n",
            "Your plant needs less light\n",
            "Your plant looks happy with the water it had.\n",
            "Your plant's health is a 28.11875/35.\n",
            "If you had to rate the wetness of the soil, it would be a 3/10.\n",
            "Your light is turned up to 6.\n",
            "You watered your plant.\n",
            "You set the light to level 8\n",
            "Day 29\n",
            "Your plant needs less light\n",
            "Your plant looks happy with the water it had.\n",
            "Your plant's health is a 27.41875/35.\n",
            "If you had to rate the wetness of the soil, it would be a 1/10.\n",
            "Your light is turned up to 8.\n",
            "You watered your plant.\n",
            "You set the light to level 5\n",
            "Day 30\n",
            "Your plant needs less light\n",
            "Your plant looks happy with the water it had.\n",
            "Your plant's health is a 27.01875/35.\n",
            "If you had to rate the wetness of the soil, it would be a 4/10.\n",
            "Your light is turned up to 5.\n",
            "Your plant grew a bit! Its preferences may have changed.\n",
            "You watered your plant.\n",
            "You set the light to level 10\n",
            "Day 31\n",
            "Your plant needs less light\n",
            "Your plant looks happy with the water it had.\n",
            "Your plant's health is a 26.118750000000002/40.\n",
            "If you had to rate the wetness of the soil, it would be a 0/10.\n",
            "Your light is turned up to 10.\n",
            "You watered your plant.\n",
            "You set the light to level 1\n",
            "Day 32\n",
            "Your plant looks happy with the light it has.\n",
            "Your plant looks happy with the water it had.\n",
            "Your plant's health is a 33.059375/40.\n",
            "If you had to rate the wetness of the soil, it would be a 4/10.\n",
            "Your light is turned up to 1.\n",
            "You watered your plant.\n",
            "You set the light to level 4\n",
            "Day 33\n",
            "Your plant needs less light\n",
            "Your plant looks happy with the water it had.\n",
            "Your plant's health is a 32.759375000000006/40.\n",
            "If you had to rate the wetness of the soil, it would be a 1/10.\n",
            "Your light is turned up to 4.\n",
            "You watered your plant.\n",
            "You set the light to level 3\n",
            "Day 34\n",
            "Your plant needs less light\n",
            "Your plant looks happy with the water it had.\n",
            "Your plant's health is a 32.559375/40.\n",
            "If you had to rate the wetness of the soil, it would be a 2/10.\n",
            "Your light is turned up to 3.\n",
            "You watered your plant.\n",
            "You set the light to level 7\n",
            "Day 35\n",
            "Your plant needs less light\n",
            "Your plant looks happy with the water it had.\n",
            "Your plant's health is a 31.959375/40.\n",
            "If you had to rate the wetness of the soil, it would be a 0/10.\n",
            "Your light is turned up to 7.\n",
            "Your plant grew a bit! Its preferences may have changed.\n",
            "You watered your plant.\n",
            "You set the light to level 5\n",
            "Day 36\n",
            "Your plant needs more light\n",
            "Your plant looks happy with the water it had.\n",
            "Your plant's health is a 31.759375000000002/45.\n",
            "If you had to rate the wetness of the soil, it would be a 3/10.\n",
            "Your light is turned up to 5.\n",
            "You watered your plant.\n",
            "You set the light to level 3\n",
            "Day 37\n",
            "Your plant needs more light\n",
            "Your plant looks happy with the water it had.\n",
            "Your plant's health is a 31.359375000000004/45.\n",
            "If you had to rate the wetness of the soil, it would be a 5/10.\n",
            "Your light is turned up to 3.\n",
            "You watered your plant.\n",
            "You set the light to level 4\n",
            "Day 38\n",
            "Your plant needs more light\n",
            "Your plant looks happy with the water it had.\n",
            "Your plant's health is a 31.059375000000003/45.\n",
            "If you had to rate the wetness of the soil, it would be a 4/10.\n",
            "Your light is turned up to 4.\n",
            "You watered your plant.\n",
            "You set the light to level 1\n",
            "Day 39\n",
            "Your plant needs more light\n",
            "Your plant looks happy with the water it had.\n",
            "Your plant's health is a 30.459375/45.\n",
            "If you had to rate the wetness of the soil, it would be a 7/10.\n",
            "Your light is turned up to 1.\n",
            "You watered your plant.\n",
            "You set the light to level 1\n",
            "Day 40\n",
            "Your plant needs more light\n",
            "Your plant looks happy with the water it had.\n",
            "Your plant's health is a 29.859375/45.\n",
            "If you had to rate the wetness of the soil, it would be a 7/10.\n",
            "Your light is turned up to 1.\n",
            "Your plant grew a bit! Its preferences may have changed.\n",
            "You watered your plant.\n",
            "You set the light to level 10\n",
            "Day 41\n",
            "Your plant needs less light\n",
            "Your plant looks happy with the water it had.\n",
            "Your plant's health is a 29.559375/50.\n",
            "If you had to rate the wetness of the soil, it would be a 0/10.\n",
            "Your light is turned up to 10.\n",
            "You watered your plant.\n",
            "You set the light to level 9\n",
            "Day 42\n",
            "Your plant needs less light\n",
            "Your plant looks happy with the water it had.\n",
            "Your plant's health is a 29.359375/50.\n",
            "If you had to rate the wetness of the soil, it would be a 0/10.\n",
            "Your light is turned up to 9.\n",
            "You watered your plant.\n",
            "You set the light to level 10\n",
            "Day 43\n",
            "Your plant needs less light\n",
            "Your plant looks happy with the water it had.\n",
            "Your plant's health is a 29.059375/50.\n",
            "If you had to rate the wetness of the soil, it would be a 0/10.\n",
            "Your light is turned up to 10.\n",
            "You watered your plant.\n",
            "You set the light to level 4\n",
            "Day 44\n",
            "Your plant needs more light\n",
            "Your plant looks happy with the water it had.\n",
            "Your plant's health is a 28.759375/50.\n",
            "If you had to rate the wetness of the soil, it would be a 4/10.\n",
            "Your light is turned up to 4.\n",
            "You watered your plant.\n",
            "You set the light to level 7\n",
            "Day 45\n",
            "Your plant looks happy with the light it has.\n",
            "Your plant looks happy with the water it had.\n",
            "Your plant grew a bit! Its preferances may have changed.\n",
            "Your plant's health is a 44.3796875/55.\n",
            "If you had to rate the wetness of the soil, it would be a 1/10.\n",
            "Your light is turned up to 7.\n",
            "You watered your plant.\n",
            "You set the light to level 10\n",
            "Day 46\n",
            "Your plant needs less light\n",
            "Your plant looks happy with the water it had.\n",
            "Your plant's health is a 43.8796875/55.\n",
            "If you had to rate the wetness of the soil, it would be a 0/10.\n",
            "Your light is turned up to 10.\n",
            "You watered your plant.\n",
            "You set the light to level 9\n",
            "Day 47\n",
            "Your plant needs less light\n",
            "Your plant looks happy with the water it had.\n",
            "Your plant's health is a 43.479687500000004/55.\n",
            "If you had to rate the wetness of the soil, it would be a 1/10.\n",
            "Your light is turned up to 9.\n",
            "You watered your plant.\n",
            "You set the light to level 7\n",
            "Day 48\n",
            "Your plant needs less light\n",
            "Your plant looks happy with the water it had.\n",
            "Your plant's health is a 43.2796875/55.\n",
            "If you had to rate the wetness of the soil, it would be a 3/10.\n",
            "Your light is turned up to 7.\n",
            "You watered your plant.\n",
            "You set the light to level 3\n",
            "Day 49\n",
            "Your plant needs more light\n",
            "Your plant looks happy with the water it had.\n",
            "Your plant's health is a 43.0796875/55.\n",
            "If you had to rate the wetness of the soil, it would be a 7/10.\n",
            "Your light is turned up to 3.\n",
            "You watered your plant.\n",
            "You set the light to level 6\n",
            "Day 50\n",
            "Your plant needs less light\n",
            "Your plant looks happy with the water it had.\n",
            "Your plant's health is a 42.9796875/55.\n",
            "If you had to rate the wetness of the soil, it would be a 4/10.\n",
            "Your light is turned up to 6.\n",
            "Your plant grew a bit! Its preferences may have changed.\n",
            "Congrats! Your plant is full grown.\n"
          ]
        }
      ]
    },
    {
      "cell_type": "markdown",
      "source": [
        "<a name=\"p2\"></a>\n",
        "\n",
        "---\n",
        "## **Part 2: Debugging**\n",
        "---\n",
        "\n",
        "In this part, we will explore how to identify and correct errors in Python."
      ],
      "metadata": {
        "id": "uAEv8DupGKp7"
      }
    },
    {
      "cell_type": "markdown",
      "source": [
        "#### **Problem #2.1**\n",
        "\n",
        "Debug the code shown below."
      ],
      "metadata": {
        "id": "DJYgxQ2hGN9U"
      }
    },
    {
      "cell_type": "code",
      "source": [
        "x = 17\n",
        "y = 3\n",
        "print(x*y)"
      ],
      "metadata": {
        "colab": {
          "base_uri": "https://localhost:8080/"
        },
        "id": "RA-PHpSHGMOR",
        "outputId": "1299ac4a-caaa-4279-d04e-a89c34df872c"
      },
      "execution_count": 6,
      "outputs": [
        {
          "output_type": "stream",
          "name": "stdout",
          "text": [
            "51\n"
          ]
        }
      ]
    },
    {
      "cell_type": "markdown",
      "source": [
        "#### **Problem #2.2**\n",
        "\n",
        "Debug the code shown below."
      ],
      "metadata": {
        "id": "qBRQlNdAIoMM"
      }
    },
    {
      "cell_type": "code",
      "source": [
        "my_list = [3, 1, 4, 1]\n",
        "print(my_list[3])"
      ],
      "metadata": {
        "colab": {
          "base_uri": "https://localhost:8080/"
        },
        "id": "Zw0EixWuIhyv",
        "outputId": "5a089ef6-bbd8-447a-de44-e4ac256e3cb1"
      },
      "execution_count": 7,
      "outputs": [
        {
          "output_type": "stream",
          "name": "stdout",
          "text": [
            "1\n"
          ]
        }
      ]
    },
    {
      "cell_type": "markdown",
      "source": [
        "#### **Problem #2.3**\n",
        "\n",
        "Debug the code shown below."
      ],
      "metadata": {
        "id": "LnemW_PyJSHN"
      }
    },
    {
      "cell_type": "code",
      "source": [
        "oak = plant()\n",
        "\n",
        "oak.check_health()\n",
        "oak.set_light(level = 6)\n",
        "oak.water_plant(amount = 8)\n",
        "oak.wait(num_days = 10)\n",
        "oak.check_health()"
      ],
      "metadata": {
        "colab": {
          "base_uri": "https://localhost:8080/"
        },
        "id": "f7o4YPXsKMmj",
        "outputId": "51e78bcd-f285-4701-ed52-0f51d340d6fe"
      },
      "execution_count": 10,
      "outputs": [
        {
          "output_type": "stream",
          "name": "stdout",
          "text": [
            "Your plant's health is a 10/10.\n",
            "If you had to rate the wetness of the soil, it would be a 0/10.\n",
            "Your light is turned up to 0.\n",
            "You set the light to level 6\n",
            "You watered your plant.\n",
            "Day 1\n",
            "Your plant needs less light\n",
            "Your plant needs less water\n",
            "Day 2\n",
            "Your plant needs less light\n",
            "Your plant needs more water\n",
            "Day 3\n",
            "Your plant needs less light\n",
            "Your plant needs more water\n",
            "Day 4\n",
            "Your plant needs less light\n",
            "Your plant needs more water\n",
            "Day 5\n",
            "Your plant needs less light\n",
            "Your plant needs more water\n",
            "Day 6\n",
            "Your plant needs less light\n",
            "Your plant needs more water\n",
            "Day 7\n",
            "Your plant needs less light\n",
            "Your plant needs more water\n",
            "Day 8\n",
            "Your plant needs less light\n",
            "Your plant needs more water\n",
            "Day 9\n",
            "Your plant needs less light\n",
            "Your plant needs more water\n",
            "Day 10\n",
            "Your plant needs less light\n",
            "Your plant needs more water\n",
            "Your plant's health is a 5.200000000000001/10.\n",
            "If you had to rate the wetness of the soil, it would be a 0/10.\n",
            "Your light is turned up to 6.\n"
          ]
        }
      ]
    },
    {
      "cell_type": "markdown",
      "source": [
        "#### **Problem #2.4**\n",
        "\n",
        "Debug the code shown below."
      ],
      "metadata": {
        "id": "pLqchySgLB5E"
      }
    },
    {
      "cell_type": "code",
      "source": [
        "#f(x) = ax^2 + bx + c\n",
        "a = 1\n",
        "b = 8\n",
        "c = 15\n",
        "x1 = (-b + (b**2 - 4*a*c)**0.5)/(2*a)\n",
        "x2 = (-b - (b**2 - 4*a*c)**0.5)/(2*a)\n",
        "print(x1)\n",
        "print(x2)"
      ],
      "metadata": {
        "colab": {
          "base_uri": "https://localhost:8080/"
        },
        "id": "gafSvfZTJ8qO",
        "outputId": "70ceae03-a224-48e9-fef3-5c0230655f26"
      },
      "execution_count": 11,
      "outputs": [
        {
          "output_type": "stream",
          "name": "stdout",
          "text": [
            "-3.0\n",
            "-5.0\n"
          ]
        }
      ]
    },
    {
      "cell_type": "markdown",
      "source": [
        "#### **Problem #2.5**\n",
        "\n",
        "Debug the code shown below."
      ],
      "metadata": {
        "id": "uesbpA-INjWh"
      }
    },
    {
      "cell_type": "code",
      "source": [
        "alisha = baby()\n",
        "alisha.age = 1\n",
        "print(alisha.age)"
      ],
      "metadata": {
        "colab": {
          "base_uri": "https://localhost:8080/"
        },
        "id": "J3OW1W6aMQu0",
        "outputId": "02e0d720-7674-457d-dac7-ab7b57801b3c"
      },
      "execution_count": 12,
      "outputs": [
        {
          "output_type": "stream",
          "name": "stdout",
          "text": [
            "1\n"
          ]
        }
      ]
    },
    {
      "cell_type": "markdown",
      "source": [
        "<a name=\"p3\"></a>\n",
        "\n",
        "---\n",
        "## **Part 3: Coding Challenges [OPTIONAL]**\n",
        "---\n",
        "\n",
        "This part contains mini-projects that you can use to practice your Python skills! Remember, you can search for documentation that may help you."
      ],
      "metadata": {
        "id": "hJugshHqalUm"
      }
    },
    {
      "cell_type": "markdown",
      "source": [
        "#### **Problem #3.1**\n",
        "\n",
        "Research the `numpy` module to find a function that allows you simulate rolling a weighted die that is twice as likely to land on 6 than a typical die. Then, simulate this die being rolled six times."
      ],
      "metadata": {
        "id": "7MCBBIuFaqG0"
      }
    },
    {
      "cell_type": "code",
      "source": [
        "import numpy as np\n",
        "\n",
        "# Define the outcomes of the die and their probabilities\n",
        "outcomes = [1, 2, 3, 4, 5, 6]\n",
        "probabilities = [1/7, 1/7, 1/7, 1/7, 1/7, 2/7]\n",
        "\n",
        "rolls = np.random.choice(outcomes, size=6, p=probabilities)\n",
        "\n",
        "print(rolls)\n"
      ],
      "metadata": {
        "id": "f6-MmfxWRfhJ",
        "outputId": "c6b98ebf-e88f-47c7-c549-77c691b124a0",
        "colab": {
          "base_uri": "https://localhost:8080/"
        }
      },
      "execution_count": 22,
      "outputs": [
        {
          "output_type": "stream",
          "name": "stdout",
          "text": [
            "[6 6 6 1 3 3]\n"
          ]
        }
      ]
    },
    {
      "cell_type": "markdown",
      "source": [
        "#### **Problem #3.2**\n",
        "\n",
        "Use the `append` method to add \"six\" to the list below. Then, write code the prints out the reversed list."
      ],
      "metadata": {
        "id": "MAbKoxKzey5X"
      }
    },
    {
      "cell_type": "code",
      "source": [
        "my_list = [\"one\",\"two\",\"three\", \"four\",\"five\"]\n",
        "my_list.append(\"six\")\n",
        "my_list.reverse()\n",
        "my_list\n",
        "# COMPLETE THIS CODE"
      ],
      "metadata": {
        "id": "492gscAegBnq",
        "outputId": "95aaffb9-4813-4351-9849-e4864627d7f3",
        "colab": {
          "base_uri": "https://localhost:8080/"
        }
      },
      "execution_count": 24,
      "outputs": [
        {
          "output_type": "execute_result",
          "data": {
            "text/plain": [
              "['six', 'five', 'four', 'three', 'two', 'one']"
            ]
          },
          "metadata": {},
          "execution_count": 24
        }
      ]
    },
    {
      "cell_type": "markdown",
      "source": [
        "#### **Problem #3.3**\n",
        "\n",
        "Research the `matplotlib` module to find a function that creates a line graph of the data provided below. For an extra challenge, label the x-axis \"Year\" and the y-axis \"Number of Transistors per Microprocessor in Millions\". This is a visual representation of Moore's Law!"
      ],
      "metadata": {
        "id": "dbLvQlEJgno8"
      }
    },
    {
      "cell_type": "code",
      "source": [
        "import matplotlib.pyplot as plt\n",
        "\n",
        "years = [1972, 1982, 1992, 2002, 2012]\n",
        "num_transistors = [.004, .14, 3.11, 220.67, 2600]\n",
        "\n",
        "plt.plot(years, num_transistors)\n",
        "plt.xlabel(\"Year\")\n",
        "plt.ylabel(\"Number of Transistors per Microprocessor in Millions\")\n",
        "plt.show()\n",
        "# COMPLETE THIS CODE"
      ],
      "metadata": {
        "id": "UuekpDjKlkpU",
        "outputId": "9b63a30c-0d06-44e6-f6b9-9032781e28af",
        "colab": {
          "base_uri": "https://localhost:8080/",
          "height": 449
        }
      },
      "execution_count": 28,
      "outputs": [
        {
          "output_type": "display_data",
          "data": {
            "text/plain": [
              "<Figure size 640x480 with 1 Axes>"
            ],
            "image/png": "[encoded data removed]"
          },
          "metadata": {}
        }
      ]
    },
    {
      "cell_type": "markdown",
      "source": [
        "# End of notebook\n",
        "---\n",
        "© 2023 The Coding School, All rights reserved"
      ],
      "metadata": {
        "id": "88JBud6KoMjn"
      }
    }
  ]
}