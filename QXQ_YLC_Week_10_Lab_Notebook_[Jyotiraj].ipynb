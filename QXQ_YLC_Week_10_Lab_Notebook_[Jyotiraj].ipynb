{
  "nbformat": 4,
  "nbformat_minor": 0,
  "metadata": {
    "colab": {
      "provenance": [],
      "collapsed_sections": [
        "RGNVXnRsVJPw",
        "Xu1OQeRKkHUy",
        "aiSc_I7Boja9",
        "oe_LzgWLdCZL"
      ],
      "include_colab_link": true
    },
    "kernelspec": {
      "name": "python3",
      "display_name": "Python 3"
    },
    "language_info": {
      "name": "python"
    }
  },
  "cells": [
    {
      "cell_type": "markdown",
      "metadata": {
        "id": "view-in-github",
        "colab_type": "text"
      },
      "source": [
        "<a href=\"https://colab.research.google.com/github/jyotiraj-code/qubitxqubit/blob/main/QXQ_YLC_Week_10_Lab_Notebook_%5BJyotiraj%5D.ipynb\" target=\"_parent\"><img src=\"https://colab.research.google.com/assets/colab-badge.svg\" alt=\"Open In Colab\"/></a>"
      ]
    },
    {
      "cell_type": "markdown",
      "metadata": {
        "id": "EN-xuGnTAFTS"
      },
      "source": [
        "# **Lab 10: Ιmplementing BB84 - Part II**\n",
        "---\n",
        "\n",
        "### **Description**\n",
        "In today's lab, we will explore the role of Eve in BB84.\n",
        "\n",
        "<br>\n",
        "\n",
        "### **Structure**\n",
        "**Part 1**: [Alice and Bob](#p1)\n",
        "\n",
        "**Part 2**: [Alice, Bob, and Eve's Measurement Attack](#p2)\n",
        "\n",
        "**Part 3**: [Alice, Bob, and Eve's Intercept and Resent Attack](#p3)\n",
        "\n",
        "**Part 4**: [Alice, Bob, and Eve's Entanglement Attack](#p4)\n",
        "\n",
        "\n",
        "\n",
        "<br>\n",
        "\n",
        "### **Learning Objectives**\n",
        "By the end of this lab, you will:\n",
        "\n",
        "* Recognize how to implement BB84 in cirq, particularly including a measurement attack by Eve.\n",
        "\n",
        "* Recognize how to adjust Eve’s attack in BB84 in cirq.\n",
        "\n",
        "<br>\n",
        "\n",
        "### **Resources**\n",
        "* [BB84 Cheat Sheet](https://docs.google.com/document/d/1FTBVWQsRVPvuP5e4lo3D62F0NOyfA1qIIPrDnocV6nc/edit)\n",
        "\n",
        "<br>\n",
        "\n",
        "**Before starting, run the code below to import all necessary functions and libraries.**"
      ]
    },
    {
      "cell_type": "code",
      "execution_count": 1,
      "metadata": {
        "id": "K96jXNozAFTW",
        "outputId": "b5eaad6d-d253-483b-b938-07b7e74b2087",
        "colab": {
          "base_uri": "https://localhost:8080/"
        }
      },
      "outputs": [
        {
          "output_type": "stream",
          "name": "stdout",
          "text": [
            "\u001b[2K     \u001b[90m━━━━━━━━━━━━━━━━━━━━━━━━━━━━━━━━━━━━━━━━\u001b[0m \u001b[32m1.8/1.8 MB\u001b[0m \u001b[31m10.0 MB/s\u001b[0m eta \u001b[36m0:00:00\u001b[0m\n",
            "\u001b[2K     \u001b[90m━━━━━━━━━━━━━━━━━━━━━━━━━━━━━━━━━━━━━━━━\u001b[0m \u001b[32m143.1/143.1 kB\u001b[0m \u001b[31m9.9 MB/s\u001b[0m eta \u001b[36m0:00:00\u001b[0m\n",
            "\u001b[2K     \u001b[90m━━━━━━━━━━━━━━━━━━━━━━━━━━━━━━━━━━━━━━━━\u001b[0m \u001b[32m598.8/598.8 kB\u001b[0m \u001b[31m18.1 MB/s\u001b[0m eta \u001b[36m0:00:00\u001b[0m\n",
            "\u001b[2K     \u001b[90m━━━━━━━━━━━━━━━━━━━━━━━━━━━━━━━━━━━━━━━━\u001b[0m \u001b[32m60.9/60.9 kB\u001b[0m \u001b[31m6.8 MB/s\u001b[0m eta \u001b[36m0:00:00\u001b[0m\n",
            "\u001b[2K     \u001b[90m━━━━━━━━━━━━━━━━━━━━━━━━━━━━━━━━━━━━━━━━\u001b[0m \u001b[32m66.2/66.2 kB\u001b[0m \u001b[31m8.3 MB/s\u001b[0m eta \u001b[36m0:00:00\u001b[0m\n",
            "\u001b[2K     \u001b[90m━━━━━━━━━━━━━━━━━━━━━━━━━━━━━━━━━━━━━━━━\u001b[0m \u001b[32m596.5/596.5 kB\u001b[0m \u001b[31m18.1 MB/s\u001b[0m eta \u001b[36m0:00:00\u001b[0m\n",
            "\u001b[2K     \u001b[90m━━━━━━━━━━━━━━━━━━━━━━━━━━━━━━━━━━━━━━━━\u001b[0m \u001b[32m223.8/223.8 kB\u001b[0m \u001b[31m15.2 MB/s\u001b[0m eta \u001b[36m0:00:00\u001b[0m\n",
            "\u001b[2K     \u001b[90m━━━━━━━━━━━━━━━━━━━━━━━━━━━━━━━━━━━━━━━━\u001b[0m \u001b[32m229.9/229.9 kB\u001b[0m \u001b[31m16.9 MB/s\u001b[0m eta \u001b[36m0:00:00\u001b[0m\n",
            "\u001b[?25h  Preparing metadata (setup.py) ... \u001b[?25l\u001b[?25hdone\n",
            "\u001b[2K     \u001b[90m━━━━━━━━━━━━━━━━━━━━━━━━━━━━━━━━━━━━━━━━\u001b[0m \u001b[32m151.7/151.7 kB\u001b[0m \u001b[31m18.2 MB/s\u001b[0m eta \u001b[36m0:00:00\u001b[0m\n",
            "\u001b[2K     \u001b[90m━━━━━━━━━━━━━━━━━━━━━━━━━━━━━━━━━━━━━━━━\u001b[0m \u001b[32m45.6/45.6 kB\u001b[0m \u001b[31m5.7 MB/s\u001b[0m eta \u001b[36m0:00:00\u001b[0m\n",
            "\u001b[?25h  Preparing metadata (setup.py) ... \u001b[?25l\u001b[?25hdone\n",
            "\u001b[2K     \u001b[90m━━━━━━━━━━━━━━━━━━━━━━━━━━━━━━━━━━━━━━━━\u001b[0m \u001b[32m1.6/1.6 MB\u001b[0m \u001b[31m27.5 MB/s\u001b[0m eta \u001b[36m0:00:00\u001b[0m\n",
            "\u001b[2K     \u001b[90m━━━━━━━━━━━━━━━━━━━━━━━━━━━━━━━━━━━━━━━━\u001b[0m \u001b[32m151.7/151.7 kB\u001b[0m \u001b[31m14.0 MB/s\u001b[0m eta \u001b[36m0:00:00\u001b[0m\n",
            "\u001b[2K     \u001b[90m━━━━━━━━━━━━━━━━━━━━━━━━━━━━━━━━━━━━━━━━\u001b[0m \u001b[32m151.7/151.7 kB\u001b[0m \u001b[31m16.3 MB/s\u001b[0m eta \u001b[36m0:00:00\u001b[0m\n",
            "\u001b[2K     \u001b[90m━━━━━━━━━━━━━━━━━━━━━━━━━━━━━━━━━━━━━━━━\u001b[0m \u001b[32m147.4/147.4 kB\u001b[0m \u001b[31m14.5 MB/s\u001b[0m eta \u001b[36m0:00:00\u001b[0m\n",
            "\u001b[2K     \u001b[90m━━━━━━━━━━━━━━━━━━━━━━━━━━━━━━━━━━━━━━━━\u001b[0m \u001b[32m147.4/147.4 kB\u001b[0m \u001b[31m15.4 MB/s\u001b[0m eta \u001b[36m0:00:00\u001b[0m\n",
            "\u001b[2K     \u001b[90m━━━━━━━━━━━━━━━━━━━━━━━━━━━━━━━━━━━━━━━━\u001b[0m \u001b[32m147.4/147.4 kB\u001b[0m \u001b[31m12.8 MB/s\u001b[0m eta \u001b[36m0:00:00\u001b[0m\n",
            "\u001b[2K     \u001b[90m━━━━━━━━━━━━━━━━━━━━━━━━━━━━━━━━━━━━━━━━\u001b[0m \u001b[32m142.7/142.7 kB\u001b[0m \u001b[31m14.6 MB/s\u001b[0m eta \u001b[36m0:00:00\u001b[0m\n",
            "\u001b[2K     \u001b[90m━━━━━━━━━━━━━━━━━━━━━━━━━━━━━━━━━━━━━━━━\u001b[0m \u001b[32m88.3/88.3 kB\u001b[0m \u001b[31m9.6 MB/s\u001b[0m eta \u001b[36m0:00:00\u001b[0m\n",
            "\u001b[2K     \u001b[90m━━━━━━━━━━━━━━━━━━━━━━━━━━━━━━━━━━━━━━━━\u001b[0m \u001b[32m85.5/85.5 kB\u001b[0m \u001b[31m7.0 MB/s\u001b[0m eta \u001b[36m0:00:00\u001b[0m\n",
            "\u001b[2K     \u001b[90m━━━━━━━━━━━━━━━━━━━━━━━━━━━━━━━━━━━━━━━━\u001b[0m \u001b[32m85.1/85.1 kB\u001b[0m \u001b[31m9.7 MB/s\u001b[0m eta \u001b[36m0:00:00\u001b[0m\n",
            "\u001b[2K     \u001b[90m━━━━━━━━━━━━━━━━━━━━━━━━━━━━━━━━━━━━━━━━\u001b[0m \u001b[32m84.7/84.7 kB\u001b[0m \u001b[31m9.3 MB/s\u001b[0m eta \u001b[36m0:00:00\u001b[0m\n",
            "\u001b[2K     \u001b[90m━━━━━━━━━━━━━━━━━━━━━━━━━━━━━━━━━━━━━━━━\u001b[0m \u001b[32m83.6/83.6 kB\u001b[0m \u001b[31m10.3 MB/s\u001b[0m eta \u001b[36m0:00:00\u001b[0m\n",
            "\u001b[2K     \u001b[90m━━━━━━━━━━━━━━━━━━━━━━━━━━━━━━━━━━━━━━━━\u001b[0m \u001b[32m83.3/83.3 kB\u001b[0m \u001b[31m10.0 MB/s\u001b[0m eta \u001b[36m0:00:00\u001b[0m\n",
            "\u001b[2K     \u001b[90m━━━━━━━━━━━━━━━━━━━━━━━━━━━━━━━━━━━━━━━━\u001b[0m \u001b[32m83.4/83.4 kB\u001b[0m \u001b[31m11.1 MB/s\u001b[0m eta \u001b[36m0:00:00\u001b[0m\n",
            "\u001b[2K     \u001b[90m━━━━━━━━━━━━━━━━━━━━━━━━━━━━━━━━━━━━━━━━\u001b[0m \u001b[32m83.2/83.2 kB\u001b[0m \u001b[31m10.1 MB/s\u001b[0m eta \u001b[36m0:00:00\u001b[0m\n",
            "\u001b[2K     \u001b[90m━━━━━━━━━━━━━━━━━━━━━━━━━━━━━━━━━━━━━━━━\u001b[0m \u001b[32m82.5/82.5 kB\u001b[0m \u001b[31m9.0 MB/s\u001b[0m eta \u001b[36m0:00:00\u001b[0m\n",
            "\u001b[2K     \u001b[90m━━━━━━━━━━━━━━━━━━━━━━━━━━━━━━━━━━━━━━━━\u001b[0m \u001b[32m81.0/81.0 kB\u001b[0m \u001b[31m9.5 MB/s\u001b[0m eta \u001b[36m0:00:00\u001b[0m\n",
            "\u001b[2K     \u001b[90m━━━━━━━━━━━━━━━━━━━━━━━━━━━━━━━━━━━━━━━━\u001b[0m \u001b[32m81.0/81.0 kB\u001b[0m \u001b[31m8.4 MB/s\u001b[0m eta \u001b[36m0:00:00\u001b[0m\n",
            "\u001b[2K     \u001b[90m━━━━━━━━━━━━━━━━━━━━━━━━━━━━━━━━━━━━━━━━\u001b[0m \u001b[32m80.8/80.8 kB\u001b[0m \u001b[31m9.0 MB/s\u001b[0m eta \u001b[36m0:00:00\u001b[0m\n",
            "\u001b[2K     \u001b[90m━━━━━━━━━━━━━━━━━━━━━━━━━━━━━━━━━━━━━━━━\u001b[0m \u001b[32m80.7/80.7 kB\u001b[0m \u001b[31m9.4 MB/s\u001b[0m eta \u001b[36m0:00:00\u001b[0m\n",
            "\u001b[2K     \u001b[90m━━━━━━━━━━━━━━━━━━━━━━━━━━━━━━━━━━━━━━━━\u001b[0m \u001b[32m81.5/81.5 kB\u001b[0m \u001b[31m9.8 MB/s\u001b[0m eta \u001b[36m0:00:00\u001b[0m\n",
            "\u001b[2K     \u001b[90m━━━━━━━━━━━━━━━━━━━━━━━━━━━━━━━━━━━━━━━━\u001b[0m \u001b[32m90.4/90.4 kB\u001b[0m \u001b[31m8.8 MB/s\u001b[0m eta \u001b[36m0:00:00\u001b[0m\n",
            "\u001b[2K     \u001b[90m━━━━━━━━━━━━━━━━━━━━━━━━━━━━━━━━━━━━━━━━\u001b[0m \u001b[32m117.7/117.7 kB\u001b[0m \u001b[31m15.0 MB/s\u001b[0m eta \u001b[36m0:00:00\u001b[0m\n",
            "\u001b[2K     \u001b[90m━━━━━━━━━━━━━━━━━━━━━━━━━━━━━━━━━━━━━━━━\u001b[0m \u001b[32m60.6/60.6 kB\u001b[0m \u001b[31m8.1 MB/s\u001b[0m eta \u001b[36m0:00:00\u001b[0m\n",
            "\u001b[2K     \u001b[90m━━━━━━━━━━━━━━━━━━━━━━━━━━━━━━━━━━━━━━━━\u001b[0m \u001b[32m71.5/71.5 kB\u001b[0m \u001b[31m8.6 MB/s\u001b[0m eta \u001b[36m0:00:00\u001b[0m\n",
            "\u001b[2K     \u001b[90m━━━━━━━━━━━━━━━━━━━━━━━━━━━━━━━━━━━━━━━━\u001b[0m \u001b[32m3.1/3.1 MB\u001b[0m \u001b[31m40.3 MB/s\u001b[0m eta \u001b[36m0:00:00\u001b[0m\n",
            "\u001b[2K     \u001b[90m━━━━━━━━━━━━━━━━━━━━━━━━━━━━━━━━━━━━━━━━\u001b[0m \u001b[32m1.7/1.7 MB\u001b[0m \u001b[31m45.7 MB/s\u001b[0m eta \u001b[36m0:00:00\u001b[0m\n",
            "\u001b[2K     \u001b[90m━━━━━━━━━━━━━━━━━━━━━━━━━━━━━━━━━━━━━━━━\u001b[0m \u001b[32m117.8/117.8 kB\u001b[0m \u001b[31m13.1 MB/s\u001b[0m eta \u001b[36m0:00:00\u001b[0m\n",
            "\u001b[2K     \u001b[90m━━━━━━━━━━━━━━━━━━━━━━━━━━━━━━━━━━━━━━━━\u001b[0m \u001b[32m69.6/69.6 kB\u001b[0m \u001b[31m8.6 MB/s\u001b[0m eta \u001b[36m0:00:00\u001b[0m\n",
            "\u001b[2K     \u001b[90m━━━━━━━━━━━━━━━━━━━━━━━━━━━━━━━━━━━━━━━━\u001b[0m \u001b[32m526.7/526.7 kB\u001b[0m \u001b[31m42.8 MB/s\u001b[0m eta \u001b[36m0:00:00\u001b[0m\n",
            "\u001b[2K     \u001b[90m━━━━━━━━━━━━━━━━━━━━━━━━━━━━━━━━━━━━━━━━\u001b[0m \u001b[32m58.3/58.3 kB\u001b[0m \u001b[31m6.7 MB/s\u001b[0m eta \u001b[36m0:00:00\u001b[0m\n",
            "\u001b[?25h  Building wheel for lark (setup.py) ... \u001b[?25l\u001b[?25hdone\n",
            "  Building wheel for rpcq (setup.py) ... \u001b[?25l\u001b[?25hdone\n",
            "\u001b[31mERROR: pip's dependency resolver does not currently take into account all the packages that are installed. This behaviour is the source of the following dependency conflicts.\n",
            "referencing 0.35.1 requires attrs>=22.2.0, but you have attrs 21.4.0 which is incompatible.\u001b[0m\u001b[31m\n",
            "\u001b[0m"
          ]
        }
      ],
      "source": [
        "!pip install cirq --quiet\n",
        "import cirq\n",
        "from random import choices\n",
        "import binascii"
      ]
    },
    {
      "cell_type": "markdown",
      "source": [
        "<a name=\"p1\"></a>\n",
        "\n",
        "---\n",
        "## **Part 1: Alice and Bob**\n",
        "---\n",
        "\n",
        "The entire BB84 protocol between Alice and Bob is implemented below."
      ],
      "metadata": {
        "id": "MiiuFV_ZRkY-"
      }
    },
    {
      "cell_type": "markdown",
      "source": [
        "---\n",
        "### **Part 1.1: Setup**\n",
        "---"
      ],
      "metadata": {
        "id": "w2DDlHS-4wAO"
      }
    },
    {
      "cell_type": "markdown",
      "source": [
        "#### **Problem #1.1.1**\n",
        "\n",
        "**Together**, let's define a dictionary called `encode_gates` that specify which gates to apply based on the bit value. Then, let's define a dictionary called `basis_gates` that specify which gates to apply based on the basis. Finally, let's create a list of `NamedQubit`s that is `num_bits` long and has the prefix `q`."
      ],
      "metadata": {
        "id": "BYgRaiSIhTVN"
      }
    },
    {
      "cell_type": "code",
      "source": [
        "encode_gates = {0: cirq.I, 1: cirq.X}# COMPLETE THIS CODE\n",
        "basis_gates = {'Z': cirq.I, 'X': cirq.H}# COMPLETE THIS CODE\n",
        "\n",
        "num_bits = 10\n",
        "qubits = cirq.NamedQubit.range(num_bits, prefix = 'q')"
      ],
      "metadata": {
        "id": "iUwOKTr3gggO"
      },
      "execution_count": 2,
      "outputs": []
    },
    {
      "cell_type": "markdown",
      "source": [
        "---\n",
        "### **Part 1.2: Implementing the Steps**\n",
        "---"
      ],
      "metadata": {
        "id": "gxxdwrtwiWf6"
      }
    },
    {
      "cell_type": "markdown",
      "source": [
        "---\n",
        "#### **Phase #1: Alice Sends**\n",
        "---"
      ],
      "metadata": {
        "id": "SeWOI-h_tssM"
      }
    },
    {
      "cell_type": "markdown",
      "source": [
        "#### **Step #1: Alice Randomly Chooses Bits**\n",
        "\n",
        "**Together**, let's use python's `choices(...)` function to create Alice's key of random bits that is `num_bits` long."
      ],
      "metadata": {
        "id": "RGNVXnRsVJPw"
      }
    },
    {
      "cell_type": "code",
      "source": [
        "alice_key = choices([0,1], k = num_bits)# COMPLETE THIS CODE\n",
        "\n",
        "print('Alice\\'s initial key: ', alice_key)"
      ],
      "metadata": {
        "id": "NVqLgkxLgtPH",
        "outputId": "f40ae1c7-926b-4107-bcdc-0c054e1c943a",
        "colab": {
          "base_uri": "https://localhost:8080/"
        }
      },
      "execution_count": 3,
      "outputs": [
        {
          "output_type": "stream",
          "name": "stdout",
          "text": [
            "Alice's initial key:  [1, 0, 0, 0, 0, 1, 0, 1, 1, 1]\n"
          ]
        }
      ]
    },
    {
      "cell_type": "markdown",
      "source": [
        "<a name=\"s2\"></a>\n",
        "\n",
        "#### **Step #2: Alice Randomly Chooses Bases**\n",
        "\n",
        "**Together**, let's use python's `choices(...)` function to create Alice's `num_bits` basis choices."
      ],
      "metadata": {
        "id": "Xu1OQeRKkHUy"
      }
    },
    {
      "cell_type": "code",
      "source": [
        "alice_bases = choices(['X', 'Z'], k = num_bits)# COMPLETE THIS CODE\n",
        "\n",
        "print('\\nAlice\\'s randomly chosen bases: ', alice_bases)"
      ],
      "metadata": {
        "id": "XBAcPgJYg0Ar",
        "outputId": "39a5ebef-c733-4291-ad29-5141b64266df",
        "colab": {
          "base_uri": "https://localhost:8080/"
        }
      },
      "execution_count": 4,
      "outputs": [
        {
          "output_type": "stream",
          "name": "stdout",
          "text": [
            "\n",
            "Alice's randomly chosen bases:  ['X', 'Z', 'Z', 'Z', 'X', 'Z', 'Z', 'X', 'Z', 'X']\n"
          ]
        }
      ]
    },
    {
      "cell_type": "markdown",
      "source": [
        "<a name=\"s3\"></a>\n",
        "\n",
        "#### **Step #3: Alice Creates Qubits**\n",
        "\n",
        "**Together**, create Alice's qubits based on her choice of bit and basis. Complete the code below so that the appropriate gates are appended to `alice_circuit` within the loop."
      ],
      "metadata": {
        "id": "aiSc_I7Boja9"
      }
    },
    {
      "cell_type": "code",
      "source": [
        "alice_circuit = cirq.Circuit()\n",
        "\n",
        "for bit in range(num_bits):# COMPLETE THIS CODE\n",
        "\n",
        "  encode_value = alice_key[bit]\n",
        "  encode_gate = encode_gates[encode_value]# COMPLETE THIS CODE\n",
        "\n",
        "  basis_value = alice_bases[bit]\n",
        "  basis_gate = basis_gates[basis_value]# COMPLETE THIS CODE\n",
        "\n",
        "  qubit = qubits[bit]\n",
        "  alice_circuit.append(encode_gate(qubit))# COMPLETE THIS CODE\n",
        "  alice_circuit.append(basis_gate(qubit))# COMPLETE THIS CODE"
      ],
      "metadata": {
        "id": "r7tJZTVUg6C6"
      },
      "execution_count": 6,
      "outputs": []
    },
    {
      "cell_type": "markdown",
      "source": [
        "<a name=\"s4\"></a>\n",
        "\n",
        "#### **Step #4: Alice Sends the Qubits to Bob**\n",
        "\n",
        "This step doesn't require us to do anything in Python. However, in real life, this would be where Alice sends Bob the qubits through a public quantum channel."
      ],
      "metadata": {
        "id": "hYcLBs2ZpWDM"
      }
    },
    {
      "cell_type": "markdown",
      "source": [
        "---\n",
        "#### **Phase #2: Bob Receives**\n",
        "---"
      ],
      "metadata": {
        "id": "Jro_FaGztxFG"
      }
    },
    {
      "cell_type": "markdown",
      "source": [
        "<a name=\"s5\"></a>\n",
        "\n",
        "#### **Step #5: Bob Randomly Chooses Bases**\n",
        "\n",
        "**Independently**, randomly choose Bob's `num_bits` bases and apply the appropriate gates to the qubits he received, `qubits`. Complete the code below to accomplish this for each qubit."
      ],
      "metadata": {
        "id": "YB9I1uc3xwPw"
      }
    },
    {
      "cell_type": "code",
      "source": [
        "bob_bases = choices(['X','Z'], k = num_bits)# COMPLETE THIS CODE\n",
        "print('Bob\\'s randomly chosen bases: ', bob_bases)\n",
        "\n",
        "bob_circuit = cirq.Circuit()\n",
        "\n",
        "for bit in range(num_bits):# COMPLETE THIS CODE\n",
        "\n",
        "  basis_value = bob_bases[bit]# COMPLETE THIS CODE\n",
        "  basis_gate = basis_gates[basis_value]# COMPLETE THIS CODE\n",
        "\n",
        "  qubit = qubits[bit]# COMPLETE THIS CODE\n",
        "  bob_circuit.append(basis_gate(qubit))# COMPLETE THIS CODE"
      ],
      "metadata": {
        "id": "J6Ysgw5lhwLy",
        "outputId": "b432b64e-5c7a-47cd-9e35-b50e09c516a1",
        "colab": {
          "base_uri": "https://localhost:8080/"
        }
      },
      "execution_count": 7,
      "outputs": [
        {
          "output_type": "stream",
          "name": "stdout",
          "text": [
            "Bob's randomly chosen bases:  ['Z', 'Z', 'Z', 'X', 'Z', 'Z', 'Z', 'X', 'X', 'Z']\n"
          ]
        }
      ]
    },
    {
      "cell_type": "markdown",
      "source": [
        "<a name=\"s6\"></a>\n",
        "\n",
        "#### **Step #6: Bob Measures the Qubits**\n",
        "\n",
        "**Independently**, make a measurement of all of the qubits for Bob. Complete the code below to append this action to `bob_circuit`. Ensure the measure method is given the parameter `key = 'bob key'` so that we can easily retrieve this result later."
      ],
      "metadata": {
        "id": "d5VXtTWs0RW2"
      }
    },
    {
      "cell_type": "code",
      "source": [
        "bob_circuit.append(cirq.measure(qubits, key = 'bob key'))# COMPLETE THIS CODE\n",
        "\n",
        "print(bob_circuit)"
      ],
      "metadata": {
        "id": "UAd0Qvwkh8Lp",
        "outputId": "d3725c69-2a6f-433a-8b1a-6c8158afd31c",
        "colab": {
          "base_uri": "https://localhost:8080/"
        }
      },
      "execution_count": 8,
      "outputs": [
        {
          "output_type": "stream",
          "name": "stdout",
          "text": [
            "q0: ───I───M('bob key')───\n",
            "           │\n",
            "q1: ───I───M──────────────\n",
            "           │\n",
            "q2: ───I───M──────────────\n",
            "           │\n",
            "q3: ───H───M──────────────\n",
            "           │\n",
            "q4: ───I───M──────────────\n",
            "           │\n",
            "q5: ───I───M──────────────\n",
            "           │\n",
            "q6: ───I───M──────────────\n",
            "           │\n",
            "q7: ───H───M──────────────\n",
            "           │\n",
            "q8: ───H───M──────────────\n",
            "           │\n",
            "q9: ───I───M──────────────\n"
          ]
        }
      ]
    },
    {
      "cell_type": "markdown",
      "source": [
        "<a name=\"s7\"></a>\n",
        "\n",
        "#### **Step #7: Bob Creates a Key**\n",
        "\n",
        "**Independently**, create a key for Bob from the mesurement result of each qubit.\n",
        "\n",
        "<br>\n",
        "\n",
        "**Run the code below to accomplish this step.**"
      ],
      "metadata": {
        "id": "WabxRy4p02i1"
      }
    },
    {
      "cell_type": "code",
      "source": [
        "bb84_circuit = alice_circuit + bob_circuit\n",
        "\n",
        "sim = cirq.Simulator()\n",
        "results = sim.run(bb84_circuit)\n",
        "bob_key = results.measurements['bob key'][0]\n",
        "\n",
        "print('\\nBob\\'s initial key: ', bob_key)"
      ],
      "metadata": {
        "id": "iCSy7NntiGpd",
        "outputId": "95cd9ea5-e0b6-418c-fb01-b3720317f3f7",
        "colab": {
          "base_uri": "https://localhost:8080/"
        }
      },
      "execution_count": 9,
      "outputs": [
        {
          "output_type": "stream",
          "name": "stdout",
          "text": [
            "\n",
            "Bob's initial key:  [0 0 0 1 0 1 0 1 1 1]\n"
          ]
        }
      ]
    },
    {
      "cell_type": "markdown",
      "source": [
        "---\n",
        "#### **Phase #3: Alice and Bob Compare**\n",
        "---"
      ],
      "metadata": {
        "id": "zRSajhVHIE1E"
      }
    },
    {
      "cell_type": "markdown",
      "source": [
        "<a name=\"s8\"></a>\n",
        "\n",
        "#### **Step #8: Alice and Bob Compare Bases**\n",
        "\n",
        "**Independently**, compare Alice's and Bob's randomly selected bases.\n",
        "\n",
        "**Run the code below to accomplish this step.**"
      ],
      "metadata": {
        "id": "Hs20un7c1S1j"
      }
    },
    {
      "cell_type": "code",
      "source": [
        "final_alice_key = []\n",
        "final_bob_key = []\n",
        "\n",
        "for bit in range(num_bits):\n",
        "\n",
        "  if alice_bases[bit] == bob_bases[bit]:\n",
        "    final_alice_key.append(alice_key[bit])\n",
        "    final_bob_key.append(bob_key[bit])\n",
        "\n",
        "print('\\nAlice\\'s key: ', final_alice_key)\n",
        "print('Bob\\'s key: ', final_bob_key)"
      ],
      "metadata": {
        "id": "iHDoJMMgiOsG",
        "outputId": "e3ea7254-446d-468d-ace3-a5afe0d1ccf9",
        "colab": {
          "base_uri": "https://localhost:8080/"
        }
      },
      "execution_count": 10,
      "outputs": [
        {
          "output_type": "stream",
          "name": "stdout",
          "text": [
            "\n",
            "Alice's key:  [0, 0, 1, 0, 1]\n",
            "Bob's key:  [0, 0, 1, 0, 1]\n"
          ]
        }
      ]
    },
    {
      "cell_type": "markdown",
      "source": [
        "<a name=\"s9\"></a>\n",
        "\n",
        "#### **Step #9: Alice and Bob Compare the First Bits in Their Key**\n",
        "\n",
        "**Independently**, compare the first few bits in Alice's and Bob's key to ensure the protocol was successful.\n",
        "\n",
        "<br>\n",
        "\n",
        "**Run the code below to accomplish this.**"
      ],
      "metadata": {
        "id": "LacthwPG1xW4"
      }
    },
    {
      "cell_type": "code",
      "source": [
        "num_bits_to_compare = int(len(final_alice_key) * .5)\n",
        "if final_alice_key[0:num_bits_to_compare] == final_bob_key[0:num_bits_to_compare]:\n",
        "  final_alice_key = final_alice_key[num_bits_to_compare:]\n",
        "  final_bob_key = final_bob_key[num_bits_to_compare:]\n",
        "\n",
        "  print('\\n\\nWe can use our keys!')\n",
        "  print('Alice Key: ', final_alice_key)\n",
        "  print('Bob Key: ', final_bob_key)\n",
        "\n",
        "else:\n",
        "  print('\\n\\nEve was listening, we need to use a different channel!')"
      ],
      "metadata": {
        "id": "5mv42rjYidR9",
        "outputId": "ba68f38c-8c07-44aa-a19b-bcfd443cab62",
        "colab": {
          "base_uri": "https://localhost:8080/"
        }
      },
      "execution_count": 11,
      "outputs": [
        {
          "output_type": "stream",
          "name": "stdout",
          "text": [
            "\n",
            "\n",
            "We can use our keys!\n",
            "Alice Key:  [1, 0, 1]\n",
            "Bob Key:  [1, 0, 1]\n"
          ]
        }
      ]
    },
    {
      "cell_type": "markdown",
      "source": [
        "<a name=\"p2\"></a>\n",
        "\n",
        "---\n",
        "## **Part 2: Alice, Bob, and Eve's Measurement Attack**\n",
        "---\n",
        "\n",
        "Now, we will modify this code to introduce Eve, who will be performing a measurement attack."
      ],
      "metadata": {
        "id": "E7017BduYQfO"
      }
    },
    {
      "cell_type": "markdown",
      "source": [
        "### **Part 2.1: The Setup**"
      ],
      "metadata": {
        "id": "2KB68kh8YQfa"
      }
    },
    {
      "cell_type": "markdown",
      "source": [
        "#### **Problem #2.1.1**\n",
        "\n",
        "**Together**, let's define a dictionary called `encode_gates` that specify which gates to apply based on the bit value. Then, let's define a dictionary called `basis_gates` that specify which gates to apply based on the basis. Finally, let's create a list of `NamedQubit`s that is `num_bits` long and has the prefix `q`."
      ],
      "metadata": {
        "id": "6ai3eH036F4k"
      }
    },
    {
      "cell_type": "code",
      "source": [
        "encode_gates = {0: cirq.I, 1: cirq.X}\n",
        "basis_gates = {'Z': cirq.I, 'X': cirq.H}\n",
        "\n",
        "num_bits = 100\n",
        "qubits = cirq.NamedQubit.range(num_bits, prefix = 'q')"
      ],
      "metadata": {
        "id": "ICEM9gnJij3x"
      },
      "execution_count": 27,
      "outputs": []
    },
    {
      "cell_type": "markdown",
      "source": [
        "### **Part 2.2: Implementing the Steps**"
      ],
      "metadata": {
        "id": "K38JnXPlf8Ah"
      }
    },
    {
      "cell_type": "markdown",
      "source": [
        "---\n",
        "#### **Phase #1: Alice Sends**\n",
        "---"
      ],
      "metadata": {
        "id": "M2_j35ISYQfb"
      }
    },
    {
      "cell_type": "markdown",
      "source": [
        "<a name=\"s1\"></a>\n",
        "\n",
        "#### **Step #1: Alice Randomly Chooses Bits**\n",
        "\n",
        "**Together**, let's use python's `choices(...)` function to create Alice's key of random bits that is `num_bits` long."
      ],
      "metadata": {
        "id": "1bpPkqDB60ii"
      }
    },
    {
      "cell_type": "code",
      "source": [
        "alice_key = choices([0, 1], k = num_bits)\n",
        "\n",
        "print('Alice\\'s initial key: ', alice_key)"
      ],
      "metadata": {
        "id": "MIncmYvmiu65",
        "outputId": "f808f507-95c2-4aaa-b749-7423b6f92f1a",
        "colab": {
          "base_uri": "https://localhost:8080/"
        }
      },
      "execution_count": 28,
      "outputs": [
        {
          "output_type": "stream",
          "name": "stdout",
          "text": [
            "Alice's initial key:  [1, 0, 0, 0, 1, 1, 1, 0, 0, 0, 1, 0, 0, 0, 1, 1, 1, 1, 0, 1, 1, 0, 1, 0, 1, 0, 1, 0, 0, 0, 0, 1, 0, 0, 1, 0, 1, 0, 0, 0, 0, 0, 1, 0, 1, 0, 0, 1, 1, 1, 1, 0, 1, 1, 0, 0, 1, 0, 0, 1, 0, 0, 0, 0, 0, 0, 0, 1, 1, 0, 0, 1, 0, 1, 0, 1, 1, 1, 1, 0, 0, 1, 1, 1, 0, 0, 1, 1, 0, 0, 1, 1, 0, 1, 1, 0, 0, 0, 0, 0]\n"
          ]
        }
      ]
    },
    {
      "cell_type": "markdown",
      "source": [
        "<a name=\"s2\"></a>\n",
        "\n",
        "#### **Step #2: Alice Randomly Chooses Bases**\n",
        "\n",
        "**Together**, let's use python's `choices(...)` function to create Alice's `num_bits` basis choices."
      ],
      "metadata": {
        "id": "WpH1xVfE60is"
      }
    },
    {
      "cell_type": "code",
      "source": [
        "alice_bases = choices(['Z', 'X'], k = num_bits)\n",
        "\n",
        "print('\\nAlice\\'s randomly chosen bases: ', alice_bases)"
      ],
      "metadata": {
        "id": "6S4ooUlri2FQ",
        "outputId": "8858e744-2e7d-44a3-a6a2-1d75612d729a",
        "colab": {
          "base_uri": "https://localhost:8080/"
        }
      },
      "execution_count": 29,
      "outputs": [
        {
          "output_type": "stream",
          "name": "stdout",
          "text": [
            "\n",
            "Alice's randomly chosen bases:  ['Z', 'Z', 'Z', 'X', 'Z', 'X', 'X', 'Z', 'X', 'Z', 'Z', 'X', 'X', 'Z', 'X', 'X', 'X', 'Z', 'Z', 'X', 'X', 'X', 'Z', 'X', 'X', 'X', 'Z', 'X', 'X', 'X', 'X', 'Z', 'Z', 'X', 'Z', 'X', 'Z', 'X', 'X', 'X', 'Z', 'X', 'X', 'Z', 'X', 'X', 'Z', 'X', 'X', 'Z', 'Z', 'X', 'Z', 'Z', 'Z', 'X', 'Z', 'X', 'X', 'Z', 'Z', 'X', 'Z', 'Z', 'X', 'Z', 'Z', 'X', 'Z', 'X', 'X', 'X', 'X', 'Z', 'X', 'Z', 'Z', 'Z', 'X', 'Z', 'Z', 'X', 'X', 'Z', 'Z', 'Z', 'Z', 'Z', 'X', 'Z', 'X', 'X', 'Z', 'X', 'X', 'X', 'Z', 'X', 'Z', 'Z']\n"
          ]
        }
      ]
    },
    {
      "cell_type": "markdown",
      "source": [
        "<a name=\"s3\"></a>\n",
        "\n",
        "#### **Step #3: Alice Creates Qubits**\n",
        "\n",
        "**Independently**, create Alice's qubits based on her choice of bit and basis. Complete the code below so that the appropriate gates are appended to `alice_circuit` within the loop."
      ],
      "metadata": {
        "id": "PZdGJ45u60is"
      }
    },
    {
      "cell_type": "code",
      "source": [
        "alice_circuit = cirq.Circuit()\n",
        "\n",
        "for bit in range(num_bits):\n",
        "\n",
        "  encode_value = alice_key[bit]\n",
        "  encode_gate = encode_gates[encode_value]\n",
        "\n",
        "  basis_value = alice_bases[bit]\n",
        "  basis_gate = basis_gates[basis_value]\n",
        "\n",
        "  qubit = qubits[bit]\n",
        "  alice_circuit.append(encode_gate(qubit))\n",
        "  alice_circuit.append(basis_gate(qubit))"
      ],
      "metadata": {
        "id": "O3KxJLVNkq_C"
      },
      "execution_count": 30,
      "outputs": []
    },
    {
      "cell_type": "markdown",
      "source": [
        "<a name=\"s4\"></a>\n",
        "\n",
        "#### **Step #4: Alice Sends the Qubits to Bob**\n",
        "\n",
        "This step doesn't require us to do anything in Python. However, in real life, this would be where Alice sends Bob the qubits through a public quantum channel."
      ],
      "metadata": {
        "id": "OQva_98460it"
      }
    },
    {
      "cell_type": "markdown",
      "source": [
        "---\n",
        "#### **Phase #2: Eve Receives**\n",
        "---"
      ],
      "metadata": {
        "id": "9pUoOgTsYXik"
      }
    },
    {
      "cell_type": "markdown",
      "source": [
        "<a name=\"s4\"></a>\n",
        "\n",
        "#### **Step #5: Eve Randomly Chooses Bases**\n",
        "\n",
        "For this attack, Eve does not try to guess bases, so no code is required."
      ],
      "metadata": {
        "id": "HnDmRCcn7JHV"
      }
    },
    {
      "cell_type": "markdown",
      "source": [
        "#### **Step #6: Eve Measures the Qubits**\n",
        "**Independently**, make a measurement of all of the qubits for Eve. Complete the code below to append this action to `eve_circuit`. Ensure the measure method is given the parameter `key = 'eve key'` so that we can easily retrieve this result later."
      ],
      "metadata": {
        "id": "wVPf8vH27fCu"
      }
    },
    {
      "cell_type": "code",
      "source": [
        "eve_circuit = cirq.Circuit()\n",
        "eve_circuit.append(cirq.measure(qubits, key = 'eve key'))"
      ],
      "metadata": {
        "id": "vOUWQiHmlEmo"
      },
      "execution_count": 31,
      "outputs": []
    },
    {
      "cell_type": "markdown",
      "source": [
        "#### **Step #7: Eve Creates a Key**\n",
        "\n",
        "**Independently**, create a key for Eve from the mesurement result of each qubit.\n",
        "\n",
        "<br>\n",
        "\n",
        "**Run the code below to accomplish this step.**"
      ],
      "metadata": {
        "id": "4lz0icX38BPV"
      }
    },
    {
      "cell_type": "code",
      "source": [
        "eve_intercept_circuit = alice_circuit + eve_circuit\n",
        "\n",
        "sim = cirq.Simulator()\n",
        "results = sim.run(eve_intercept_circuit)\n",
        "eve_key = results.measurements['eve key'][0]\n",
        "\n",
        "print('\\nEve\\'s initial key: ', eve_key)"
      ],
      "metadata": {
        "id": "FAbNTbDKlNoV",
        "outputId": "ccc2b1f4-aaf8-465a-d883-1c6287e071fb",
        "colab": {
          "base_uri": "https://localhost:8080/"
        }
      },
      "execution_count": 32,
      "outputs": [
        {
          "output_type": "stream",
          "name": "stdout",
          "text": [
            "\n",
            "Eve's initial key:  [1 0 0 1 1 0 1 0 1 0 1 1 0 0 0 0 0 1 0 1 1 1 1 0 0 1 1 1 1 1 0 1 0 1 1 0 1\n",
            " 1 1 0 0 0 1 0 1 1 0 0 1 1 1 1 1 1 0 1 1 1 1 1 0 0 0 0 1 0 0 0 1 1 1 1 1 1\n",
            " 1 1 1 1 0 0 0 1 1 1 0 0 1 1 1 0 1 0 0 0 0 0 0 0 0 0]\n"
          ]
        }
      ]
    },
    {
      "cell_type": "markdown",
      "source": [
        "#### **Eve Repeats Step #3 to Fool Bob**\n",
        "\n",
        "**Run the code below to accomplish this step.**"
      ],
      "metadata": {
        "id": "eng5dYXx9uoM"
      }
    },
    {
      "cell_type": "code",
      "source": [
        "alice_circuit = cirq.Circuit()\n",
        "\n",
        "for bit in range(num_bits):\n",
        "\n",
        "  encode_value = eve_key[bit]\n",
        "  encode_gate = encode_gates[encode_value]\n",
        "\n",
        "  qubit = qubits[bit]\n",
        "  alice_circuit.append(encode_gate(qubit))\n",
        "\n",
        "print('\\nAlice\\'s Phase 1 circuit after Eve\\'s interception:\\n', alice_circuit)"
      ],
      "metadata": {
        "id": "XKjpZbs0lSX_",
        "outputId": "627a6c5a-de8a-41ad-ac5b-48b5edecff73",
        "colab": {
          "base_uri": "https://localhost:8080/"
        }
      },
      "execution_count": 33,
      "outputs": [
        {
          "output_type": "stream",
          "name": "stdout",
          "text": [
            "\n",
            "Alice's Phase 1 circuit after Eve's interception:\n",
            " q0: ────X───\n",
            "\n",
            "q1: ────I───\n",
            "\n",
            "q2: ────I───\n",
            "\n",
            "q3: ────X───\n",
            "\n",
            "q4: ────X───\n",
            "\n",
            "q5: ────I───\n",
            "\n",
            "q6: ────X───\n",
            "\n",
            "q7: ────I───\n",
            "\n",
            "q8: ────X───\n",
            "\n",
            "q9: ────I───\n",
            "\n",
            "q10: ───X───\n",
            "\n",
            "q11: ───X───\n",
            "\n",
            "q12: ───I───\n",
            "\n",
            "q13: ───I───\n",
            "\n",
            "q14: ───I───\n",
            "\n",
            "q15: ───I───\n",
            "\n",
            "q16: ───I───\n",
            "\n",
            "q17: ───X───\n",
            "\n",
            "q18: ───I───\n",
            "\n",
            "q19: ───X───\n",
            "\n",
            "q20: ───X───\n",
            "\n",
            "q21: ───X───\n",
            "\n",
            "q22: ───X───\n",
            "\n",
            "q23: ───I───\n",
            "\n",
            "q24: ───I───\n",
            "\n",
            "q25: ───X───\n",
            "\n",
            "q26: ───X───\n",
            "\n",
            "q27: ───X───\n",
            "\n",
            "q28: ───X───\n",
            "\n",
            "q29: ───X───\n",
            "\n",
            "q30: ───I───\n",
            "\n",
            "q31: ───X───\n",
            "\n",
            "q32: ───I───\n",
            "\n",
            "q33: ───X───\n",
            "\n",
            "q34: ───X───\n",
            "\n",
            "q35: ───I───\n",
            "\n",
            "q36: ───X───\n",
            "\n",
            "q37: ───X───\n",
            "\n",
            "q38: ───X───\n",
            "\n",
            "q39: ───I───\n",
            "\n",
            "q40: ───I───\n",
            "\n",
            "q41: ───I───\n",
            "\n",
            "q42: ───X───\n",
            "\n",
            "q43: ───I───\n",
            "\n",
            "q44: ───X───\n",
            "\n",
            "q45: ───X───\n",
            "\n",
            "q46: ───I───\n",
            "\n",
            "q47: ───I───\n",
            "\n",
            "q48: ───X───\n",
            "\n",
            "q49: ───X───\n",
            "\n",
            "q50: ───X───\n",
            "\n",
            "q51: ───X───\n",
            "\n",
            "q52: ───X───\n",
            "\n",
            "q53: ───X───\n",
            "\n",
            "q54: ───I───\n",
            "\n",
            "q55: ───X───\n",
            "\n",
            "q56: ───X───\n",
            "\n",
            "q57: ───X───\n",
            "\n",
            "q58: ───X───\n",
            "\n",
            "q59: ───X───\n",
            "\n",
            "q60: ───I───\n",
            "\n",
            "q61: ───I───\n",
            "\n",
            "q62: ───I───\n",
            "\n",
            "q63: ───I───\n",
            "\n",
            "q64: ───X───\n",
            "\n",
            "q65: ───I───\n",
            "\n",
            "q66: ───I───\n",
            "\n",
            "q67: ───I───\n",
            "\n",
            "q68: ───X───\n",
            "\n",
            "q69: ───X───\n",
            "\n",
            "q70: ───X───\n",
            "\n",
            "q71: ───X───\n",
            "\n",
            "q72: ───X───\n",
            "\n",
            "q73: ───X───\n",
            "\n",
            "q74: ───X───\n",
            "\n",
            "q75: ───X───\n",
            "\n",
            "q76: ───X───\n",
            "\n",
            "q77: ───X───\n",
            "\n",
            "q78: ───I───\n",
            "\n",
            "q79: ───I───\n",
            "\n",
            "q80: ───I───\n",
            "\n",
            "q81: ───X───\n",
            "\n",
            "q82: ───X───\n",
            "\n",
            "q83: ───X───\n",
            "\n",
            "q84: ───I───\n",
            "\n",
            "q85: ───I───\n",
            "\n",
            "q86: ───X───\n",
            "\n",
            "q87: ───X───\n",
            "\n",
            "q88: ───X───\n",
            "\n",
            "q89: ───I───\n",
            "\n",
            "q90: ───X───\n",
            "\n",
            "q91: ───I───\n",
            "\n",
            "q92: ───I───\n",
            "\n",
            "q93: ───I───\n",
            "\n",
            "q94: ───I───\n",
            "\n",
            "q95: ───I───\n",
            "\n",
            "q96: ───I───\n",
            "\n",
            "q97: ───I───\n",
            "\n",
            "q98: ───I───\n",
            "\n",
            "q99: ───I───\n"
          ]
        }
      ]
    },
    {
      "cell_type": "markdown",
      "source": [
        "---\n",
        "#### **Phase #2: Bob Receives**\n",
        "---"
      ],
      "metadata": {
        "id": "l9ZOX9ZbYQfc"
      }
    },
    {
      "cell_type": "markdown",
      "source": [
        "<a name=\"s5\"></a>\n",
        "\n",
        "#### **Step #5: Bob Randomly Chooses Bases**\n",
        "\n",
        "**Independently**, randomly choose Bob's `num_bits` bases and apply the appropriate gates to the qubits he received, `qubits`. Complete the code below to accomplish this for each qubit."
      ],
      "metadata": {
        "id": "c-1f7crm-YYC"
      }
    },
    {
      "cell_type": "code",
      "source": [
        "bob_bases = choices(['X','Z'], k = num_bits)# COMPLETE THIS CODE\n",
        "\n",
        "\n",
        "bob_circuit = cirq.Circuit()\n",
        "\n",
        "for bit in range(num_bits):# COMPLETE THIS CODE\n",
        "\n",
        "  basis_value = bob_bases[bit]# COMPLETE THIS CODE\n",
        "  basis_gate = basis_gates[basis_value]# COMPLETE THIS CODE\n",
        "\n",
        "  qubit = qubits[bit]# COMPLETE THIS CODE\n",
        "  bob_circuit.append(basis_gate(qubit))# COMPLETE THIS CODE"
      ],
      "metadata": {
        "id": "CBYbE_WBlZH3"
      },
      "execution_count": 34,
      "outputs": []
    },
    {
      "cell_type": "markdown",
      "source": [
        "<a name=\"s6\"></a>\n",
        "\n",
        "#### **Step #6: Bob Measures the Qubits**\n",
        "\n",
        "**Independently**, make a measurement of all of the qubits for Bob. Complete the code below to append this action to `bob_circuit`. Ensure the measure method is given the parameter `key = 'bob key'` so that we can easily retrieve this result later."
      ],
      "metadata": {
        "id": "_EdHG8n6-YYD"
      }
    },
    {
      "cell_type": "code",
      "source": [
        "bob_circuit.append(cirq.measure(qubits, key = 'bob key'))# COMPLETE THIS CODE\n",
        "\n",
        "print(bob_circuit)"
      ],
      "metadata": {
        "id": "3PNIw6oIliqF",
        "outputId": "1ee3021d-b499-4361-ecae-3e5284369ae8",
        "colab": {
          "base_uri": "https://localhost:8080/"
        }
      },
      "execution_count": 35,
      "outputs": [
        {
          "output_type": "stream",
          "name": "stdout",
          "text": [
            "q0: ────H───M('bob key')───\n",
            "            │\n",
            "q1: ────H───M──────────────\n",
            "            │\n",
            "q2: ────I───M──────────────\n",
            "            │\n",
            "q3: ────H───M──────────────\n",
            "            │\n",
            "q4: ────H───M──────────────\n",
            "            │\n",
            "q5: ────H───M──────────────\n",
            "            │\n",
            "q6: ────I───M──────────────\n",
            "            │\n",
            "q7: ────I───M──────────────\n",
            "            │\n",
            "q8: ────H───M──────────────\n",
            "            │\n",
            "q9: ────H───M──────────────\n",
            "            │\n",
            "q10: ───H───M──────────────\n",
            "            │\n",
            "q11: ───I───M──────────────\n",
            "            │\n",
            "q12: ───I───M──────────────\n",
            "            │\n",
            "q13: ───I───M──────────────\n",
            "            │\n",
            "q14: ───H───M──────────────\n",
            "            │\n",
            "q15: ───I───M──────────────\n",
            "            │\n",
            "q16: ───I───M──────────────\n",
            "            │\n",
            "q17: ───H───M──────────────\n",
            "            │\n",
            "q18: ───I───M──────────────\n",
            "            │\n",
            "q19: ───H───M──────────────\n",
            "            │\n",
            "q20: ───H───M──────────────\n",
            "            │\n",
            "q21: ───H───M──────────────\n",
            "            │\n",
            "q22: ───I───M──────────────\n",
            "            │\n",
            "q23: ───H───M──────────────\n",
            "            │\n",
            "q24: ───H───M──────────────\n",
            "            │\n",
            "q25: ───I───M──────────────\n",
            "            │\n",
            "q26: ───I───M──────────────\n",
            "            │\n",
            "q27: ───H───M──────────────\n",
            "            │\n",
            "q28: ───H───M──────────────\n",
            "            │\n",
            "q29: ───I───M──────────────\n",
            "            │\n",
            "q30: ───H───M──────────────\n",
            "            │\n",
            "q31: ───H───M──────────────\n",
            "            │\n",
            "q32: ───H───M──────────────\n",
            "            │\n",
            "q33: ───H───M──────────────\n",
            "            │\n",
            "q34: ───H───M──────────────\n",
            "            │\n",
            "q35: ───H───M──────────────\n",
            "            │\n",
            "q36: ───I───M──────────────\n",
            "            │\n",
            "q37: ───I───M──────────────\n",
            "            │\n",
            "q38: ───I───M──────────────\n",
            "            │\n",
            "q39: ───H───M──────────────\n",
            "            │\n",
            "q40: ───I───M──────────────\n",
            "            │\n",
            "q41: ───I───M──────────────\n",
            "            │\n",
            "q42: ───I───M──────────────\n",
            "            │\n",
            "q43: ───H───M──────────────\n",
            "            │\n",
            "q44: ───I───M──────────────\n",
            "            │\n",
            "q45: ───H───M──────────────\n",
            "            │\n",
            "q46: ───I───M──────────────\n",
            "            │\n",
            "q47: ───H───M──────────────\n",
            "            │\n",
            "q48: ───H───M──────────────\n",
            "            │\n",
            "q49: ───H───M──────────────\n",
            "            │\n",
            "q50: ───I───M──────────────\n",
            "            │\n",
            "q51: ───I───M──────────────\n",
            "            │\n",
            "q52: ───I───M──────────────\n",
            "            │\n",
            "q53: ───H───M──────────────\n",
            "            │\n",
            "q54: ───I───M──────────────\n",
            "            │\n",
            "q55: ───H───M──────────────\n",
            "            │\n",
            "q56: ───H───M──────────────\n",
            "            │\n",
            "q57: ───H───M──────────────\n",
            "            │\n",
            "q58: ───I───M──────────────\n",
            "            │\n",
            "q59: ───I───M──────────────\n",
            "            │\n",
            "q60: ───I───M──────────────\n",
            "            │\n",
            "q61: ───H───M──────────────\n",
            "            │\n",
            "q62: ───I───M──────────────\n",
            "            │\n",
            "q63: ───H───M──────────────\n",
            "            │\n",
            "q64: ───H───M──────────────\n",
            "            │\n",
            "q65: ───I───M──────────────\n",
            "            │\n",
            "q66: ───H───M──────────────\n",
            "            │\n",
            "q67: ───H───M──────────────\n",
            "            │\n",
            "q68: ───I───M──────────────\n",
            "            │\n",
            "q69: ───I───M──────────────\n",
            "            │\n",
            "q70: ───H───M──────────────\n",
            "            │\n",
            "q71: ───H───M──────────────\n",
            "            │\n",
            "q72: ───I───M──────────────\n",
            "            │\n",
            "q73: ───H───M──────────────\n",
            "            │\n",
            "q74: ───I───M──────────────\n",
            "            │\n",
            "q75: ───H───M──────────────\n",
            "            │\n",
            "q76: ───H───M──────────────\n",
            "            │\n",
            "q77: ───H───M──────────────\n",
            "            │\n",
            "q78: ───I───M──────────────\n",
            "            │\n",
            "q79: ───I───M──────────────\n",
            "            │\n",
            "q80: ───H───M──────────────\n",
            "            │\n",
            "q81: ───H───M──────────────\n",
            "            │\n",
            "q82: ───H───M──────────────\n",
            "            │\n",
            "q83: ───H───M──────────────\n",
            "            │\n",
            "q84: ───I───M──────────────\n",
            "            │\n",
            "q85: ───H───M──────────────\n",
            "            │\n",
            "q86: ───I───M──────────────\n",
            "            │\n",
            "q87: ───H───M──────────────\n",
            "            │\n",
            "q88: ───I───M──────────────\n",
            "            │\n",
            "q89: ───H───M──────────────\n",
            "            │\n",
            "q90: ───I───M──────────────\n",
            "            │\n",
            "q91: ───H───M──────────────\n",
            "            │\n",
            "q92: ───H───M──────────────\n",
            "            │\n",
            "q93: ───H───M──────────────\n",
            "            │\n",
            "q94: ───I───M──────────────\n",
            "            │\n",
            "q95: ───H───M──────────────\n",
            "            │\n",
            "q96: ───I───M──────────────\n",
            "            │\n",
            "q97: ───I───M──────────────\n",
            "            │\n",
            "q98: ───H───M──────────────\n",
            "            │\n",
            "q99: ───I───M──────────────\n"
          ]
        }
      ]
    },
    {
      "cell_type": "markdown",
      "source": [
        "<a name=\"s7\"></a>\n",
        "\n",
        "#### **Step #7: Bob Creates a Key**\n",
        "\n",
        "**Independently**, create a key for Bob from the mesurement result of each qubit.\n",
        "\n",
        "<br>\n",
        "\n",
        "**Run the code below to accomplish this step.**"
      ],
      "metadata": {
        "id": "nGi3UyWp-YYD"
      }
    },
    {
      "cell_type": "code",
      "source": [
        "bb84_circuit = alice_circuit + bob_circuit\n",
        "\n",
        "sim = cirq.Simulator()\n",
        "results = sim.run(bb84_circuit)\n",
        "bob_key = results.measurements['bob key'][0]\n",
        "\n",
        "print('\\nBob\\'s initial key: ', bob_key)"
      ],
      "metadata": {
        "id": "UQspoDlVl1AC",
        "outputId": "1e922e6c-670b-41d3-a5e1-614056299a1b",
        "colab": {
          "base_uri": "https://localhost:8080/"
        }
      },
      "execution_count": 36,
      "outputs": [
        {
          "output_type": "stream",
          "name": "stdout",
          "text": [
            "\n",
            "Bob's initial key:  [0 0 0 1 1 1 1 0 1 1 1 1 0 0 0 0 0 0 0 0 0 0 1 0 1 1 1 0 0 1 1 1 0 0 0 1 1\n",
            " 1 1 1 0 0 1 1 1 1 0 0 1 1 1 1 1 1 0 1 1 1 1 1 0 1 0 0 0 0 0 0 1 1 1 0 1 1\n",
            " 1 0 0 1 0 0 1 1 0 1 0 1 1 1 1 0 1 0 1 0 0 1 0 0 1 0]\n"
          ]
        }
      ]
    },
    {
      "cell_type": "markdown",
      "source": [
        "---\n",
        "#### **Phase #3: Alice and Bob Compare**\n",
        "---"
      ],
      "metadata": {
        "id": "Q8lSBlFtYQfc"
      }
    },
    {
      "cell_type": "markdown",
      "source": [
        "<a name=\"s8\"></a>\n",
        "\n",
        "#### **Step #8: Alice and Bob Compare Bases**\n",
        "\n",
        "**Independently**, compare Alice's and Bob's randomly selected bases. Complete the code below to accomplish this.\n",
        "\n",
        "**Run the code below to accomplish this step.**"
      ],
      "metadata": {
        "id": "HBTWn55i-t9H"
      }
    },
    {
      "cell_type": "code",
      "source": [
        "final_alice_key = []\n",
        "final_bob_key = []\n",
        "final_eve_key = []\n",
        "\n",
        "for bit in range(num_bits):\n",
        "\n",
        "  if alice_bases[bit] == bob_bases[bit]:\n",
        "    final_alice_key.append(alice_key[bit])\n",
        "    final_bob_key.append(bob_key[bit])\n",
        "    final_eve_key.append(eve_key[bit])\n",
        "\n",
        "print('\\nAlice\\'s key: ', final_alice_key)\n",
        "print('Bob\\'s key: ', final_bob_key)\n",
        "print('Eve\\'s key: ', final_eve_key)"
      ],
      "metadata": {
        "id": "k-BdGVPCl7Y9",
        "outputId": "55a0d319-fc97-4cba-fe63-1ac1ef9ea9a9",
        "colab": {
          "base_uri": "https://localhost:8080/"
        }
      },
      "execution_count": 37,
      "outputs": [
        {
          "output_type": "stream",
          "name": "stdout",
          "text": [
            "\n",
            "Alice's key:  [0, 0, 1, 0, 0, 0, 1, 0, 1, 1, 0, 1, 0, 1, 1, 0, 0, 0, 0, 0, 1, 0, 0, 0, 0, 1, 1, 1, 1, 0, 0, 0, 1, 0, 0, 0, 0, 0, 1, 1, 0, 1, 0, 1, 1, 0, 1, 1, 1, 0, 0, 0]\n",
            "Bob's key:  [0, 1, 1, 0, 1, 0, 0, 0, 0, 0, 0, 1, 0, 1, 1, 0, 0, 1, 0, 1, 1, 1, 0, 1, 0, 0, 1, 1, 1, 0, 1, 1, 1, 0, 1, 0, 0, 0, 0, 1, 1, 0, 0, 1, 0, 0, 1, 0, 0, 1, 0, 0]\n",
            "Eve's key:  [0, 1, 0, 0, 1, 0, 0, 0, 1, 1, 1, 1, 0, 0, 1, 1, 1, 0, 1, 0, 1, 0, 0, 1, 0, 0, 1, 1, 1, 0, 1, 1, 1, 0, 0, 0, 1, 0, 0, 1, 1, 1, 0, 1, 1, 0, 1, 0, 0, 0, 0, 0]\n"
          ]
        }
      ]
    },
    {
      "cell_type": "markdown",
      "source": [
        "<a name=\"s9\"></a>\n",
        "\n",
        "#### **Step #9: Alice and Bob Compare the First Bits in Their Key**\n",
        "\n",
        "**Independently**, compare the first few bits in Alice's and Bob's key to ensure the protocol was successful.\n",
        "\n",
        "<br>\n",
        "\n",
        "**Run the code below to accomplish this.**"
      ],
      "metadata": {
        "id": "HmIFV2XD-t9d"
      }
    },
    {
      "cell_type": "code",
      "source": [
        "num_bits_to_compare = int(len(final_alice_key) * .5)\n",
        "if final_alice_key[0:num_bits_to_compare] == final_bob_key[0:num_bits_to_compare]:\n",
        "  final_alice_key = final_alice_key[num_bits_to_compare:]\n",
        "  final_bob_key = final_bob_key[num_bits_to_compare:]\n",
        "  final_eve_key = final_eve_key[num_bits_to_compare:]\n",
        "\n",
        "  print('\\n\\nWe can use our keys!')\n",
        "  print('Alice Key: ', final_alice_key)\n",
        "  print('Bob Key: ', final_bob_key)\n",
        "  print('Eve Key: ', final_eve_key)\n",
        "\n",
        "else:\n",
        "  print('\\n\\nEve was listening, we need to use a different channel!')"
      ],
      "metadata": {
        "id": "OFkLWgfFmKHj",
        "outputId": "4cfa1742-97e6-4d58-b45d-ef1f3cff3d82",
        "colab": {
          "base_uri": "https://localhost:8080/"
        }
      },
      "execution_count": 38,
      "outputs": [
        {
          "output_type": "stream",
          "name": "stdout",
          "text": [
            "\n",
            "\n",
            "Eve was listening, we need to use a different channel!\n"
          ]
        }
      ]
    },
    {
      "cell_type": "markdown",
      "source": [
        "<a name=\"p3\"></a>\n",
        "\n",
        "---\n",
        "## **Part 3: Alice, Bob, and Eve's Intercept and Resend Attack**\n",
        "---\n",
        "\n",
        "Now, we will modify this code so that Eve performs an Intercept and Resend attack."
      ],
      "metadata": {
        "id": "oe_LzgWLdCZL"
      }
    },
    {
      "cell_type": "markdown",
      "source": [
        "### **Part 3.1: The Setup**"
      ],
      "metadata": {
        "id": "4T1zpmHKDzU8"
      }
    },
    {
      "cell_type": "markdown",
      "source": [
        "#### **Problem #3.1.1**\n",
        "\n",
        "**Independently**, let's define a dictionary called `encode_gates` that specify which gates to apply based on the bit value. Then, let's define a dictionary called `basis_gates` that specify which gates to apply based on the basis. Finally, let's create a list of `NamedQubit`s that is `num_bits` long and has the prefix `q`."
      ],
      "metadata": {
        "id": "NOqNMIRzDzVR"
      }
    },
    {
      "cell_type": "code",
      "source": [
        "encode_gates = {0:cirq.I, 1:cirq.X}# COMPLETE THIS CODE\n",
        "basis_gates = {'Z': cirq.I, 'X': cirq.H}# COMPLETE THIS CODE\n",
        "\n",
        "num_bits = 100\n",
        "qubits = cirq.NamedQubit.range(num_bits, prefix = 'q')"
      ],
      "metadata": {
        "id": "-z3IRD_Gm-U1"
      },
      "execution_count": 3,
      "outputs": []
    },
    {
      "cell_type": "markdown",
      "source": [
        "### **Part 3.2: Implementing the Steps**"
      ],
      "metadata": {
        "id": "hzE_EsaegGZp"
      }
    },
    {
      "cell_type": "markdown",
      "source": [
        "---\n",
        "#### **Phase #1: Alice Sends**\n",
        "---"
      ],
      "metadata": {
        "id": "PgLJpjN6DzVR"
      }
    },
    {
      "cell_type": "markdown",
      "source": [
        "<a name=\"s1\"></a>\n",
        "\n",
        "#### **Step #1: Alice Randomly Chooses Bits**\n",
        "\n",
        "**Independently**, let's use python's `choices(...)` function to create Alice's key of random bits that is `num_bits` long."
      ],
      "metadata": {
        "id": "86Z7T2FODzVR"
      }
    },
    {
      "cell_type": "code",
      "source": [
        "alice_key = choices([0,1], k =num_bits) #COMPLETE THIS CODE\n",
        "\n",
        "print('Alice\\'s initial key: ', alice_key)"
      ],
      "metadata": {
        "id": "cPrSYDJLnJzl",
        "outputId": "4d830a82-9f91-48b0-a797-b17967f15c51",
        "colab": {
          "base_uri": "https://localhost:8080/"
        }
      },
      "execution_count": 4,
      "outputs": [
        {
          "output_type": "stream",
          "name": "stdout",
          "text": [
            "Alice's initial key:  [1, 0, 0, 0, 1, 0, 0, 0, 1, 0, 1, 0, 0, 1, 1, 1, 0, 1, 1, 0, 1, 1, 1, 1, 1, 0, 1, 1, 1, 0, 1, 0, 0, 1, 0, 0, 1, 0, 1, 0, 0, 1, 1, 1, 1, 0, 0, 0, 1, 0, 0, 0, 0, 0, 1, 0, 0, 0, 1, 1, 0, 0, 0, 1, 0, 1, 1, 0, 1, 1, 1, 0, 1, 1, 1, 1, 1, 0, 0, 0, 0, 0, 1, 1, 1, 1, 0, 1, 0, 0, 0, 1, 1, 0, 1, 0, 1, 1, 0, 0]\n"
          ]
        }
      ]
    },
    {
      "cell_type": "markdown",
      "source": [
        "<a name=\"s2\"></a>\n",
        "\n",
        "#### **Step #2: Alice Randomly Chooses Bases**\n",
        "\n",
        "**Independently**, let's use python's `choices(...)` function to create Alice's `num_bits` basis choices."
      ],
      "metadata": {
        "id": "vSVL0vT1DzVS"
      }
    },
    {
      "cell_type": "code",
      "source": [
        "alice_bases = choices(['X', 'Z'], k = num_bits)# COMPLETE THIS CODE\n",
        "\n",
        "print('\\nAlice\\'s randomly chosen bases: ', alice_bases)"
      ],
      "metadata": {
        "id": "hsOLfIAenOIC",
        "outputId": "69c348f8-2c67-49e4-adfa-e51540bf3c91",
        "colab": {
          "base_uri": "https://localhost:8080/"
        }
      },
      "execution_count": 5,
      "outputs": [
        {
          "output_type": "stream",
          "name": "stdout",
          "text": [
            "\n",
            "Alice's randomly chosen bases:  ['Z', 'X', 'X', 'Z', 'Z', 'Z', 'X', 'X', 'X', 'Z', 'Z', 'X', 'X', 'X', 'Z', 'X', 'X', 'Z', 'X', 'X', 'X', 'Z', 'X', 'Z', 'Z', 'X', 'Z', 'Z', 'Z', 'Z', 'Z', 'X', 'X', 'Z', 'X', 'X', 'X', 'Z', 'X', 'Z', 'Z', 'Z', 'Z', 'Z', 'Z', 'Z', 'Z', 'X', 'X', 'X', 'Z', 'X', 'Z', 'Z', 'X', 'X', 'Z', 'Z', 'X', 'Z', 'X', 'X', 'Z', 'X', 'X', 'Z', 'X', 'Z', 'Z', 'Z', 'Z', 'X', 'X', 'Z', 'Z', 'Z', 'X', 'Z', 'X', 'X', 'X', 'Z', 'X', 'Z', 'Z', 'X', 'Z', 'Z', 'X', 'Z', 'X', 'X', 'Z', 'Z', 'X', 'Z', 'X', 'Z', 'Z', 'Z']\n"
          ]
        }
      ]
    },
    {
      "cell_type": "markdown",
      "source": [
        "<a name=\"s3\"></a>\n",
        "\n",
        "#### **Step #3: Alice Creates Qubits**\n",
        "\n",
        "**Independently**, create Alice's qubits based on her choice of bit and basis. Complete the code below so that the appropriate gates are appended to `alice_circuit` within the loop."
      ],
      "metadata": {
        "id": "IyK2aWndDzVS"
      }
    },
    {
      "cell_type": "code",
      "source": [
        "alice_circuit = cirq.Circuit()\n",
        "\n",
        "for bit in range(num_bits):# COMPLETE THIS CODE\n",
        "\n",
        "  encode_value = alice_key[bit]# COMPLETE THIS CODE\n",
        "  encode_gate = encode_gates[encode_value]# COMPLETE THIS CODE\n",
        "\n",
        "  basis_value = alice_bases[bit] # COMPLETE THIS CODE\n",
        "  basis_gate = basis_gates[basis_value]# COMPLETE THIS CODE\n",
        "\n",
        "  qubit = qubits[bit]# COMPLETE THIS CODE\n",
        "  alice_circuit.append(encode_gate(qubit))# COMPLETE THIS CODE\n",
        "  alice_circuit.append(basis_gate(qubit))# COMPLETE THIS CODE"
      ],
      "metadata": {
        "id": "OUpH18GNnZNk"
      },
      "execution_count": 7,
      "outputs": []
    },
    {
      "cell_type": "markdown",
      "source": [
        "<a name=\"s4\"></a>\n",
        "\n",
        "#### **Step #4: Alice Sends the Qubits to Bob**\n",
        "\n",
        "This step doesn't require us to do anything in Python. However, in real life, this would be where Alice sends Bob the qubits through a public quantum channel."
      ],
      "metadata": {
        "id": "TszgudotDzVS"
      }
    },
    {
      "cell_type": "markdown",
      "source": [
        "---\n",
        "#### **Phase #2: Eve Receives**\n",
        "---"
      ],
      "metadata": {
        "id": "dm6-Co2ydCZN"
      }
    },
    {
      "cell_type": "markdown",
      "source": [
        "#### **Step #5: Eve Randomly Chooses Bases**\n",
        "\n",
        "**Independently**, randomly choose Eve's `num_bits` bases and apply the appropriate gates to the qubits she received, `qubits`. Complete the code below to accomplish this for each qubit."
      ],
      "metadata": {
        "id": "c0wdN6DQKhdk"
      }
    },
    {
      "cell_type": "code",
      "source": [
        "eve_bases = choices(['X','Z'], k = num_bits)# COMPLETE THIS CODE\n",
        "print('Eve\\'s randomly chosen bases: ', eve_bases)\n",
        "\n",
        "eve_circuit = cirq.Circuit()\n",
        "\n",
        "for bit in range(num_bits):# COMPLETE THIS CODE\n",
        "  basis_value = eve_bases[bit]# COMPLETE THIS CODE\n",
        "  basis_gate = basis_gates[basis_value]# COMPLETE THIS CODE\n",
        "\n",
        "  qubit = qubits[bit]# COMPLETE THIS CODE\n",
        "  eve_circuit.append(basis_gate(qubit))# COMPLETE THIS CODE"
      ],
      "metadata": {
        "id": "kmreEBr2oCWT",
        "outputId": "e554e149-d652-4c40-a63a-5eab97349feb",
        "colab": {
          "base_uri": "https://localhost:8080/"
        }
      },
      "execution_count": 9,
      "outputs": [
        {
          "output_type": "stream",
          "name": "stdout",
          "text": [
            "Eve's randomly chosen bases:  ['X', 'X', 'X', 'X', 'Z', 'X', 'Z', 'X', 'X', 'Z', 'Z', 'X', 'X', 'X', 'Z', 'X', 'X', 'X', 'Z', 'X', 'X', 'Z', 'X', 'X', 'X', 'X', 'X', 'X', 'Z', 'X', 'Z', 'X', 'X', 'X', 'X', 'X', 'Z', 'X', 'X', 'X', 'X', 'Z', 'X', 'X', 'X', 'Z', 'X', 'Z', 'Z', 'Z', 'X', 'Z', 'Z', 'Z', 'X', 'X', 'X', 'X', 'Z', 'Z', 'Z', 'X', 'Z', 'X', 'X', 'Z', 'Z', 'Z', 'Z', 'Z', 'X', 'X', 'Z', 'X', 'Z', 'X', 'Z', 'Z', 'X', 'X', 'Z', 'Z', 'Z', 'Z', 'Z', 'Z', 'X', 'Z', 'Z', 'X', 'Z', 'X', 'X', 'Z', 'X', 'X', 'Z', 'Z', 'X', 'Z']\n"
          ]
        }
      ]
    },
    {
      "cell_type": "markdown",
      "source": [
        "#### **Step #6: Eve Measures the Qubits**\n",
        "**Independently**, make a measurement of all of the qubits for Eve. Complete the code below to append this action to `eve_circuit`. Ensure the measure method is given the parameter `key = 'eve key'` so that we can easily retrieve this result later."
      ],
      "metadata": {
        "id": "T4-KdV_ILJme"
      }
    },
    {
      "cell_type": "code",
      "source": [
        "eve_circuit = cirq.Circuit()\n",
        "eve_circuit.append(cirq.measure(qubits, key = 'eve key'))\n",
        "print(eve_circuit)# COMPLETE THIS CODE"
      ],
      "metadata": {
        "id": "BYL21RfKoqcM",
        "outputId": "f7870cdf-614f-4e71-f5fc-214464e01fae",
        "colab": {
          "base_uri": "https://localhost:8080/"
        }
      },
      "execution_count": 12,
      "outputs": [
        {
          "output_type": "stream",
          "name": "stdout",
          "text": [
            "q0: ────M('eve key')───\n",
            "        │\n",
            "q1: ────M──────────────\n",
            "        │\n",
            "q2: ────M──────────────\n",
            "        │\n",
            "q3: ────M──────────────\n",
            "        │\n",
            "q4: ────M──────────────\n",
            "        │\n",
            "q5: ────M──────────────\n",
            "        │\n",
            "q6: ────M──────────────\n",
            "        │\n",
            "q7: ────M──────────────\n",
            "        │\n",
            "q8: ────M──────────────\n",
            "        │\n",
            "q9: ────M──────────────\n",
            "        │\n",
            "q10: ───M──────────────\n",
            "        │\n",
            "q11: ───M──────────────\n",
            "        │\n",
            "q12: ───M──────────────\n",
            "        │\n",
            "q13: ───M──────────────\n",
            "        │\n",
            "q14: ───M──────────────\n",
            "        │\n",
            "q15: ───M──────────────\n",
            "        │\n",
            "q16: ───M──────────────\n",
            "        │\n",
            "q17: ───M──────────────\n",
            "        │\n",
            "q18: ───M──────────────\n",
            "        │\n",
            "q19: ───M──────────────\n",
            "        │\n",
            "q20: ───M──────────────\n",
            "        │\n",
            "q21: ───M──────────────\n",
            "        │\n",
            "q22: ───M──────────────\n",
            "        │\n",
            "q23: ───M──────────────\n",
            "        │\n",
            "q24: ───M──────────────\n",
            "        │\n",
            "q25: ───M──────────────\n",
            "        │\n",
            "q26: ───M──────────────\n",
            "        │\n",
            "q27: ───M──────────────\n",
            "        │\n",
            "q28: ───M──────────────\n",
            "        │\n",
            "q29: ───M──────────────\n",
            "        │\n",
            "q30: ───M──────────────\n",
            "        │\n",
            "q31: ───M──────────────\n",
            "        │\n",
            "q32: ───M──────────────\n",
            "        │\n",
            "q33: ───M──────────────\n",
            "        │\n",
            "q34: ───M──────────────\n",
            "        │\n",
            "q35: ───M──────────────\n",
            "        │\n",
            "q36: ───M──────────────\n",
            "        │\n",
            "q37: ───M──────────────\n",
            "        │\n",
            "q38: ───M──────────────\n",
            "        │\n",
            "q39: ───M──────────────\n",
            "        │\n",
            "q40: ───M──────────────\n",
            "        │\n",
            "q41: ───M──────────────\n",
            "        │\n",
            "q42: ───M──────────────\n",
            "        │\n",
            "q43: ───M──────────────\n",
            "        │\n",
            "q44: ───M──────────────\n",
            "        │\n",
            "q45: ───M──────────────\n",
            "        │\n",
            "q46: ───M──────────────\n",
            "        │\n",
            "q47: ───M──────────────\n",
            "        │\n",
            "q48: ───M──────────────\n",
            "        │\n",
            "q49: ───M──────────────\n",
            "        │\n",
            "q50: ───M──────────────\n",
            "        │\n",
            "q51: ───M──────────────\n",
            "        │\n",
            "q52: ───M──────────────\n",
            "        │\n",
            "q53: ───M──────────────\n",
            "        │\n",
            "q54: ───M──────────────\n",
            "        │\n",
            "q55: ───M──────────────\n",
            "        │\n",
            "q56: ───M──────────────\n",
            "        │\n",
            "q57: ───M──────────────\n",
            "        │\n",
            "q58: ───M──────────────\n",
            "        │\n",
            "q59: ───M──────────────\n",
            "        │\n",
            "q60: ───M──────────────\n",
            "        │\n",
            "q61: ───M──────────────\n",
            "        │\n",
            "q62: ───M──────────────\n",
            "        │\n",
            "q63: ───M──────────────\n",
            "        │\n",
            "q64: ───M──────────────\n",
            "        │\n",
            "q65: ───M──────────────\n",
            "        │\n",
            "q66: ───M──────────────\n",
            "        │\n",
            "q67: ───M──────────────\n",
            "        │\n",
            "q68: ───M──────────────\n",
            "        │\n",
            "q69: ───M──────────────\n",
            "        │\n",
            "q70: ───M──────────────\n",
            "        │\n",
            "q71: ───M──────────────\n",
            "        │\n",
            "q72: ───M──────────────\n",
            "        │\n",
            "q73: ───M──────────────\n",
            "        │\n",
            "q74: ───M──────────────\n",
            "        │\n",
            "q75: ───M──────────────\n",
            "        │\n",
            "q76: ───M──────────────\n",
            "        │\n",
            "q77: ───M──────────────\n",
            "        │\n",
            "q78: ───M──────────────\n",
            "        │\n",
            "q79: ───M──────────────\n",
            "        │\n",
            "q80: ───M──────────────\n",
            "        │\n",
            "q81: ───M──────────────\n",
            "        │\n",
            "q82: ───M──────────────\n",
            "        │\n",
            "q83: ───M──────────────\n",
            "        │\n",
            "q84: ───M──────────────\n",
            "        │\n",
            "q85: ───M──────────────\n",
            "        │\n",
            "q86: ───M──────────────\n",
            "        │\n",
            "q87: ───M──────────────\n",
            "        │\n",
            "q88: ───M──────────────\n",
            "        │\n",
            "q89: ───M──────────────\n",
            "        │\n",
            "q90: ───M──────────────\n",
            "        │\n",
            "q91: ───M──────────────\n",
            "        │\n",
            "q92: ───M──────────────\n",
            "        │\n",
            "q93: ───M──────────────\n",
            "        │\n",
            "q94: ───M──────────────\n",
            "        │\n",
            "q95: ───M──────────────\n",
            "        │\n",
            "q96: ───M──────────────\n",
            "        │\n",
            "q97: ───M──────────────\n",
            "        │\n",
            "q98: ───M──────────────\n",
            "        │\n",
            "q99: ───M──────────────\n"
          ]
        }
      ]
    },
    {
      "cell_type": "markdown",
      "source": [
        "#### **Step #7: Eve Creates a Key**\n",
        "\n",
        "**Independently**, create a key for Eve from the mesurement result of each qubit.\n",
        "\n",
        "<br>\n",
        "\n",
        "**Run the code below to accomplish this step.**"
      ],
      "metadata": {
        "id": "WP5jyFq7LJmo"
      }
    },
    {
      "cell_type": "code",
      "source": [
        "eve_intercept_circuit = alice_circuit + eve_circuit\n",
        "\n",
        "sim = cirq.Simulator()\n",
        "results = sim.run(eve_intercept_circuit)\n",
        "eve_key = results.measurements['eve key'][0]\n",
        "\n",
        "print('\\nEve\\'s initial key: ', eve_key)"
      ],
      "metadata": {
        "id": "ywT_EOXMo5Ym",
        "outputId": "b4784338-7139-4719-9569-9d24939c537b",
        "colab": {
          "base_uri": "https://localhost:8080/"
        }
      },
      "execution_count": 13,
      "outputs": [
        {
          "output_type": "stream",
          "name": "stdout",
          "text": [
            "\n",
            "Eve's initial key:  [1 0 1 0 1 0 1 1 0 0 1 1 0 0 1 0 1 1 1 0 0 1 0 1 1 1 1 1 1 0 1 1 0 1 0 1 1\n",
            " 0 0 0 0 1 1 1 1 0 0 1 1 1 0 1 0 0 0 1 0 0 0 1 0 0 0 1 0 1 1 0 1 1 1 1 1 1\n",
            " 1 1 0 0 0 1 1 0 0 1 1 0 0 1 0 0 0 0 1 0 0 0 1 1 0 0]\n"
          ]
        }
      ]
    },
    {
      "cell_type": "markdown",
      "source": [
        "#### **Eve Repeats Step #3 to Fool Bob**\n",
        "\n",
        "**Run the code below to accomplish this step.**"
      ],
      "metadata": {
        "id": "qw3FsjoBLJmo"
      }
    },
    {
      "cell_type": "code",
      "source": [
        "alice_circuit = cirq.Circuit()\n",
        "\n",
        "for bit in range(num_bits):\n",
        "\n",
        "  encode_value = eve_key[bit]\n",
        "  encode_gate = encode_gates[encode_value]\n",
        "\n",
        "  basis_value = eve_bases[bit]\n",
        "  basis_gate = basis_gates[basis_value]\n",
        "\n",
        "  qubit = qubits[bit]\n",
        "  alice_circuit.append(encode_gate(qubit))\n",
        "  alice_circuit.append(basis_gate(qubit))\n",
        "\n",
        "print('\\nAlice\\'s Phase 1 circuit after Eve\\'s interception:\\n', alice_circuit)"
      ],
      "metadata": {
        "id": "mZaopKOTo9RP",
        "outputId": "2923477a-3b61-4c1b-844d-fee487e20682",
        "colab": {
          "base_uri": "https://localhost:8080/"
        }
      },
      "execution_count": 14,
      "outputs": [
        {
          "output_type": "stream",
          "name": "stdout",
          "text": [
            "\n",
            "Alice's Phase 1 circuit after Eve's interception:\n",
            " q0: ────X───H───\n",
            "\n",
            "q1: ────I───H───\n",
            "\n",
            "q2: ────X───H───\n",
            "\n",
            "q3: ────I───H───\n",
            "\n",
            "q4: ────X───I───\n",
            "\n",
            "q5: ────I───H───\n",
            "\n",
            "q6: ────X───I───\n",
            "\n",
            "q7: ────X───H───\n",
            "\n",
            "q8: ────I───H───\n",
            "\n",
            "q9: ────I───I───\n",
            "\n",
            "q10: ───X───I───\n",
            "\n",
            "q11: ───X───H───\n",
            "\n",
            "q12: ───I───H───\n",
            "\n",
            "q13: ───I───H───\n",
            "\n",
            "q14: ───X───I───\n",
            "\n",
            "q15: ───I───H───\n",
            "\n",
            "q16: ───X───H───\n",
            "\n",
            "q17: ───X───H───\n",
            "\n",
            "q18: ───X───I───\n",
            "\n",
            "q19: ───I───H───\n",
            "\n",
            "q20: ───I───H───\n",
            "\n",
            "q21: ───X───I───\n",
            "\n",
            "q22: ───I───H───\n",
            "\n",
            "q23: ───X───H───\n",
            "\n",
            "q24: ───X───H───\n",
            "\n",
            "q25: ───X───H───\n",
            "\n",
            "q26: ───X───H───\n",
            "\n",
            "q27: ───X───H───\n",
            "\n",
            "q28: ───X───I───\n",
            "\n",
            "q29: ───I───H───\n",
            "\n",
            "q30: ───X───I───\n",
            "\n",
            "q31: ───X───H───\n",
            "\n",
            "q32: ───I───H───\n",
            "\n",
            "q33: ───X───H───\n",
            "\n",
            "q34: ───I───H───\n",
            "\n",
            "q35: ───X───H───\n",
            "\n",
            "q36: ───X───I───\n",
            "\n",
            "q37: ───I───H───\n",
            "\n",
            "q38: ───I───H───\n",
            "\n",
            "q39: ───I───H───\n",
            "\n",
            "q40: ───I───H───\n",
            "\n",
            "q41: ───X───I───\n",
            "\n",
            "q42: ───X───H───\n",
            "\n",
            "q43: ───X───H───\n",
            "\n",
            "q44: ───X───H───\n",
            "\n",
            "q45: ───I───I───\n",
            "\n",
            "q46: ───I───H───\n",
            "\n",
            "q47: ───X───I───\n",
            "\n",
            "q48: ───X───I───\n",
            "\n",
            "q49: ───X───I───\n",
            "\n",
            "q50: ───I───H───\n",
            "\n",
            "q51: ───X───I───\n",
            "\n",
            "q52: ───I───I───\n",
            "\n",
            "q53: ───I───I───\n",
            "\n",
            "q54: ───I───H───\n",
            "\n",
            "q55: ───X───H───\n",
            "\n",
            "q56: ───I───H───\n",
            "\n",
            "q57: ───I───H───\n",
            "\n",
            "q58: ───I───I───\n",
            "\n",
            "q59: ───X───I───\n",
            "\n",
            "q60: ───I───I───\n",
            "\n",
            "q61: ───I───H───\n",
            "\n",
            "q62: ───I───I───\n",
            "\n",
            "q63: ───X───H───\n",
            "\n",
            "q64: ───I───H───\n",
            "\n",
            "q65: ───X───I───\n",
            "\n",
            "q66: ───X───I───\n",
            "\n",
            "q67: ───I───I───\n",
            "\n",
            "q68: ───X───I───\n",
            "\n",
            "q69: ───X───I───\n",
            "\n",
            "q70: ───X───H───\n",
            "\n",
            "q71: ───X───H───\n",
            "\n",
            "q72: ───X───I───\n",
            "\n",
            "q73: ───X───H───\n",
            "\n",
            "q74: ───X───I───\n",
            "\n",
            "q75: ───X───H───\n",
            "\n",
            "q76: ───I───I───\n",
            "\n",
            "q77: ───I───I───\n",
            "\n",
            "q78: ───I───H───\n",
            "\n",
            "q79: ───X───H───\n",
            "\n",
            "q80: ───X───I───\n",
            "\n",
            "q81: ───I───I───\n",
            "\n",
            "q82: ───I───I───\n",
            "\n",
            "q83: ───X───I───\n",
            "\n",
            "q84: ───X───I───\n",
            "\n",
            "q85: ───I───I───\n",
            "\n",
            "q86: ───I───H───\n",
            "\n",
            "q87: ───X───I───\n",
            "\n",
            "q88: ───I───I───\n",
            "\n",
            "q89: ───I───H───\n",
            "\n",
            "q90: ───I───I───\n",
            "\n",
            "q91: ───I───H───\n",
            "\n",
            "q92: ───X───H───\n",
            "\n",
            "q93: ───I───I───\n",
            "\n",
            "q94: ───I───H───\n",
            "\n",
            "q95: ───I───H───\n",
            "\n",
            "q96: ───X───I───\n",
            "\n",
            "q97: ───X───I───\n",
            "\n",
            "q98: ───I───H───\n",
            "\n",
            "q99: ───I───I───\n"
          ]
        }
      ]
    },
    {
      "cell_type": "markdown",
      "source": [
        "---\n",
        "#### **Phase #2: Bob Receives**\n",
        "---"
      ],
      "metadata": {
        "id": "yJzigkmrdCZO"
      }
    },
    {
      "cell_type": "markdown",
      "source": [
        "<a name=\"s5\"></a>\n",
        "\n",
        "#### **Step #5: Bob Randomly Chooses Bases**\n",
        "\n",
        "**Independently**, randomly choose Bob's `num_bits` bases and apply the appropriate gates to the qubits he received, `qubits`. Complete the code below to accomplish this for each qubit."
      ],
      "metadata": {
        "id": "LUj8m8oXOj7E"
      }
    },
    {
      "cell_type": "code",
      "source": [
        "bob_bases = choices(['X', 'Z'], k = num_bits)# COMPLETE THIS CODE\n",
        "\n",
        "\n",
        "bob_circuit = cirq.Circuit()\n",
        "\n",
        "for bit in range(num_bits):# COMPLETE THIS CODE\n",
        "\n",
        "  basis_value = bob_bases[bit]# COMPLETE THIS CODE\n",
        "  basis_gate = basis_gates[basis_value]# COMPLETE THIS CODE\n",
        "\n",
        "  qubit = qubits[bit]# COMPLETE THIS CODE\n",
        "  bob_circuit.append(basis_gate(qubit))# COMPLETE THIS CODE"
      ],
      "metadata": {
        "id": "DqlLzKxypB20"
      },
      "execution_count": 15,
      "outputs": []
    },
    {
      "cell_type": "markdown",
      "source": [
        "<a name=\"s6\"></a>\n",
        "\n",
        "#### **Step #6: Bob Measures the Qubits**\n",
        "\n",
        "**Independently**, make a measurement of all of the qubits for Bob. Complete the code below to append this action to `bob_circuit`. Ensure the measure method is given the parameter `key = 'bob key'` so that we can easily retrieve this result later."
      ],
      "metadata": {
        "id": "0Ow_vOq6Oj7P"
      }
    },
    {
      "cell_type": "code",
      "source": [
        "bob_circuit.append(cirq.measure(qubits, key = 'bob key'))# COMPLETE THIS CODE\n",
        "\n",
        "print(bob_circuit)"
      ],
      "metadata": {
        "id": "4Z8c27ZPpJp-",
        "outputId": "f64a115f-38dd-419b-b41b-e72993f60a5e",
        "colab": {
          "base_uri": "https://localhost:8080/"
        }
      },
      "execution_count": 16,
      "outputs": [
        {
          "output_type": "stream",
          "name": "stdout",
          "text": [
            "q0: ────I───M('bob key')───\n",
            "            │\n",
            "q1: ────H───M──────────────\n",
            "            │\n",
            "q2: ────I───M──────────────\n",
            "            │\n",
            "q3: ────H───M──────────────\n",
            "            │\n",
            "q4: ────I───M──────────────\n",
            "            │\n",
            "q5: ────H───M──────────────\n",
            "            │\n",
            "q6: ────I───M──────────────\n",
            "            │\n",
            "q7: ────H───M──────────────\n",
            "            │\n",
            "q8: ────H───M──────────────\n",
            "            │\n",
            "q9: ────H───M──────────────\n",
            "            │\n",
            "q10: ───H───M──────────────\n",
            "            │\n",
            "q11: ───I───M──────────────\n",
            "            │\n",
            "q12: ───I───M──────────────\n",
            "            │\n",
            "q13: ───H───M──────────────\n",
            "            │\n",
            "q14: ───H───M──────────────\n",
            "            │\n",
            "q15: ───H───M──────────────\n",
            "            │\n",
            "q16: ───I───M──────────────\n",
            "            │\n",
            "q17: ───I───M──────────────\n",
            "            │\n",
            "q18: ───H───M──────────────\n",
            "            │\n",
            "q19: ───I───M──────────────\n",
            "            │\n",
            "q20: ───H───M──────────────\n",
            "            │\n",
            "q21: ───I───M──────────────\n",
            "            │\n",
            "q22: ───H───M──────────────\n",
            "            │\n",
            "q23: ───H───M──────────────\n",
            "            │\n",
            "q24: ───H───M──────────────\n",
            "            │\n",
            "q25: ───H───M──────────────\n",
            "            │\n",
            "q26: ───H───M──────────────\n",
            "            │\n",
            "q27: ───H───M──────────────\n",
            "            │\n",
            "q28: ───I───M──────────────\n",
            "            │\n",
            "q29: ───I───M──────────────\n",
            "            │\n",
            "q30: ───H───M──────────────\n",
            "            │\n",
            "q31: ───H───M──────────────\n",
            "            │\n",
            "q32: ───H───M──────────────\n",
            "            │\n",
            "q33: ───H───M──────────────\n",
            "            │\n",
            "q34: ───H───M──────────────\n",
            "            │\n",
            "q35: ───I───M──────────────\n",
            "            │\n",
            "q36: ───H───M──────────────\n",
            "            │\n",
            "q37: ───I───M──────────────\n",
            "            │\n",
            "q38: ───H───M──────────────\n",
            "            │\n",
            "q39: ───H───M──────────────\n",
            "            │\n",
            "q40: ───H───M──────────────\n",
            "            │\n",
            "q41: ───I───M──────────────\n",
            "            │\n",
            "q42: ───H───M──────────────\n",
            "            │\n",
            "q43: ───H───M──────────────\n",
            "            │\n",
            "q44: ───I───M──────────────\n",
            "            │\n",
            "q45: ───I───M──────────────\n",
            "            │\n",
            "q46: ───H───M──────────────\n",
            "            │\n",
            "q47: ───H───M──────────────\n",
            "            │\n",
            "q48: ───H───M──────────────\n",
            "            │\n",
            "q49: ───I───M──────────────\n",
            "            │\n",
            "q50: ───H───M──────────────\n",
            "            │\n",
            "q51: ───H───M──────────────\n",
            "            │\n",
            "q52: ───H───M──────────────\n",
            "            │\n",
            "q53: ───I───M──────────────\n",
            "            │\n",
            "q54: ───H───M──────────────\n",
            "            │\n",
            "q55: ───H───M──────────────\n",
            "            │\n",
            "q56: ───I───M──────────────\n",
            "            │\n",
            "q57: ───I───M──────────────\n",
            "            │\n",
            "q58: ───I───M──────────────\n",
            "            │\n",
            "q59: ───H───M──────────────\n",
            "            │\n",
            "q60: ───H───M──────────────\n",
            "            │\n",
            "q61: ───I───M──────────────\n",
            "            │\n",
            "q62: ───H───M──────────────\n",
            "            │\n",
            "q63: ───H───M──────────────\n",
            "            │\n",
            "q64: ───H───M──────────────\n",
            "            │\n",
            "q65: ───H───M──────────────\n",
            "            │\n",
            "q66: ───I───M──────────────\n",
            "            │\n",
            "q67: ───I───M──────────────\n",
            "            │\n",
            "q68: ───H───M──────────────\n",
            "            │\n",
            "q69: ───H───M──────────────\n",
            "            │\n",
            "q70: ───I───M──────────────\n",
            "            │\n",
            "q71: ───I───M──────────────\n",
            "            │\n",
            "q72: ───H───M──────────────\n",
            "            │\n",
            "q73: ───H───M──────────────\n",
            "            │\n",
            "q74: ───H───M──────────────\n",
            "            │\n",
            "q75: ───I───M──────────────\n",
            "            │\n",
            "q76: ───I───M──────────────\n",
            "            │\n",
            "q77: ───I───M──────────────\n",
            "            │\n",
            "q78: ───H───M──────────────\n",
            "            │\n",
            "q79: ───H───M──────────────\n",
            "            │\n",
            "q80: ───I───M──────────────\n",
            "            │\n",
            "q81: ───H───M──────────────\n",
            "            │\n",
            "q82: ───I───M──────────────\n",
            "            │\n",
            "q83: ───H───M──────────────\n",
            "            │\n",
            "q84: ───H───M──────────────\n",
            "            │\n",
            "q85: ───H───M──────────────\n",
            "            │\n",
            "q86: ───H───M──────────────\n",
            "            │\n",
            "q87: ───H───M──────────────\n",
            "            │\n",
            "q88: ───H───M──────────────\n",
            "            │\n",
            "q89: ───H───M──────────────\n",
            "            │\n",
            "q90: ───I───M──────────────\n",
            "            │\n",
            "q91: ───H───M──────────────\n",
            "            │\n",
            "q92: ───H───M──────────────\n",
            "            │\n",
            "q93: ───I───M──────────────\n",
            "            │\n",
            "q94: ───I───M──────────────\n",
            "            │\n",
            "q95: ───I───M──────────────\n",
            "            │\n",
            "q96: ───H───M──────────────\n",
            "            │\n",
            "q97: ───H───M──────────────\n",
            "            │\n",
            "q98: ───I───M──────────────\n",
            "            │\n",
            "q99: ───H───M──────────────\n"
          ]
        }
      ]
    },
    {
      "cell_type": "markdown",
      "source": [
        "<a name=\"s7\"></a>\n",
        "\n",
        "#### **Step #7: Bob Creates a Key**\n",
        "\n",
        "**Independently**, create a key for Bob from the mesurement result of each qubit.\n",
        "\n",
        "<br>\n",
        "\n",
        "**Run the code below to accomplish this step.**"
      ],
      "metadata": {
        "id": "FpN71b4yOj7P"
      }
    },
    {
      "cell_type": "code",
      "source": [
        "bb84_circuit = alice_circuit + bob_circuit\n",
        "\n",
        "sim = cirq.Simulator()\n",
        "results = sim.run(bb84_circuit)\n",
        "bob_key = results.measurements['bob key'][0]\n",
        "\n",
        "print('\\nBob\\'s initial key: ', bob_key)"
      ],
      "metadata": {
        "id": "8XUPYUfkpOly",
        "outputId": "609691d8-1b0a-4573-a663-497aeee48a14",
        "colab": {
          "base_uri": "https://localhost:8080/"
        }
      },
      "execution_count": 17,
      "outputs": [
        {
          "output_type": "stream",
          "name": "stdout",
          "text": [
            "\n",
            "Bob's initial key:  [1 0 0 0 1 0 1 1 0 0 1 0 0 0 0 0 0 1 1 0 0 1 0 1 1 1 1 1 1 1 1 1 0 1 0 0 1\n",
            " 1 0 0 0 1 1 1 0 0 0 1 1 1 0 1 1 0 0 1 0 1 0 0 1 1 0 1 0 1 1 0 0 1 0 1 0 1\n",
            " 0 0 0 0 0 1 1 1 0 0 0 0 0 1 1 0 0 0 1 0 1 0 0 0 1 0]\n"
          ]
        }
      ]
    },
    {
      "cell_type": "markdown",
      "source": [
        "---\n",
        "#### **Phase #3: Alice and Bob Compare**\n",
        "---"
      ],
      "metadata": {
        "id": "cYlfBZ-_dCZO"
      }
    },
    {
      "cell_type": "markdown",
      "source": [
        "<a name=\"s8\"></a>\n",
        "\n",
        "#### **Step #8: Alice and Bob Compare Bases**\n",
        "\n",
        "**Independently**, compare Alice's and Bob's randomly selected bases.\n",
        "\n",
        "**Run the code below to accomplish this step.**"
      ],
      "metadata": {
        "id": "slAYObAROy6j"
      }
    },
    {
      "cell_type": "code",
      "source": [
        "final_alice_key = []\n",
        "final_bob_key = []\n",
        "final_eve_key = []\n",
        "\n",
        "for bit in range(num_bits):\n",
        "\n",
        "  if alice_bases[bit] == bob_bases[bit]:\n",
        "    final_alice_key.append(alice_key[bit])\n",
        "    final_bob_key.append(bob_key[bit])\n",
        "    final_eve_key.append(eve_key[bit])\n",
        "\n",
        "print('\\nAlice\\'s key: ', final_alice_key)\n",
        "print('Bob\\'s key: ', final_bob_key)\n",
        "print('Eve\\'s key: ', final_eve_key)"
      ],
      "metadata": {
        "id": "GOqfsm7zpSLR",
        "outputId": "29f998f4-385c-4b5a-c013-02aa7e513cf3",
        "colab": {
          "base_uri": "https://localhost:8080/"
        }
      },
      "execution_count": 18,
      "outputs": [
        {
          "output_type": "stream",
          "name": "stdout",
          "text": [
            "\n",
            "Alice's key:  [1, 0, 1, 0, 1, 1, 1, 1, 1, 1, 1, 1, 0, 1, 0, 0, 0, 0, 1, 0, 1, 1, 1, 0, 0, 1, 0, 0, 1, 0, 0, 0, 0, 1, 0, 0, 1, 1, 1, 0, 0, 0, 1, 0, 1, 0, 0, 1, 0]\n",
            "Bob's key:  [1, 0, 1, 1, 0, 0, 0, 1, 1, 0, 1, 0, 1, 1, 1, 1, 0, 0, 1, 1, 0, 1, 0, 0, 1, 1, 1, 0, 0, 1, 0, 1, 1, 1, 0, 0, 0, 0, 0, 0, 0, 1, 0, 1, 0, 0, 0, 0, 1]\n",
            "Eve's key:  [1, 0, 1, 1, 0, 0, 0, 1, 1, 0, 1, 0, 1, 1, 0, 1, 0, 0, 1, 0, 0, 1, 1, 0, 1, 1, 1, 0, 0, 1, 0, 0, 0, 1, 0, 0, 1, 1, 1, 0, 0, 1, 0, 0, 0, 0, 0, 1, 0]\n"
          ]
        }
      ]
    },
    {
      "cell_type": "markdown",
      "source": [
        "<a name=\"s9\"></a>\n",
        "\n",
        "#### **Step #9: Alice and Bob Compare the First Bits in Their Key**\n",
        "\n",
        "**Independently**, compare the first few bits in Alice's and Bob's key to ensure the protocol was successful.\n",
        "\n",
        "<br>\n",
        "\n",
        "**Run the code below to accomplish this.**"
      ],
      "metadata": {
        "id": "zJ30bCUzOy61"
      }
    },
    {
      "cell_type": "code",
      "source": [
        "num_bits_to_compare = int(len(final_alice_key) * .5)\n",
        "if final_alice_key[0:num_bits_to_compare] == final_bob_key[0:num_bits_to_compare]:\n",
        "  final_alice_key = final_alice_key[num_bits_to_compare:]\n",
        "  final_bob_key = final_bob_key[num_bits_to_compare:]\n",
        "  final_eve_key = final_eve_key[num_bits_to_compare:]\n",
        "\n",
        "  print('\\n\\nWe can use our keys!')\n",
        "  print('Alice Key: ', final_alice_key)\n",
        "  print('Bob Key: ', final_bob_key)\n",
        "  print('Eve Key: ', final_eve_key)\n",
        "\n",
        "else:\n",
        "  print('\\n\\nEve was listening, we need to use a different channel!')"
      ],
      "metadata": {
        "id": "BgI6DbHapfLx",
        "outputId": "b4e228df-1246-4a63-d6d1-4bedbeb4e924",
        "colab": {
          "base_uri": "https://localhost:8080/"
        }
      },
      "execution_count": 19,
      "outputs": [
        {
          "output_type": "stream",
          "name": "stdout",
          "text": [
            "\n",
            "\n",
            "Eve was listening, we need to use a different channel!\n"
          ]
        }
      ]
    },
    {
      "cell_type": "markdown",
      "source": [
        "<a name=\"p4\"></a>\n",
        "\n",
        "---\n",
        "## **Part 4: Alice, Bob, and Eve's Entanglement Attack**\n",
        "---\n",
        "\n",
        "Now, we will modify this code so that Eve performs an Entanglement attack."
      ],
      "metadata": {
        "id": "3Uu5S80deiDu"
      }
    },
    {
      "cell_type": "markdown",
      "source": [
        "### **Part 4.1: The Setup**"
      ],
      "metadata": {
        "id": "0pMv5b_LDmfi"
      }
    },
    {
      "cell_type": "markdown",
      "source": [
        "#### **Problem #4.1.1**\n",
        "\n",
        "**Independently**, define a dictionary called `encode_gates` that specify which gates to apply based on the bit value. Then, let's define a dictionary called `basis_gates` that specify which gates to apply based on the basis. Finally, let's create a list of `NamedQubit`s that is `num_bits` long and has the prefix `q`."
      ],
      "metadata": {
        "id": "Feok1DJuDmft"
      }
    },
    {
      "cell_type": "code",
      "source": [
        "encode_gates = {0: cirq.I, 1: cirq.X}\n",
        "basis_gates = {'Z': cirq.I, 'X': cirq.H}\n",
        "\n",
        "num_bits = 100\n",
        "qubits = cirq.NamedQubit.range(num_bits, prefix = 'q')"
      ],
      "metadata": {
        "id": "fs_EuHMYpmXl"
      },
      "execution_count": 41,
      "outputs": []
    },
    {
      "cell_type": "markdown",
      "source": [
        "---\n",
        "#### **Phase #1: Alice Sends**\n",
        "---"
      ],
      "metadata": {
        "id": "67P4_tJ8Dmft"
      }
    },
    {
      "cell_type": "markdown",
      "source": [
        "<a name=\"s1\"></a>\n",
        "\n",
        "#### **Step #1: Alice Randomly Chooses Bits**\n",
        "\n",
        "**Together**, let's use python's `choices(...)` function to create Alice's key of random bits that is `num_bits` long."
      ],
      "metadata": {
        "id": "wYs260JcDmfu"
      }
    },
    {
      "cell_type": "code",
      "source": [
        "alice_key = choices([0, 1], k = num_bits)\n",
        "\n",
        "print('Alice\\'s initial key: ', alice_key)"
      ],
      "metadata": {
        "id": "Wcy5uUhUpt-n",
        "outputId": "67e886f3-3bb0-4b9e-e845-f430b69d8d79",
        "colab": {
          "base_uri": "https://localhost:8080/"
        }
      },
      "execution_count": 42,
      "outputs": [
        {
          "output_type": "stream",
          "name": "stdout",
          "text": [
            "Alice's initial key:  [0, 0, 1, 1, 0, 1, 1, 1, 0, 0, 1, 0, 1, 1, 1, 0, 1, 0, 1, 1, 0, 0, 1, 1, 0, 0, 0, 1, 1, 0, 1, 1, 0, 0, 1, 0, 0, 1, 1, 0, 0, 1, 0, 0, 0, 1, 1, 1, 1, 1, 0, 0, 0, 1, 0, 0, 1, 1, 0, 1, 0, 1, 1, 1, 1, 0, 0, 0, 0, 1, 1, 0, 1, 0, 0, 0, 0, 1, 1, 0, 0, 1, 1, 0, 1, 1, 1, 1, 0, 1, 0, 0, 0, 1, 1, 0, 1, 1, 1, 1]\n"
          ]
        }
      ]
    },
    {
      "cell_type": "markdown",
      "source": [
        "<a name=\"s2\"></a>\n",
        "\n",
        "#### **Step #2: Alice Randomly Chooses Bases**\n",
        "\n",
        "**Together**, let's use python's `choices(...)` function to create Alice's `num_bits` basis choices."
      ],
      "metadata": {
        "id": "RxYNXJLADmfu"
      }
    },
    {
      "cell_type": "code",
      "source": [
        "alice_bases = choices(['Z', 'X'], k = num_bits)\n",
        "\n",
        "print('\\nAlice\\'s randomly chosen bases: ', alice_bases)"
      ],
      "metadata": {
        "id": "e2qNS_G4pzGz",
        "outputId": "17938b6a-18c2-470b-dbc9-9d4bc2e0da9f",
        "colab": {
          "base_uri": "https://localhost:8080/"
        }
      },
      "execution_count": 43,
      "outputs": [
        {
          "output_type": "stream",
          "name": "stdout",
          "text": [
            "\n",
            "Alice's randomly chosen bases:  ['X', 'Z', 'X', 'Z', 'Z', 'X', 'Z', 'X', 'X', 'Z', 'X', 'X', 'X', 'X', 'X', 'X', 'Z', 'X', 'Z', 'X', 'X', 'Z', 'Z', 'X', 'X', 'Z', 'Z', 'Z', 'X', 'X', 'X', 'Z', 'X', 'Z', 'X', 'Z', 'X', 'Z', 'Z', 'Z', 'X', 'X', 'X', 'X', 'X', 'X', 'X', 'Z', 'Z', 'X', 'X', 'Z', 'Z', 'Z', 'Z', 'X', 'Z', 'X', 'Z', 'Z', 'Z', 'X', 'X', 'Z', 'Z', 'X', 'X', 'Z', 'Z', 'X', 'Z', 'X', 'Z', 'X', 'Z', 'X', 'X', 'Z', 'Z', 'Z', 'Z', 'Z', 'Z', 'X', 'X', 'Z', 'Z', 'X', 'X', 'Z', 'Z', 'X', 'Z', 'Z', 'Z', 'X', 'X', 'X', 'Z', 'Z']\n"
          ]
        }
      ]
    },
    {
      "cell_type": "markdown",
      "source": [
        "<a name=\"s3\"></a>\n",
        "\n",
        "#### **Step #3: Alice Creates Qubits**\n",
        "\n",
        "**Together**, create Alice's qubits based on her choice of bit and basis. Complete the code below so that the appropriate gates are appended to `alice_circuit` within the loop."
      ],
      "metadata": {
        "id": "MqMAOa96Dmfu"
      }
    },
    {
      "cell_type": "code",
      "source": [
        "alice_circuit = cirq.Circuit()\n",
        "\n",
        "for bit in range(num_bits):\n",
        "\n",
        "  encode_value = alice_key[bit]\n",
        "  encode_gate = encode_gates[encode_value]\n",
        "\n",
        "  basis_value = alice_bases[bit]\n",
        "  basis_gate = basis_gates[basis_value]\n",
        "\n",
        "  qubit = qubits[bit]\n",
        "  alice_circuit.append(encode_gate(qubit))\n",
        "  alice_circuit.append(basis_gate(qubit))"
      ],
      "metadata": {
        "id": "IVYIVn18p-oi"
      },
      "execution_count": 44,
      "outputs": []
    },
    {
      "cell_type": "markdown",
      "source": [
        "<a name=\"s4\"></a>\n",
        "\n",
        "#### **Step #4: Alice Sends the Qubits to Bob**\n",
        "\n",
        "This step doesn't require us to do anything in Python. However, in real life, this would be where Alice sends Bob the qubits through a public quantum channel."
      ],
      "metadata": {
        "id": "wf4xmIg-Dmfv"
      }
    },
    {
      "cell_type": "markdown",
      "source": [
        "---\n",
        "#### **Phase #2: Eve Receives**\n",
        "---"
      ],
      "metadata": {
        "id": "Q85roJjieiD6"
      }
    },
    {
      "cell_type": "markdown",
      "source": [
        "#### **Step #5: Eve Randomly Entangles Her Qubits**\n",
        "\n",
        "**Independently**, create `num_bits` qubits with the prefix \"eve\" for Eve and entangle them with Alice's sent qubits."
      ],
      "metadata": {
        "id": "j7Q2fKvnRoNl"
      }
    },
    {
      "cell_type": "code",
      "source": [
        "eve_qubits = cirq.NamedQubit.range(num_bits, prefix=\"eve\")\n",
        "\n",
        "for bit in range(num_bits):\n",
        "\n",
        "  qubit = qubits[bit]\n",
        "  eve_qubit = eve_qubits[bit]\n",
        "\n",
        "  alice_circuit.append(cirq.CNOT(qubit, eve_qubit))"
      ],
      "metadata": {
        "id": "sBP3zoOAqXxg"
      },
      "execution_count": 45,
      "outputs": []
    },
    {
      "cell_type": "markdown",
      "source": [
        "---\n",
        "#### **Phase #2: Bob Receives**\n",
        "---"
      ],
      "metadata": {
        "id": "suiNb7NJeiD7"
      }
    },
    {
      "cell_type": "markdown",
      "source": [
        "<a name=\"s5\"></a>\n",
        "\n",
        "#### **Step #5: Bob Randomly Chooses Bases**\n",
        "\n",
        "**Independently**, randomly choose Bob's `num_bits` bases and apply the appropriate gates to the qubits he received, `qubits`. Complete the code below to accomplish this for each qubit."
      ],
      "metadata": {
        "id": "InmdyezfSXx6"
      }
    },
    {
      "cell_type": "code",
      "source": [
        "bob_bases = choices(['Z', 'X'], k = num_bits)\n",
        "print('Bob\\'s randomly chosen bases: ', bob_bases)\n",
        "\n",
        "bob_circuit = cirq.Circuit()\n",
        "\n",
        "for bit in range(num_bits):\n",
        "\n",
        "  basis_value = bob_bases[bit]\n",
        "  basis_gate = basis_gates[basis_value]\n",
        "\n",
        "  qubit = qubits[bit]\n",
        "  bob_circuit.append(basis_gate(qubit))"
      ],
      "metadata": {
        "id": "jNHa3o-rqslQ",
        "outputId": "1fc5e8cd-7f57-4fc5-f8ba-e5ced98dfdbf",
        "colab": {
          "base_uri": "https://localhost:8080/"
        }
      },
      "execution_count": 46,
      "outputs": [
        {
          "output_type": "stream",
          "name": "stdout",
          "text": [
            "Bob's randomly chosen bases:  ['Z', 'X', 'X', 'Z', 'Z', 'X', 'X', 'Z', 'X', 'Z', 'Z', 'X', 'X', 'Z', 'X', 'Z', 'Z', 'X', 'Z', 'Z', 'X', 'Z', 'X', 'Z', 'Z', 'X', 'X', 'X', 'Z', 'Z', 'Z', 'X', 'Z', 'Z', 'X', 'Z', 'X', 'Z', 'Z', 'X', 'Z', 'Z', 'X', 'X', 'X', 'X', 'X', 'X', 'X', 'Z', 'X', 'X', 'X', 'Z', 'X', 'Z', 'Z', 'Z', 'X', 'Z', 'Z', 'Z', 'Z', 'Z', 'X', 'Z', 'Z', 'Z', 'X', 'Z', 'Z', 'Z', 'Z', 'X', 'X', 'X', 'X', 'X', 'X', 'X', 'X', 'Z', 'Z', 'X', 'Z', 'X', 'X', 'Z', 'X', 'X', 'Z', 'Z', 'Z', 'X', 'X', 'X', 'Z', 'X', 'Z', 'Z']\n"
          ]
        }
      ]
    },
    {
      "cell_type": "markdown",
      "source": [
        "<a name=\"s6\"></a>\n",
        "\n",
        "#### **Step #6: Bob Measures the Qubits**\n",
        "\n",
        "**Independently**, make a measurement of all of the qubits for Bob. Complete the code below to append this action to `bob_circuit`. Ensure the measure method is given the parameter `key = 'bob key'` so that we can easily retrieve this result later."
      ],
      "metadata": {
        "id": "_yoRqBQ6SXyB"
      }
    },
    {
      "cell_type": "code",
      "source": [
        "bob_circuit.append(cirq.measure(qubits, key = 'bob key'))\n",
        "\n",
        "print(bob_circuit)"
      ],
      "metadata": {
        "id": "qYwc-rACrcZf",
        "outputId": "b5c3c618-8a32-466c-898b-a0ea7415b421",
        "colab": {
          "base_uri": "https://localhost:8080/"
        }
      },
      "execution_count": 47,
      "outputs": [
        {
          "output_type": "stream",
          "name": "stdout",
          "text": [
            "q0: ────I───M('bob key')───\n",
            "            │\n",
            "q1: ────H───M──────────────\n",
            "            │\n",
            "q2: ────H───M──────────────\n",
            "            │\n",
            "q3: ────I───M──────────────\n",
            "            │\n",
            "q4: ────I───M──────────────\n",
            "            │\n",
            "q5: ────H───M──────────────\n",
            "            │\n",
            "q6: ────H───M──────────────\n",
            "            │\n",
            "q7: ────I───M──────────────\n",
            "            │\n",
            "q8: ────H───M──────────────\n",
            "            │\n",
            "q9: ────I───M──────────────\n",
            "            │\n",
            "q10: ───I───M──────────────\n",
            "            │\n",
            "q11: ───H───M──────────────\n",
            "            │\n",
            "q12: ───H───M──────────────\n",
            "            │\n",
            "q13: ───I───M──────────────\n",
            "            │\n",
            "q14: ───H───M──────────────\n",
            "            │\n",
            "q15: ───I───M──────────────\n",
            "            │\n",
            "q16: ───I───M──────────────\n",
            "            │\n",
            "q17: ───H───M──────────────\n",
            "            │\n",
            "q18: ───I───M──────────────\n",
            "            │\n",
            "q19: ───I───M──────────────\n",
            "            │\n",
            "q20: ───H───M──────────────\n",
            "            │\n",
            "q21: ───I───M──────────────\n",
            "            │\n",
            "q22: ───H───M──────────────\n",
            "            │\n",
            "q23: ───I───M──────────────\n",
            "            │\n",
            "q24: ───I───M──────────────\n",
            "            │\n",
            "q25: ───H───M──────────────\n",
            "            │\n",
            "q26: ───H───M──────────────\n",
            "            │\n",
            "q27: ───H───M──────────────\n",
            "            │\n",
            "q28: ───I───M──────────────\n",
            "            │\n",
            "q29: ───I───M──────────────\n",
            "            │\n",
            "q30: ───I───M──────────────\n",
            "            │\n",
            "q31: ───H───M──────────────\n",
            "            │\n",
            "q32: ───I───M──────────────\n",
            "            │\n",
            "q33: ───I───M──────────────\n",
            "            │\n",
            "q34: ───H───M──────────────\n",
            "            │\n",
            "q35: ───I───M──────────────\n",
            "            │\n",
            "q36: ───H───M──────────────\n",
            "            │\n",
            "q37: ───I───M──────────────\n",
            "            │\n",
            "q38: ───I───M──────────────\n",
            "            │\n",
            "q39: ───H───M──────────────\n",
            "            │\n",
            "q40: ───I───M──────────────\n",
            "            │\n",
            "q41: ───I───M──────────────\n",
            "            │\n",
            "q42: ───H───M──────────────\n",
            "            │\n",
            "q43: ───H───M──────────────\n",
            "            │\n",
            "q44: ───H───M──────────────\n",
            "            │\n",
            "q45: ───H───M──────────────\n",
            "            │\n",
            "q46: ───H───M──────────────\n",
            "            │\n",
            "q47: ───H───M──────────────\n",
            "            │\n",
            "q48: ───H───M──────────────\n",
            "            │\n",
            "q49: ───I───M──────────────\n",
            "            │\n",
            "q50: ───H───M──────────────\n",
            "            │\n",
            "q51: ───H───M──────────────\n",
            "            │\n",
            "q52: ───H───M──────────────\n",
            "            │\n",
            "q53: ───I───M──────────────\n",
            "            │\n",
            "q54: ───H───M──────────────\n",
            "            │\n",
            "q55: ───I───M──────────────\n",
            "            │\n",
            "q56: ───I───M──────────────\n",
            "            │\n",
            "q57: ───I───M──────────────\n",
            "            │\n",
            "q58: ───H───M──────────────\n",
            "            │\n",
            "q59: ───I───M──────────────\n",
            "            │\n",
            "q60: ───I───M──────────────\n",
            "            │\n",
            "q61: ───I───M──────────────\n",
            "            │\n",
            "q62: ───I───M──────────────\n",
            "            │\n",
            "q63: ───I───M──────────────\n",
            "            │\n",
            "q64: ───H───M──────────────\n",
            "            │\n",
            "q65: ───I───M──────────────\n",
            "            │\n",
            "q66: ───I───M──────────────\n",
            "            │\n",
            "q67: ───I───M──────────────\n",
            "            │\n",
            "q68: ───H───M──────────────\n",
            "            │\n",
            "q69: ───I───M──────────────\n",
            "            │\n",
            "q70: ───I───M──────────────\n",
            "            │\n",
            "q71: ───I───M──────────────\n",
            "            │\n",
            "q72: ───I───M──────────────\n",
            "            │\n",
            "q73: ───H───M──────────────\n",
            "            │\n",
            "q74: ───H───M──────────────\n",
            "            │\n",
            "q75: ───H───M──────────────\n",
            "            │\n",
            "q76: ───H───M──────────────\n",
            "            │\n",
            "q77: ───H───M──────────────\n",
            "            │\n",
            "q78: ───H───M──────────────\n",
            "            │\n",
            "q79: ───H───M──────────────\n",
            "            │\n",
            "q80: ───H───M──────────────\n",
            "            │\n",
            "q81: ───I───M──────────────\n",
            "            │\n",
            "q82: ───I───M──────────────\n",
            "            │\n",
            "q83: ───H───M──────────────\n",
            "            │\n",
            "q84: ───I───M──────────────\n",
            "            │\n",
            "q85: ───H───M──────────────\n",
            "            │\n",
            "q86: ───H───M──────────────\n",
            "            │\n",
            "q87: ───I───M──────────────\n",
            "            │\n",
            "q88: ───H───M──────────────\n",
            "            │\n",
            "q89: ───H───M──────────────\n",
            "            │\n",
            "q90: ───I───M──────────────\n",
            "            │\n",
            "q91: ───I───M──────────────\n",
            "            │\n",
            "q92: ───I───M──────────────\n",
            "            │\n",
            "q93: ───H───M──────────────\n",
            "            │\n",
            "q94: ───H───M──────────────\n",
            "            │\n",
            "q95: ───H───M──────────────\n",
            "            │\n",
            "q96: ───I───M──────────────\n",
            "            │\n",
            "q97: ───H───M──────────────\n",
            "            │\n",
            "q98: ───I───M──────────────\n",
            "            │\n",
            "q99: ───I───M──────────────\n"
          ]
        }
      ]
    },
    {
      "cell_type": "markdown",
      "source": [
        "<a name=\"s7\"></a>\n",
        "\n",
        "#### **Step #7: Bob Creates a Key**\n",
        "\n",
        "**Independently**, create a key for Bob from the mesurement result of each qubit.\n",
        "\n",
        "<br>\n",
        "\n",
        "**Run the code below to accomplish this step.**"
      ],
      "metadata": {
        "id": "XW0DM1D3SXyC"
      }
    },
    {
      "cell_type": "code",
      "source": [
        "bb84_circuit = alice_circuit + bob_circuit\n",
        "\n",
        "sim = cirq.Simulator()\n",
        "results = sim.run(bb84_circuit)\n",
        "bob_key = results.measurements['bob key'][0]\n",
        "\n",
        "print('\\nBob\\'s initial key: ', bob_key)"
      ],
      "metadata": {
        "id": "NAunLfP9rhYC",
        "outputId": "061de5a8-be19-45ff-c958-b4d30b761455",
        "colab": {
          "base_uri": "https://localhost:8080/"
        }
      },
      "execution_count": 48,
      "outputs": [
        {
          "output_type": "stream",
          "name": "stdout",
          "text": [
            "\n",
            "Bob's initial key:  [0 0 1 1 0 0 1 1 1 0 1 0 0 0 0 1 1 0 1 1 0 0 1 0 0 0 1 0 1 1 1 1 0 0 1 0 0\n",
            " 1 1 0 0 0 0 1 0 0 1 0 1 1 1 0 0 1 0 1 1 0 1 1 0 0 0 1 0 0 1 0 1 0 1 0 1 1\n",
            " 0 1 0 1 0 1 0 1 1 1 1 0 0 1 0 0 0 1 0 1 0 1 1 0 1 1]\n"
          ]
        }
      ]
    },
    {
      "cell_type": "markdown",
      "source": [
        "---\n",
        "#### **Phase #3: Alice and Bob Compare**\n",
        "---"
      ],
      "metadata": {
        "id": "Z6AcmgS9eiD7"
      }
    },
    {
      "cell_type": "markdown",
      "source": [
        "<a name=\"s8\"></a>\n",
        "\n",
        "#### **Step #8: Alice and Bob Compare Bases**\n",
        "\n",
        "**Independently**, compare Alice's and Bob's randomly selected bases. Complete the code below to accomplish this. If they agree on a basis (publicly), then Eve puts her qubit in this basis and measures it."
      ],
      "metadata": {
        "id": "vvUg5nEfSpr6"
      }
    },
    {
      "cell_type": "code",
      "source": [
        "final_alice_key = []\n",
        "final_bob_key = []\n",
        "final_eve_key = []\n",
        "\n",
        "for bit in range(num_bits):\n",
        "\n",
        "  if alice_bases[bit] == bob_bases[bit]:\n",
        "    final_alice_key.append(alice_key[bit])\n",
        "    final_bob_key.append(bob_key[bit])"
      ],
      "metadata": {
        "id": "7jth__HGrlSJ"
      },
      "execution_count": 49,
      "outputs": []
    },
    {
      "cell_type": "code",
      "source": [
        "basis_value = bob_bases[bit]\n",
        "basis_gate = basis_gates[basis_value]\n",
        "\n",
        "qubit = eve_qubits[bit]\n",
        "bb84_circuit.append(basis_gate(qubit))\n",
        "bb84_circuit.append(cirq.measure(qubit))\n",
        "\n",
        "sim = cirq.Simulator()\n",
        "results = sim.run(bb84_circuit)\n",
        "\n",
        "final_eve_key.append(results.measurements['eve' + str(bit)][0][0])\n",
        "\n",
        "print('\\nAlice\\'s key: ', final_alice_key)\n",
        "print('Bob\\'s key: ', final_bob_key)\n",
        "print('Eve\\'s key: ', final_eve_key)"
      ],
      "metadata": {
        "id": "EE2jzHoOr1yL",
        "outputId": "3f81b753-99b8-470d-d190-2afaa8583ad9",
        "colab": {
          "base_uri": "https://localhost:8080/"
        }
      },
      "execution_count": 50,
      "outputs": [
        {
          "output_type": "stream",
          "name": "stdout",
          "text": [
            "\n",
            "Alice's key:  [1, 1, 0, 1, 0, 0, 0, 1, 1, 1, 0, 1, 0, 0, 0, 1, 0, 0, 1, 1, 0, 0, 0, 1, 1, 0, 1, 1, 1, 0, 1, 0, 1, 1, 0, 0, 0, 1, 1, 0, 0, 0, 0, 0, 1, 1, 1]\n",
            "Bob's key:  [1, 1, 0, 0, 1, 0, 0, 0, 0, 1, 0, 1, 0, 0, 0, 1, 0, 0, 1, 1, 0, 1, 0, 0, 1, 1, 1, 1, 1, 0, 1, 0, 1, 1, 1, 1, 0, 1, 1, 1, 0, 0, 0, 1, 0, 1, 1]\n",
            "Eve's key:  [1]\n"
          ]
        }
      ]
    },
    {
      "cell_type": "markdown",
      "source": [
        "<a name=\"s9\"></a>\n",
        "\n",
        "#### **Step #9: Alice and Bob Compare the First Bits in Their Key**\n",
        "\n",
        "**Independently**, compare the first few bits in Alice's and Bob's key to ensure the protocol was successful.\n",
        "\n",
        "<br>\n",
        "\n",
        "**Run the code below to accomplish this.**"
      ],
      "metadata": {
        "id": "YKyaPobcTGZK"
      }
    },
    {
      "cell_type": "code",
      "source": [
        "num_bits_to_compare = int(len(final_alice_key) * .5)\n",
        "if final_alice_key[0:num_bits_to_compare] == final_bob_key[0:num_bits_to_compare]:\n",
        "  final_alice_key = final_alice_key[num_bits_to_compare:]\n",
        "  final_bob_key = final_bob_key[num_bits_to_compare:]\n",
        "  final_eve_key = final_eve_key[num_bits_to_compare:]\n",
        "\n",
        "  print('\\n\\nWe can use our keys!')\n",
        "  print('Alice Key: ', final_alice_key)\n",
        "  print('Bob Key: ', final_bob_key)\n",
        "  print('Eve Key: ', final_eve_key)\n",
        "\n",
        "else:\n",
        "  print('\\n\\nEve was listening, we need to use a different channel!')"
      ],
      "metadata": {
        "id": "koqQPrGGr7kA",
        "outputId": "8cfa461d-2baa-4c33-f5c7-c00be350f6f6",
        "colab": {
          "base_uri": "https://localhost:8080/"
        }
      },
      "execution_count": 51,
      "outputs": [
        {
          "output_type": "stream",
          "name": "stdout",
          "text": [
            "\n",
            "\n",
            "Eve was listening, we need to use a different channel!\n"
          ]
        }
      ]
    },
    {
      "cell_type": "markdown",
      "metadata": {
        "id": "7dzC09dLlEhm"
      },
      "source": [
        "# End of Notebook\n",
        "\n",
        "---\n",
        "© 2023 The Coding School, All rights reserved"
      ]
    }
  ]
}