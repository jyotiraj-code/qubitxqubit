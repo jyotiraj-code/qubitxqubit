{
  "nbformat": 4,
  "nbformat_minor": 0,
  "metadata": {
    "colab": {
      "provenance": [],
      "collapsed_sections": [
        "LcUgu10O3zYj",
        "zCs--N7R4GIC",
        "ru1nBj4t4r-y",
        "nF4R9XSK60n7",
        "Ox-TFq4J8bRI",
        "RO3KfNTM_4RV",
        "5YkhDdBtAvLM",
        "6cwoGk80BYIJ",
        "KupbdzKWBn6o",
        "m1R6_DnvC7XS",
        "yqGfWFBKHBkv"
      ],
      "include_colab_link": true
    },
    "kernelspec": {
      "name": "python3",
      "display_name": "Python 3"
    },
    "language_info": {
      "name": "python"
    }
  },
  "cells": [
    {
      "cell_type": "markdown",
      "metadata": {
        "id": "view-in-github",
        "colab_type": "text"
      },
      "source": [
        "<a href=\"https://colab.research.google.com/github/jyotiraj-code/qubitxqubit/blob/main/QXQ_YLC_Week_8_Homework_%5BJyotiraj%5D.ipynb\" target=\"_parent\"><img src=\"https://colab.research.google.com/assets/colab-badge.svg\" alt=\"Open In Colab\"/></a>"
      ]
    },
    {
      "cell_type": "markdown",
      "source": [
        "# **Homework 8: Multi-Qubit Circuits**\n",
        "---\n",
        "\n",
        "### **Description**\n",
        "In this week's assignment, you will create and work with multi-qubit circuits. You will begin by reviewing how to build quantum circuits and apply quantum gates to those circuit. Then you will apply these skills to creating, simulating, and visualizing the measurement results of multi-qubit circuits.\n",
        "\n",
        "<br>\n",
        "\n",
        "### **Lab Structure**\n",
        "**Part 1**: [Single-Qubit Circuit Review](#p1)\n",
        "\n",
        "**Part 2**: [Multi-Qubit Circuits](#p2)\n",
        "\n",
        "<br>\n",
        "\n",
        "\n",
        "### **Learning Objectives**\n",
        "By the end of this notebook, we will:\n",
        "1. Recognize how to implement multi-qubit circuits, including the CNOT gate, in Cirq.\n",
        "2. Recognize how to simulate and interpret measurement results in Cirq.\n",
        "\n",
        "<br>\n",
        "\n",
        "###**Resources**\n",
        "* [Cirq Basics Cheat Sheet](https://docs.google.com/document/d/1j0vEwtS6fK-tD1DWAPry4tJdxEiq8fwMtXuYNGRhK_M/edit?usp=drive_link)\n",
        "\n",
        "<br>\n",
        "\n",
        "\n",
        "**Before starting, run the code below to import all necessary functions and libraries.**\n"
      ],
      "metadata": {
        "id": "tlsXHj8k2QV9"
      }
    },
    {
      "cell_type": "code",
      "execution_count": 2,
      "metadata": {
        "id": "A-AHbWhD2I-A",
        "colab": {
          "base_uri": "https://localhost:8080/"
        },
        "outputId": "c7265f6e-6d6a-4337-d0d7-6a224c0e9c5d"
      },
      "outputs": [
        {
          "output_type": "stream",
          "name": "stdout",
          "text": [
            "\u001b[2K     \u001b[90m━━━━━━━━━━━━━━━━━━━━━━━━━━━━━━━━━━━━━━━━\u001b[0m \u001b[32m1.8/1.8 MB\u001b[0m \u001b[31m12.9 MB/s\u001b[0m eta \u001b[36m0:00:00\u001b[0m\n",
            "\u001b[2K     \u001b[90m━━━━━━━━━━━━━━━━━━━━━━━━━━━━━━━━━━━━━━━━\u001b[0m \u001b[32m143.1/143.1 kB\u001b[0m \u001b[31m8.6 MB/s\u001b[0m eta \u001b[36m0:00:00\u001b[0m\n",
            "\u001b[2K     \u001b[90m━━━━━━━━━━━━━━━━━━━━━━━━━━━━━━━━━━━━━━━━\u001b[0m \u001b[32m598.8/598.8 kB\u001b[0m \u001b[31m20.3 MB/s\u001b[0m eta \u001b[36m0:00:00\u001b[0m\n",
            "\u001b[2K     \u001b[90m━━━━━━━━━━━━━━━━━━━━━━━━━━━━━━━━━━━━━━━━\u001b[0m \u001b[32m60.9/60.9 kB\u001b[0m \u001b[31m6.3 MB/s\u001b[0m eta \u001b[36m0:00:00\u001b[0m\n",
            "\u001b[2K     \u001b[90m━━━━━━━━━━━━━━━━━━━━━━━━━━━━━━━━━━━━━━━━\u001b[0m \u001b[32m66.2/66.2 kB\u001b[0m \u001b[31m6.0 MB/s\u001b[0m eta \u001b[36m0:00:00\u001b[0m\n",
            "\u001b[2K     \u001b[90m━━━━━━━━━━━━━━━━━━━━━━━━━━━━━━━━━━━━━━━━\u001b[0m \u001b[32m596.5/596.5 kB\u001b[0m \u001b[31m22.4 MB/s\u001b[0m eta \u001b[36m0:00:00\u001b[0m\n",
            "\u001b[2K     \u001b[90m━━━━━━━━━━━━━━━━━━━━━━━━━━━━━━━━━━━━━━━━\u001b[0m \u001b[32m223.8/223.8 kB\u001b[0m \u001b[31m14.8 MB/s\u001b[0m eta \u001b[36m0:00:00\u001b[0m\n",
            "\u001b[2K     \u001b[90m━━━━━━━━━━━━━━━━━━━━━━━━━━━━━━━━━━━━━━━━\u001b[0m \u001b[32m229.9/229.9 kB\u001b[0m \u001b[31m13.5 MB/s\u001b[0m eta \u001b[36m0:00:00\u001b[0m\n",
            "\u001b[?25h  Preparing metadata (setup.py) ... \u001b[?25l\u001b[?25hdone\n",
            "\u001b[2K     \u001b[90m━━━━━━━━━━━━━━━━━━━━━━━━━━━━━━━━━━━━━━━━\u001b[0m \u001b[32m151.7/151.7 kB\u001b[0m \u001b[31m14.9 MB/s\u001b[0m eta \u001b[36m0:00:00\u001b[0m\n",
            "\u001b[2K     \u001b[90m━━━━━━━━━━━━━━━━━━━━━━━━━━━━━━━━━━━━━━━━\u001b[0m \u001b[32m45.6/45.6 kB\u001b[0m \u001b[31m4.2 MB/s\u001b[0m eta \u001b[36m0:00:00\u001b[0m\n",
            "\u001b[?25h  Preparing metadata (setup.py) ... \u001b[?25l\u001b[?25hdone\n",
            "\u001b[2K     \u001b[90m━━━━━━━━━━━━━━━━━━━━━━━━━━━━━━━━━━━━━━━━\u001b[0m \u001b[32m1.6/1.6 MB\u001b[0m \u001b[31m29.8 MB/s\u001b[0m eta \u001b[36m0:00:00\u001b[0m\n",
            "\u001b[2K     \u001b[90m━━━━━━━━━━━━━━━━━━━━━━━━━━━━━━━━━━━━━━━━\u001b[0m \u001b[32m151.7/151.7 kB\u001b[0m \u001b[31m14.8 MB/s\u001b[0m eta \u001b[36m0:00:00\u001b[0m\n",
            "\u001b[2K     \u001b[90m━━━━━━━━━━━━━━━━━━━━━━━━━━━━━━━━━━━━━━━━\u001b[0m \u001b[32m151.7/151.7 kB\u001b[0m \u001b[31m14.3 MB/s\u001b[0m eta \u001b[36m0:00:00\u001b[0m\n",
            "\u001b[2K     \u001b[90m━━━━━━━━━━━━━━━━━━━━━━━━━━━━━━━━━━━━━━━━\u001b[0m \u001b[32m147.4/147.4 kB\u001b[0m \u001b[31m14.6 MB/s\u001b[0m eta \u001b[36m0:00:00\u001b[0m\n",
            "\u001b[2K     \u001b[90m━━━━━━━━━━━━━━━━━━━━━━━━━━━━━━━━━━━━━━━━\u001b[0m \u001b[32m147.4/147.4 kB\u001b[0m \u001b[31m14.1 MB/s\u001b[0m eta \u001b[36m0:00:00\u001b[0m\n",
            "\u001b[2K     \u001b[90m━━━━━━━━━━━━━━━━━━━━━━━━━━━━━━━━━━━━━━━━\u001b[0m \u001b[32m147.4/147.4 kB\u001b[0m \u001b[31m14.3 MB/s\u001b[0m eta \u001b[36m0:00:00\u001b[0m\n",
            "\u001b[2K     \u001b[90m━━━━━━━━━━━━━━━━━━━━━━━━━━━━━━━━━━━━━━━━\u001b[0m \u001b[32m142.7/142.7 kB\u001b[0m \u001b[31m14.7 MB/s\u001b[0m eta \u001b[36m0:00:00\u001b[0m\n",
            "\u001b[2K     \u001b[90m━━━━━━━━━━━━━━━━━━━━━━━━━━━━━━━━━━━━━━━━\u001b[0m \u001b[32m88.3/88.3 kB\u001b[0m \u001b[31m9.2 MB/s\u001b[0m eta \u001b[36m0:00:00\u001b[0m\n",
            "\u001b[2K     \u001b[90m━━━━━━━━━━━━━━━━━━━━━━━━━━━━━━━━━━━━━━━━\u001b[0m \u001b[32m85.5/85.5 kB\u001b[0m \u001b[31m8.3 MB/s\u001b[0m eta \u001b[36m0:00:00\u001b[0m\n",
            "\u001b[2K     \u001b[90m━━━━━━━━━━━━━━━━━━━━━━━━━━━━━━━━━━━━━━━━\u001b[0m \u001b[32m85.1/85.1 kB\u001b[0m \u001b[31m8.1 MB/s\u001b[0m eta \u001b[36m0:00:00\u001b[0m\n",
            "\u001b[2K     \u001b[90m━━━━━━━━━━━━━━━━━━━━━━━━━━━━━━━━━━━━━━━━\u001b[0m \u001b[32m84.7/84.7 kB\u001b[0m \u001b[31m7.6 MB/s\u001b[0m eta \u001b[36m0:00:00\u001b[0m\n",
            "\u001b[2K     \u001b[90m━━━━━━━━━━━━━━━━━━━━━━━━━━━━━━━━━━━━━━━━\u001b[0m \u001b[32m83.6/83.6 kB\u001b[0m \u001b[31m8.7 MB/s\u001b[0m eta \u001b[36m0:00:00\u001b[0m\n",
            "\u001b[2K     \u001b[90m━━━━━━━━━━━━━━━━━━━━━━━━━━━━━━━━━━━━━━━━\u001b[0m \u001b[32m83.3/83.3 kB\u001b[0m \u001b[31m9.0 MB/s\u001b[0m eta \u001b[36m0:00:00\u001b[0m\n",
            "\u001b[2K     \u001b[90m━━━━━━━━━━━━━━━━━━━━━━━━━━━━━━━━━━━━━━━━\u001b[0m \u001b[32m83.4/83.4 kB\u001b[0m \u001b[31m8.3 MB/s\u001b[0m eta \u001b[36m0:00:00\u001b[0m\n",
            "\u001b[2K     \u001b[90m━━━━━━━━━━━━━━━━━━━━━━━━━━━━━━━━━━━━━━━━\u001b[0m \u001b[32m83.2/83.2 kB\u001b[0m \u001b[31m8.6 MB/s\u001b[0m eta \u001b[36m0:00:00\u001b[0m\n",
            "\u001b[2K     \u001b[90m━━━━━━━━━━━━━━━━━━━━━━━━━━━━━━━━━━━━━━━━\u001b[0m \u001b[32m82.5/82.5 kB\u001b[0m \u001b[31m8.7 MB/s\u001b[0m eta \u001b[36m0:00:00\u001b[0m\n",
            "\u001b[2K     \u001b[90m━━━━━━━━━━━━━━━━━━━━━━━━━━━━━━━━━━━━━━━━\u001b[0m \u001b[32m81.0/81.0 kB\u001b[0m \u001b[31m8.5 MB/s\u001b[0m eta \u001b[36m0:00:00\u001b[0m\n",
            "\u001b[2K     \u001b[90m━━━━━━━━━━━━━━━━━━━━━━━━━━━━━━━━━━━━━━━━\u001b[0m \u001b[32m81.0/81.0 kB\u001b[0m \u001b[31m7.7 MB/s\u001b[0m eta \u001b[36m0:00:00\u001b[0m\n",
            "\u001b[2K     \u001b[90m━━━━━━━━━━━━━━━━━━━━━━━━━━━━━━━━━━━━━━━━\u001b[0m \u001b[32m80.8/80.8 kB\u001b[0m \u001b[31m7.4 MB/s\u001b[0m eta \u001b[36m0:00:00\u001b[0m\n",
            "\u001b[2K     \u001b[90m━━━━━━━━━━━━━━━━━━━━━━━━━━━━━━━━━━━━━━━━\u001b[0m \u001b[32m80.7/80.7 kB\u001b[0m \u001b[31m7.4 MB/s\u001b[0m eta \u001b[36m0:00:00\u001b[0m\n",
            "\u001b[2K     \u001b[90m━━━━━━━━━━━━━━━━━━━━━━━━━━━━━━━━━━━━━━━━\u001b[0m \u001b[32m81.5/81.5 kB\u001b[0m \u001b[31m8.1 MB/s\u001b[0m eta \u001b[36m0:00:00\u001b[0m\n",
            "\u001b[2K     \u001b[90m━━━━━━━━━━━━━━━━━━━━━━━━━━━━━━━━━━━━━━━━\u001b[0m \u001b[32m90.4/90.4 kB\u001b[0m \u001b[31m8.9 MB/s\u001b[0m eta \u001b[36m0:00:00\u001b[0m\n",
            "\u001b[2K     \u001b[90m━━━━━━━━━━━━━━━━━━━━━━━━━━━━━━━━━━━━━━━━\u001b[0m \u001b[32m117.7/117.7 kB\u001b[0m \u001b[31m10.4 MB/s\u001b[0m eta \u001b[36m0:00:00\u001b[0m\n",
            "\u001b[2K     \u001b[90m━━━━━━━━━━━━━━━━━━━━━━━━━━━━━━━━━━━━━━━━\u001b[0m \u001b[32m60.6/60.6 kB\u001b[0m \u001b[31m5.1 MB/s\u001b[0m eta \u001b[36m0:00:00\u001b[0m\n",
            "\u001b[2K     \u001b[90m━━━━━━━━━━━━━━━━━━━━━━━━━━━━━━━━━━━━━━━━\u001b[0m \u001b[32m71.5/71.5 kB\u001b[0m \u001b[31m6.3 MB/s\u001b[0m eta \u001b[36m0:00:00\u001b[0m\n",
            "\u001b[2K     \u001b[90m━━━━━━━━━━━━━━━━━━━━━━━━━━━━━━━━━━━━━━━━\u001b[0m \u001b[32m3.1/3.1 MB\u001b[0m \u001b[31m14.1 MB/s\u001b[0m eta \u001b[36m0:00:00\u001b[0m\n",
            "\u001b[2K     \u001b[90m━━━━━━━━━━━━━━━━━━━━━━━━━━━━━━━━━━━━━━━━\u001b[0m \u001b[32m1.7/1.7 MB\u001b[0m \u001b[31m45.1 MB/s\u001b[0m eta \u001b[36m0:00:00\u001b[0m\n",
            "\u001b[2K     \u001b[90m━━━━━━━━━━━━━━━━━━━━━━━━━━━━━━━━━━━━━━━━\u001b[0m \u001b[32m117.8/117.8 kB\u001b[0m \u001b[31m11.8 MB/s\u001b[0m eta \u001b[36m0:00:00\u001b[0m\n",
            "\u001b[2K     \u001b[90m━━━━━━━━━━━━━━━━━━━━━━━━━━━━━━━━━━━━━━━━\u001b[0m \u001b[32m69.6/69.6 kB\u001b[0m \u001b[31m6.5 MB/s\u001b[0m eta \u001b[36m0:00:00\u001b[0m\n",
            "\u001b[2K     \u001b[90m━━━━━━━━━━━━━━━━━━━━━━━━━━━━━━━━━━━━━━━━\u001b[0m \u001b[32m526.7/526.7 kB\u001b[0m \u001b[31m37.2 MB/s\u001b[0m eta \u001b[36m0:00:00\u001b[0m\n",
            "\u001b[2K     \u001b[90m━━━━━━━━━━━━━━━━━━━━━━━━━━━━━━━━━━━━━━━━\u001b[0m \u001b[32m58.3/58.3 kB\u001b[0m \u001b[31m5.8 MB/s\u001b[0m eta \u001b[36m0:00:00\u001b[0m\n",
            "\u001b[?25h  Building wheel for lark (setup.py) ... \u001b[?25l\u001b[?25hdone\n",
            "  Building wheel for rpcq (setup.py) ... \u001b[?25l\u001b[?25hdone\n",
            "\u001b[31mERROR: pip's dependency resolver does not currently take into account all the packages that are installed. This behaviour is the source of the following dependency conflicts.\n",
            "referencing 0.35.1 requires attrs>=22.2.0, but you have attrs 21.4.0 which is incompatible.\u001b[0m\u001b[31m\n",
            "\u001b[0mLibraries imported successfully!\n"
          ]
        }
      ],
      "source": [
        "# @title\n",
        "!pip install cirq --quiet\n",
        "import cirq\n",
        "import cirq_web\n",
        "import numpy as np\n",
        "import cirq_web.bloch_sphere as bloch_sphere\n",
        "import matplotlib.pyplot as plt\n",
        "def binary_labels(num_qubits):\n",
        "    return [bin(x)[2:].zfill(num_qubits) for x in range(2 ** num_qubits)]\n",
        "print(\"Libraries imported successfully!\")"
      ]
    },
    {
      "cell_type": "markdown",
      "source": [
        "<a name=\"p1\"></a>\n",
        "\n",
        "---\n",
        "## **Part 1: Single-Qubit Circuit Review**\n",
        "---"
      ],
      "metadata": {
        "id": "qanjUZ2U3ezK"
      }
    },
    {
      "cell_type": "markdown",
      "source": [
        "### **Problem #1.1**\n",
        "\n",
        "1. Create a qubit.\n",
        "2. Create an empty quantum circuit.\n",
        "3. Append the qubit you created to the empty quantum circuit with an **H Gate** applied to it.\n",
        "4. Then print out the circuit.\n",
        "5. Print out the state vector, dirac notation, and bloch sphere of the qubit in the quantum circuit."
      ],
      "metadata": {
        "id": "LcUgu10O3zYj"
      }
    },
    {
      "cell_type": "code",
      "source": [
        "# COMPLETE THIS CODE\n",
        "qubit = cirq.NamedQubit(\"q0\")\n",
        "circuit = cirq.Circuit()\n",
        "circuit.append(cirq.H(qubit))\n",
        "print(circuit)\n"
      ],
      "metadata": {
        "id": "k39JhUy6MIvM",
        "outputId": "a0482088-bfb5-44be-a7e3-e8ceef47cbf8",
        "colab": {
          "base_uri": "https://localhost:8080/"
        }
      },
      "execution_count": 3,
      "outputs": [
        {
          "output_type": "stream",
          "name": "stdout",
          "text": [
            "q0: ───H───\n"
          ]
        }
      ]
    },
    {
      "cell_type": "code",
      "source": [
        "# COMPLETE THIS CODE\n",
        "sv = cirq.final_state_vector(circuit)\n",
        "ket = cirq.dirac_notation(state_vector = sv)\n",
        "print(ket)"
      ],
      "metadata": {
        "id": "90TXxuj8MIvR",
        "outputId": "5ede95cc-c4a4-4939-ed0d-26c8e9e2816b",
        "colab": {
          "base_uri": "https://localhost:8080/"
        }
      },
      "execution_count": 6,
      "outputs": [
        {
          "output_type": "stream",
          "name": "stdout",
          "text": [
            "0.71|0⟩ + 0.71|1⟩\n"
          ]
        }
      ]
    },
    {
      "cell_type": "markdown",
      "source": [
        "### **Problem #1.2**\n",
        "Append a measurement to your circuit from problem #1.1. Output the circuit. Simulate the results of your circuit."
      ],
      "metadata": {
        "id": "zCs--N7R4GIC"
      }
    },
    {
      "cell_type": "code",
      "source": [
        "# COMPLETE THIS CODE\n",
        "circuit.append(cirq.measure(qubit))\n",
        "print(circuit)"
      ],
      "metadata": {
        "id": "SyyfcprBMGpV",
        "outputId": "d1a76e29-7b85-4992-a493-12956293216f",
        "colab": {
          "base_uri": "https://localhost:8080/"
        }
      },
      "execution_count": 9,
      "outputs": [
        {
          "output_type": "stream",
          "name": "stdout",
          "text": [
            "q0: ───H───M───\n"
          ]
        }
      ]
    },
    {
      "cell_type": "code",
      "source": [
        "# COMPLETE THIS CODE\n",
        "sim = cirq.Simulator()\n",
        "result = sim.run(circuit)\n",
        "print(result)"
      ],
      "metadata": {
        "id": "TDZpGzRhMGpV",
        "outputId": "8895f7c9-72df-4d86-f836-f136f36d2659",
        "colab": {
          "base_uri": "https://localhost:8080/"
        }
      },
      "execution_count": 13,
      "outputs": [
        {
          "output_type": "stream",
          "name": "stdout",
          "text": [
            "q0=1\n"
          ]
        }
      ]
    },
    {
      "cell_type": "markdown",
      "source": [
        "###**Problem #1.3**\n",
        "Simulate the results of your circuit from Problem #1.2 10 times. Output the results. Simulate the results of your circuit."
      ],
      "metadata": {
        "id": "ru1nBj4t4r-y"
      }
    },
    {
      "cell_type": "code",
      "source": [
        "# COMPLETE THIS CODE\n",
        "sim = cirq.Simulator()\n",
        "result = sim.run(circuit, repetitions=10)\n",
        "print(result)"
      ],
      "metadata": {
        "id": "rW3-kkUCMDN2",
        "outputId": "b9a27ec2-8094-4a58-a581-0de700cdee5d",
        "colab": {
          "base_uri": "https://localhost:8080/"
        }
      },
      "execution_count": 14,
      "outputs": [
        {
          "output_type": "stream",
          "name": "stdout",
          "text": [
            "q0=1100010010\n"
          ]
        }
      ]
    },
    {
      "cell_type": "markdown",
      "source": [
        "###**Problem #1.4**\n",
        "1. Append the below circuit such that the qubit will end in the 0 state.\n",
        "2. Append a measurement to your circuit\n",
        "3. Print out the circuit.\n",
        "4. Simulate the result of your circuit 500 times and output the results to ensure that the qubit is in the 0 state."
      ],
      "metadata": {
        "id": "nF4R9XSK60n7"
      }
    },
    {
      "cell_type": "code",
      "source": [
        "# COMPLETE THIS CODE\n",
        "qubit = cirq.NamedQubit(\"q0\")\n",
        "circuit = cirq.Circuit()\n",
        "circuit.append(cirq.measure(qubit))\n",
        "print(circuit)"
      ],
      "metadata": {
        "id": "VahaFgQkL_hf",
        "outputId": "63a10fa2-cce3-463d-9caa-f092dc5104a9",
        "colab": {
          "base_uri": "https://localhost:8080/"
        }
      },
      "execution_count": 15,
      "outputs": [
        {
          "output_type": "stream",
          "name": "stdout",
          "text": [
            "q0: ───M───\n"
          ]
        }
      ]
    },
    {
      "cell_type": "code",
      "source": [
        "# COMPLETE THIS CODE\n",
        "sim = cirq.Simulator()\n",
        "result = sim.run(circuit, repetitions=10)\n",
        "print(result)"
      ],
      "metadata": {
        "id": "69IySBSKL-9u",
        "outputId": "bea32ed6-733e-46ea-8231-be76cedd3f6e",
        "colab": {
          "base_uri": "https://localhost:8080/"
        }
      },
      "execution_count": 16,
      "outputs": [
        {
          "output_type": "stream",
          "name": "stdout",
          "text": [
            "q0=0000000000\n"
          ]
        }
      ]
    },
    {
      "cell_type": "code",
      "source": [
        "# COMPLETE THIS CODE"
      ],
      "metadata": {
        "id": "daWM7EmeL-97"
      },
      "execution_count": null,
      "outputs": []
    },
    {
      "cell_type": "markdown",
      "source": [
        "<a name=\"p2\"></a>\n",
        "\n",
        "---\n",
        "## **Part 2: Multi-Qubit Circuits**\n",
        "---"
      ],
      "metadata": {
        "id": "IGDBlZLc8aC8"
      }
    },
    {
      "cell_type": "markdown",
      "source": [
        "###**Problem #2.1**\n",
        "Create three qubits and append a measurement to each qubit. Output your circuit. Simulate the results of your circuit."
      ],
      "metadata": {
        "id": "Ox-TFq4J8bRI"
      }
    },
    {
      "cell_type": "code",
      "source": [
        "# COMPLETE THIS CODE\n",
        "qubits = []\n",
        "for i in range(3):\n",
        "  qubits.append(cirq.NamedQubit(\"q\" + str(i)))\n",
        "circuit = cirq.Circuit()\n",
        "for qubit in qubits:\n",
        "  circuit.append(cirq.measure(qubit))\n",
        "print(circuit)\n",
        ""
      ],
      "metadata": {
        "id": "pbD4F0dRL8hC",
        "outputId": "2227e8e1-4654-4511-9972-f10f403d761e",
        "colab": {
          "base_uri": "https://localhost:8080/"
        }
      },
      "execution_count": 17,
      "outputs": [
        {
          "output_type": "stream",
          "name": "stdout",
          "text": [
            "q0: ───M───\n",
            "\n",
            "q1: ───M───\n",
            "\n",
            "q2: ───M───\n"
          ]
        }
      ]
    },
    {
      "cell_type": "code",
      "source": [
        "# COMPLETE THIS CODE\n",
        "sim = cirq.Simulator()\n",
        "result = sim.run(circuit, repetitions=10)\n",
        "print(result)"
      ],
      "metadata": {
        "id": "bUdCuclTL8hD",
        "outputId": "045525d8-d58c-4003-ff33-39b62e159fc6",
        "colab": {
          "base_uri": "https://localhost:8080/"
        }
      },
      "execution_count": 18,
      "outputs": [
        {
          "output_type": "stream",
          "name": "stdout",
          "text": [
            "q0=0000000000\n",
            "q1=0000000000\n",
            "q2=0000000000\n"
          ]
        }
      ]
    },
    {
      "cell_type": "markdown",
      "source": [
        "###**Problem #2.2**\n",
        "Create three qubits and append an H gate to each qubit. Output your circuit. Give the ket representation of the final state vectors of your circuit."
      ],
      "metadata": {
        "id": "RO3KfNTM_4RV"
      }
    },
    {
      "cell_type": "code",
      "source": [
        "# COMPLETE THIS CODE\n",
        "qubits = []\n",
        "for i in range(3):\n",
        "  qubits.append(cirq.NamedQubit(\"q\" + str(i)))\n",
        "circuit = cirq.Circuit()\n",
        "for qubit in qubits:\n",
        "  circuit.append(cirq.H(qubit))\n",
        "print(circuit)\n",
        ""
      ],
      "metadata": {
        "id": "W-6CsWO-L2yw",
        "outputId": "37c0459a-98b2-4115-8498-06f4d6dc24f9",
        "colab": {
          "base_uri": "https://localhost:8080/"
        }
      },
      "execution_count": 21,
      "outputs": [
        {
          "output_type": "stream",
          "name": "stdout",
          "text": [
            "q0: ───H───\n",
            "\n",
            "q1: ───H───\n",
            "\n",
            "q2: ───H───\n"
          ]
        }
      ]
    },
    {
      "cell_type": "code",
      "source": [
        "# COMPLETE THIS CODE\n",
        "sv = cirq.final_state_vector(circuit)\n",
        "ket = cirq.dirac_notation(state_vector = sv)\n",
        "print(ket)"
      ],
      "metadata": {
        "id": "UmucBCyLL6l7",
        "outputId": "806063ea-65d1-47f5-e189-aa3843ffe071",
        "colab": {
          "base_uri": "https://localhost:8080/"
        }
      },
      "execution_count": 22,
      "outputs": [
        {
          "output_type": "stream",
          "name": "stdout",
          "text": [
            "0.35|000⟩ + 0.35|001⟩ + 0.35|010⟩ + 0.35|011⟩ + 0.35|100⟩ + 0.35|101⟩ + 0.35|110⟩ + 0.35|111⟩\n"
          ]
        }
      ]
    },
    {
      "cell_type": "markdown",
      "source": [
        "###**Problem #2.3**\n",
        "Create three qubits and append an H gate to the first qubit, an X gate to the second, and a Z gate to the third. Output your circuit."
      ],
      "metadata": {
        "id": "5YkhDdBtAvLM"
      }
    },
    {
      "cell_type": "code",
      "source": [
        "# COMPLETE THIS CODE\n",
        "qubits = []\n",
        "for i in range(3):\n",
        "  qubits.append(cirq.NamedQubit(\"q\" + str(i)))\n",
        "circuit = cirq.Circuit()\n",
        "circuit.append(cirq.H(qubits[0]))\n",
        "circuit.append(cirq.X(qubits[1]))\n",
        "circuit.append(cirq.Z(qubits[2]))\n",
        "print(circuit)\n",
        ""
      ],
      "metadata": {
        "id": "s0Wui09KL1DD",
        "outputId": "b8c4c8b6-ce58-4343-f516-d3e1c0177435",
        "colab": {
          "base_uri": "https://localhost:8080/"
        }
      },
      "execution_count": 4,
      "outputs": [
        {
          "output_type": "stream",
          "name": "stdout",
          "text": [
            "q0: ───H───\n",
            "\n",
            "q1: ───X───\n",
            "\n",
            "q2: ───Z───\n"
          ]
        }
      ]
    },
    {
      "cell_type": "markdown",
      "source": [
        "###**Problem #2.4**\n",
        "Using the same circuit as Problem #2.3, append a Z gate to the first qubit, an H gate to the second, and an X gate to the third. Output your circuit."
      ],
      "metadata": {
        "id": "6cwoGk80BYIJ"
      }
    },
    {
      "cell_type": "code",
      "source": [
        "# COMPLETE THIS CODE\n",
        "circuit.append(cirq.Z(qubits[0]))\n",
        "circuit.append(cirq.H(qubits[1]))\n",
        "circuit.append(cirq.X(qubits[2]))\n",
        "circuit"
      ],
      "metadata": {
        "id": "CzvO4CVaLzTH",
        "outputId": "b331a3a5-b920-490c-d770-4ec00a4333fd",
        "colab": {
          "base_uri": "https://localhost:8080/",
          "height": 104
        }
      },
      "execution_count": 5,
      "outputs": [
        {
          "output_type": "execute_result",
          "data": {
            "text/plain": [
              "q0: ───H───Z───\n",
              "\n",
              "q1: ───X───H───\n",
              "\n",
              "q2: ───Z───X───"
            ],
            "text/html": [
              "<pre style=\"overflow: auto; white-space: pre;\">q0: ───H───Z───\n",
              "\n",
              "q1: ───X───H───\n",
              "\n",
              "q2: ───Z───X───</pre>"
            ]
          },
          "metadata": {},
          "execution_count": 5
        }
      ]
    },
    {
      "cell_type": "markdown",
      "source": [
        "###**Problem #2.5**\n",
        "Using the same circuit as Problem #2.4, append an X gate to the first qubit, a Z gate to the second, and an H gate to the third. Finally, append a measurement to each qubit. Output your circuit. Simulate the results of your circuit 10,000 times and create a histogram of the results.\n",
        "\n",
        "<br>\n",
        "\n",
        "**NOTE**: If you want to rerun your solution to this problem, you will need to rerun your solutions to Problems #2.3 - 2.4 first."
      ],
      "metadata": {
        "id": "KupbdzKWBn6o"
      }
    },
    {
      "cell_type": "code",
      "source": [
        "# COMPLETE THIS CODE\n",
        "circuit.append(cirq.Z(qubits[0]))\n",
        "circuit.append(cirq.H(qubits[1]))\n",
        "circuit.append(cirq.X(qubits[2]))\n",
        "circuit"
      ],
      "metadata": {
        "id": "O66xctf0LxMF",
        "outputId": "a7e2e32a-8e39-4a23-a180-9675ab73591f",
        "colab": {
          "base_uri": "https://localhost:8080/",
          "height": 104
        }
      },
      "execution_count": 6,
      "outputs": [
        {
          "output_type": "execute_result",
          "data": {
            "text/plain": [
              "q0: ───H───Z───Z───\n",
              "\n",
              "q1: ───X───H───H───\n",
              "\n",
              "q2: ───Z───X───X───"
            ],
            "text/html": [
              "<pre style=\"overflow: auto; white-space: pre;\">q0: ───H───Z───Z───\n",
              "\n",
              "q1: ───X───H───H───\n",
              "\n",
              "q2: ───Z───X───X───</pre>"
            ]
          },
          "metadata": {},
          "execution_count": 6
        }
      ]
    },
    {
      "cell_type": "code",
      "source": [
        "circuit.append(cirq.measure(qubits))\n",
        "\n",
        "sim = cirq.Simulator()\n",
        "result = sim.run(circuit, repetitions=10)\n",
        "print(result)"
      ],
      "metadata": {
        "id": "A-dlOn-TLxMT",
        "outputId": "a620cfb3-5f22-47e4-a7af-d1edf9db7f10",
        "colab": {
          "base_uri": "https://localhost:8080/"
        }
      },
      "execution_count": 8,
      "outputs": [
        {
          "output_type": "stream",
          "name": "stdout",
          "text": [
            "q0,q1,q2=0100010110, 1111111111, 0000000000\n"
          ]
        }
      ]
    },
    {
      "cell_type": "markdown",
      "source": [
        "###**Problem #2.6**\n",
        "\n",
        "Create two qubits. Create a circuit and add a CNOT gate such the the first qubit is the control and the second is the target. Output your circuit. Print out the ket representation of your circuit's final state."
      ],
      "metadata": {
        "id": "m1R6_DnvC7XS"
      }
    },
    {
      "cell_type": "code",
      "source": [
        "# COMPLETE THIS CODE\n",
        "qubit1 = cirq.NamedQubit(\"q0\")\n",
        "qubit2 = cirq.NamedQubit(\"q1\")\n",
        "circuit = cirq.Circuit()\n",
        "circuit.append(cirq.CNOT(qubit1, qubit2))\n",
        "print(circuit)"
      ],
      "metadata": {
        "id": "ihDsThOJmyw3",
        "outputId": "7e1862bc-9d18-4077-9afe-963a0007e928",
        "colab": {
          "base_uri": "https://localhost:8080/"
        }
      },
      "execution_count": 10,
      "outputs": [
        {
          "output_type": "stream",
          "name": "stdout",
          "text": [
            "q0: ───@───\n",
            "       │\n",
            "q1: ───X───\n"
          ]
        }
      ]
    },
    {
      "cell_type": "code",
      "source": [
        "# COMPLETE THIS CODE\n",
        "sv = cirq.final_state_vector(circuit)\n",
        "ket = cirq.dirac_notation(state_vector = sv)\n",
        "print(ket)"
      ],
      "metadata": {
        "id": "IGfWX6idmyoa",
        "outputId": "1649ac3a-d550-4bfb-a629-b404d440c9ec",
        "colab": {
          "base_uri": "https://localhost:8080/"
        }
      },
      "execution_count": 11,
      "outputs": [
        {
          "output_type": "stream",
          "name": "stdout",
          "text": [
            "|00⟩\n"
          ]
        }
      ]
    },
    {
      "cell_type": "markdown",
      "source": [
        "###**Problem #2.7**\n",
        "\n",
        "Create two qubits. Create a circuit and add an H gate to the first qubit, an X gate to the second qubit, then a CNOT gate such the the first qubit is the control and the second is the target. Measure both qubits in the end. Output your circuit. Simulate the results of your circuit 10000 times and create a histogram of the results."
      ],
      "metadata": {
        "id": "yqGfWFBKHBkv"
      }
    },
    {
      "cell_type": "code",
      "source": [
        "# COMPLETE THIS CODE\n",
        "qubit1 = cirq.NamedQubit(\"q0\")\n",
        "qubit2 = cirq.NamedQubit(\"q1\")\n",
        "circuit = cirq.Circuit()\n",
        "circuit.append(cirq.H(qubit1))\n",
        "circuit.append(cirq.X(qubit2))\n",
        "circuit.append(cirq.CNOT(qubit1, qubit2))\n",
        "circuit.append(cirq.measure(qubit1, qubit2))"
      ],
      "metadata": {
        "id": "FRan1ev5HBkw"
      },
      "execution_count": 12,
      "outputs": []
    },
    {
      "cell_type": "code",
      "source": [
        "# COMPLETE THIS CODE\n",
        "sim = cirq.Simulator()\n",
        "result = sim.run(circuit, repetitions=10000)\n",
        "print(result)"
      ],
      "metadata": {
        "id": "tK8_-nR6HBkx",
        "outputId": "239abcef-c531-4c6c-98fb-3094cda943b1",
        "colab": {
          "base_uri": "https://localhost:8080/"
        }
      },
      "execution_count": 14,
      "outputs": [
        {
          "output_type": "stream",
          "name": "stdout",
          "text": [
            "q0,q1=0101111100100001110011101111111010110101100010100010010000100011110011001010000100101110011000000111011011101001110100101011000000010010100100110000000010100001101100101111000111110101000000100100101011111011010110111000011000001100101101001100010111001110011011100001000010001010000000000110110000010111110111100000111101101100010011110100101001100001110111010011010010111100011000101101110000110000101011001111110000111101000110111011011111011010100110100011101101011111000011001011100000000101000011001000100111110101101100100011101110001100110110011000000111111111000101101011010010001111110010111101011011010011110110111010110110000111110001011110100010111101000000111000010111100010011110100011110101111011101111010111101100001110111110011000011001011000100100101000011011101100101100010111101111111111110101111011111001100101001100101010100101101110111101111111100100001101111011101000010111001110001111001010010001101001000000100001100011001101110101110101111011000011001011101011000110101111001011110010010111001100011101111111101110100011111001111101101101111011100000011101100111110111110100101110100101110111100010101101101000011000010011101111100011011101111001010011010111111001110101111101111101101001000100001010101110110110100001100101001001001101000000000000000001010100111011000011010000010000101111001100100011010101100101011100100111010110101000111101111101111101101001010110101010001100000010001100101000000000101110000110000011011001110101101001010110111001001001110001010001100100100011010110000011101000111100011100011100111010100101000001101000111101111001111011100101111111011011101100110101111000110011101111100010110011110001010110101010010000010110011011010010101101001011000011111011101100000011010011000101110001111110100011011100000111001011100010101100100000100110000101001001111011110110110011111011000000010000001011111010111110010110111001100010110111111011101001011100011001111101100101010010111010101010100111011000010000110100101110000000001110110111110010011010111010010011101110000110011100110011101101001001000011111111110001010000100110011111111010010000001100011010010111100011001001111110000010000000110101110000100110011011110010110011100001101110011010101101110001100000100001000111001011011110010110010110111000101001010100010011010010111011011110010011110101111011010010100101101000111100100110011100100001111110011001101110100101011111111010100000111011100000011101011110001110111000000111111010001111101010101111011011010000011000100111111100000111001011111011111000100111110110101000011001011100111010100101110000100100011101100111001110000111001100011000001001010111011000010010100001011111111110100011101000100111011011001100000110101111101001000100000011111100111001100001100001100000000010100011011000001110010100000010111111101100010110110111101011010000100011110000011101001010110000110111010100100001000111111010110100100100001000010001111011100100010101011001111000011001011010110100001101010001111101111111101101010000000011001110111011011111110000011000100110000010110111100000101101010010011111100001000100111010010110111101100011001000110010010100110010010011100101101010011000101010011111100101100010011111110011001011110011110100110011001011000001001110001000110110010110000001110110001011100111101101100000010100010010101011010000010100100001100011111001101011000011010101110110000111001110101011100110011010110010011100100010101101000011000101010100010100100100100000111010110011011111110101111111011110010010000111010101111011110110010100010110100011011011111001110010100011010111011000100001101101110100100001010001001110001010010011000111110000100100001001101001000111100111100111101101101110111010001111100111010111111000010000111110100001001011111111000100101100010011000100100001010101110010000001110110001000101001000100111100011101101101110101111001000010010110110001100000100100001111111100110100000010011111001110011001111000001000111111111011011100001001011101101110011111001111110100111111111011011010010111001101101010110101010011110011100111001011000010011101110010110010000101010010011010000100000000011001010010010001110111110011110011011001000011101010001000010111001111000000110111111101000110010110011111101101001010001000101111101111011101101101111011011011110000111111110110011011010010010001010101001000100011100100100010101101100000010100000010100111011101101011010010111001011000001111011110110000100010101000101110110101110111110100101000100011110001100100111000101011011000010111100001011001101101010111100101101011001110101010000001000010101100000101101010100100101111110000011000100001011110111011100000100111110010110100010111010101011100000001100111110110100011010010011110110011011101001110110110000111011101101010100111011100110010001110001111101101001100001011111110010100100101000001011111010010010111000001010001010111010101010101001000100001100001100101000111111111011110011110010011110000101101000111110000110011010001011110001101101010000111000110010010000101101010110111011110011100101110000011010100111110111000001011100001011110110101100100011100110101000111100001110001100010110011011111001000100111010111110001011010101001000011101011010111010010010101101101100100000011110100100110011001100011011010110111010101001101101011100101111001000001010101110110100001000100011001101111001111101100111111001011111011000001101110101000100000100111001110000101110011100000100001001100111111110111101110001110000110111101100101001000001001110101001010010101001100001000000010001101011110001111010110011001010001011101001001010001111110001000011010100000101000101100110101110110011001111111110101001010110111001011001011011101111010000111011100001011000001101001010101101000111110000101110100110100000000100010011000101110000000001101011001011110011100010111111110010010101100011111101101010000111000110011011010010100101100011100101000110111000111000100110110000010011010101000001011001000110101101011110110111011100111111110000110110111001111100011111100101000011001100001011101111001010110100100001110010111111111001001000010101111111100101011011111001110111101100001000110110100010010001001101011101100110111011000100100111111001111000011101001001011100011000100111000111000111010001100111011111001101001100000100111111111010001101111011111001111100001001001011100110110011000001001010101001100010000110111011100101111101110100100110001010101110111000000101011100101100100001011001010100110010001001111100101101010010101110001001011010110101001011010111010111101001011100011001100110101000011110100111010100010010010001101110100110001001100001111011000011111111111100101011011001110100110010011000111111001000011011100011010001000000110010111111011110101010011000100000010000011111010101010111010110010110011100110011001111110000000110010101001000111011110101110100101011110001010111101101111011100000110101110000101100110101001101110000000110101011110000110000100001100110001001001111001001100011010000100011001101110101001101101011011000101111011011001100010110110101101000110011110101111110011000011011000110011110101001001001110010111010011100011010010110101111111111011101101010010110010011111110000011000100011010000101000111101000011011100110111101100110110101010111010011100110010101010010100010101111000001110010110100011011111100001010000100101111110100000001111011111000111110101001000111001110011000000100111101101000100011111001010101000011111010010111001011010110001111010111000001001010110100001110010011001000000010101000001000001110010011011111000011010011110101001100100100101111010001000100011010000000011000100010101101101100000101010011101101111010111001100100101011110111001010110111000100110011010100011001100110110110100110001011101110101100110111110000001000000011111001010110100101110001111110001010100001011011000010101100110101111010000101000101101110011011000011001100101110100100000011001010100110011110100110011110000011011100000100111001110111100000101000000111111010011010110111000000100101010011000101010101010001101111001010000101011000111000000111010111010110110101000011110011010110001101101110000000011100110100001110010010101010001000011110000000010000101000101010001110000001110010011100110011111010110010010101100110111101010011111011000101100110001010111000101010000010001011001010001101000011101011101010000000111000000010101101111100000101110111001000001001110101001111011010000110000000000000000101100110001001001111110110000010011000011000010001011000010000111010001000111001110001000000111110010110101010110100010001011000000001101001101110000011010101001111100101000101001000000110111000000001111100011011001100111111010000111100110100101100100111110101110101001110010000100100000100101001000011011110111100001010111000001110011100101101100011101100111101001011101110001100011100000010000011001001110111110101011010111111100110011100100011101111011000111101010010010101011010000001100110011011011000010010111101111111101101110001111001000011100100110001000000000111000011000001100111010010001111010011110111101010100111111001110101101100101011101111101100100000000001111100100001010100000111010000010011101110100001110100011101101010100111111100101111110110010101001011010110011001110000000101101110010010110101101110110111010010110101000110000010111011000111001101010111010100000101101001010101011000111110010111001011101111011011111010010101111100111011101111000010100101000011000001011001100000101011100000001001111100100110010011011111111011000000100011100100110110000001011110001010101001001100000110111111110101101100000000111101100101011011100010111000011100000100011001000000000100101111101101001110100011000111100000100000110101111011101110111100000111001110001000010001001001111101000001001100110100110111011111110100010010111111010100011100011101000101101100111000000001010101111110101001001001110111000111111011110011110000100001010011101110010111010010001111011111000000001010010010111110110100110001101100001100100101000101000011011110001110111101110011110010011100101110111101111001001111010000001010101101001111111111100101000010110, 1010000011011110001100010000000101001010011101011101101111011100001100110101111011010001100111111000100100010110001011010100111111101101011011001111111101011110010011010000111000001010111111011011010100000100101001000111100111110011010010110011101000110001100100011110111101110101111111111001001111101000001000011111000010010011101100001011010110011110001000101100101101000011100111010010001111001111010100110000001111000010111001000100100000100101011001011100010010100000111100110100011111111010111100110111011000001010010011011100010001110011001001100111111000000000111010010100101101110000001101000010100100101100001001000101001001111000001110100001011101000010111111000111101000011101100001011100001010000100010000101000010011110001000001100111100110100111011011010111100100010011010011101000010000000000001010000100000110011010110011010101011010010001000010000000011011110010000100010111101000110001110000110101101110010110111111011110011100110010001010001010000100111100110100010100111001010000110100001101101000110011100010000000010001011100000110000010010010000100011111100010011000001000001011010001011010001000011101010010010111100111101100010000011100100010000110101100101000000110001010000010000010010110111011110101010001001001011110011010110110110010111111111111111110101011000100111100101111101111010000110011011100101010011010100011011000101001010111000010000010000010010110101001010101110011111101110011010111111111010001111001111100100110001010010110101001000110110110001110101110011011011100101001111100010111000011100011100011000101011010111110010111000010000110000100011010000000100100010011001010000111001100010000011101001100001110101001010101101111101001100100101101010010110100111100000100010011111100101100111010001110000001011100100011111000110100011101010011011111011001111010110110000100001001001100000100111111101111110100000101000001101001000110011101001000000100010110100011100110000010011010101101000101010101011000100111101111001011010001111111110001001000001101100101000101101100010001111001100011001100010010110110111100000000001110101111011001100000000101101111110011100101101000011100110110000001111101111111001010001111011001100100001101001100011110010001100101010010001110011111011110111000110100100001101001101001000111010110101011101100101101000100100001101100001010000100101101011010010111000011011001100011011110000001100110010001011010100000000101011111000100011111100010100001110001000111111000000101110000010101010000100100101111100111011000000011111000110100000100000111011000001001010111100110100011000101011010001111011011100010011000110001111000110011100111110110101000100111101101011110100000000001011100010111011000100100110011111001010000010110111011111100000011000110011110011110011111111101011100100111110001101011111101000000010011101001001000010100101111011100001111100010110101001111001000101011011110111000000101001011011011110111101110000100011011101010100110000111100110100101001011110010101110000010000000010010101111111100110001000100100000001111100111011001111101001000011111010010101101100000011110111011000101101001000010011100110111001101101011001101101100011010010101100111010101100000011010011101100000001100110100001100001011001100110100111110110001110111001001101001111110001001110100011000010010011111101011101101010100101111101011011110011100000110010100111100101010001001111000110001010100011001100101001101100011011101010010111100111010101011101011011011011111000101001100100000001010000000100001101101111000101010000100001001101011101001011100100100000110001101011100101000100111011110010010001011011110101110110001110101101100111000001111011011110110010110111000011000011000010010010001000101110000011000101000000111101111000001011110110100000000111011010011101100111011011110101010001101111110001001110111010110111011000011100010010010001010000110111101101001001110011111011011110000000011001011111101100000110001100110000111110111000000000100100011110110100010010001100000110000001011000000000100100101101000110010010101001010101100001100011000110100111101100010001101001101111010101101100101111011111111100110101101101110001000001100001100100110111100010101110111101000110000111111001000000010111001101001100000010010110101110111010000010000100010010010000100100100001111000000001001100100101101101110101010110111011100011011011101010010011111101011111101011000100010010100101101000110100111110000100001001111011101010111010001001010001000001011010111011100001110011011000111010100100111101000011110100110010010101000011010010100110001010101111110111101010011111010010101011011010000001111100111011110100001000100011111011000001101001011101000101010100011111110011000001001011100101101100001001100100010110001001001111000100010010101011000100011001101110001110000010010110011110100000001101011011010111110100000101101101000111110101110101000101010101010110111011110011110011010111000000000100001100001101100001111010010111000001111001100101110100001110010010101111000111001101101111010010101001000100001100011010001111100101011000001000111110100011110100001001010011011100011001010111000011110001110011101001100100000110111011000101000001110100101010110111100010100101000101101101010010010011011111100001011011001100110011100100101001000101010110010010100011010000110111110101010001001011110111011100110010000110000010011000000110100000100111110010001010111011111011000110001111010001100011111011110110011000000001000010001110001111001000010011010110111110110001010110101101010110011110111111101110010100001110000101001100110101110100010110110101110000001110111100101011111010111010011001010001001100110000000001010110101001000110100110100100010000101111000100011110100111110010110101010010111000001111010001011001011111111011101100111010001111111110010100110100001100011101000000001101101010011100000010010101111000111001100100101101011010011100011010111001000111000111011001001111101100101010111110100110111001010010100001001000100011000000001111001001000110000011100000011010111100110011110100010000110101001011011110001101000000000110110111101010000000011010100100000110001000010011110111001001011101101110110010100010011001000100111011011000000110000111100010110110100011100111011000111000111000101110011000100000110010110011111011000000000101110010000100000110000011110110110100011001001100111110110101010110011101111001000100011010000010001011011001110101010001000111111010100011010011011110100110101011001101110110000011010010101101010001110110100101001010110100101000101000010110100011100110011001010111100001011000101011101101101110010001011001110110011110000100111100000000000011010100100110001011001101100111000000110111100100011100101110111111001101000000100001010101100111011111101111100000101010101000101001101001100011001100110000001111111001101010110111000100001010001011010100001110101000010010000100011111001010001111010011001010110010001111111001010100001111001111011110011001110110110000110110011100101111011100110010001010110010010100100111010000100100110011101001001010010111001100001010000001100111100100111001100001010110110110001101000101100011100101101001010000000000100010010101101001101100000001111100111011100101111010111000010111100100011001000010011001001010101000101100011001101010101101011101010000111110001101001011100100000011110101111011010000001011111110000100000111000001010110111000110001100111111011000010010111011100000110101010111100000101101000110100101001110000101000111110110101001011110001101100110111111101010111110111110001101100100000111100101100001010110011011011010000101110111011100101111111100111011101010010010011111010101100010010000101000110011011010100001000110101001000111011001100101011100110011001001001011001110100010001010011001000001111110111111100000110101001011010001110000001110101011110100100111101010011001010000101111010111010010001100100111100110011010001011011111100110101011001100001011001100001111100100011111011000110001000011111010111111000000101100101001000111111011010101100111010101010101110010000110101111010100111000111111000101000101001001010111100001100101001110010010001111111100011001011110001101101010101110111100001111111101111010111010101110001111110001101100011001100000101001101101010011001000010101100000100111010011001110101000111010101111101110100110101110010111100010100010101111111000111111101010010000011111010001000110111110110001010110000100101111001111111111111111010011001110110110000001001111101100111100111101110100111101111000101110111000110001110111111000001101001010101001011101110100111111110010110010001111100101010110000011010111010110111111001000111111110000011100100110011000000101111000011001011010011011000001010001010110001101111011011111011010110111100100001000011110101000111110001100011010010011100010011000010110100010001110011100011111101111100110110001000001010100101000000011001100011011100010000100111000010101101101010100101111110011001100100100111101101000010000000010010001110000110111100011011001110111111111000111100111110011000101101110000101100001000010101011000000110001010010011010100010000010011011111111110000011011110101011111000101111101100010001011110001011100010010101011000000011010000001001101010110100101001100110001111111010010001101101001010010001001000101101001010111001111101000100111000110010101000101011111010010110101010100111000001101000110100010000100100000101101010000011000100010000111101011010111100111110100110011111010100011111110110000011011001101100100000000100111111011100011011001001111110100001110101010110110011111001000000001010010011111111000010011010100100011101000111100011111011100110111111111011010000010010110001011100111000011111011111001010000100010001000011111000110001110111101110110110000010111110110011001011001000100000001011101101000000101011100011100010111010010011000111111110101010000001010110110110001000111000000100001100001111011110101100010001101000101101110000100000111111110101101101000001001011001110010011110011011010111010111100100001110001000010001100001101100011010001000010000110110000101111110101010010110000000000011010111101001\n"
          ]
        }
      ]
    },
    {
      "cell_type": "markdown",
      "source": [
        "#End of notebook\n",
        "---\n",
        "© 2023 The Coding School, All rights reserved"
      ],
      "metadata": {
        "id": "KJKDKEjJ3gEw"
      }
    }
  ]
}