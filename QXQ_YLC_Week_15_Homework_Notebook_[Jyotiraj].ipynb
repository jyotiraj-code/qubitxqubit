{
  "nbformat": 4,
  "nbformat_minor": 5,
  "metadata": {
    "kernelspec": {
      "display_name": "Qiskit v0.31.0 (ipykernel)",
      "language": "python",
      "name": "python3"
    },
    "language_info": {
      "codemirror_mode": {
        "name": "ipython",
        "version": 3
      },
      "file_extension": ".py",
      "mimetype": "text/x-python",
      "name": "python",
      "nbconvert_exporter": "python",
      "pygments_lexer": "ipython3",
      "version": "3.8.10"
    },
    "colab": {
      "provenance": [],
      "include_colab_link": true
    }
  },
  "cells": [
    {
      "cell_type": "markdown",
      "metadata": {
        "id": "view-in-github",
        "colab_type": "text"
      },
      "source": [
        "<a href=\"https://colab.research.google.com/github/jyotiraj-code/qubitxqubit/blob/main/QXQ_YLC_Week_15_Homework_Notebook_%5BJyotiraj%5D.ipynb\" target=\"_parent\"><img src=\"https://colab.research.google.com/assets/colab-badge.svg\" alt=\"Open In Colab\"/></a>"
      ]
    },
    {
      "cell_type": "markdown",
      "source": [
        "# **Homework 15: Complexity of Algorithms**\n",
        "---\n",
        "\n",
        "### **Description**\n",
        "Today, you will work with two of the most famous classical search algorithms: linear and binary search. You will implement and analyze their performance.\n",
        "\n",
        "\n",
        "\n",
        "<br>\n",
        "\n",
        "### **Structure**\n",
        "**Part 1**: [Linear Search](#p1)\n",
        "\n",
        "**Part 2**: [Binary Search](#p2)\n",
        "\n",
        "\n",
        "<br>\n",
        "\n",
        "### **Learning Objectives**\n",
        "By the end of this assignment, you will:\n",
        "* Recognize how to compare algorithms using big-O notation.\n",
        "* Recognize the limits of classical search algorithms for unordered lists.\n",
        "\n",
        "\n",
        "<br>\n",
        "\n",
        "### **Resources**\n",
        "\n",
        "\n",
        "<br>\n",
        "\n",
        "**Before starting, run the code below to import all necessary functions and libraries.**"
      ],
      "metadata": {
        "id": "1s-9JC7kWwrY"
      },
      "id": "1s-9JC7kWwrY"
    },
    {
      "cell_type": "code",
      "execution_count": 1,
      "metadata": {
        "id": "LxC62c-hRcYv",
        "outputId": "e8327e90-4694-4d06-e8a5-396800b31ae0",
        "colab": {
          "base_uri": "https://localhost:8080/"
        }
      },
      "outputs": [
        {
          "output_type": "stream",
          "name": "stdout",
          "text": [
            "Libraries imported successfully!\n"
          ]
        }
      ],
      "source": [
        "# @title\n",
        "# Importing other python libraries\n",
        "import random\n",
        "import matplotlib.pyplot as plt\n",
        "import warnings\n",
        "warnings.filterwarnings(\"ignore\")\n",
        "\n",
        "print(\"Libraries imported successfully!\")"
      ],
      "id": "LxC62c-hRcYv"
    },
    {
      "cell_type": "markdown",
      "metadata": {
        "jp-MarkdownHeadingCollapsed": true,
        "tags": [],
        "id": "sVwVviQORgWa"
      },
      "source": [
        "<a name=\"p1\"></a>\n",
        "\n",
        "---\n",
        "## **Part 1: Linear Search**\n",
        "---\n",
        "\n",
        "In this section, we will implement and analyze the linear search algorithm."
      ],
      "id": "sVwVviQORgWa"
    },
    {
      "cell_type": "markdown",
      "source": [
        "#### **Problem #1.1**\n",
        "\n",
        "Create code to implement linear search for a list of numbers. We will use the following variables:\n",
        "* `list_items`: A list of numbers from 0 to 99 that we will search through.\n",
        "* `marked_item`: A randomly selected number from the list that we will search for.\n",
        "* `number_queries`: A count of how many times we need to query the list to find the marked item."
      ],
      "metadata": {
        "id": "ygbX_FcFUVuL"
      },
      "id": "ygbX_FcFUVuL"
    },
    {
      "cell_type": "code",
      "source": [
        "list_items = range(100)# COMPLETE THIS CODE\n",
        "marked_item = random.choice(list_items)# COMPLETE THIS CODE\n",
        "\n",
        "print(list_items)\n",
        "print(marked_item)\n",
        "\n",
        "number_queries = 0\n",
        "for item in list_items:\n",
        "\n",
        "    number_queries = number_queries + 1\n",
        "\n",
        "    if item == marked_item:\n",
        "        print(str(marked_item) + \" has been found in \" + str(number_queries) + \" queries.\")\n",
        "        break"
      ],
      "metadata": {
        "id": "R2D2dcD3TfMi",
        "outputId": "7129f933-acbf-4fdc-ca8d-69aeff025361",
        "colab": {
          "base_uri": "https://localhost:8080/"
        }
      },
      "id": "R2D2dcD3TfMi",
      "execution_count": 2,
      "outputs": [
        {
          "output_type": "stream",
          "name": "stdout",
          "text": [
            "range(0, 100)\n",
            "2\n",
            "2 has been found in 3 queries.\n"
          ]
        }
      ]
    },
    {
      "cell_type": "markdown",
      "source": [
        "#### **Problem #1.2**\n",
        "\n",
        "Code a function called `lin_search` such that it:\n",
        "* Takes `num` and `target` as input parameters.\n",
        "* `num` is the number of elemenst in `list_items`.\n",
        "* `target` is the `marked_item` to search for.\n",
        "* Returns the number of queries `marked_item` was found in."
      ],
      "metadata": {
        "id": "YcEAj6cjXqNu"
      },
      "id": "YcEAj6cjXqNu"
    },
    {
      "cell_type": "code",
      "source": [
        "def lin_search(num, target):\n",
        "  list_items = range(num)\n",
        "  marked_item = target\n",
        "  number_queries = 0\n",
        "  for item in list_items:\n",
        "    number_queries = number_queries + 1\n",
        "    if item == marked_item:\n",
        "      print(str(marked_item) + \" has been found in \" + str(number_queries) + \" queries.\")\n",
        "      break\n"
      ],
      "metadata": {
        "id": "5aey3xJ6Y9O7"
      },
      "id": "5aey3xJ6Y9O7",
      "execution_count": 14,
      "outputs": []
    },
    {
      "cell_type": "markdown",
      "metadata": {
        "jp-MarkdownHeadingCollapsed": true,
        "tags": [],
        "id": "WFmS9OGla44n"
      },
      "source": [
        "<a name=\"p2\"></a>\n",
        "\n",
        "---\n",
        "## **Part 2: Binary Search**\n",
        "---\n",
        "\n",
        "In this section, we will implement and analyze the binary search algorithm. We will also visually compare it to the linear search algorithm we implemented above.\n"
      ],
      "id": "WFmS9OGla44n"
    },
    {
      "cell_type": "markdown",
      "source": [
        "#### **Problem #2.1**\n",
        "\n",
        "Complete the code below to implement binary search for a list of numbers. We will use the following variables:\n",
        "* `list_items`: A list of numbers from 0 to 99 that we will search through.\n",
        "* `marked_item`: A randomly selected number from the list that we will search for.\n",
        "* `number_queries`: A count of how many times we need to query the list to find the marked item."
      ],
      "metadata": {
        "id": "xXt3_XDQa44o"
      },
      "id": "xXt3_XDQa44o"
    },
    {
      "cell_type": "code",
      "source": [
        "list_items = range(100)# COMPLETE THIS CODE\n",
        "marked_item =\n",
        "\n",
        "left = 0\n",
        "right = len(list_items) - 1\n",
        "\n",
        "number_queries = 0\n",
        "for item in list_items:\n",
        "\n",
        "  number_queries = number_queries + 1# COMPLETE THIS LINE\n",
        "\n",
        "  middle = int((left + right)/2)\n",
        "  if list_items[middle] > marked_item:\n",
        "    right = middle\n",
        "  elif list_items[middle] < marked_item:\n",
        "    left = middle\n",
        "  else:\n",
        "    print(str(marked_item) + \" has been found in \" + str(number_queries) + \" queries.\")\n",
        "    break"
      ],
      "metadata": {
        "id": "rWtwzpWGa44o",
        "outputId": "2c078fc0-d1f3-4bd3-e5f5-1cc6ef288c5d",
        "colab": {
          "base_uri": "https://localhost:8080/"
        }
      },
      "execution_count": 7,
      "outputs": [
        {
          "output_type": "stream",
          "name": "stdout",
          "text": [
            "21 has been found in 5 queries.\n"
          ]
        }
      ],
      "id": "rWtwzpWGa44o"
    },
    {
      "cell_type": "markdown",
      "source": [
        "####**Problem #2.2**\n",
        "Code a function called `bin_search` such that it:\n",
        "* Takes `num` and `target` as input parameters.\n",
        "* `num` is the number of elemenst in `list_items`.\n",
        "* `target` is the `marked_item` to search for.\n",
        "* Returns the number of queries `marked_item` was found in."
      ],
      "metadata": {
        "id": "TmcfgEBJaZjG"
      },
      "id": "TmcfgEBJaZjG"
    },
    {
      "cell_type": "code",
      "source": [
        "def bin_search(num, target):\n",
        "  list_items = range(num)\n",
        "  marked_item = target\n",
        "\n",
        "  left = 0\n",
        "  right = len(list_items) - 1\n",
        "\n",
        "  number_queries = 0\n",
        "\n",
        "  for item in list_items:\n",
        "    number_queries = number_queries + 1\n",
        "\n",
        "    middle = int((left + right)/2)\n",
        "    if list_items[middle] > marked_item:\n",
        "      right = middle\n",
        "    elif list_items[middle] < marked_item:\n",
        "      left = middle\n",
        "    else:\n",
        "      print(str(marked_item) + \" has been found in \" + str(number_queries) + \" queries.\")\n",
        "      break\n",
        "  return number_queries"
      ],
      "metadata": {
        "id": "wm3F3mQ3aiOo"
      },
      "id": "wm3F3mQ3aiOo",
      "execution_count": 16,
      "outputs": []
    },
    {
      "cell_type": "markdown",
      "source": [
        "####**Problem #2.3**\n",
        "Using the `lin_search` and `bin_search` functions you defined, search for the number 98 in list of 100 elements. Which method finds the number faster?"
      ],
      "metadata": {
        "id": "WuCzZam2atau"
      },
      "id": "WuCzZam2atau"
    },
    {
      "cell_type": "code",
      "source": [
        "lin_search(100, 98)# COMPLETE THIS CODE"
      ],
      "metadata": {
        "id": "Gc8DQkSIbk2W",
        "outputId": "a8d3cf4d-7eed-45b7-b1ef-683cf922b745",
        "colab": {
          "base_uri": "https://localhost:8080/"
        }
      },
      "id": "Gc8DQkSIbk2W",
      "execution_count": 15,
      "outputs": [
        {
          "output_type": "stream",
          "name": "stdout",
          "text": [
            "98 has been found in 99 queries.\n"
          ]
        }
      ]
    },
    {
      "cell_type": "code",
      "source": [
        "bin_search(100,98)# COMPLETE THIS CODE"
      ],
      "metadata": {
        "id": "U7uomupsbocY",
        "outputId": "aad297dc-4971-49fe-ee5b-69c59b812980",
        "colab": {
          "base_uri": "https://localhost:8080/"
        }
      },
      "id": "U7uomupsbocY",
      "execution_count": 17,
      "outputs": [
        {
          "output_type": "stream",
          "name": "stdout",
          "text": [
            "98 has been found in 7 queries.\n"
          ]
        },
        {
          "output_type": "execute_result",
          "data": {
            "text/plain": [
              "7"
            ]
          },
          "metadata": {},
          "execution_count": 17
        }
      ]
    },
    {
      "cell_type": "markdown",
      "source": [
        "####**Problem #2.4**\n",
        "Write code such that you select a random element, `var`, in a list of 10 elements. Use `lin_search` and `bin_search` to find this element. Repeat this for a list of 100 elements and 1,000 elements."
      ],
      "metadata": {
        "id": "CsEUKhplcIrX"
      },
      "id": "CsEUKhplcIrX"
    },
    {
      "cell_type": "code",
      "source": [
        "var = random.choice(range(10))# COMPLETE THIS CODE"
      ],
      "metadata": {
        "id": "4vLP6tF7ekDq"
      },
      "id": "4vLP6tF7ekDq",
      "execution_count": 18,
      "outputs": []
    },
    {
      "cell_type": "code",
      "source": [
        "lin_search(10, var)# COMPLETE THIS CODE"
      ],
      "metadata": {
        "id": "p5m_p4S2ej9d",
        "outputId": "3b1f41ae-eda8-4362-a12e-60ef7098cc4f",
        "colab": {
          "base_uri": "https://localhost:8080/"
        }
      },
      "id": "p5m_p4S2ej9d",
      "execution_count": 19,
      "outputs": [
        {
          "output_type": "stream",
          "name": "stdout",
          "text": [
            "7 has been found in 8 queries.\n"
          ]
        }
      ]
    },
    {
      "cell_type": "code",
      "source": [
        "bin_search(10, var)# COMPLETE THIS CODE"
      ],
      "metadata": {
        "id": "gDZb-j0mej4p",
        "outputId": "f424e516-9fb2-4a69-afdc-fb01dfd99a2d",
        "colab": {
          "base_uri": "https://localhost:8080/"
        }
      },
      "id": "gDZb-j0mej4p",
      "execution_count": 20,
      "outputs": [
        {
          "output_type": "stream",
          "name": "stdout",
          "text": [
            "7 has been found in 3 queries.\n"
          ]
        },
        {
          "output_type": "execute_result",
          "data": {
            "text/plain": [
              "3"
            ]
          },
          "metadata": {},
          "execution_count": 20
        }
      ]
    },
    {
      "cell_type": "code",
      "source": [
        "var = random.choice(range(100)) # COMPLETE THIS CODE"
      ],
      "metadata": {
        "id": "qgfBnE9Tevo1"
      },
      "execution_count": 21,
      "outputs": [],
      "id": "qgfBnE9Tevo1"
    },
    {
      "cell_type": "code",
      "source": [
        "lin_search(100, var)# COMPLETE THIS CODE"
      ],
      "metadata": {
        "id": "o-RL6VppevpA",
        "outputId": "9386d640-57f1-4ed8-caf0-54e8cc6bea75",
        "colab": {
          "base_uri": "https://localhost:8080/"
        }
      },
      "execution_count": 22,
      "outputs": [
        {
          "output_type": "stream",
          "name": "stdout",
          "text": [
            "65 has been found in 66 queries.\n"
          ]
        }
      ],
      "id": "o-RL6VppevpA"
    },
    {
      "cell_type": "code",
      "source": [
        "bin_search(100, var)# COMPLETE THIS CODE"
      ],
      "metadata": {
        "id": "kgnh-l2fevpB",
        "outputId": "8a176a5d-08e2-487f-a00b-594de5dfc3c2",
        "colab": {
          "base_uri": "https://localhost:8080/"
        }
      },
      "execution_count": 23,
      "outputs": [
        {
          "output_type": "stream",
          "name": "stdout",
          "text": [
            "65 has been found in 6 queries.\n"
          ]
        },
        {
          "output_type": "execute_result",
          "data": {
            "text/plain": [
              "6"
            ]
          },
          "metadata": {},
          "execution_count": 23
        }
      ],
      "id": "kgnh-l2fevpB"
    },
    {
      "cell_type": "code",
      "source": [
        "var = random.choice(range(1000))# COMPLETE THIS CODE"
      ],
      "metadata": {
        "id": "7bXvNbgSewCL"
      },
      "execution_count": 24,
      "outputs": [],
      "id": "7bXvNbgSewCL"
    },
    {
      "cell_type": "code",
      "source": [
        "lin_search(1000, var)# COMPLETE THIS CODE"
      ],
      "metadata": {
        "id": "8LJ4vECNewCM",
        "outputId": "94ec44f1-e9af-4369-8d8d-288872a7bce2",
        "colab": {
          "base_uri": "https://localhost:8080/"
        }
      },
      "execution_count": 25,
      "outputs": [
        {
          "output_type": "stream",
          "name": "stdout",
          "text": [
            "263 has been found in 264 queries.\n"
          ]
        }
      ],
      "id": "8LJ4vECNewCM"
    },
    {
      "cell_type": "code",
      "source": [
        "bin_search(1000, var)# COMPLETE THIS CODE"
      ],
      "metadata": {
        "id": "UuX1ALSxewCM",
        "outputId": "294881e9-bf70-4a81-868e-b1cd4dc54789",
        "colab": {
          "base_uri": "https://localhost:8080/"
        }
      },
      "execution_count": 26,
      "outputs": [
        {
          "output_type": "stream",
          "name": "stdout",
          "text": [
            "263 has been found in 10 queries.\n"
          ]
        },
        {
          "output_type": "execute_result",
          "data": {
            "text/plain": [
              "10"
            ]
          },
          "metadata": {},
          "execution_count": 26
        }
      ],
      "id": "UuX1ALSxewCM"
    },
    {
      "cell_type": "markdown",
      "source": [
        "#End of Notebook\n",
        "---\n",
        "© 2024 The Coding School, All rights reserved"
      ],
      "metadata": {
        "id": "hQJELyD6aeJ2"
      },
      "id": "hQJELyD6aeJ2"
    }
  ]
}